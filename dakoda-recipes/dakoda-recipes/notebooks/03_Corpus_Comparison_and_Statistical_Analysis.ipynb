{
 "cells": [
  {
   "cell_type": "markdown",
   "id": "bddbad4d",
   "metadata": {},
   "source": [
    "# Task 3: Corpus Comparison and Statistical Analysis\n",
    "\n",
    "In this notebook, we compare the CDLK and KLP1 learner corpora using the metadata extracted previously.\n",
    "\n",
    "We will:\n",
    "\n",
    "- Load metadata CSV files for both corpora.\n",
    "- Compute grouped summary statistics.\n",
    "- Visualize distributions with side-by-side boxplots.\n",
    "- Demonstrate equivalent analysis using both pandas and polars.\n"
   ]
  },
  {
   "cell_type": "markdown",
   "id": "af5a14f2",
   "metadata": {},
   "source": [
    "### Paths to metadata CSV files\n",
    "Make sure these CSV files exist in the `Outputs/metadata_csvs` folder, generated in Task 1.\n"
   ]
  },
  {
   "cell_type": "code",
   "execution_count": 3,
   "id": "1bf4924b",
   "metadata": {},
   "outputs": [
    {
     "name": "stdout",
     "output_type": "stream",
     "text": [
      "Working directory changed to: C:\\Users\\Vedang Deshmukh\\Desktop\\dakoda-recipes\n"
     ]
    }
   ],
   "source": [
    "import pandas as pd\n",
    "import polars as pl\n",
    "import plotly.express as px\n",
    "\n",
    "import os\n",
    "# Change working directory to your project root folder\n",
    "os.chdir(r\"C:\\Users\\Vedang Deshmukh\\Desktop\\dakoda-recipes\")\n",
    "print(\"Working directory changed to:\", os.getcwd())\n",
    "\n",
    "\n",
    "CDLK_CSV = r\"Outputs/metadata_csvs/cdlk_metadata_pandas.csv\"\n",
    "KLP1_CSV = r\"Outputs/metadata_csvs/klp1_metadata_pandas.csv\"\n"
   ]
  },
  {
   "cell_type": "markdown",
   "id": "589092b4",
   "metadata": {},
   "source": [
    "### Load metadata into pandas and polars DataFrames"
   ]
  },
  {
   "cell_type": "code",
   "execution_count": 4,
   "id": "ee11e6bd",
   "metadata": {},
   "outputs": [
    {
     "name": "stdout",
     "output_type": "stream",
     "text": [
      "CDLK metadata loaded (pandas):\n"
     ]
    },
    {
     "data": {
      "text/html": [
       "<div>\n",
       "<style scoped>\n",
       "    .dataframe tbody tr th:only-of-type {\n",
       "        vertical-align: middle;\n",
       "    }\n",
       "\n",
       "    .dataframe tbody tr th {\n",
       "        vertical-align: top;\n",
       "    }\n",
       "\n",
       "    .dataframe thead th {\n",
       "        text-align: right;\n",
       "    }\n",
       "</style>\n",
       "<table border=\"1\" class=\"dataframe\">\n",
       "  <thead>\n",
       "    <tr style=\"text-align: right;\">\n",
       "      <th></th>\n",
       "      <th>filename</th>\n",
       "      <th>text_length</th>\n",
       "      <th>token_count</th>\n",
       "      <th>sentence_count</th>\n",
       "    </tr>\n",
       "  </thead>\n",
       "  <tbody>\n",
       "    <tr>\n",
       "      <th>0</th>\n",
       "      <td>201006ZW005.xmi</td>\n",
       "      <td>1106</td>\n",
       "      <td>203</td>\n",
       "      <td>11</td>\n",
       "    </tr>\n",
       "    <tr>\n",
       "      <th>1</th>\n",
       "      <td>201006ZW012.xmi</td>\n",
       "      <td>1327</td>\n",
       "      <td>226</td>\n",
       "      <td>16</td>\n",
       "    </tr>\n",
       "    <tr>\n",
       "      <th>2</th>\n",
       "      <td>201006ZW019.xmi</td>\n",
       "      <td>869</td>\n",
       "      <td>155</td>\n",
       "      <td>9</td>\n",
       "    </tr>\n",
       "    <tr>\n",
       "      <th>3</th>\n",
       "      <td>201006ZW021.xmi</td>\n",
       "      <td>1354</td>\n",
       "      <td>234</td>\n",
       "      <td>11</td>\n",
       "    </tr>\n",
       "    <tr>\n",
       "      <th>4</th>\n",
       "      <td>201006ZW022.xmi</td>\n",
       "      <td>1076</td>\n",
       "      <td>204</td>\n",
       "      <td>13</td>\n",
       "    </tr>\n",
       "  </tbody>\n",
       "</table>\n",
       "</div>"
      ],
      "text/plain": [
       "          filename  text_length  token_count  sentence_count\n",
       "0  201006ZW005.xmi         1106          203              11\n",
       "1  201006ZW012.xmi         1327          226              16\n",
       "2  201006ZW019.xmi          869          155               9\n",
       "3  201006ZW021.xmi         1354          234              11\n",
       "4  201006ZW022.xmi         1076          204              13"
      ]
     },
     "metadata": {},
     "output_type": "display_data"
    },
    {
     "name": "stdout",
     "output_type": "stream",
     "text": [
      "KLP1 metadata loaded (pandas):\n"
     ]
    },
    {
     "data": {
      "text/html": [
       "<div>\n",
       "<style scoped>\n",
       "    .dataframe tbody tr th:only-of-type {\n",
       "        vertical-align: middle;\n",
       "    }\n",
       "\n",
       "    .dataframe tbody tr th {\n",
       "        vertical-align: top;\n",
       "    }\n",
       "\n",
       "    .dataframe thead th {\n",
       "        text-align: right;\n",
       "    }\n",
       "</style>\n",
       "<table border=\"1\" class=\"dataframe\">\n",
       "  <thead>\n",
       "    <tr style=\"text-align: right;\">\n",
       "      <th></th>\n",
       "      <th>filename</th>\n",
       "      <th>text_length</th>\n",
       "      <th>token_count</th>\n",
       "      <th>sentence_count</th>\n",
       "    </tr>\n",
       "  </thead>\n",
       "  <tbody>\n",
       "    <tr>\n",
       "      <th>0</th>\n",
       "      <td>3360_1.xmi</td>\n",
       "      <td>408</td>\n",
       "      <td>84</td>\n",
       "      <td>11</td>\n",
       "    </tr>\n",
       "    <tr>\n",
       "      <th>1</th>\n",
       "      <td>3360_2.xmi</td>\n",
       "      <td>394</td>\n",
       "      <td>85</td>\n",
       "      <td>9</td>\n",
       "    </tr>\n",
       "    <tr>\n",
       "      <th>2</th>\n",
       "      <td>3361_1.xmi</td>\n",
       "      <td>601</td>\n",
       "      <td>112</td>\n",
       "      <td>11</td>\n",
       "    </tr>\n",
       "    <tr>\n",
       "      <th>3</th>\n",
       "      <td>3361_2.xmi</td>\n",
       "      <td>377</td>\n",
       "      <td>82</td>\n",
       "      <td>9</td>\n",
       "    </tr>\n",
       "    <tr>\n",
       "      <th>4</th>\n",
       "      <td>3362_1.xmi</td>\n",
       "      <td>69</td>\n",
       "      <td>16</td>\n",
       "      <td>4</td>\n",
       "    </tr>\n",
       "  </tbody>\n",
       "</table>\n",
       "</div>"
      ],
      "text/plain": [
       "     filename  text_length  token_count  sentence_count\n",
       "0  3360_1.xmi          408           84              11\n",
       "1  3360_2.xmi          394           85               9\n",
       "2  3361_1.xmi          601          112              11\n",
       "3  3361_2.xmi          377           82               9\n",
       "4  3362_1.xmi           69           16               4"
      ]
     },
     "metadata": {},
     "output_type": "display_data"
    }
   ],
   "source": [
    "cdlk_pd = pd.read_csv(CDLK_CSV)\n",
    "klp1_pd = pd.read_csv(KLP1_CSV)\n",
    "\n",
    "cdlk_pl = pl.read_csv(CDLK_CSV)\n",
    "klp1_pl = pl.read_csv(KLP1_CSV)\n",
    "\n",
    "print(\"CDLK metadata loaded (pandas):\")\n",
    "display(cdlk_pd.head())\n",
    "\n",
    "print(\"KLP1 metadata loaded (pandas):\")\n",
    "display(klp1_pd.head())\n"
   ]
  },
  {
   "cell_type": "markdown",
   "id": "19810ee5",
   "metadata": {},
   "source": [
    "### Combine CDLK and KLP1 metadata with a corpus label for grouped analysis"
   ]
  },
  {
   "cell_type": "code",
   "execution_count": 5,
   "id": "c6b3c35c",
   "metadata": {},
   "outputs": [
    {
     "data": {
      "text/html": [
       "<div>\n",
       "<style scoped>\n",
       "    .dataframe tbody tr th:only-of-type {\n",
       "        vertical-align: middle;\n",
       "    }\n",
       "\n",
       "    .dataframe tbody tr th {\n",
       "        vertical-align: top;\n",
       "    }\n",
       "\n",
       "    .dataframe thead th {\n",
       "        text-align: right;\n",
       "    }\n",
       "</style>\n",
       "<table border=\"1\" class=\"dataframe\">\n",
       "  <thead>\n",
       "    <tr style=\"text-align: right;\">\n",
       "      <th></th>\n",
       "      <th>filename</th>\n",
       "      <th>text_length</th>\n",
       "      <th>token_count</th>\n",
       "      <th>sentence_count</th>\n",
       "      <th>corpus</th>\n",
       "    </tr>\n",
       "  </thead>\n",
       "  <tbody>\n",
       "    <tr>\n",
       "      <th>0</th>\n",
       "      <td>201006ZW005.xmi</td>\n",
       "      <td>1106</td>\n",
       "      <td>203</td>\n",
       "      <td>11</td>\n",
       "      <td>CDLK</td>\n",
       "    </tr>\n",
       "    <tr>\n",
       "      <th>1</th>\n",
       "      <td>201006ZW012.xmi</td>\n",
       "      <td>1327</td>\n",
       "      <td>226</td>\n",
       "      <td>16</td>\n",
       "      <td>CDLK</td>\n",
       "    </tr>\n",
       "    <tr>\n",
       "      <th>2</th>\n",
       "      <td>201006ZW019.xmi</td>\n",
       "      <td>869</td>\n",
       "      <td>155</td>\n",
       "      <td>9</td>\n",
       "      <td>CDLK</td>\n",
       "    </tr>\n",
       "    <tr>\n",
       "      <th>3</th>\n",
       "      <td>201006ZW021.xmi</td>\n",
       "      <td>1354</td>\n",
       "      <td>234</td>\n",
       "      <td>11</td>\n",
       "      <td>CDLK</td>\n",
       "    </tr>\n",
       "    <tr>\n",
       "      <th>4</th>\n",
       "      <td>201006ZW022.xmi</td>\n",
       "      <td>1076</td>\n",
       "      <td>204</td>\n",
       "      <td>13</td>\n",
       "      <td>CDLK</td>\n",
       "    </tr>\n",
       "  </tbody>\n",
       "</table>\n",
       "</div>"
      ],
      "text/plain": [
       "          filename  text_length  token_count  sentence_count corpus\n",
       "0  201006ZW005.xmi         1106          203              11   CDLK\n",
       "1  201006ZW012.xmi         1327          226              16   CDLK\n",
       "2  201006ZW019.xmi          869          155               9   CDLK\n",
       "3  201006ZW021.xmi         1354          234              11   CDLK\n",
       "4  201006ZW022.xmi         1076          204              13   CDLK"
      ]
     },
     "metadata": {},
     "output_type": "display_data"
    },
    {
     "name": "stdout",
     "output_type": "stream",
     "text": [
      "shape: (5, 5)\n",
      "┌─────────────────┬─────────────┬─────────────┬────────────────┬────────┐\n",
      "│ filename        ┆ text_length ┆ token_count ┆ sentence_count ┆ corpus │\n",
      "│ ---             ┆ ---         ┆ ---         ┆ ---            ┆ ---    │\n",
      "│ str             ┆ i64         ┆ i64         ┆ i64            ┆ str    │\n",
      "╞═════════════════╪═════════════╪═════════════╪════════════════╪════════╡\n",
      "│ 201006ZW005.xmi ┆ 1106        ┆ 203         ┆ 11             ┆ CDLK   │\n",
      "│ 201006ZW012.xmi ┆ 1327        ┆ 226         ┆ 16             ┆ CDLK   │\n",
      "│ 201006ZW019.xmi ┆ 869         ┆ 155         ┆ 9              ┆ CDLK   │\n",
      "│ 201006ZW021.xmi ┆ 1354        ┆ 234         ┆ 11             ┆ CDLK   │\n",
      "│ 201006ZW022.xmi ┆ 1076        ┆ 204         ┆ 13             ┆ CDLK   │\n",
      "└─────────────────┴─────────────┴─────────────┴────────────────┴────────┘\n"
     ]
    }
   ],
   "source": [
    "cdlk_pd['corpus'] = 'CDLK'\n",
    "klp1_pd['corpus'] = 'KLP1'\n",
    "\n",
    "combined_pd = pd.concat([cdlk_pd, klp1_pd], ignore_index=True)\n",
    "display(combined_pd.head())\n",
    "\n",
    "# Same for polars\n",
    "cdlk_pl = cdlk_pl.with_columns(pl.lit('CDLK').alias('corpus'))\n",
    "klp1_pl = klp1_pl.with_columns(pl.lit('KLP1').alias('corpus'))\n",
    "\n",
    "combined_pl = pl.concat([cdlk_pl, klp1_pl])\n",
    "print(combined_pl.head())\n"
   ]
  },
  {
   "cell_type": "markdown",
   "id": "9bc6df7f",
   "metadata": {},
   "source": [
    "### Compute summary statistics grouped by corpus\n",
    "\n",
    "We compute mean, median, std, min, and max for token counts, sentence counts, and text length.\n"
   ]
  },
  {
   "cell_type": "code",
   "execution_count": 19,
   "id": "df0f915a",
   "metadata": {},
   "outputs": [
    {
     "data": {
      "text/html": [
       "<div>\n",
       "<style scoped>\n",
       "    .dataframe tbody tr th:only-of-type {\n",
       "        vertical-align: middle;\n",
       "    }\n",
       "\n",
       "    .dataframe tbody tr th {\n",
       "        vertical-align: top;\n",
       "    }\n",
       "\n",
       "    .dataframe thead tr th {\n",
       "        text-align: left;\n",
       "    }\n",
       "\n",
       "    .dataframe thead tr:last-of-type th {\n",
       "        text-align: right;\n",
       "    }\n",
       "</style>\n",
       "<table border=\"1\" class=\"dataframe\">\n",
       "  <thead>\n",
       "    <tr>\n",
       "      <th></th>\n",
       "      <th colspan=\"5\" halign=\"left\">token_count</th>\n",
       "      <th colspan=\"5\" halign=\"left\">sentence_count</th>\n",
       "      <th colspan=\"5\" halign=\"left\">text_length</th>\n",
       "    </tr>\n",
       "    <tr>\n",
       "      <th></th>\n",
       "      <th>mean</th>\n",
       "      <th>median</th>\n",
       "      <th>std</th>\n",
       "      <th>min</th>\n",
       "      <th>max</th>\n",
       "      <th>mean</th>\n",
       "      <th>median</th>\n",
       "      <th>std</th>\n",
       "      <th>min</th>\n",
       "      <th>max</th>\n",
       "      <th>mean</th>\n",
       "      <th>median</th>\n",
       "      <th>std</th>\n",
       "      <th>min</th>\n",
       "      <th>max</th>\n",
       "    </tr>\n",
       "    <tr>\n",
       "      <th>corpus</th>\n",
       "      <th></th>\n",
       "      <th></th>\n",
       "      <th></th>\n",
       "      <th></th>\n",
       "      <th></th>\n",
       "      <th></th>\n",
       "      <th></th>\n",
       "      <th></th>\n",
       "      <th></th>\n",
       "      <th></th>\n",
       "      <th></th>\n",
       "      <th></th>\n",
       "      <th></th>\n",
       "      <th></th>\n",
       "      <th></th>\n",
       "    </tr>\n",
       "  </thead>\n",
       "  <tbody>\n",
       "    <tr>\n",
       "      <th>CDLK</th>\n",
       "      <td>207.935000</td>\n",
       "      <td>204.0</td>\n",
       "      <td>45.420213</td>\n",
       "      <td>66</td>\n",
       "      <td>363</td>\n",
       "      <td>14.440000</td>\n",
       "      <td>14.0</td>\n",
       "      <td>3.183879</td>\n",
       "      <td>7</td>\n",
       "      <td>24</td>\n",
       "      <td>1219.38000</td>\n",
       "      <td>1193.5</td>\n",
       "      <td>274.091804</td>\n",
       "      <td>391</td>\n",
       "      <td>2151</td>\n",
       "    </tr>\n",
       "    <tr>\n",
       "      <th>KLP1</th>\n",
       "      <td>164.305927</td>\n",
       "      <td>167.0</td>\n",
       "      <td>56.041567</td>\n",
       "      <td>4</td>\n",
       "      <td>410</td>\n",
       "      <td>14.963671</td>\n",
       "      <td>15.0</td>\n",
       "      <td>5.437261</td>\n",
       "      <td>2</td>\n",
       "      <td>41</td>\n",
       "      <td>847.25239</td>\n",
       "      <td>859.0</td>\n",
       "      <td>297.096572</td>\n",
       "      <td>18</td>\n",
       "      <td>2240</td>\n",
       "    </tr>\n",
       "  </tbody>\n",
       "</table>\n",
       "</div>"
      ],
      "text/plain": [
       "       token_count                            sentence_count                   \\\n",
       "              mean median        std min  max           mean median       std   \n",
       "corpus                                                                          \n",
       "CDLK    207.935000  204.0  45.420213  66  363      14.440000   14.0  3.183879   \n",
       "KLP1    164.305927  167.0  56.041567   4  410      14.963671   15.0  5.437261   \n",
       "\n",
       "               text_length                                 \n",
       "       min max        mean  median         std  min   max  \n",
       "corpus                                                     \n",
       "CDLK     7  24  1219.38000  1193.5  274.091804  391  2151  \n",
       "KLP1     2  41   847.25239   859.0  297.096572   18  2240  "
      ]
     },
     "metadata": {},
     "output_type": "display_data"
    },
    {
     "name": "stdout",
     "output_type": "stream",
     "text": [
      "<class 'polars.dataframe.frame.DataFrame'>\n",
      "shape: (2, 16)\n",
      "┌────────┬────────────┬────────────┬───────────┬───┬───────────┬───────────┬───────────┬───────────┐\n",
      "│ corpus ┆ token_mean ┆ token_medi ┆ token_std ┆ … ┆ length_me ┆ length_st ┆ length_mi ┆ length_ma │\n",
      "│ ---    ┆ ---        ┆ an         ┆ ---       ┆   ┆ dian      ┆ d         ┆ n         ┆ x         │\n",
      "│ str    ┆ f64        ┆ ---        ┆ f64       ┆   ┆ ---       ┆ ---       ┆ ---       ┆ ---       │\n",
      "│        ┆            ┆ f64        ┆           ┆   ┆ f64       ┆ f64       ┆ i64       ┆ i64       │\n",
      "╞════════╪════════════╪════════════╪═══════════╪═══╪═══════════╪═══════════╪═══════════╪═══════════╡\n",
      "│ CDLK   ┆ 207.935    ┆ 204.0      ┆ 45.420213 ┆ … ┆ 1193.5    ┆ 274.09180 ┆ 391       ┆ 2151      │\n",
      "│        ┆            ┆            ┆           ┆   ┆           ┆ 4         ┆           ┆           │\n",
      "│ KLP1   ┆ 164.305927 ┆ 167.0      ┆ 56.041567 ┆ … ┆ 859.0     ┆ 297.09657 ┆ 18        ┆ 2240      │\n",
      "│        ┆            ┆            ┆           ┆   ┆           ┆ 2         ┆           ┆           │\n",
      "└────────┴────────────┴────────────┴───────────┴───┴───────────┴───────────┴───────────┴───────────┘\n"
     ]
    }
   ],
   "source": [
    "# Pandas summary\n",
    "summary_pd = combined_pd.groupby('corpus').agg({\n",
    "    'token_count': ['mean', 'median', 'std', 'min', 'max'],\n",
    "    'sentence_count': ['mean', 'median', 'std', 'min', 'max'],\n",
    "    'text_length': ['mean', 'median', 'std', 'min', 'max']\n",
    "})\n",
    "\n",
    "display(summary_pd)\n",
    "\n",
    "# Polars summary\n",
    "import polars as pl\n",
    "\n",
    "# Polars summary\n",
    "print(type(combined_pl))  # This will print <class 'polars.dataframe.frame.DataFrame'>\n",
    "\n",
    "summary_pl = (\n",
    "    combined_pl.group_by(\"corpus\")\n",
    "    .agg([\n",
    "        pl.col(\"token_count\").mean().alias(\"token_mean\"),\n",
    "        pl.col(\"token_count\").median().alias(\"token_median\"),\n",
    "        pl.col(\"token_count\").std().alias(\"token_std\"),\n",
    "        pl.col(\"token_count\").min().alias(\"token_min\"),\n",
    "        pl.col(\"token_count\").max().alias(\"token_max\"),\n",
    "        pl.col(\"sentence_count\").mean().alias(\"sent_mean\"),\n",
    "        pl.col(\"sentence_count\").median().alias(\"sent_median\"),\n",
    "        pl.col(\"sentence_count\").std().alias(\"sent_std\"),\n",
    "        pl.col(\"sentence_count\").min().alias(\"sent_min\"),\n",
    "        pl.col(\"sentence_count\").max().alias(\"sent_max\"),\n",
    "        pl.col(\"text_length\").mean().alias(\"length_mean\"),\n",
    "        pl.col(\"text_length\").median().alias(\"length_median\"),\n",
    "        pl.col(\"text_length\").std().alias(\"length_std\"),\n",
    "        pl.col(\"text_length\").min().alias(\"length_min\"),\n",
    "        pl.col(\"text_length\").max().alias(\"length_max\"),\n",
    "    ])\n",
    ")\n",
    "\n",
    "print(summary_pl)\n",
    "\n"
   ]
  },
  {
   "cell_type": "markdown",
   "id": "886ae359",
   "metadata": {},
   "source": [
    "### Compare distributions with side-by-side boxplots"
   ]
  },
  {
   "cell_type": "code",
   "execution_count": 20,
   "id": "81943eb7",
   "metadata": {},
   "outputs": [
    {
     "data": {
      "application/vnd.plotly.v1+json": {
       "config": {
        "plotlyServerURL": "https://plot.ly"
       },
       "data": [
        {
         "name": "CDLK",
         "type": "box",
         "y": {
          "bdata": "ywDiAJsA6gDMANwAogCrALcApwAEAbIAkADGAKcAswCyALkA4AC5AMcAzADtAO0A9wCaANAArwDGAOMArwC7AOEAxwDPAMIAyACuAI8AzQC2ALMA7ADnAP0AqgDKACYB7wCyAKkAIQHxALIA1wCwAJsAvgDjAJ0ACgGDAP0A+AAkAcQA/wC7APYAGQHCAMQAgwD7AK0A5AAyATMB3wChANkAzwACAaYA3ADHAM4AtgDEAPsAvQDLAOkArgCvAB0B/gC4ABABawEWAfkA5gDBAPYAqwCGAPwAxADlAMwA8QAdAQ8B9ADtAMAA7AArAQ0BCwHKAOsAnQDrAJsA1QC/AOQAzQDUAO0AqADOAOwAFQGpAJQAFQHNACQBjADiALIA5gDtAOoAigCYAKwAmwDDAKIAmAB0AMAAswD8AK4AsACSAKMAgwDlAKEAfQCdAJ0AnADRACsBygDMAPYA4gAgARcB1wChAAcB0AANAcgA8QDTALQAjADSANcACwERAdMAGAHSALsAxgCTAIMAnQBCAA==",
          "dtype": "i2"
         }
        },
        {
         "name": "KLP1",
         "type": "box",
         "y": {
          "bdata": "VABVAHAAUgAQAEYANwA+ABYALAA/ABoADABLAE8AhACMAKAAhgDVALoAqACWALkArABIAJYAmwCfALsAjAC0AJYAlQC3AL4ArACYAH8AjACLAHMA0QDCAKgAugB2AIgAqAC1AA8BnwCFALEAxQCiAKAAngAiAJgAFwDSAH0AqgAlAEgArABXAJ4AHQCnAMEA3AB3AEsAnwCyAKsAtgDGAM8A/ACSAHYAhwCcAKkAlgBfAD8ArgC8AJoAugCsAJsAuwDCAOIAtQDqAMYAzQDfAKcAuQDcAA8BAQFNAT8BxQCaALEAtAC0AKcAuACZAIUAowCrAL4AkgBNAKIAngCdAOUAcwDHANYAkwB0AKoAvACzAEYANQGnAAgBmACQAFYA0wC/AJ8ApQCRADgApQCrALEApwDXAMUAmQBsAHkAWADmAKAAngCYALoArQDCAMIAmgC2AL8AqQCaAC8AnAAeAJQAiADLAKEA1QCgANwArwDvAJwAkQB7AKsApQBRAFoAbACWALgAmwBuABkB3wCiAJsASADlAK0AvAAGAaUAuQBMAK0AQQDAAPUA6AB0AL4AjgCYAIIA2wC8AK0AsACZAL0AnwCYAJEAeQCsAIsApAChAJgAfAB6ACYAoABNAAMBpwBtADkAUQBfAIYAgwCfAFcAhwByAKkAugCkAKkAqwCeANAAggCPAJIAoQByAHsAxgDGALwAtgBwAK4AkwCjAGwAYwCwAJYAugDGALkAvwDJACQB3QC9AKYArQCHAJwA1ADMAL4ABAG2ALIAiQCeALUAkACYAK8AmwBzALcAYQBdALkADgE/AagAlgAWAfIA1wCKAIsArQCQAIoA0ADDAMsAtwC8AMoAewD1AIsAmACjAC4AYgCFAMIATgC1AG0AiwCJAIMAlwCFADgAXQAsANcAlAC+AKkAdgChAHgASAClAHMAjQBHAJwApgDPAIwArACoALcAogC5AGcAvwDkAK4AvQDHAL4AqQDbAMwAsACmAMUAiQCzAJMAggDcAAQAowCyABsB7QCgAMcAOwAkAOgA0ACHAGYAPgHlALoA0AByAGUAvQBRAIgASAB1AGwAeQBwALYAmgA7AHoAnQCJAKoAWAC7ANEAwwDEAKgA0QD4AA4BkwDWALgAzgD7AAkB1wDVAK4A0ADwABgBugAIAagAxwDIAO0ArwDMAPgADQH/APsAwADrACYB3ADDAIoAagGaAbgAywCtAMYAuwCsAHkAsABvAEwAmQCcAC8B/ADHALIAuACgAKMA1QCYAL0ABgGYAMUAlQCnAMIA4AAJARQB/QCWAKsAbwClAH4AxgCoAOkAcQCqANgAlQBnAKAAOgCJAGsAlgDLAKkAdACSAJcAzgAcAKUA5QCJAI4AtQC2AM4AvgA=",
          "dtype": "i2"
         }
        }
       ],
       "layout": {
        "template": {
         "data": {
          "bar": [
           {
            "error_x": {
             "color": "#2a3f5f"
            },
            "error_y": {
             "color": "#2a3f5f"
            },
            "marker": {
             "line": {
              "color": "#E5ECF6",
              "width": 0.5
             },
             "pattern": {
              "fillmode": "overlay",
              "size": 10,
              "solidity": 0.2
             }
            },
            "type": "bar"
           }
          ],
          "barpolar": [
           {
            "marker": {
             "line": {
              "color": "#E5ECF6",
              "width": 0.5
             },
             "pattern": {
              "fillmode": "overlay",
              "size": 10,
              "solidity": 0.2
             }
            },
            "type": "barpolar"
           }
          ],
          "carpet": [
           {
            "aaxis": {
             "endlinecolor": "#2a3f5f",
             "gridcolor": "white",
             "linecolor": "white",
             "minorgridcolor": "white",
             "startlinecolor": "#2a3f5f"
            },
            "baxis": {
             "endlinecolor": "#2a3f5f",
             "gridcolor": "white",
             "linecolor": "white",
             "minorgridcolor": "white",
             "startlinecolor": "#2a3f5f"
            },
            "type": "carpet"
           }
          ],
          "choropleth": [
           {
            "colorbar": {
             "outlinewidth": 0,
             "ticks": ""
            },
            "type": "choropleth"
           }
          ],
          "contour": [
           {
            "colorbar": {
             "outlinewidth": 0,
             "ticks": ""
            },
            "colorscale": [
             [
              0,
              "#0d0887"
             ],
             [
              0.1111111111111111,
              "#46039f"
             ],
             [
              0.2222222222222222,
              "#7201a8"
             ],
             [
              0.3333333333333333,
              "#9c179e"
             ],
             [
              0.4444444444444444,
              "#bd3786"
             ],
             [
              0.5555555555555556,
              "#d8576b"
             ],
             [
              0.6666666666666666,
              "#ed7953"
             ],
             [
              0.7777777777777778,
              "#fb9f3a"
             ],
             [
              0.8888888888888888,
              "#fdca26"
             ],
             [
              1,
              "#f0f921"
             ]
            ],
            "type": "contour"
           }
          ],
          "contourcarpet": [
           {
            "colorbar": {
             "outlinewidth": 0,
             "ticks": ""
            },
            "type": "contourcarpet"
           }
          ],
          "heatmap": [
           {
            "colorbar": {
             "outlinewidth": 0,
             "ticks": ""
            },
            "colorscale": [
             [
              0,
              "#0d0887"
             ],
             [
              0.1111111111111111,
              "#46039f"
             ],
             [
              0.2222222222222222,
              "#7201a8"
             ],
             [
              0.3333333333333333,
              "#9c179e"
             ],
             [
              0.4444444444444444,
              "#bd3786"
             ],
             [
              0.5555555555555556,
              "#d8576b"
             ],
             [
              0.6666666666666666,
              "#ed7953"
             ],
             [
              0.7777777777777778,
              "#fb9f3a"
             ],
             [
              0.8888888888888888,
              "#fdca26"
             ],
             [
              1,
              "#f0f921"
             ]
            ],
            "type": "heatmap"
           }
          ],
          "histogram": [
           {
            "marker": {
             "pattern": {
              "fillmode": "overlay",
              "size": 10,
              "solidity": 0.2
             }
            },
            "type": "histogram"
           }
          ],
          "histogram2d": [
           {
            "colorbar": {
             "outlinewidth": 0,
             "ticks": ""
            },
            "colorscale": [
             [
              0,
              "#0d0887"
             ],
             [
              0.1111111111111111,
              "#46039f"
             ],
             [
              0.2222222222222222,
              "#7201a8"
             ],
             [
              0.3333333333333333,
              "#9c179e"
             ],
             [
              0.4444444444444444,
              "#bd3786"
             ],
             [
              0.5555555555555556,
              "#d8576b"
             ],
             [
              0.6666666666666666,
              "#ed7953"
             ],
             [
              0.7777777777777778,
              "#fb9f3a"
             ],
             [
              0.8888888888888888,
              "#fdca26"
             ],
             [
              1,
              "#f0f921"
             ]
            ],
            "type": "histogram2d"
           }
          ],
          "histogram2dcontour": [
           {
            "colorbar": {
             "outlinewidth": 0,
             "ticks": ""
            },
            "colorscale": [
             [
              0,
              "#0d0887"
             ],
             [
              0.1111111111111111,
              "#46039f"
             ],
             [
              0.2222222222222222,
              "#7201a8"
             ],
             [
              0.3333333333333333,
              "#9c179e"
             ],
             [
              0.4444444444444444,
              "#bd3786"
             ],
             [
              0.5555555555555556,
              "#d8576b"
             ],
             [
              0.6666666666666666,
              "#ed7953"
             ],
             [
              0.7777777777777778,
              "#fb9f3a"
             ],
             [
              0.8888888888888888,
              "#fdca26"
             ],
             [
              1,
              "#f0f921"
             ]
            ],
            "type": "histogram2dcontour"
           }
          ],
          "mesh3d": [
           {
            "colorbar": {
             "outlinewidth": 0,
             "ticks": ""
            },
            "type": "mesh3d"
           }
          ],
          "parcoords": [
           {
            "line": {
             "colorbar": {
              "outlinewidth": 0,
              "ticks": ""
             }
            },
            "type": "parcoords"
           }
          ],
          "pie": [
           {
            "automargin": true,
            "type": "pie"
           }
          ],
          "scatter": [
           {
            "fillpattern": {
             "fillmode": "overlay",
             "size": 10,
             "solidity": 0.2
            },
            "type": "scatter"
           }
          ],
          "scatter3d": [
           {
            "line": {
             "colorbar": {
              "outlinewidth": 0,
              "ticks": ""
             }
            },
            "marker": {
             "colorbar": {
              "outlinewidth": 0,
              "ticks": ""
             }
            },
            "type": "scatter3d"
           }
          ],
          "scattercarpet": [
           {
            "marker": {
             "colorbar": {
              "outlinewidth": 0,
              "ticks": ""
             }
            },
            "type": "scattercarpet"
           }
          ],
          "scattergeo": [
           {
            "marker": {
             "colorbar": {
              "outlinewidth": 0,
              "ticks": ""
             }
            },
            "type": "scattergeo"
           }
          ],
          "scattergl": [
           {
            "marker": {
             "colorbar": {
              "outlinewidth": 0,
              "ticks": ""
             }
            },
            "type": "scattergl"
           }
          ],
          "scattermap": [
           {
            "marker": {
             "colorbar": {
              "outlinewidth": 0,
              "ticks": ""
             }
            },
            "type": "scattermap"
           }
          ],
          "scattermapbox": [
           {
            "marker": {
             "colorbar": {
              "outlinewidth": 0,
              "ticks": ""
             }
            },
            "type": "scattermapbox"
           }
          ],
          "scatterpolar": [
           {
            "marker": {
             "colorbar": {
              "outlinewidth": 0,
              "ticks": ""
             }
            },
            "type": "scatterpolar"
           }
          ],
          "scatterpolargl": [
           {
            "marker": {
             "colorbar": {
              "outlinewidth": 0,
              "ticks": ""
             }
            },
            "type": "scatterpolargl"
           }
          ],
          "scatterternary": [
           {
            "marker": {
             "colorbar": {
              "outlinewidth": 0,
              "ticks": ""
             }
            },
            "type": "scatterternary"
           }
          ],
          "surface": [
           {
            "colorbar": {
             "outlinewidth": 0,
             "ticks": ""
            },
            "colorscale": [
             [
              0,
              "#0d0887"
             ],
             [
              0.1111111111111111,
              "#46039f"
             ],
             [
              0.2222222222222222,
              "#7201a8"
             ],
             [
              0.3333333333333333,
              "#9c179e"
             ],
             [
              0.4444444444444444,
              "#bd3786"
             ],
             [
              0.5555555555555556,
              "#d8576b"
             ],
             [
              0.6666666666666666,
              "#ed7953"
             ],
             [
              0.7777777777777778,
              "#fb9f3a"
             ],
             [
              0.8888888888888888,
              "#fdca26"
             ],
             [
              1,
              "#f0f921"
             ]
            ],
            "type": "surface"
           }
          ],
          "table": [
           {
            "cells": {
             "fill": {
              "color": "#EBF0F8"
             },
             "line": {
              "color": "white"
             }
            },
            "header": {
             "fill": {
              "color": "#C8D4E3"
             },
             "line": {
              "color": "white"
             }
            },
            "type": "table"
           }
          ]
         },
         "layout": {
          "annotationdefaults": {
           "arrowcolor": "#2a3f5f",
           "arrowhead": 0,
           "arrowwidth": 1
          },
          "autotypenumbers": "strict",
          "coloraxis": {
           "colorbar": {
            "outlinewidth": 0,
            "ticks": ""
           }
          },
          "colorscale": {
           "diverging": [
            [
             0,
             "#8e0152"
            ],
            [
             0.1,
             "#c51b7d"
            ],
            [
             0.2,
             "#de77ae"
            ],
            [
             0.3,
             "#f1b6da"
            ],
            [
             0.4,
             "#fde0ef"
            ],
            [
             0.5,
             "#f7f7f7"
            ],
            [
             0.6,
             "#e6f5d0"
            ],
            [
             0.7,
             "#b8e186"
            ],
            [
             0.8,
             "#7fbc41"
            ],
            [
             0.9,
             "#4d9221"
            ],
            [
             1,
             "#276419"
            ]
           ],
           "sequential": [
            [
             0,
             "#0d0887"
            ],
            [
             0.1111111111111111,
             "#46039f"
            ],
            [
             0.2222222222222222,
             "#7201a8"
            ],
            [
             0.3333333333333333,
             "#9c179e"
            ],
            [
             0.4444444444444444,
             "#bd3786"
            ],
            [
             0.5555555555555556,
             "#d8576b"
            ],
            [
             0.6666666666666666,
             "#ed7953"
            ],
            [
             0.7777777777777778,
             "#fb9f3a"
            ],
            [
             0.8888888888888888,
             "#fdca26"
            ],
            [
             1,
             "#f0f921"
            ]
           ],
           "sequentialminus": [
            [
             0,
             "#0d0887"
            ],
            [
             0.1111111111111111,
             "#46039f"
            ],
            [
             0.2222222222222222,
             "#7201a8"
            ],
            [
             0.3333333333333333,
             "#9c179e"
            ],
            [
             0.4444444444444444,
             "#bd3786"
            ],
            [
             0.5555555555555556,
             "#d8576b"
            ],
            [
             0.6666666666666666,
             "#ed7953"
            ],
            [
             0.7777777777777778,
             "#fb9f3a"
            ],
            [
             0.8888888888888888,
             "#fdca26"
            ],
            [
             1,
             "#f0f921"
            ]
           ]
          },
          "colorway": [
           "#636efa",
           "#EF553B",
           "#00cc96",
           "#ab63fa",
           "#FFA15A",
           "#19d3f3",
           "#FF6692",
           "#B6E880",
           "#FF97FF",
           "#FECB52"
          ],
          "font": {
           "color": "#2a3f5f"
          },
          "geo": {
           "bgcolor": "white",
           "lakecolor": "white",
           "landcolor": "#E5ECF6",
           "showlakes": true,
           "showland": true,
           "subunitcolor": "white"
          },
          "hoverlabel": {
           "align": "left"
          },
          "hovermode": "closest",
          "mapbox": {
           "style": "light"
          },
          "paper_bgcolor": "white",
          "plot_bgcolor": "#E5ECF6",
          "polar": {
           "angularaxis": {
            "gridcolor": "white",
            "linecolor": "white",
            "ticks": ""
           },
           "bgcolor": "#E5ECF6",
           "radialaxis": {
            "gridcolor": "white",
            "linecolor": "white",
            "ticks": ""
           }
          },
          "scene": {
           "xaxis": {
            "backgroundcolor": "#E5ECF6",
            "gridcolor": "white",
            "gridwidth": 2,
            "linecolor": "white",
            "showbackground": true,
            "ticks": "",
            "zerolinecolor": "white"
           },
           "yaxis": {
            "backgroundcolor": "#E5ECF6",
            "gridcolor": "white",
            "gridwidth": 2,
            "linecolor": "white",
            "showbackground": true,
            "ticks": "",
            "zerolinecolor": "white"
           },
           "zaxis": {
            "backgroundcolor": "#E5ECF6",
            "gridcolor": "white",
            "gridwidth": 2,
            "linecolor": "white",
            "showbackground": true,
            "ticks": "",
            "zerolinecolor": "white"
           }
          },
          "shapedefaults": {
           "line": {
            "color": "#2a3f5f"
           }
          },
          "ternary": {
           "aaxis": {
            "gridcolor": "white",
            "linecolor": "white",
            "ticks": ""
           },
           "baxis": {
            "gridcolor": "white",
            "linecolor": "white",
            "ticks": ""
           },
           "bgcolor": "#E5ECF6",
           "caxis": {
            "gridcolor": "white",
            "linecolor": "white",
            "ticks": ""
           }
          },
          "title": {
           "x": 0.05
          },
          "xaxis": {
           "automargin": true,
           "gridcolor": "white",
           "linecolor": "white",
           "ticks": "",
           "title": {
            "standoff": 15
           },
           "zerolinecolor": "white",
           "zerolinewidth": 2
          },
          "yaxis": {
           "automargin": true,
           "gridcolor": "white",
           "linecolor": "white",
           "ticks": "",
           "title": {
            "standoff": 15
           },
           "zerolinecolor": "white",
           "zerolinewidth": 2
          }
         }
        },
        "title": {
         "text": "Token Count Distribution by Corpus"
        },
        "yaxis": {
         "title": {
          "text": "token_count"
         }
        }
       }
      }
     },
     "metadata": {},
     "output_type": "display_data"
    },
    {
     "data": {
      "application/vnd.plotly.v1+json": {
       "config": {
        "plotlyServerURL": "https://plot.ly"
       },
       "data": [
        {
         "name": "CDLK",
         "type": "box",
         "y": {
          "bdata": "CxAJCw0PCgoOCw4KCxAMEgoQDg4RDg8OExIQDQoQEBMOCwsMDwwJDwsNEA4NDhISDwwNEw8QDwwJDg4HEgoPFQ8MDwoTEg8JCRAKDBATEAwSERIKEQsRDg0QERERDQ8SEQ8XGBMRERARDQoPDQ0NEQ4TEBEKDhESChESDA8PEA4ODhARDw0OEAsLERQRDw4OEhQSCgwLEBEICwkODgsMDQwPDA4MCA0NDRIWEg0ODhUVEQoTDg4NDw4MChASERISEQ0RDBELCAg=",
          "dtype": "i1"
         }
        },
        {
         "name": "KLP1",
         "type": "box",
         "y": {
          "bdata": "CwkLCQQIBAcCBAcEAgYECg4RCxIPDw0TDAcOEAwODAoPEwkMFREPERAMHxQWFQ0PEhISEQwVFg8SCwQUBBANDQMIDwsNBQ8ZEwoFEBETFhkVGQ0ODhESDgsKERMRFRAQERUUDxEZDREOEhEWFRogExERDxETFQoJEBATDRAUDRAYDA8QDw0MERMHGA4PBwcEGBMMDAYGDxANDRAUEA0NCQ8LBgkQDA4TDxAPEQ0FCQYJCQwLEQ4VERMOEgsLEQkJCg4QGRAhGRQNCBcUGCkTFQcRCBwfFAwTDw0JEhINDQ8ODRELCQ8ODw8QDgwEEQcUEAsIBwgQDQwLDQgSGA8PDQsWEA0KEA8LDxIPEggSDQsKDQ0MEBAVHBEVDQ0NDAgREhEQEhETCw0REgoQCQsOCQYODREODRMOExIJDgwPGRgNDgwQDxYJBQ8GCw4PCBAIDg0NDA4GCwUWEhMQDhELCREMCgcQEhYRDQsUFxULEhUNDxATDxISDQ8VCw0ICRUCCwwXEw0NBggaGw4LHBYODwkKEQcOBwoMDA0MDggMDAoPCBQUFxEPERAVDRQSERgbFBEREhUTDxcOFgsREhYYGhUSDxEdFA0NGB4RDxAPExEKCggHDA8aGA4NEhQNFgkKFw8SDhATDw0WGggNChQQExEVBw0SDAwOBQoKDA8TDhIXDwQPEwoLEREREw==",
          "dtype": "i1"
         }
        }
       ],
       "layout": {
        "template": {
         "data": {
          "bar": [
           {
            "error_x": {
             "color": "#2a3f5f"
            },
            "error_y": {
             "color": "#2a3f5f"
            },
            "marker": {
             "line": {
              "color": "#E5ECF6",
              "width": 0.5
             },
             "pattern": {
              "fillmode": "overlay",
              "size": 10,
              "solidity": 0.2
             }
            },
            "type": "bar"
           }
          ],
          "barpolar": [
           {
            "marker": {
             "line": {
              "color": "#E5ECF6",
              "width": 0.5
             },
             "pattern": {
              "fillmode": "overlay",
              "size": 10,
              "solidity": 0.2
             }
            },
            "type": "barpolar"
           }
          ],
          "carpet": [
           {
            "aaxis": {
             "endlinecolor": "#2a3f5f",
             "gridcolor": "white",
             "linecolor": "white",
             "minorgridcolor": "white",
             "startlinecolor": "#2a3f5f"
            },
            "baxis": {
             "endlinecolor": "#2a3f5f",
             "gridcolor": "white",
             "linecolor": "white",
             "minorgridcolor": "white",
             "startlinecolor": "#2a3f5f"
            },
            "type": "carpet"
           }
          ],
          "choropleth": [
           {
            "colorbar": {
             "outlinewidth": 0,
             "ticks": ""
            },
            "type": "choropleth"
           }
          ],
          "contour": [
           {
            "colorbar": {
             "outlinewidth": 0,
             "ticks": ""
            },
            "colorscale": [
             [
              0,
              "#0d0887"
             ],
             [
              0.1111111111111111,
              "#46039f"
             ],
             [
              0.2222222222222222,
              "#7201a8"
             ],
             [
              0.3333333333333333,
              "#9c179e"
             ],
             [
              0.4444444444444444,
              "#bd3786"
             ],
             [
              0.5555555555555556,
              "#d8576b"
             ],
             [
              0.6666666666666666,
              "#ed7953"
             ],
             [
              0.7777777777777778,
              "#fb9f3a"
             ],
             [
              0.8888888888888888,
              "#fdca26"
             ],
             [
              1,
              "#f0f921"
             ]
            ],
            "type": "contour"
           }
          ],
          "contourcarpet": [
           {
            "colorbar": {
             "outlinewidth": 0,
             "ticks": ""
            },
            "type": "contourcarpet"
           }
          ],
          "heatmap": [
           {
            "colorbar": {
             "outlinewidth": 0,
             "ticks": ""
            },
            "colorscale": [
             [
              0,
              "#0d0887"
             ],
             [
              0.1111111111111111,
              "#46039f"
             ],
             [
              0.2222222222222222,
              "#7201a8"
             ],
             [
              0.3333333333333333,
              "#9c179e"
             ],
             [
              0.4444444444444444,
              "#bd3786"
             ],
             [
              0.5555555555555556,
              "#d8576b"
             ],
             [
              0.6666666666666666,
              "#ed7953"
             ],
             [
              0.7777777777777778,
              "#fb9f3a"
             ],
             [
              0.8888888888888888,
              "#fdca26"
             ],
             [
              1,
              "#f0f921"
             ]
            ],
            "type": "heatmap"
           }
          ],
          "histogram": [
           {
            "marker": {
             "pattern": {
              "fillmode": "overlay",
              "size": 10,
              "solidity": 0.2
             }
            },
            "type": "histogram"
           }
          ],
          "histogram2d": [
           {
            "colorbar": {
             "outlinewidth": 0,
             "ticks": ""
            },
            "colorscale": [
             [
              0,
              "#0d0887"
             ],
             [
              0.1111111111111111,
              "#46039f"
             ],
             [
              0.2222222222222222,
              "#7201a8"
             ],
             [
              0.3333333333333333,
              "#9c179e"
             ],
             [
              0.4444444444444444,
              "#bd3786"
             ],
             [
              0.5555555555555556,
              "#d8576b"
             ],
             [
              0.6666666666666666,
              "#ed7953"
             ],
             [
              0.7777777777777778,
              "#fb9f3a"
             ],
             [
              0.8888888888888888,
              "#fdca26"
             ],
             [
              1,
              "#f0f921"
             ]
            ],
            "type": "histogram2d"
           }
          ],
          "histogram2dcontour": [
           {
            "colorbar": {
             "outlinewidth": 0,
             "ticks": ""
            },
            "colorscale": [
             [
              0,
              "#0d0887"
             ],
             [
              0.1111111111111111,
              "#46039f"
             ],
             [
              0.2222222222222222,
              "#7201a8"
             ],
             [
              0.3333333333333333,
              "#9c179e"
             ],
             [
              0.4444444444444444,
              "#bd3786"
             ],
             [
              0.5555555555555556,
              "#d8576b"
             ],
             [
              0.6666666666666666,
              "#ed7953"
             ],
             [
              0.7777777777777778,
              "#fb9f3a"
             ],
             [
              0.8888888888888888,
              "#fdca26"
             ],
             [
              1,
              "#f0f921"
             ]
            ],
            "type": "histogram2dcontour"
           }
          ],
          "mesh3d": [
           {
            "colorbar": {
             "outlinewidth": 0,
             "ticks": ""
            },
            "type": "mesh3d"
           }
          ],
          "parcoords": [
           {
            "line": {
             "colorbar": {
              "outlinewidth": 0,
              "ticks": ""
             }
            },
            "type": "parcoords"
           }
          ],
          "pie": [
           {
            "automargin": true,
            "type": "pie"
           }
          ],
          "scatter": [
           {
            "fillpattern": {
             "fillmode": "overlay",
             "size": 10,
             "solidity": 0.2
            },
            "type": "scatter"
           }
          ],
          "scatter3d": [
           {
            "line": {
             "colorbar": {
              "outlinewidth": 0,
              "ticks": ""
             }
            },
            "marker": {
             "colorbar": {
              "outlinewidth": 0,
              "ticks": ""
             }
            },
            "type": "scatter3d"
           }
          ],
          "scattercarpet": [
           {
            "marker": {
             "colorbar": {
              "outlinewidth": 0,
              "ticks": ""
             }
            },
            "type": "scattercarpet"
           }
          ],
          "scattergeo": [
           {
            "marker": {
             "colorbar": {
              "outlinewidth": 0,
              "ticks": ""
             }
            },
            "type": "scattergeo"
           }
          ],
          "scattergl": [
           {
            "marker": {
             "colorbar": {
              "outlinewidth": 0,
              "ticks": ""
             }
            },
            "type": "scattergl"
           }
          ],
          "scattermap": [
           {
            "marker": {
             "colorbar": {
              "outlinewidth": 0,
              "ticks": ""
             }
            },
            "type": "scattermap"
           }
          ],
          "scattermapbox": [
           {
            "marker": {
             "colorbar": {
              "outlinewidth": 0,
              "ticks": ""
             }
            },
            "type": "scattermapbox"
           }
          ],
          "scatterpolar": [
           {
            "marker": {
             "colorbar": {
              "outlinewidth": 0,
              "ticks": ""
             }
            },
            "type": "scatterpolar"
           }
          ],
          "scatterpolargl": [
           {
            "marker": {
             "colorbar": {
              "outlinewidth": 0,
              "ticks": ""
             }
            },
            "type": "scatterpolargl"
           }
          ],
          "scatterternary": [
           {
            "marker": {
             "colorbar": {
              "outlinewidth": 0,
              "ticks": ""
             }
            },
            "type": "scatterternary"
           }
          ],
          "surface": [
           {
            "colorbar": {
             "outlinewidth": 0,
             "ticks": ""
            },
            "colorscale": [
             [
              0,
              "#0d0887"
             ],
             [
              0.1111111111111111,
              "#46039f"
             ],
             [
              0.2222222222222222,
              "#7201a8"
             ],
             [
              0.3333333333333333,
              "#9c179e"
             ],
             [
              0.4444444444444444,
              "#bd3786"
             ],
             [
              0.5555555555555556,
              "#d8576b"
             ],
             [
              0.6666666666666666,
              "#ed7953"
             ],
             [
              0.7777777777777778,
              "#fb9f3a"
             ],
             [
              0.8888888888888888,
              "#fdca26"
             ],
             [
              1,
              "#f0f921"
             ]
            ],
            "type": "surface"
           }
          ],
          "table": [
           {
            "cells": {
             "fill": {
              "color": "#EBF0F8"
             },
             "line": {
              "color": "white"
             }
            },
            "header": {
             "fill": {
              "color": "#C8D4E3"
             },
             "line": {
              "color": "white"
             }
            },
            "type": "table"
           }
          ]
         },
         "layout": {
          "annotationdefaults": {
           "arrowcolor": "#2a3f5f",
           "arrowhead": 0,
           "arrowwidth": 1
          },
          "autotypenumbers": "strict",
          "coloraxis": {
           "colorbar": {
            "outlinewidth": 0,
            "ticks": ""
           }
          },
          "colorscale": {
           "diverging": [
            [
             0,
             "#8e0152"
            ],
            [
             0.1,
             "#c51b7d"
            ],
            [
             0.2,
             "#de77ae"
            ],
            [
             0.3,
             "#f1b6da"
            ],
            [
             0.4,
             "#fde0ef"
            ],
            [
             0.5,
             "#f7f7f7"
            ],
            [
             0.6,
             "#e6f5d0"
            ],
            [
             0.7,
             "#b8e186"
            ],
            [
             0.8,
             "#7fbc41"
            ],
            [
             0.9,
             "#4d9221"
            ],
            [
             1,
             "#276419"
            ]
           ],
           "sequential": [
            [
             0,
             "#0d0887"
            ],
            [
             0.1111111111111111,
             "#46039f"
            ],
            [
             0.2222222222222222,
             "#7201a8"
            ],
            [
             0.3333333333333333,
             "#9c179e"
            ],
            [
             0.4444444444444444,
             "#bd3786"
            ],
            [
             0.5555555555555556,
             "#d8576b"
            ],
            [
             0.6666666666666666,
             "#ed7953"
            ],
            [
             0.7777777777777778,
             "#fb9f3a"
            ],
            [
             0.8888888888888888,
             "#fdca26"
            ],
            [
             1,
             "#f0f921"
            ]
           ],
           "sequentialminus": [
            [
             0,
             "#0d0887"
            ],
            [
             0.1111111111111111,
             "#46039f"
            ],
            [
             0.2222222222222222,
             "#7201a8"
            ],
            [
             0.3333333333333333,
             "#9c179e"
            ],
            [
             0.4444444444444444,
             "#bd3786"
            ],
            [
             0.5555555555555556,
             "#d8576b"
            ],
            [
             0.6666666666666666,
             "#ed7953"
            ],
            [
             0.7777777777777778,
             "#fb9f3a"
            ],
            [
             0.8888888888888888,
             "#fdca26"
            ],
            [
             1,
             "#f0f921"
            ]
           ]
          },
          "colorway": [
           "#636efa",
           "#EF553B",
           "#00cc96",
           "#ab63fa",
           "#FFA15A",
           "#19d3f3",
           "#FF6692",
           "#B6E880",
           "#FF97FF",
           "#FECB52"
          ],
          "font": {
           "color": "#2a3f5f"
          },
          "geo": {
           "bgcolor": "white",
           "lakecolor": "white",
           "landcolor": "#E5ECF6",
           "showlakes": true,
           "showland": true,
           "subunitcolor": "white"
          },
          "hoverlabel": {
           "align": "left"
          },
          "hovermode": "closest",
          "mapbox": {
           "style": "light"
          },
          "paper_bgcolor": "white",
          "plot_bgcolor": "#E5ECF6",
          "polar": {
           "angularaxis": {
            "gridcolor": "white",
            "linecolor": "white",
            "ticks": ""
           },
           "bgcolor": "#E5ECF6",
           "radialaxis": {
            "gridcolor": "white",
            "linecolor": "white",
            "ticks": ""
           }
          },
          "scene": {
           "xaxis": {
            "backgroundcolor": "#E5ECF6",
            "gridcolor": "white",
            "gridwidth": 2,
            "linecolor": "white",
            "showbackground": true,
            "ticks": "",
            "zerolinecolor": "white"
           },
           "yaxis": {
            "backgroundcolor": "#E5ECF6",
            "gridcolor": "white",
            "gridwidth": 2,
            "linecolor": "white",
            "showbackground": true,
            "ticks": "",
            "zerolinecolor": "white"
           },
           "zaxis": {
            "backgroundcolor": "#E5ECF6",
            "gridcolor": "white",
            "gridwidth": 2,
            "linecolor": "white",
            "showbackground": true,
            "ticks": "",
            "zerolinecolor": "white"
           }
          },
          "shapedefaults": {
           "line": {
            "color": "#2a3f5f"
           }
          },
          "ternary": {
           "aaxis": {
            "gridcolor": "white",
            "linecolor": "white",
            "ticks": ""
           },
           "baxis": {
            "gridcolor": "white",
            "linecolor": "white",
            "ticks": ""
           },
           "bgcolor": "#E5ECF6",
           "caxis": {
            "gridcolor": "white",
            "linecolor": "white",
            "ticks": ""
           }
          },
          "title": {
           "x": 0.05
          },
          "xaxis": {
           "automargin": true,
           "gridcolor": "white",
           "linecolor": "white",
           "ticks": "",
           "title": {
            "standoff": 15
           },
           "zerolinecolor": "white",
           "zerolinewidth": 2
          },
          "yaxis": {
           "automargin": true,
           "gridcolor": "white",
           "linecolor": "white",
           "ticks": "",
           "title": {
            "standoff": 15
           },
           "zerolinecolor": "white",
           "zerolinewidth": 2
          }
         }
        },
        "title": {
         "text": "Sentence Count Distribution by Corpus"
        },
        "yaxis": {
         "title": {
          "text": "sentence_count"
         }
        }
       }
      }
     },
     "metadata": {},
     "output_type": "display_data"
    },
    {
     "data": {
      "application/vnd.plotly.v1+json": {
       "config": {
        "plotlyServerURL": "https://plot.ly"
       },
       "data": [
        {
         "name": "CDLK",
         "type": "box",
         "y": {
          "bdata": "UgQvBWUDSgU0BOUEzgO9Ax8EHQTcBdYDYgOrBNUDPAQPBBIE5wTbAzgEmgSgBWkFvgVxA94E+AMiBG8FvQMLBPQEYwSmBLQEewQRBCMDiQRSBOwDUgVCBRUG1APBBOgG8QQ3BLQDdQa8BT0E8gQfBEwD6gRFBbYDMgYnAx8GXQWvBp4E4gXUBCEFhwZtBJoEQgMyBtcDkgWJBooGegXnAwgFHAXwBRsExwShBJQE9AORBOIFcgRqBFAFVAQjBNIGTQZABC4GZwhlBg8GVQU/BNIFyQM8A+QFqARfBTkFyAWeBrkFhQWMBboEyQUeB0AGNAZNBTIFSgNXBZ0DzwRZBPME0wS6BJgFbQO7BFUFbAamA24DYQZOBH8GEgP7BK4DdQVZBRsFJwNpAwIEXwP4A7cDVgPDAmwEswOwBUcE4wNkA9IDQQN1BYED/gKmA64D0AOnBKwGYwTxBD4GQgW0BnkGkwS7A1gG8QQbBncEzgUUBQEELAOCBM0EBgZHBuIE6wXdBO8DlwT+Av0CnwOHAQ==",
          "dtype": "i2"
         }
        },
        {
         "name": "KLP1",
         "type": "box",
         "y": {
          "bdata": "mAGKAVkCeQFFAFUBFwFFAXUAxwBOAXwARQCEAbkBewL4Ag4DvQIqBMEDUQMeA40DcQNnASADMANCA5IDDwO0A/ECygL9A9MDpwP2AlsCxgKfAkkClwMFBFADmQNKAssCIQO0A0gFXAOgAoAD7ANIA0IDegOuAD8DYwCABK4CXgPOAJ8BxQPCAUsDnwBeA9YDrAQ+Ap4BIwOPA1sDkAOhAzIEAQUTAzEC0AIBA2YD2QIFAjwBlgOMA1sDcwNlA+MCwAPUA3wETwPNBLwDNwRaBGkDuwObBGMFzwQhBmgG+QMWA4kDyANmAxsDewMOA5oCUAMhA6IDowJFAQcDGQMZA7cETAKtBJ4EBwNPAssD1AOaA0oBiQZ/A10F0ALVAqEBVgS3A1UDCQMDAxkBcQNfA7kDTQOHBMoDKwMAAnsCcwHgBFoDSgMgA+UDbANMBM0DNwPCAw0EVwMaA+gAXwOFACUDwAJLBFcDYAQNA1IEnAPGBC0D9wKaAqgDQAOgAdcBIAIRA4cD7gIlApMFnwQYAzQDZgGUBHcDigPgBBEDrgODAWEDMQHVA50EcARRAsUD0wIjA6cCiQSxA3IDggP5ArwDMQPoAhkDZwJIA6MCVAMaAw0DXAJpArAAXwN8ATgFSQNSAhUBqwHDAbkCcAJbA4EBvQI9AlgDogOPA2QDXQNSA+sDxAL+AtgCLwNPAlECKgQuBNcDlANAAkYDRANHAx4C0gGYAzcDswMNBNkD1QNyBD8GgwSaA10DVAO/AgEDAwTfA9kDGwXFA3UDyAIfA6oDpgJgA5MDVgM9AukDIgL6AbkDpAWNBokDEgPVBQEFOAR8AuACpQMFA80CWgTDA0gE+APSAzQEaAK7BOoCDQMsA+oA9gGjAuUDngFcAyYC2wLSAp4CDQOlAhoB0AHQAGcEAwP3Ay0DkAIYA58CYwFTAyUCEgNdAWgDPgMXBOYCrgMkA5QD9gLBA/YBBwSgBKoD5QPlA4UDkQN/BGkEtwNhA/QDAQOpAzQDsgJzBBIAaQPUA70FpQRBAwAEQgGlAOUEMwTmAvoBsAZiBEEEhARSAuIBBAS+AdcCTQFzAjQCkwJZAnsD/QIeAVsCIQOsAnIDuAHUAwEEAgQKBHIDKQSMBRkGDgNeBK4DEQREBUsFUARCBIoDPwTLBKEF4gNDBYMD8wMHBMMEkAP/A0gFwAUJBTIFTgTuBLsFGQT/A6ICmwfACJQDzANSA/cDuwNsA54CogNGApEBIgMxA9IF+QREBGYDxwMlA00DBwQ9A+MDNAXzAu0D1QJ0A+kD5gSjBbEFBgX6AksDDwJ4A5EC9gN3A60EJQKlAzsEEQPnATYDEgHLAgICLQMhBGADNgLwAs4CTgSCAGkDSgTDAqwCtgPRAwYE7wM=",
          "dtype": "i2"
         }
        }
       ],
       "layout": {
        "template": {
         "data": {
          "bar": [
           {
            "error_x": {
             "color": "#2a3f5f"
            },
            "error_y": {
             "color": "#2a3f5f"
            },
            "marker": {
             "line": {
              "color": "#E5ECF6",
              "width": 0.5
             },
             "pattern": {
              "fillmode": "overlay",
              "size": 10,
              "solidity": 0.2
             }
            },
            "type": "bar"
           }
          ],
          "barpolar": [
           {
            "marker": {
             "line": {
              "color": "#E5ECF6",
              "width": 0.5
             },
             "pattern": {
              "fillmode": "overlay",
              "size": 10,
              "solidity": 0.2
             }
            },
            "type": "barpolar"
           }
          ],
          "carpet": [
           {
            "aaxis": {
             "endlinecolor": "#2a3f5f",
             "gridcolor": "white",
             "linecolor": "white",
             "minorgridcolor": "white",
             "startlinecolor": "#2a3f5f"
            },
            "baxis": {
             "endlinecolor": "#2a3f5f",
             "gridcolor": "white",
             "linecolor": "white",
             "minorgridcolor": "white",
             "startlinecolor": "#2a3f5f"
            },
            "type": "carpet"
           }
          ],
          "choropleth": [
           {
            "colorbar": {
             "outlinewidth": 0,
             "ticks": ""
            },
            "type": "choropleth"
           }
          ],
          "contour": [
           {
            "colorbar": {
             "outlinewidth": 0,
             "ticks": ""
            },
            "colorscale": [
             [
              0,
              "#0d0887"
             ],
             [
              0.1111111111111111,
              "#46039f"
             ],
             [
              0.2222222222222222,
              "#7201a8"
             ],
             [
              0.3333333333333333,
              "#9c179e"
             ],
             [
              0.4444444444444444,
              "#bd3786"
             ],
             [
              0.5555555555555556,
              "#d8576b"
             ],
             [
              0.6666666666666666,
              "#ed7953"
             ],
             [
              0.7777777777777778,
              "#fb9f3a"
             ],
             [
              0.8888888888888888,
              "#fdca26"
             ],
             [
              1,
              "#f0f921"
             ]
            ],
            "type": "contour"
           }
          ],
          "contourcarpet": [
           {
            "colorbar": {
             "outlinewidth": 0,
             "ticks": ""
            },
            "type": "contourcarpet"
           }
          ],
          "heatmap": [
           {
            "colorbar": {
             "outlinewidth": 0,
             "ticks": ""
            },
            "colorscale": [
             [
              0,
              "#0d0887"
             ],
             [
              0.1111111111111111,
              "#46039f"
             ],
             [
              0.2222222222222222,
              "#7201a8"
             ],
             [
              0.3333333333333333,
              "#9c179e"
             ],
             [
              0.4444444444444444,
              "#bd3786"
             ],
             [
              0.5555555555555556,
              "#d8576b"
             ],
             [
              0.6666666666666666,
              "#ed7953"
             ],
             [
              0.7777777777777778,
              "#fb9f3a"
             ],
             [
              0.8888888888888888,
              "#fdca26"
             ],
             [
              1,
              "#f0f921"
             ]
            ],
            "type": "heatmap"
           }
          ],
          "histogram": [
           {
            "marker": {
             "pattern": {
              "fillmode": "overlay",
              "size": 10,
              "solidity": 0.2
             }
            },
            "type": "histogram"
           }
          ],
          "histogram2d": [
           {
            "colorbar": {
             "outlinewidth": 0,
             "ticks": ""
            },
            "colorscale": [
             [
              0,
              "#0d0887"
             ],
             [
              0.1111111111111111,
              "#46039f"
             ],
             [
              0.2222222222222222,
              "#7201a8"
             ],
             [
              0.3333333333333333,
              "#9c179e"
             ],
             [
              0.4444444444444444,
              "#bd3786"
             ],
             [
              0.5555555555555556,
              "#d8576b"
             ],
             [
              0.6666666666666666,
              "#ed7953"
             ],
             [
              0.7777777777777778,
              "#fb9f3a"
             ],
             [
              0.8888888888888888,
              "#fdca26"
             ],
             [
              1,
              "#f0f921"
             ]
            ],
            "type": "histogram2d"
           }
          ],
          "histogram2dcontour": [
           {
            "colorbar": {
             "outlinewidth": 0,
             "ticks": ""
            },
            "colorscale": [
             [
              0,
              "#0d0887"
             ],
             [
              0.1111111111111111,
              "#46039f"
             ],
             [
              0.2222222222222222,
              "#7201a8"
             ],
             [
              0.3333333333333333,
              "#9c179e"
             ],
             [
              0.4444444444444444,
              "#bd3786"
             ],
             [
              0.5555555555555556,
              "#d8576b"
             ],
             [
              0.6666666666666666,
              "#ed7953"
             ],
             [
              0.7777777777777778,
              "#fb9f3a"
             ],
             [
              0.8888888888888888,
              "#fdca26"
             ],
             [
              1,
              "#f0f921"
             ]
            ],
            "type": "histogram2dcontour"
           }
          ],
          "mesh3d": [
           {
            "colorbar": {
             "outlinewidth": 0,
             "ticks": ""
            },
            "type": "mesh3d"
           }
          ],
          "parcoords": [
           {
            "line": {
             "colorbar": {
              "outlinewidth": 0,
              "ticks": ""
             }
            },
            "type": "parcoords"
           }
          ],
          "pie": [
           {
            "automargin": true,
            "type": "pie"
           }
          ],
          "scatter": [
           {
            "fillpattern": {
             "fillmode": "overlay",
             "size": 10,
             "solidity": 0.2
            },
            "type": "scatter"
           }
          ],
          "scatter3d": [
           {
            "line": {
             "colorbar": {
              "outlinewidth": 0,
              "ticks": ""
             }
            },
            "marker": {
             "colorbar": {
              "outlinewidth": 0,
              "ticks": ""
             }
            },
            "type": "scatter3d"
           }
          ],
          "scattercarpet": [
           {
            "marker": {
             "colorbar": {
              "outlinewidth": 0,
              "ticks": ""
             }
            },
            "type": "scattercarpet"
           }
          ],
          "scattergeo": [
           {
            "marker": {
             "colorbar": {
              "outlinewidth": 0,
              "ticks": ""
             }
            },
            "type": "scattergeo"
           }
          ],
          "scattergl": [
           {
            "marker": {
             "colorbar": {
              "outlinewidth": 0,
              "ticks": ""
             }
            },
            "type": "scattergl"
           }
          ],
          "scattermap": [
           {
            "marker": {
             "colorbar": {
              "outlinewidth": 0,
              "ticks": ""
             }
            },
            "type": "scattermap"
           }
          ],
          "scattermapbox": [
           {
            "marker": {
             "colorbar": {
              "outlinewidth": 0,
              "ticks": ""
             }
            },
            "type": "scattermapbox"
           }
          ],
          "scatterpolar": [
           {
            "marker": {
             "colorbar": {
              "outlinewidth": 0,
              "ticks": ""
             }
            },
            "type": "scatterpolar"
           }
          ],
          "scatterpolargl": [
           {
            "marker": {
             "colorbar": {
              "outlinewidth": 0,
              "ticks": ""
             }
            },
            "type": "scatterpolargl"
           }
          ],
          "scatterternary": [
           {
            "marker": {
             "colorbar": {
              "outlinewidth": 0,
              "ticks": ""
             }
            },
            "type": "scatterternary"
           }
          ],
          "surface": [
           {
            "colorbar": {
             "outlinewidth": 0,
             "ticks": ""
            },
            "colorscale": [
             [
              0,
              "#0d0887"
             ],
             [
              0.1111111111111111,
              "#46039f"
             ],
             [
              0.2222222222222222,
              "#7201a8"
             ],
             [
              0.3333333333333333,
              "#9c179e"
             ],
             [
              0.4444444444444444,
              "#bd3786"
             ],
             [
              0.5555555555555556,
              "#d8576b"
             ],
             [
              0.6666666666666666,
              "#ed7953"
             ],
             [
              0.7777777777777778,
              "#fb9f3a"
             ],
             [
              0.8888888888888888,
              "#fdca26"
             ],
             [
              1,
              "#f0f921"
             ]
            ],
            "type": "surface"
           }
          ],
          "table": [
           {
            "cells": {
             "fill": {
              "color": "#EBF0F8"
             },
             "line": {
              "color": "white"
             }
            },
            "header": {
             "fill": {
              "color": "#C8D4E3"
             },
             "line": {
              "color": "white"
             }
            },
            "type": "table"
           }
          ]
         },
         "layout": {
          "annotationdefaults": {
           "arrowcolor": "#2a3f5f",
           "arrowhead": 0,
           "arrowwidth": 1
          },
          "autotypenumbers": "strict",
          "coloraxis": {
           "colorbar": {
            "outlinewidth": 0,
            "ticks": ""
           }
          },
          "colorscale": {
           "diverging": [
            [
             0,
             "#8e0152"
            ],
            [
             0.1,
             "#c51b7d"
            ],
            [
             0.2,
             "#de77ae"
            ],
            [
             0.3,
             "#f1b6da"
            ],
            [
             0.4,
             "#fde0ef"
            ],
            [
             0.5,
             "#f7f7f7"
            ],
            [
             0.6,
             "#e6f5d0"
            ],
            [
             0.7,
             "#b8e186"
            ],
            [
             0.8,
             "#7fbc41"
            ],
            [
             0.9,
             "#4d9221"
            ],
            [
             1,
             "#276419"
            ]
           ],
           "sequential": [
            [
             0,
             "#0d0887"
            ],
            [
             0.1111111111111111,
             "#46039f"
            ],
            [
             0.2222222222222222,
             "#7201a8"
            ],
            [
             0.3333333333333333,
             "#9c179e"
            ],
            [
             0.4444444444444444,
             "#bd3786"
            ],
            [
             0.5555555555555556,
             "#d8576b"
            ],
            [
             0.6666666666666666,
             "#ed7953"
            ],
            [
             0.7777777777777778,
             "#fb9f3a"
            ],
            [
             0.8888888888888888,
             "#fdca26"
            ],
            [
             1,
             "#f0f921"
            ]
           ],
           "sequentialminus": [
            [
             0,
             "#0d0887"
            ],
            [
             0.1111111111111111,
             "#46039f"
            ],
            [
             0.2222222222222222,
             "#7201a8"
            ],
            [
             0.3333333333333333,
             "#9c179e"
            ],
            [
             0.4444444444444444,
             "#bd3786"
            ],
            [
             0.5555555555555556,
             "#d8576b"
            ],
            [
             0.6666666666666666,
             "#ed7953"
            ],
            [
             0.7777777777777778,
             "#fb9f3a"
            ],
            [
             0.8888888888888888,
             "#fdca26"
            ],
            [
             1,
             "#f0f921"
            ]
           ]
          },
          "colorway": [
           "#636efa",
           "#EF553B",
           "#00cc96",
           "#ab63fa",
           "#FFA15A",
           "#19d3f3",
           "#FF6692",
           "#B6E880",
           "#FF97FF",
           "#FECB52"
          ],
          "font": {
           "color": "#2a3f5f"
          },
          "geo": {
           "bgcolor": "white",
           "lakecolor": "white",
           "landcolor": "#E5ECF6",
           "showlakes": true,
           "showland": true,
           "subunitcolor": "white"
          },
          "hoverlabel": {
           "align": "left"
          },
          "hovermode": "closest",
          "mapbox": {
           "style": "light"
          },
          "paper_bgcolor": "white",
          "plot_bgcolor": "#E5ECF6",
          "polar": {
           "angularaxis": {
            "gridcolor": "white",
            "linecolor": "white",
            "ticks": ""
           },
           "bgcolor": "#E5ECF6",
           "radialaxis": {
            "gridcolor": "white",
            "linecolor": "white",
            "ticks": ""
           }
          },
          "scene": {
           "xaxis": {
            "backgroundcolor": "#E5ECF6",
            "gridcolor": "white",
            "gridwidth": 2,
            "linecolor": "white",
            "showbackground": true,
            "ticks": "",
            "zerolinecolor": "white"
           },
           "yaxis": {
            "backgroundcolor": "#E5ECF6",
            "gridcolor": "white",
            "gridwidth": 2,
            "linecolor": "white",
            "showbackground": true,
            "ticks": "",
            "zerolinecolor": "white"
           },
           "zaxis": {
            "backgroundcolor": "#E5ECF6",
            "gridcolor": "white",
            "gridwidth": 2,
            "linecolor": "white",
            "showbackground": true,
            "ticks": "",
            "zerolinecolor": "white"
           }
          },
          "shapedefaults": {
           "line": {
            "color": "#2a3f5f"
           }
          },
          "ternary": {
           "aaxis": {
            "gridcolor": "white",
            "linecolor": "white",
            "ticks": ""
           },
           "baxis": {
            "gridcolor": "white",
            "linecolor": "white",
            "ticks": ""
           },
           "bgcolor": "#E5ECF6",
           "caxis": {
            "gridcolor": "white",
            "linecolor": "white",
            "ticks": ""
           }
          },
          "title": {
           "x": 0.05
          },
          "xaxis": {
           "automargin": true,
           "gridcolor": "white",
           "linecolor": "white",
           "ticks": "",
           "title": {
            "standoff": 15
           },
           "zerolinecolor": "white",
           "zerolinewidth": 2
          },
          "yaxis": {
           "automargin": true,
           "gridcolor": "white",
           "linecolor": "white",
           "ticks": "",
           "title": {
            "standoff": 15
           },
           "zerolinecolor": "white",
           "zerolinewidth": 2
          }
         }
        },
        "title": {
         "text": "Text Length Distribution by Corpus"
        },
        "yaxis": {
         "title": {
          "text": "text_length"
         }
        }
       }
      }
     },
     "metadata": {},
     "output_type": "display_data"
    }
   ],
   "source": [
    "import plotly.graph_objects as go\n",
    "\n",
    "def boxplot_comparison(df, column, title):\n",
    "    fig = go.Figure()\n",
    "    for corpus in df['corpus'].unique():\n",
    "        fig.add_trace(go.Box(\n",
    "            y=df[df['corpus'] == corpus][column],\n",
    "            name=corpus\n",
    "        ))\n",
    "    fig.update_layout(title=title, yaxis_title=column)\n",
    "    fig.show()\n",
    "\n",
    "boxplot_comparison(combined_pd, 'token_count', 'Token Count Distribution by Corpus')\n",
    "boxplot_comparison(combined_pd, 'sentence_count', 'Sentence Count Distribution by Corpus')\n",
    "boxplot_comparison(combined_pd, 'text_length', 'Text Length Distribution by Corpus')\n"
   ]
  },
  {
   "cell_type": "markdown",
   "id": "7902dfaf",
   "metadata": {},
   "source": [
    "### Summary\n",
    "\n",
    "This notebook demonstrated how to compare basic metadata statistics between two learner corpora using pandas and polars.\n",
    "\n",
    "You saw how to:\n",
    "- Load metadata for multiple corpora\n",
    "- Combine and label them for grouped analyses\n",
    "- Compute grouped summary statistics\n",
    "- Visualize distribution differences side-by-side\n",
    "\n",
    "Next, you can explore more linguistic annotation differences or move on to interactive visualization dashboards.\n"
   ]
  }
 ],
 "metadata": {
  "kernelspec": {
   "display_name": "Python 3",
   "language": "python",
   "name": "python3"
  },
  "language_info": {
   "codemirror_mode": {
    "name": "ipython",
    "version": 3
   },
   "file_extension": ".py",
   "mimetype": "text/x-python",
   "name": "python",
   "nbconvert_exporter": "python",
   "pygments_lexer": "ipython3",
   "version": "3.13.1"
  }
 },
 "nbformat": 4,
 "nbformat_minor": 5
}
