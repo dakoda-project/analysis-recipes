{
 "cells": [
  {
   "cell_type": "markdown",
   "id": "81264a27",
   "metadata": {},
   "source": [
    "# Task 1: Basic Corpus Data Loading and Exploration\n",
    "\n",
    "This notebook demonstrates how to load learner corpus XMI files, extract basic metadata such as text length, token counts, and sentence counts, and prepare summary tables for further analysis.\n",
    "\n",
    "You will learn how to:\n",
    "- Load XMI files using the `dkpro-cassis` library and a given typesystem\n",
    "- Inspect available annotation layers (views)\n",
    "- Extract basic annotation statistics from the 'ctok' view\n",
    "- Process multiple files and aggregate metadata using both pandas and polars\n",
    "\n",
    "Let's get started!\n"
   ]
  },
  {
   "cell_type": "code",
   "execution_count": null,
   "id": "501dbd8e",
   "metadata": {},
   "outputs": [],
   "source": [
    "import cassis\n",
    "import polars as pl\n",
    "\n",
    "# Define your paths (adjust if needed)\n",
    "CDLK_FOLDER = r\"C:\\Users\\Vedang Deshmukh\\Desktop\\dakoda-recipes\\data\\CDLK\\learner_xmi\"\n",
    "KLP1_FOLDER = r\"C:\\Users\\Vedang Deshmukh\\Desktop\\dakoda-recipes\\data\\KLP1\\learner_xmi\"\n",
    "TYPESYSTEM_PATH = r\"C:\\Users\\Vedang Deshmukh\\Desktop\\dakoda-recipes\\data\\dakoda_typesystem.xml\"\n"
   ]
  },
  {
   "cell_type": "markdown",
   "id": "01a979c1",
   "metadata": {},
   "source": [
    "### Function to extract basic metadata from one XMI file\n",
    "\n",
    "The following function loads a single XMI file, selects a view (default 'ctok'), and returns basic metadata including:\n",
    "\n",
    "- Filename\n",
    "- Text length (number of characters)\n",
    "- Token count\n",
    "- Sentence count\n"
   ]
  },
  {
   "cell_type": "code",
   "execution_count": 12,
   "id": "3216fd03",
   "metadata": {},
   "outputs": [],
   "source": [
    "\n",
    "def extract_metadata_xmi(xmi_file, typesystem_path, view_name='ctok'):\n",
    "    \"\"\"\n",
    "    Load one XMI file, extract basic metadata (text length, token count, sentence count)\n",
    "    from a specified view.\n",
    "    \"\"\"\n",
    "    # Load the typesystem XML\n",
    "    with open(typesystem_path, \"rb\") as f:\n",
    "        typesystem = cassis.load_typesystem(f)\n",
    "        \n",
    "    # Load the XMI file\n",
    "    with open(xmi_file, \"rb\") as f:\n",
    "        cas = cassis.load_cas_from_xmi(f, typesystem=typesystem)\n",
    "        \n",
    "    # Check if the requested view exists\n",
    "    views = [sofa.sofaID for sofa in cas.sofas]\n",
    "    if view_name not in views:\n",
    "        print(f\"View '{view_name}' not found in {os.path.basename(xmi_file)}. Available views: {views}\")\n",
    "        return None\n",
    "    \n",
    "    # Select the view\n",
    "    view_cas = cas.get_view(view_name)\n",
    "    \n",
    "    # Extract text length\n",
    "    text_length = len(view_cas.sofa_string)\n",
    "    \n",
    "    # Extract tokens\n",
    "    token_type = typesystem.get_type('de.tudarmstadt.ukp.dkpro.core.api.segmentation.type.Token')\n",
    "    tokens = view_cas.select(token_type.name)\n",
    "    \n",
    "    # Extract sentences\n",
    "    sentence_type = typesystem.get_type('de.tudarmstadt.ukp.dkpro.core.api.segmentation.type.Sentence')\n",
    "    sentences = view_cas.select(sentence_type.name)\n",
    "    \n",
    "    # Return metadata as a dictionary\n",
    "    return {\n",
    "        \"filename\": os.path.basename(xmi_file),\n",
    "        \"text_length\": text_length,\n",
    "        \"token_count\": len(tokens),\n",
    "        \"sentence_count\": len(sentences)\n",
    "    }\n"
   ]
  },
  {
   "cell_type": "code",
   "execution_count": 13,
   "id": "0d05ea2e",
   "metadata": {},
   "outputs": [
    {
     "name": "stdout",
     "output_type": "stream",
     "text": [
      "{'filename': '201006ZW063.xmi', 'text_length': 1195, 'token_count': 198, 'sentence_count': 16}\n"
     ]
    }
   ],
   "source": [
    "### Example: Extract metadata from one sample file\n",
    "TYPESYSTEM_PATH = r\"C:\\Users\\Vedang Deshmukh\\Desktop\\dakoda-recipes\\data\\dakoda_typesystem.xml\"\n",
    "XMI_FILE = r\"C:\\Users\\Vedang Deshmukh\\Desktop\\dakoda-recipes\\data\\CDLK\\learner_xmi\\201006ZW063.xmi\"\n",
    "\n",
    "metadata = extract_metadata_xmi(XMI_FILE, TYPESYSTEM_PATH, view_name='ctok')\n",
    "\n",
    "print(metadata)\n",
    "\n"
   ]
  },
  {
   "cell_type": "markdown",
   "id": "1e4365b9",
   "metadata": {},
   "source": [
    "### Process all XMI files in a folder and aggregate metadata into a pandas DataFrame"
   ]
  },
  {
   "cell_type": "code",
   "execution_count": 14,
   "id": "64eeb058",
   "metadata": {},
   "outputs": [],
   "source": [
    "def process_corpus_folder_pandas(folder_path, typesystem_path, view_name='ctok'):\n",
    "    files = [os.path.join(folder_path, f) for f in os.listdir(folder_path) if f.endswith(\".xmi\")]\n",
    "    records = []\n",
    "    for f in files:\n",
    "        meta = extract_metadata_xmi(f, typesystem_path, view_name)\n",
    "        if meta:\n",
    "            records.append(meta)\n",
    "    return pd.DataFrame(records)\n"
   ]
  },
  {
   "cell_type": "code",
   "execution_count": 15,
   "id": "b7b4e094",
   "metadata": {},
   "outputs": [
    {
     "name": "stdout",
     "output_type": "stream",
     "text": [
      "CDLK corpus summary:\n"
     ]
    },
    {
     "data": {
      "text/html": [
       "<div>\n",
       "<style scoped>\n",
       "    .dataframe tbody tr th:only-of-type {\n",
       "        vertical-align: middle;\n",
       "    }\n",
       "\n",
       "    .dataframe tbody tr th {\n",
       "        vertical-align: top;\n",
       "    }\n",
       "\n",
       "    .dataframe thead th {\n",
       "        text-align: right;\n",
       "    }\n",
       "</style>\n",
       "<table border=\"1\" class=\"dataframe\">\n",
       "  <thead>\n",
       "    <tr style=\"text-align: right;\">\n",
       "      <th></th>\n",
       "      <th>filename</th>\n",
       "      <th>text_length</th>\n",
       "      <th>token_count</th>\n",
       "      <th>sentence_count</th>\n",
       "    </tr>\n",
       "  </thead>\n",
       "  <tbody>\n",
       "    <tr>\n",
       "      <th>0</th>\n",
       "      <td>201006ZW005.xmi</td>\n",
       "      <td>1106</td>\n",
       "      <td>203</td>\n",
       "      <td>11</td>\n",
       "    </tr>\n",
       "    <tr>\n",
       "      <th>1</th>\n",
       "      <td>201006ZW012.xmi</td>\n",
       "      <td>1327</td>\n",
       "      <td>226</td>\n",
       "      <td>16</td>\n",
       "    </tr>\n",
       "    <tr>\n",
       "      <th>2</th>\n",
       "      <td>201006ZW019.xmi</td>\n",
       "      <td>869</td>\n",
       "      <td>155</td>\n",
       "      <td>9</td>\n",
       "    </tr>\n",
       "    <tr>\n",
       "      <th>3</th>\n",
       "      <td>201006ZW021.xmi</td>\n",
       "      <td>1354</td>\n",
       "      <td>234</td>\n",
       "      <td>11</td>\n",
       "    </tr>\n",
       "    <tr>\n",
       "      <th>4</th>\n",
       "      <td>201006ZW022.xmi</td>\n",
       "      <td>1076</td>\n",
       "      <td>204</td>\n",
       "      <td>13</td>\n",
       "    </tr>\n",
       "  </tbody>\n",
       "</table>\n",
       "</div>"
      ],
      "text/plain": [
       "          filename  text_length  token_count  sentence_count\n",
       "0  201006ZW005.xmi         1106          203              11\n",
       "1  201006ZW012.xmi         1327          226              16\n",
       "2  201006ZW019.xmi          869          155               9\n",
       "3  201006ZW021.xmi         1354          234              11\n",
       "4  201006ZW022.xmi         1076          204              13"
      ]
     },
     "metadata": {},
     "output_type": "display_data"
    }
   ],
   "source": [
    "cdlk_df = process_corpus_folder_pandas(CDLK_FOLDER, TYPESYSTEM_PATH)\n",
    "print(\"CDLK corpus summary:\")\n",
    "display(cdlk_df.head())\n"
   ]
  },
  {
   "cell_type": "markdown",
   "id": "72e3a89e",
   "metadata": {},
   "source": [
    "### Similar batch processing using polars DataFrame\n"
   ]
  },
  {
   "cell_type": "code",
   "execution_count": 16,
   "id": "60a191cc",
   "metadata": {},
   "outputs": [],
   "source": [
    "def process_corpus_folder_polars(folder_path, typesystem_path, view_name='ctok'):\n",
    "    files = [os.path.join(folder_path, f) for f in os.listdir(folder_path) if f.endswith(\".xmi\")]\n",
    "    records = []\n",
    "    for f in files:\n",
    "        meta = extract_metadata_xmi(f, typesystem_path, view_name)\n",
    "        if meta:\n",
    "            records.append(meta)\n",
    "    return pl.DataFrame(records)\n"
   ]
  },
  {
   "cell_type": "code",
   "execution_count": 17,
   "id": "9e51290f",
   "metadata": {},
   "outputs": [
    {
     "name": "stderr",
     "output_type": "stream",
     "text": [
      "c:\\Users\\Vedang Deshmukh\\AppData\\Local\\Programs\\Python\\Python313\\Lib\\site-packages\\cassis\\typesystem.py:656: UserWarning: For type [org.dakoda.learnerannotation] feature with name [value] already exists in parent [de.tudarmstadt.ukp.dkpro.core.api.ner.type.NamedEntity]!\n",
      "  warnings.warn(msg)\n"
     ]
    },
    {
     "name": "stdout",
     "output_type": "stream",
     "text": [
      "CDLK corpus summary (polars):\n",
      "shape: (5, 4)\n",
      "┌─────────────────┬─────────────┬─────────────┬────────────────┐\n",
      "│ filename        ┆ text_length ┆ token_count ┆ sentence_count │\n",
      "│ ---             ┆ ---         ┆ ---         ┆ ---            │\n",
      "│ str             ┆ i64         ┆ i64         ┆ i64            │\n",
      "╞═════════════════╪═════════════╪═════════════╪════════════════╡\n",
      "│ 201006ZW005.xmi ┆ 1106        ┆ 203         ┆ 11             │\n",
      "│ 201006ZW012.xmi ┆ 1327        ┆ 226         ┆ 16             │\n",
      "│ 201006ZW019.xmi ┆ 869         ┆ 155         ┆ 9              │\n",
      "│ 201006ZW021.xmi ┆ 1354        ┆ 234         ┆ 11             │\n",
      "│ 201006ZW022.xmi ┆ 1076        ┆ 204         ┆ 13             │\n",
      "└─────────────────┴─────────────┴─────────────┴────────────────┘\n"
     ]
    }
   ],
   "source": [
    "cdlk_pl = process_corpus_folder_polars(CDLK_FOLDER, TYPESYSTEM_PATH)\n",
    "print(\"CDLK corpus summary (polars):\")\n",
    "print(cdlk_pl.head())\n"
   ]
  },
  {
   "cell_type": "markdown",
   "id": "f0de9d9e",
   "metadata": {},
   "source": [
    "## Save metadata CSV files for both corpora using pandas and polars\n",
    "\n",
    "The following cells save the processed corpus metadata to CSV files in the `Outputs/metadata_csvs` folder for use in subsequent tasks.\n"
   ]
  },
  {
   "cell_type": "code",
   "execution_count": null,
   "id": "84b9efa6",
   "metadata": {},
   "outputs": [
    {
     "name": "stderr",
     "output_type": "stream",
     "text": [
      "c:\\Users\\Vedang Deshmukh\\AppData\\Local\\Programs\\Python\\Python313\\Lib\\site-packages\\cassis\\cas.py:82: UserWarning: Not mapping external offset [328] which is not valid within the internal range [0-965]\n",
      "  warnings.warn(\n"
     ]
    },
    {
     "name": "stdout",
     "output_type": "stream",
     "text": [
      "Pandas metadata CSVs saved successfully.\n"
     ]
    }
   ],
   "source": [
    "import os\n",
    "# Define your paths (adjust if needed)\n",
    "CDLK_FOLDER = r\"C:\\Users\\Vedang Deshmukh\\Desktop\\dakoda-recipes\\data\\CDLK\\learner_xmi\"\n",
    "KLP1_FOLDER = r\"C:\\Users\\Vedang Deshmukh\\Desktop\\dakoda-recipes\\data\\KLP1\\learner_xmi\"\n",
    "TYPESYSTEM_PATH = r\"C:\\Users\\Vedang Deshmukh\\Desktop\\dakoda-recipes\\data\\dakoda_typesystem.xml\"\n",
    "\n",
    "# Create output folder if it does not exist\n",
    "os.makedirs(\"../Outputs/metadata_csvs\", exist_ok=True)\n",
    "\n",
    "# Process corpora with pandas batch function\n",
    "cdlk_meta_pd = process_corpus_folder_pandas(CDLK_FOLDER, TYPESYSTEM_PATH, 'ctok')\n",
    "klp1_meta_pd = process_corpus_folder_pandas(KLP1_FOLDER, TYPESYSTEM_PATH, 'ctok')\n",
    "\n",
    "# Save pandas metadata CSVs\n",
    "cdlk_meta_pd.to_csv(\"../Outputs/metadata_csvs/cdlk_metadata_pandas.csv\", index=False)\n",
    "klp1_meta_pd.to_csv(\"../Outputs/metadata_csvs/klp1_metadata_pandas.csv\", index=False)\n",
    "\n",
    "print(\"Pandas metadata CSVs saved successfully.\")\n",
    "\n",
    "# Process corpora with polars batch function\n",
    "cdlk_meta_pl = process_corpus_folder_polars(CDLK_FOLDER, TYPESYSTEM_PATH, 'ctok')\n",
    "klp1_meta_pl = process_corpus_folder_polars(KLP1_FOLDER, TYPESYSTEM_PATH, 'ctok')\n",
    "\n",
    "# Save polars metadata CSVs\n",
    "cdlk_meta_pl.write_csv(\"../Outputs/metadata_csvs/cdlk_metadata_polars.csv\")\n",
    "klp1_meta_pl.write_csv(\"../Outputs/metadata_csvs/klp1_metadata_polars.csv\")\n",
    "\n",
    "print(\"Polars metadata CSVs saved successfully.\")\n"
   ]
  },
  {
   "cell_type": "markdown",
   "id": "361c959b",
   "metadata": {},
   "source": [
    "### Congratulations!\n",
    "\n",
    "You have now loaded learner corpora, extracted and summarized basic metadata using both pandas and polars.\n",
    "\n",
    "Next, you can proceed to build interactive browsing tools, comparative analyses, and explore annotation layers in more detail.\n",
    "\n",
    "---\n",
    "\n",
    "**Note:** Please ensure the folder paths match your environment before running the notebook.\n"
   ]
  }
 ],
 "metadata": {
  "kernelspec": {
   "display_name": "Python 3",
   "language": "python",
   "name": "python3"
  },
  "language_info": {
   "codemirror_mode": {
    "name": "ipython",
    "version": 3
   },
   "file_extension": ".py",
   "mimetype": "text/x-python",
   "name": "python",
   "nbconvert_exporter": "python",
   "pygments_lexer": "ipython3",
   "version": "3.13.1"
  }
 },
 "nbformat": 4,
 "nbformat_minor": 5
}
