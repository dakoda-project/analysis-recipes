{
 "cells": [
  {
   "cell_type": "markdown",
   "id": "0b6b42ec",
   "metadata": {},
   "source": [
    "# Task 4: Visualizing Annotations with CAS Visualizer\n",
    "\n",
    "In this notebook, we integrate the CAS Visualizer module to visually explore learner corpus annotations.\n",
    "\n",
    "You will learn how to:\n",
    "- Load an XMI file with the dakoda typesystem\n",
    "- Use the CAS Visualizer to highlight and display annotation layers (e.g., tokens, POS tags)\n",
    "- Customize which annotation types to show and their colors\n",
    "- Compare learner text annotations and target hypotheses visually\n",
    "\n",
    "This notebook requires the `visualizer.py` module from the CAS Visualizer GitHub repository.\n",
    "Make sure `visualizer.py` is accessible in your notebook's working directory or Python path.\n"
   ]
  },
  {
   "cell_type": "code",
   "execution_count": 1,
   "id": "5af415c5",
   "metadata": {},
   "outputs": [
    {
     "name": "stdout",
     "output_type": "stream",
     "text": [
      "Working directory: C:\\Users\\Vedang Deshmukh\\Desktop\\dakoda-recipes\n"
     ]
    },
    {
     "name": "stderr",
     "output_type": "stream",
     "text": [
      "C:\\Users\\Vedang Deshmukh\\AppData\\Local\\Temp\\ipykernel_2860\\4178644877.py:7: DeprecationWarning: Importing display from IPython.core.display is deprecated since IPython 7.14, please import from IPython.display\n",
      "  from IPython.core.display import display, HTML\n"
     ]
    }
   ],
   "source": [
    "import sys\n",
    "sys.path.append(r\"C:\\Users\\Vedang Deshmukh\\cas-visualizer\\cas_visualizer\")\n",
    "\n",
    "import os\n",
    "import cassis\n",
    "from visualizer import SpacySpanVisualiser  # Your local file\n",
    "from IPython.core.display import display, HTML\n",
    "\n",
    "# Change directory to project root if needed\n",
    "os.chdir(r\"C:\\Users\\Vedang Deshmukh\\Desktop\\dakoda-recipes\")\n",
    "print(\"Working directory:\", os.getcwd())\n"
   ]
  },
  {
   "cell_type": "markdown",
   "id": "0ed06468",
   "metadata": {},
   "source": [
    "### Load typesystem and example XMI file\n",
    "\n",
    "We will load the typesystem XML and an example learner XMI file.\n"
   ]
  },
  {
   "cell_type": "code",
   "execution_count": 2,
   "id": "bae70ed8",
   "metadata": {},
   "outputs": [
    {
     "name": "stderr",
     "output_type": "stream",
     "text": [
      "c:\\Users\\Vedang Deshmukh\\AppData\\Local\\Programs\\Python\\Python313\\Lib\\site-packages\\cassis\\typesystem.py:656: UserWarning: For type [org.dakoda.learnerannotation] feature with name [value] already exists in parent [de.tudarmstadt.ukp.dkpro.core.api.ner.type.NamedEntity]!\n",
      "  warnings.warn(msg)\n"
     ]
    },
    {
     "name": "stdout",
     "output_type": "stream",
     "text": [
      "Loaded XMI file: data\\CDLK\\learner_xmi\\201006ZW063.xmi\n",
      "Available views (sofa IDs): ['_InitialView', 'ctok', 'ctok_linbomb', 'mixtral_th1', 'transgec_th1', 'mbartgec_th1', 'spacy_ctok', 'spacy_ctok_linbomb', 'spacy_mixtral_th1', 'spacy_transgec_th1', 'spacy_mbartgec_th1']\n"
     ]
    }
   ],
   "source": [
    "TYPESYSTEM_PATH = r\"data\\dakoda_typesystem.xml\"\n",
    "XMI_FILE = r\"data\\CDLK\\learner_xmi\\201006ZW063.xmi\"\n",
    "\n",
    "with open(TYPESYSTEM_PATH, \"rb\") as f:\n",
    "    typesystem = cassis.load_typesystem(f)\n",
    "\n",
    "with open(XMI_FILE, \"rb\") as f:\n",
    "    cas = cassis.load_cas_from_xmi(f, typesystem=typesystem)\n",
    "\n",
    "print(f\"Loaded XMI file: {XMI_FILE}\")\n",
    "print(\"Available views (sofa IDs):\", [sofa.sofaID for sofa in cas.sofas])\n"
   ]
  },
  {
   "cell_type": "markdown",
   "id": "dc0e18a7",
   "metadata": {},
   "source": [
    "### Select the annotation view to visualize\n",
    "\n",
    "We will use the `'ctok'` view containing the learner tokens and annotations."
   ]
  },
  {
   "cell_type": "code",
   "execution_count": 3,
   "id": "35763400",
   "metadata": {},
   "outputs": [
    {
     "name": "stdout",
     "output_type": "stream",
     "text": [
      "Using view: ctok\n",
      "Document length: 1195 characters\n"
     ]
    }
   ],
   "source": [
    "view_name = 'ctok'\n",
    "view_cas = cas.get_view(view_name)\n",
    "print(f\"Using view: {view_name}\")\n",
    "print(f\"Document length: {len(view_cas.sofa_string)} characters\")\n"
   ]
  },
  {
   "cell_type": "markdown",
   "id": "0dcdb62a",
   "metadata": {},
   "source": [
    "### Visualize tokens and POS annotations with highlighting\n",
    "\n",
    "We configure the visualizer to highlight token and POS annotations with colors."
   ]
  },
  {
   "cell_type": "code",
   "execution_count": 4,
   "id": "c20a4c70",
   "metadata": {},
   "outputs": [
    {
     "data": {
      "text/html": [
       "<span style=\"background-color: lightgreen; border-radius: 5px; padding: 2px 6px;\">Zusammenfassung</span> des <span style=\"background-color: lightgreen; border-radius: 5px; padding: 2px 6px;\">Artikel</span> „ <span style=\"background-color: lightgreen; border-radius: 5px; padding: 2px 6px;\">Jugendherberge</span> – ein ‚ <span style=\"background-color: lightgreen; border-radius: 5px; padding: 2px 6px;\">Hotel</span> ‘ für junge <span style=\"background-color: lightgreen; border-radius: 5px; padding: 2px 6px;\">Leute</span> “ Der <span style=\"background-color: lightgreen; border-radius: 5px; padding: 2px 6px;\">Artikel</span> „ <span style=\"background-color: lightgreen; border-radius: 5px; padding: 2px 6px;\">Jugendherberge</span> – ein ‚ <span style=\"background-color: lightgreen; border-radius: 5px; padding: 2px 6px;\">Hotel</span> ‘ für junge <span style=\"background-color: lightgreen; border-radius: 5px; padding: 2px 6px;\">Leute</span> “ von ein unbekannten <span style=\"background-color: lightgreen; border-radius: 5px; padding: 2px 6px;\">Person</span> bechreibt . <span style=\"background-color: lightblue; border-radius: 5px; padding: 2px 6px;\">Erinformiert</span> sich über die <span style=\"background-color: lightgreen; border-radius: 5px; padding: 2px 6px;\">Geschichte</span> und <span style=\"background-color: lightgreen; border-radius: 5px; padding: 2px 6px;\">Entwicklung</span> und das <span style=\"background-color: lightgreen; border-radius: 5px; padding: 2px 6px;\">Kosten</span> der <span style=\"background-color: lightgreen; border-radius: 5px; padding: 2px 6px;\">Jügendherberge</span> . Die <span style=\"background-color: lightgreen; border-radius: 5px; padding: 2px 6px;\">Gedanke</span> der <span style=\"background-color: lightgreen; border-radius: 5px; padding: 2px 6px;\">Jügendherberge</span> <span style=\"background-color: lightblue; border-radius: 5px; padding: 2px 6px;\">kommt</span> aus R , weil die <span style=\"background-color: lightgreen; border-radius: 5px; padding: 2px 6px;\">Studenten</span> schwer einen <span style=\"background-color: lightgreen; border-radius: 5px; padding: 2px 6px;\">Platz</span> zu übernachten können . Im <span style=\"background-color: lightgreen; border-radius: 5px; padding: 2px 6px;\">Jahr</span> 1912 <span style=\"background-color: lightblue; border-radius: 5px; padding: 2px 6px;\">eröffnet</span> die erste <span style=\"background-color: lightgreen; border-radius: 5px; padding: 2px 6px;\">Jugendherberge</span> in Deutschland . <span style=\"background-color: orange; border-radius: 5px; padding: 2px 6px;\">Sie</span> sind unterschiedlich von die heute jghb . heute die <span style=\"background-color: lightgreen; border-radius: 5px; padding: 2px 6px;\">Zahlen</span> der <span style=\"background-color: lightgreen; border-radius: 5px; padding: 2px 6px;\">Jugendherbergen</span> <span style=\"background-color: lightblue; border-radius: 5px; padding: 2px 6px;\">igesamt</span> 574 in Deutschland . Die <span style=\"background-color: lightgreen; border-radius: 5px; padding: 2px 6px;\">Steigerungsrate</span> der <span style=\"background-color: lightgreen; border-radius: 5px; padding: 2px 6px;\">Jugendherbergen</span> sind deutlicher stiler , in der ganzen <span style=\"background-color: lightgreen; border-radius: 5px; padding: 2px 6px;\">Welt</span> . Das Deutsche <span style=\"background-color: lightgreen; border-radius: 5px; padding: 2px 6px;\">Jugendherbergswerk</span> , die größte <span style=\"background-color: lightgreen; border-radius: 5px; padding: 2px 6px;\">Organisation</span> , seit knapp 100 <span style=\"background-color: lightgreen; border-radius: 5px; padding: 2px 6px;\">jahren</span> <span style=\"background-color: lightblue; border-radius: 5px; padding: 2px 6px;\">bestand</span> . Das <span style=\"background-color: lightgreen; border-radius: 5px; padding: 2px 6px;\">Kosten</span> in einer <span style=\"background-color: lightgreen; border-radius: 5px; padding: 2px 6px;\">Jügendherberge</span> ist nicht teuer , dass <span style=\"background-color: orange; border-radius: 5px; padding: 2px 6px;\">es</span> 15 bis 20 <span style=\"background-color: lightgreen; border-radius: 5px; padding: 2px 6px;\">Euro</span> pro <span style=\"background-color: lightgreen; border-radius: 5px; padding: 2px 6px;\">Nacht</span> <span style=\"background-color: lightblue; border-radius: 5px; padding: 2px 6px;\">kostet</span> . In letzten <span style=\"background-color: lightgreen; border-radius: 5px; padding: 2px 6px;\">Jahr</span> <span style=\"background-color: lightblue; border-radius: 5px; padding: 2px 6px;\">nahmen</span> mehr als 400 000 <span style=\"background-color: lightgreen; border-radius: 5px; padding: 2px 6px;\">familien</span> diese <span style=\"background-color: lightgreen; border-radius: 5px; padding: 2px 6px;\">Gelegenheit</span> wahr . Die <span style=\"background-color: lightgreen; border-radius: 5px; padding: 2px 6px;\">Angebote</span> für <span style=\"background-color: lightgreen; border-radius: 5px; padding: 2px 6px;\">Hobby</span> und <span style=\"background-color: lightgreen; border-radius: 5px; padding: 2px 6px;\">Freizeit</span> sind besonders interessant . <span style=\"background-color: orange; border-radius: 5px; padding: 2px 6px;\">Es</span> <span style=\"background-color: lightblue; border-radius: 5px; padding: 2px 6px;\">gibt</span> viele <span style=\"background-color: lightgreen; border-radius: 5px; padding: 2px 6px;\">Sportarten</span> und <span style=\"background-color: lightgreen; border-radius: 5px; padding: 2px 6px;\">Kursen</span> . Zum <span style=\"background-color: lightgreen; border-radius: 5px; padding: 2px 6px;\">Beispiel</span> : tanzen , schwimmen und <span style=\"background-color: lightgreen; border-radius: 5px; padding: 2px 6px;\">Rührerschein</span> , in einer <span style=\"background-color: lightgreen; border-radius: 5px; padding: 2px 6px;\">Jugendherbergen</span> . Die <span style=\"background-color: lightgreen; border-radius: 5px; padding: 2px 6px;\">Jugendherberge</span> <span style=\"background-color: lightblue; border-radius: 5px; padding: 2px 6px;\">spielt</span> eine wichtige <span style=\"background-color: lightgreen; border-radius: 5px; padding: 2px 6px;\">Rolle</span> für junge <span style=\"background-color: lightgreen; border-radius: 5px; padding: 2px 6px;\">Leute</span> , wenn <span style=\"background-color: orange; border-radius: 5px; padding: 2px 6px;\">sie</span> eine <span style=\"background-color: lightgreen; border-radius: 5px; padding: 2px 6px;\">Reise</span> <span style=\"background-color: lightblue; border-radius: 5px; padding: 2px 6px;\">machen</span> ."
      ],
      "text/plain": [
       "<IPython.core.display.HTML object>"
      ]
     },
     "metadata": {},
     "output_type": "display_data"
    }
   ],
   "source": [
    "from IPython.display import display, HTML\n",
    "\n",
    "# Define span wrapper (copied/adapted from your streamlit example)\n",
    "def spanWrapper(color, token_text):\n",
    "    return f'<span style=\"background-color: {color}; border-radius: 5px; padding: 2px 6px;\">{token_text}</span>'\n",
    "\n",
    "# Filter tokens to exclude metadata tokens\n",
    "def is_normal_token(token, sofa):\n",
    "    text = sofa[token.begin:token.end]\n",
    "    return not (text.startswith('<DF-') or text.startswith('<TM-'))\n",
    "\n",
    "# Prepare your token list with annotation labels (e.g., POS tags)\n",
    "tokens_with_pos = []\n",
    "for token in view_cas.select('de.tudarmstadt.ukp.dkpro.core.api.segmentation.type.Token'):\n",
    "    if not is_normal_token(token, view_cas.sofa_string):\n",
    "        continue\n",
    "    # Find POS annotation covering this token\n",
    "    pos_anns = [pos for pos in view_cas.select('de.tudarmstadt.ukp.dkpro.core.api.lexmorph.type.pos.POS')\n",
    "                if pos.begin == token.begin and pos.end == token.end]\n",
    "    pos_tag = pos_anns[0].PosValue if pos_anns else None\n",
    "    tokens_with_pos.append((token.get_covered_text(), pos_tag))\n",
    "\n",
    "# Define colors for POS tags (simplified example)\n",
    "pos_colors = {\n",
    "    \"NN\": \"lightgreen\",\n",
    "    \"VVFIN\": \"lightblue\",\n",
    "    \"PPER\": \"orange\",\n",
    "    \"PUNCT\": \"lightgray\",\n",
    "    # Add more POS tags/colors as needed\n",
    "}\n",
    "\n",
    "# Build the inline HTML with color spans\n",
    "html_tokens = []\n",
    "for text, pos_tag in tokens_with_pos:\n",
    "    color = pos_colors.get(pos_tag, \"white\")  # default no color\n",
    "    if color == \"white\":\n",
    "        html_tokens.append(text)\n",
    "    else:\n",
    "        html_tokens.append(spanWrapper(color, text))\n",
    "\n",
    "html_text = \" \".join(html_tokens)\n",
    "\n",
    "# Display in notebook\n",
    "display(HTML(html_text))\n"
   ]
  },
  {
   "cell_type": "markdown",
   "id": "f155cce3",
   "metadata": {},
   "source": [
    "### Interactive Corpus and File Selector with POS Highlighting\n",
    "\n",
    "Use the dropdown menus below to select a corpus and an XMI file from that corpus.\n",
    "\n",
    "The text of the selected file will be displayed inline with tokens color-highlighted according to their Part-of-Speech (POS) tags.\n",
    "\n",
    "**Legend for POS highlights:**\n",
    "\n",
    "- **NN** — Noun, singular or mass\n",
    "- **VVFIN** — Finite verb, main clause\n",
    "- **PPER** — Personal pronoun\n",
    "- **PUNCT** — Punctuation\n",
    "\n",
    "You can add more POS tags and colors by modifying the `pos_colors` dictionary in the code.\n"
   ]
  },
  {
   "cell_type": "code",
   "execution_count": 5,
   "id": "ee1eb118",
   "metadata": {},
   "outputs": [
    {
     "data": {
      "application/vnd.jupyter.widget-view+json": {
       "model_id": "f496779f54c346d390503b8dd205e853",
       "version_major": 2,
       "version_minor": 0
      },
      "text/plain": [
       "interactive(children=(Dropdown(description='Corpus:', options=('CDLK', 'KLP1'), value='CDLK'), Dropdown(descri…"
      ]
     },
     "metadata": {},
     "output_type": "display_data"
    },
    {
     "data": {
      "application/vnd.jupyter.widget-view+json": {
       "model_id": "52764a4242de40b3b2b444b8d8561b51",
       "version_major": 2,
       "version_minor": 0
      },
      "text/plain": [
       "Output()"
      ]
     },
     "metadata": {},
     "output_type": "display_data"
    }
   ],
   "source": [
    "from IPython.display import display, HTML\n",
    "import ipywidgets as widgets\n",
    "import os\n",
    "import cassis\n",
    "\n",
    "# Paths\n",
    "CDLK_FOLDER = r\"C:\\Users\\Vedang Deshmukh\\Desktop\\dakoda-recipes\\data\\CDLK\\learner_xmi\"\n",
    "KLP1_FOLDER = r\"C:\\Users\\Vedang Deshmukh\\Desktop\\dakoda-recipes\\data\\KLP1\\learner_xmi\"\n",
    "TYPESYSTEM_PATH = r\"C:\\Users\\Vedang Deshmukh\\Desktop\\dakoda-recipes\\data\\dakoda_typesystem.xml\"\n",
    "\n",
    "# Helper functions\n",
    "def load_cas(xmi_file, typesystem_path, view_name='ctok'):\n",
    "    with open(typesystem_path, 'rb') as f:\n",
    "        typesystem = cassis.load_typesystem(f)\n",
    "    with open(xmi_file, 'rb') as f:\n",
    "        cas = cassis.load_cas_from_xmi(f, typesystem=typesystem)\n",
    "    if view_name not in [sofa.sofaID for sofa in cas.sofas]:\n",
    "        raise ValueError(f\"View {view_name} not found in {xmi_file}\")\n",
    "    return cas.get_view(view_name)\n",
    "\n",
    "def spanWrapper(color, token_text):\n",
    "    return f'<span style=\"background-color: {color}; border-radius: 5px; padding: 2px 6px;\">{token_text}</span>'\n",
    "\n",
    "def is_normal_token(token, sofa):\n",
    "    text = sofa[token.begin:token.end]\n",
    "    return not (text.startswith('<DF-') or text.startswith('<TM-'))\n",
    "\n",
    "# POS tags with colors and full names\n",
    "pos_colors = {\n",
    "    \"NN\": \"lightgreen\",       # Noun, singular or mass\n",
    "    \"VVFIN\": \"lightblue\",     # Finite verb, main clause\n",
    "    \"PPER\": \"orange\",         # Personal pronoun\n",
    "    \"PUNCT\": \"lightgray\",     # Punctuation\n",
    "}\n",
    "\n",
    "pos_full_names = {\n",
    "    \"NN\": \"Noun, singular or mass\",\n",
    "    \"VVFIN\": \"Finite verb, main clause\",\n",
    "    \"PPER\": \"Personal pronoun\",\n",
    "    \"PUNCT\": \"Punctuation\",\n",
    "}\n",
    "\n",
    "def highlight_pos_inline(view_cas):\n",
    "    tokens_with_pos = []\n",
    "    for token in view_cas.select('de.tudarmstadt.ukp.dkpro.core.api.segmentation.type.Token'):\n",
    "        if not is_normal_token(token, view_cas.sofa_string):\n",
    "            continue\n",
    "        pos_anns = [pos for pos in view_cas.select('de.tudarmstadt.ukp.dkpro.core.api.lexmorph.type.pos.POS')\n",
    "                    if pos.begin == token.begin and pos.end == token.end]\n",
    "        pos_tag = pos_anns[0].PosValue if pos_anns else None\n",
    "        tokens_with_pos.append((token.get_covered_text(), pos_tag))\n",
    "\n",
    "    html_tokens = []\n",
    "    for text, pos_tag in tokens_with_pos:\n",
    "        color = pos_colors.get(pos_tag, \"white\")  # default no color\n",
    "        if color == \"white\":\n",
    "            html_tokens.append(text)\n",
    "        else:\n",
    "            html_tokens.append(spanWrapper(color, text))\n",
    "\n",
    "    html_text = \" \".join(html_tokens)\n",
    "    return html_text\n",
    "\n",
    "# Widgets setup\n",
    "corpus_folders = {\n",
    "    'CDLK': CDLK_FOLDER,\n",
    "    'KLP1': KLP1_FOLDER\n",
    "}\n",
    "\n",
    "corpus_selector = widgets.Dropdown(\n",
    "    options=list(corpus_folders.keys()),\n",
    "    value='CDLK',\n",
    "    description='Corpus:',\n",
    ")\n",
    "\n",
    "file_selector = widgets.Dropdown(\n",
    "    options=[],\n",
    "    description='File:',\n",
    "    layout=widgets.Layout(width='80%')\n",
    ")\n",
    "\n",
    "output = widgets.Output()\n",
    "\n",
    "def update_file_list(change):\n",
    "    folder = corpus_folders[change['new']]\n",
    "    files = sorted([f for f in os.listdir(folder) if f.endswith('.xmi')])\n",
    "    file_selector.options = files\n",
    "    file_selector.value = files[0] if files else None\n",
    "\n",
    "corpus_selector.observe(update_file_list, names='value')\n",
    "update_file_list({'new': corpus_selector.value})  # initialize\n",
    "\n",
    "def display_highlighted_text(corpus, filename):\n",
    "    output.clear_output()\n",
    "    if filename is None:\n",
    "        return\n",
    "    folder = corpus_folders[corpus]\n",
    "    xmi_path = os.path.join(folder, filename)\n",
    "    try:\n",
    "        view_cas = load_cas(xmi_path, TYPESYSTEM_PATH, 'ctok')\n",
    "        html = highlight_pos_inline(view_cas)\n",
    "        with output:\n",
    "            display(HTML(html))\n",
    "            print(\"\\nLegend for POS highlights:\")\n",
    "            for pos, color in pos_colors.items():\n",
    "                display(HTML(f'<span style=\"background-color:{color}; padding:4px 8px; margin-right:10px; border-radius:4px;\">{pos} — {pos_full_names[pos]}</span>'))\n",
    "    except Exception as e:\n",
    "        with output:\n",
    "            print(f\"Error loading file: {e}\")\n",
    "\n",
    "widgets.interact(display_highlighted_text, corpus=corpus_selector, filename=file_selector)\n",
    "display(output)\n"
   ]
  },
  {
   "cell_type": "markdown",
   "id": "1175155b",
   "metadata": {},
   "source": [
    "##  List and count annotation types in a corpus view\n",
    "\n",
    "To understand what types of annotations are present in a corpus file, we list all annotation types found in a specific view, along with their counts.\n",
    "\n",
    "This helps identify which linguistic features or learner error annotations are available for further exploration.\n"
   ]
  },
  {
   "cell_type": "code",
   "execution_count": 6,
   "id": "1dbccafb",
   "metadata": {},
   "outputs": [
    {
     "name": "stdout",
     "output_type": "stream",
     "text": [
      "Annotation types and counts in 'ctok' view:\n",
      "de.tudarmstadt.ukp.dkpro.core.api.lexmorph.type.pos.POS: 198\n",
      "custom.UniversalDependencies.POS: 198\n",
      "de.tudarmstadt.ukp.dkpro.core.api.segmentation.type.Lemma: 198\n",
      "custom.syntaxdot.topofield: 198\n",
      "org.dakoda.syntax.UDependency: 198\n",
      "de.tudarmstadt.ukp.dkpro.core.api.segmentation.type.Token: 198\n",
      "de.tudarmstadt.ukp.dkpro.core.api.segmentation.type.Sentence: 16\n",
      "org.dakoda.Stage: 14\n"
     ]
    }
   ],
   "source": [
    "from collections import Counter\n",
    "\n",
    "def list_annotation_types(view_cas):\n",
    "    types_in_cas = [ann.type.name for ann in view_cas.select_all()]\n",
    "    counts = Counter(types_in_cas)\n",
    "    # Sort by count descending\n",
    "    sorted_counts = sorted(counts.items(), key=lambda x: x[1], reverse=True)\n",
    "    return sorted_counts\n",
    "\n",
    "# Example usage: list annotations in 'ctok' view of current CAS\n",
    "\n",
    "annotation_counts = list_annotation_types(view_cas)\n",
    "print(\"Annotation types and counts in 'ctok' view:\")\n",
    "for ann_type, count in annotation_counts:\n",
    "    print(f\"{ann_type}: {count}\")\n"
   ]
  },
  {
   "cell_type": "markdown",
   "id": "fd436947",
   "metadata": {},
   "source": [
    "## Extract and explore additional key annotations\n",
    "\n",
    "Besides tokens and POS tags, learner corpora often contain other useful annotations such as:\n",
    "\n",
    "- **Lemmas:** base forms of words  \n",
    "- **Dependency relations:** syntactic dependencies between tokens  \n",
    "- **Topological fields:** sentence structure info (specific to syntaxdot parser)  \n",
    "- **Stage:** annotation stage information  \n",
    "\n",
    "In this step, we will extract some of these annotations and display sample values for exploration.\n"
   ]
  },
  {
   "cell_type": "code",
   "execution_count": 7,
   "id": "a960711f",
   "metadata": {},
   "outputs": [
    {
     "name": "stdout",
     "output_type": "stream",
     "text": [
      "Sample Lemmas:\n",
      "Text span: '<DF-8-47.74><TM-2>', Lemma: '<DF-8-47.74><TM-2>'\n",
      "Text span: 'Zusammenfassung', Lemma: 'Zusammenfassung'\n",
      "Text span: 'des', Lemma: 'd'\n",
      "Text span: 'Artikel', Lemma: 'Artikel'\n",
      "Text span: '„', Lemma: '„'\n",
      "Text span: 'Jugendherberge', Lemma: 'Jugendherberge'\n",
      "Text span: '–', Lemma: '–'\n",
      "Text span: 'ein', Lemma: 'e'\n",
      "Text span: '‚', Lemma: '‚'\n",
      "Text span: 'Hotel', Lemma: 'Hotel'\n",
      "\n",
      "Sample Dependency Relations (UDependency):\n",
      "Dependency: 'punct', Governor text: 'bechreibt', Dependent text: '.'\n",
      "Dependency: 'root', Governor text: 'bechreibt', Dependent text: 'bechreibt'\n",
      "Dependency: 'root', Governor text: '<DF-8-47.74><TM-2>', Dependent text: '<DF-8-47.74><TM-2>'\n",
      "Dependency: 'punct', Governor text: 'Jugendherberge', Dependent text: '“'\n",
      "Dependency: 'amod', Governor text: 'Person', Dependent text: 'unbekannten'\n",
      "Dependency: 'det', Governor text: 'Artikel', Dependent text: 'des'\n",
      "Dependency: 'det', Governor text: 'Person', Dependent text: 'ein'\n",
      "Dependency: 'punct', Governor text: 'Zusammenfassung', Dependent text: '‘'\n",
      "Dependency: 'nmod', Governor text: 'Hotel', Dependent text: 'Leute'\n",
      "Dependency: 'amod', Governor text: 'Leute', Dependent text: 'junge'\n",
      "\n",
      "Sample Topological Fields:\n",
      "Topological Field: '<bound method FeatureStructure.value of custom_syntaxdot_topofield(xmiID=627, FieldValue='null', source=None, begin=0, end=18, type=Type(name=custom.syntaxdot.topofield))>'\n",
      "Topological Field: '<bound method FeatureStructure.value of custom_syntaxdot_topofield(xmiID=628, FieldValue='null', source=None, begin=19, end=34, type=Type(name=custom.syntaxdot.topofield))>'\n",
      "Topological Field: '<bound method FeatureStructure.value of custom_syntaxdot_topofield(xmiID=629, FieldValue='null', source=None, begin=35, end=38, type=Type(name=custom.syntaxdot.topofield))>'\n",
      "Topological Field: '<bound method FeatureStructure.value of custom_syntaxdot_topofield(xmiID=630, FieldValue='null', source=None, begin=39, end=46, type=Type(name=custom.syntaxdot.topofield))>'\n",
      "Topological Field: '<bound method FeatureStructure.value of custom_syntaxdot_topofield(xmiID=631, FieldValue='null', source=None, begin=47, end=48, type=Type(name=custom.syntaxdot.topofield))>'\n",
      "Topological Field: '<bound method FeatureStructure.value of custom_syntaxdot_topofield(xmiID=632, FieldValue='null', source=None, begin=49, end=63, type=Type(name=custom.syntaxdot.topofield))>'\n",
      "Topological Field: '<bound method FeatureStructure.value of custom_syntaxdot_topofield(xmiID=633, FieldValue='null', source=None, begin=64, end=65, type=Type(name=custom.syntaxdot.topofield))>'\n",
      "Topological Field: '<bound method FeatureStructure.value of custom_syntaxdot_topofield(xmiID=634, FieldValue='null', source=None, begin=66, end=69, type=Type(name=custom.syntaxdot.topofield))>'\n",
      "Topological Field: '<bound method FeatureStructure.value of custom_syntaxdot_topofield(xmiID=635, FieldValue='null', source=None, begin=70, end=71, type=Type(name=custom.syntaxdot.topofield))>'\n",
      "Topological Field: '<bound method FeatureStructure.value of custom_syntaxdot_topofield(xmiID=636, FieldValue='null', source=None, begin=72, end=77, type=Type(name=custom.syntaxdot.topofield))>'\n",
      "\n",
      "Sample Stages:\n",
      "Stage: '<bound method FeatureStructure.value of org_dakoda_Stage(xmiID=3, ctokref='Undef', coords='5_5', hybridlayer=None, name='SVO', begin=321, end=326, type=Type(name=org.dakoda.Stage))>'\n",
      "Stage: '<bound method FeatureStructure.value of org_dakoda_Stage(xmiID=4, ctokref='Undef', coords='5_17', hybridlayer=None, name='VEND', begin=388, end=394, type=Type(name=org.dakoda.Stage))>'\n",
      "Stage: '<bound method FeatureStructure.value of org_dakoda_Stage(xmiID=5, ctokref='Undef', coords='6_4', hybridlayer=None, name='INV', begin=410, end=418, type=Type(name=org.dakoda.Stage))>'\n",
      "Stage: '<bound method FeatureStructure.value of org_dakoda_Stage(xmiID=6, ctokref='Undef', coords='7_2', hybridlayer=None, name='SVO', begin=465, end=469, type=Type(name=org.dakoda.Stage))>'\n",
      "Stage: '<bound method FeatureStructure.value of org_dakoda_Stage(xmiID=7, ctokref='Undef', coords='8_6', hybridlayer=None, name='SVO', begin=544, end=551, type=Type(name=org.dakoda.Stage))>'\n"
     ]
    }
   ],
   "source": [
    "def extract_and_display_annotations(view_cas):\n",
    "    print(\"Sample Lemmas:\")\n",
    "    lemmas = view_cas.select('de.tudarmstadt.ukp.dkpro.core.api.segmentation.type.Lemma')\n",
    "    for lemma in list(lemmas)[:10]:\n",
    "        print(f\"Text span: '{view_cas.sofa_string[lemma.begin:lemma.end]}', Lemma: '{lemma.value}'\")\n",
    "\n",
    "    print(\"\\nSample Dependency Relations (UDependency):\")\n",
    "    deps = list(view_cas.select('org.dakoda.syntax.UDependency'))\n",
    "    for dep in deps[:10]:\n",
    "        label = getattr(dep, 'DependencyType', 'N/A')\n",
    "        gov = getattr(dep, 'Governor', None)\n",
    "        depd = getattr(dep, 'Dependent', None)\n",
    "\n",
    "        # Get governor covered text span\n",
    "        if gov:\n",
    "            gov_text = gov.get_covered_text() if hasattr(gov, 'get_covered_text') else str(gov)\n",
    "        else:\n",
    "            gov_text = \"N/A\"\n",
    "\n",
    "        # Get dependent covered text span\n",
    "        if depd:\n",
    "            dep_text = depd.get_covered_text() if hasattr(depd, 'get_covered_text') else str(depd)\n",
    "        else:\n",
    "            dep_text = \"N/A\"\n",
    "\n",
    "        print(f\"Dependency: '{label}', Governor text: '{gov_text}', Dependent text: '{dep_text}'\")\n",
    "\n",
    "    print(\"\\nSample Topological Fields:\")\n",
    "    topo_fields = view_cas.select('custom.syntaxdot.topofield')\n",
    "    for tf in list(topo_fields)[:10]:\n",
    "        print(f\"Topological Field: '{tf.value}'\")\n",
    "\n",
    "    print(\"\\nSample Stages:\")\n",
    "    stages = view_cas.select('org.dakoda.Stage')\n",
    "    for stage in list(stages)[:5]:\n",
    "        try:\n",
    "            val = stage.value('value')  # Corrected here\n",
    "        except Exception as e:\n",
    "            val = f\"<Error getting value: {e}>\"\n",
    "        print(f\"Stage: '{val}'\")\n",
    "\n",
    "# Run the function\n",
    "extract_and_display_annotations(view_cas)\n"
   ]
  },
  {
   "cell_type": "markdown",
   "id": "d01a7915",
   "metadata": {},
   "source": [
    "## Compare Learner Text with Target Hypothesis Views\n",
    "\n",
    "The learner corpora provide multiple annotation views:\n",
    "\n",
    "- **`ctok`**: The original learner-produced text with tokens and annotations  \n",
    "- **Target Hypothesis (TH) views** like `transgec_th1`, `mixtral_th1` etc., representing automatic \"corrected\" or target forms of the learner's text\n",
    "\n",
    "In this step, we will:\n",
    "- Load both learner and target hypothesis views from the same XMI file  \n",
    "- Explore differences in token counts  \n",
    "- Investigate token alignments using `org.dakoda.crosslayermap` annotations  \n",
    "- Understand how tokens correspond across views\n"
   ]
  },
  {
   "cell_type": "code",
   "execution_count": 8,
   "id": "2214a057",
   "metadata": {},
   "outputs": [],
   "source": [
    "def compare_learner_and_th_views(xmi_file, typesystem_path, learner_view='ctok', th_view='transgec_th1'):\n",
    "    with open(typesystem_path, 'rb') as f:\n",
    "        typesystem = cassis.load_typesystem(f)\n",
    "    with open(xmi_file, 'rb') as f:\n",
    "        cas = cassis.load_cas_from_xmi(f, typesystem=typesystem)\n",
    "    \n",
    "    views = [sofa.sofaID for sofa in cas.sofas]\n",
    "    if learner_view not in views or th_view not in views:\n",
    "        raise ValueError(f\"One or both views {learner_view}, {th_view} not found in XMI.\")\n",
    "    \n",
    "    learner_cas = cas.get_view(learner_view)\n",
    "    th_cas = cas.get_view(th_view)\n",
    "    \n",
    "    # Token counts\n",
    "    token_type = typesystem.get_type('de.tudarmstadt.ukp.dkpro.core.api.segmentation.type.Token')\n",
    "    learner_tokens = list(learner_cas.select(token_type.name))\n",
    "    th_tokens = list(th_cas.select(token_type.name))\n",
    "    \n",
    "    print(f\"Tokens in learner view '{learner_view}': {len(learner_tokens)}\")\n",
    "    print(f\"Tokens in target hypothesis view '{th_view}': {len(th_tokens)}\")\n",
    "    \n",
    "    # Cross-layer mappings\n",
    "    crossmap_type = typesystem.get_type('org.dakoda.crosslayermap')\n",
    "    cross_maps = list(th_cas.select(crossmap_type.name))\n",
    "    print(f\"Number of cross-layer token mappings in TH view: {len(cross_maps)}\")\n",
    "    \n",
    "    # Show example cross-layer mappings\n",
    "    print(\"\\nExample cross-layer token mappings (TH token span => learner token):\")\n",
    "    for i, cm in enumerate(cross_maps[:10]):\n",
    "        print(f\"TH token span: ({cm.begin}, {cm.end}), refers to learner token index: {cm.index}, sentence nth: {cm.nth}\")\n"
   ]
  },
  {
   "cell_type": "code",
   "execution_count": 9,
   "id": "f38a1b5e",
   "metadata": {},
   "outputs": [
    {
     "name": "stdout",
     "output_type": "stream",
     "text": [
      "Tokens in learner view 'ctok': 198\n",
      "Tokens in target hypothesis view 'transgec_th1': 199\n",
      "Number of cross-layer token mappings in TH view: 199\n",
      "\n",
      "Example cross-layer token mappings (TH token span => learner token):\n",
      "TH token span: (0, 15), refers to learner token index: 2_1, sentence nth: 1\n",
      "TH token span: (16, 19), refers to learner token index: 2_2, sentence nth: 2\n",
      "TH token span: (20, 28), refers to learner token index: 2_3, sentence nth: 3\n",
      "TH token span: (29, 30), refers to learner token index: 2_4, sentence nth: 4\n",
      "TH token span: (31, 45), refers to learner token index: 2_5, sentence nth: 5\n",
      "TH token span: (46, 47), refers to learner token index: 2_6, sentence nth: 6\n",
      "TH token span: (48, 51), refers to learner token index: 2_7, sentence nth: 7\n",
      "TH token span: (52, 53), refers to learner token index: 2_8, sentence nth: 8\n",
      "TH token span: (54, 59), refers to learner token index: 2_9, sentence nth: 9\n",
      "TH token span: (60, 61), refers to learner token index: 2_10, sentence nth: 10\n"
     ]
    }
   ],
   "source": [
    "example_file = r\"data\\CDLK\\learner_xmi\\201006ZW063.xmi\"\n",
    "compare_learner_and_th_views(example_file, TYPESYSTEM_PATH)\n"
   ]
  },
  {
   "cell_type": "markdown",
   "id": "6ecdfc0a",
   "metadata": {},
   "source": [
    "## Flexible View Selection and Visualization\n",
    "\n",
    "Learner corpora contain multiple annotation views (e.g., `ctok`, `transgec_th1`, `spacy_ctok`, etc.).\n",
    "\n",
    "In this step, you will select any view dynamically and visualize annotations in that view.\n",
    "\n",
    "This allows exploration of different parser outputs and corrected target hypotheses.\n"
   ]
  },
  {
   "cell_type": "code",
   "execution_count": 10,
   "id": "39800805",
   "metadata": {},
   "outputs": [
    {
     "name": "stdout",
     "output_type": "stream",
     "text": [
      "Available views: ['_InitialView', 'ctok', 'ctok_linbomb', 'mixtral_th1', 'transgec_th1', 'mbartgec_th1', 'spacy_ctok', 'spacy_ctok_linbomb', 'spacy_mixtral_th1', 'spacy_transgec_th1', 'spacy_mbartgec_th1']\n"
     ]
    },
    {
     "data": {
      "application/vnd.jupyter.widget-view+json": {
       "model_id": "671cc976e9d74e39bd7ef0a01fcccabd",
       "version_major": 2,
       "version_minor": 0
      },
      "text/plain": [
       "interactive(children=(Dropdown(description='View:', index=1, options=('_InitialView', 'ctok', 'ctok_linbomb', …"
      ]
     },
     "metadata": {},
     "output_type": "display_data"
    },
    {
     "data": {
      "application/vnd.jupyter.widget-view+json": {
       "model_id": "dcf063ec707242cba6a417125689bf91",
       "version_major": 2,
       "version_minor": 0
      },
      "text/plain": [
       "Output()"
      ]
     },
     "metadata": {},
     "output_type": "display_data"
    }
   ],
   "source": [
    "# List available views in the loaded CAS\n",
    "available_views = [sofa.sofaID for sofa in cas.sofas]\n",
    "print(\"Available views:\", available_views)\n",
    "\n",
    "view_selector = widgets.Dropdown(\n",
    "    options=available_views,\n",
    "    value='ctok',\n",
    "    description='View:',\n",
    ")\n",
    "\n",
    "output = widgets.Output()\n",
    "\n",
    "def display_view_annotations(view_name):\n",
    "    output.clear_output()\n",
    "    view_cas = cas.get_view(view_name)\n",
    "    html = highlight_pos_inline(view_cas)  # reuse your inline POS highlighting function from earlier\n",
    "    with output:\n",
    "        display(HTML(html))\n",
    "        print(f\"Displayed view: {view_name}\")\n",
    "\n",
    "widgets.interact(display_view_annotations, view_name=view_selector)\n",
    "display(output)\n"
   ]
  },
  {
   "cell_type": "markdown",
   "id": "3d64a371",
   "metadata": {},
   "source": [
    "## Side-by-Side Token and POS Comparison\n",
    "\n",
    "Select two views from the same XMI file to compare their tokenization and POS tagging.\n",
    "\n",
    "The table below shows tokens and POS tags from both views side by side for easy comparison.\n"
   ]
  },
  {
   "cell_type": "code",
   "execution_count": 11,
   "id": "65920414",
   "metadata": {},
   "outputs": [
    {
     "data": {
      "application/vnd.jupyter.widget-view+json": {
       "model_id": "f5e83035efdc48e3a8df50d1cd028e55",
       "version_major": 2,
       "version_minor": 0
      },
      "text/plain": [
       "interactive(children=(Dropdown(description='Corpus:', options=('CDLK', 'KLP1'), value='CDLK'), Dropdown(descri…"
      ]
     },
     "metadata": {},
     "output_type": "display_data"
    },
    {
     "data": {
      "application/vnd.jupyter.widget-view+json": {
       "model_id": "b19541324d4040f0b23eab0303730dce",
       "version_major": 2,
       "version_minor": 0
      },
      "text/plain": [
       "VBox(children=(Dropdown(description='Corpus:', options=('CDLK', 'KLP1'), value='CDLK'), Dropdown(description='…"
      ]
     },
     "metadata": {},
     "output_type": "display_data"
    },
    {
     "data": {
      "application/vnd.jupyter.widget-view+json": {
       "model_id": "08e303fcc2db4c579c6d9dba13667fc8",
       "version_major": 2,
       "version_minor": 0
      },
      "text/plain": [
       "Output()"
      ]
     },
     "metadata": {},
     "output_type": "display_data"
    }
   ],
   "source": [
    "import pandas as pd\n",
    "import ipywidgets as widgets\n",
    "from IPython.display import display, HTML\n",
    "\n",
    "# Reuse your existing corpus folder and typesystem path variables\n",
    "# CDLK_FOLDER, KLP1_FOLDER, TYPESYSTEM_PATH\n",
    "\n",
    "def get_tokens_pos(view_cas):\n",
    "    tokens = list(view_cas.select('de.tudarmstadt.ukp.dkpro.core.api.segmentation.type.Token'))\n",
    "    pos_annots = list(view_cas.select('de.tudarmstadt.ukp.dkpro.core.api.lexmorph.type.pos.POS'))\n",
    "    pos_dict = {(pos.begin, pos.end): pos.PosValue for pos in pos_annots}\n",
    "\n",
    "    rows = []\n",
    "    for token in tokens:\n",
    "        pos_val = pos_dict.get((token.begin, token.end), \"N/A\")\n",
    "        rows.append({\"Token\": token.get_covered_text(), \"POS\": pos_val})\n",
    "    return pd.DataFrame(rows)\n",
    "\n",
    "def compare_views(xmi_path, typesystem_path, view1_name, view2_name):\n",
    "    with open(typesystem_path, 'rb') as f:\n",
    "        typesystem = cassis.load_typesystem(f)\n",
    "    with open(xmi_path, 'rb') as f:\n",
    "        cas = cassis.load_cas_from_xmi(f, typesystem=typesystem)\n",
    "\n",
    "    views = [sofa.sofaID for sofa in cas.sofas]\n",
    "    if view1_name not in views or view2_name not in views:\n",
    "        print(f\"One or both views not found. Available views: {views}\")\n",
    "        return\n",
    "\n",
    "    view1 = cas.get_view(view1_name)\n",
    "    view2 = cas.get_view(view2_name)\n",
    "\n",
    "    df1 = get_tokens_pos(view1)\n",
    "    df2 = get_tokens_pos(view2)\n",
    "\n",
    "    # Combine side by side with suffixes\n",
    "    combined = pd.concat([df1.add_suffix(f\" ({view1_name})\"), df2.add_suffix(f\" ({view2_name})\")], axis=1)\n",
    "    display(combined)\n",
    "\n",
    "# Widget setup\n",
    "\n",
    "corpus_folders = {\n",
    "    'CDLK': CDLK_FOLDER,\n",
    "    'KLP1': KLP1_FOLDER\n",
    "}\n",
    "\n",
    "def get_files_for_corpus(corpus):\n",
    "    folder = corpus_folders[corpus]\n",
    "    return sorted([f for f in os.listdir(folder) if f.endswith('.xmi')])\n",
    "\n",
    "corpus_selector = widgets.Dropdown(options=list(corpus_folders.keys()), value='CDLK', description='Corpus:')\n",
    "file_selector = widgets.Dropdown(description='File:', options=get_files_for_corpus(corpus_selector.value))\n",
    "view_selector_1 = widgets.Dropdown(description='View 1:', options=[])\n",
    "view_selector_2 = widgets.Dropdown(description='View 2:', options=[])\n",
    "\n",
    "output = widgets.Output()\n",
    "\n",
    "def update_file_list(change):\n",
    "    files = get_files_for_corpus(change['new'])\n",
    "    file_selector.options = files\n",
    "    file_selector.value = files[0] if files else None\n",
    "\n",
    "def update_view_options(*args):\n",
    "    if file_selector.value is None:\n",
    "        view_selector_1.options = []\n",
    "        view_selector_2.options = []\n",
    "        return\n",
    "    xmi_path = os.path.join(corpus_folders[corpus_selector.value], file_selector.value)\n",
    "    with open(TYPESYSTEM_PATH, 'rb') as f:\n",
    "        typesystem = cassis.load_typesystem(f)\n",
    "    with open(xmi_path, 'rb') as f:\n",
    "        cas = cassis.load_cas_from_xmi(f, typesystem=typesystem)\n",
    "    views = [sofa.sofaID for sofa in cas.sofas]\n",
    "    view_selector_1.options = views\n",
    "    view_selector_2.options = views\n",
    "    if len(views) >= 2:\n",
    "        view_selector_1.value = views[0]\n",
    "        view_selector_2.value = views[1]\n",
    "    elif len(views) == 1:\n",
    "        view_selector_1.value = views[0]\n",
    "        view_selector_2.value = views[0]\n",
    "\n",
    "def compare_and_display(corpus, filename, view1, view2):\n",
    "    output.clear_output()\n",
    "    if None in [corpus, filename, view1, view2]:\n",
    "        return\n",
    "    xmi_path = os.path.join(corpus_folders[corpus], filename)\n",
    "    with output:\n",
    "        try:\n",
    "            compare_views(xmi_path, TYPESYSTEM_PATH, view1, view2)\n",
    "        except Exception as e:\n",
    "            print(f\"Error: {e}\")\n",
    "\n",
    "# Setup observers to update widgets dynamically\n",
    "corpus_selector.observe(update_file_list, names='value')\n",
    "file_selector.observe(update_view_options, names='value')\n",
    "\n",
    "update_file_list({'new': corpus_selector.value})\n",
    "\n",
    "# Display interactive widgets and output\n",
    "ui = widgets.VBox([corpus_selector, file_selector, view_selector_1, view_selector_2])\n",
    "widgets.interact(compare_and_display, corpus=corpus_selector, filename=file_selector, view1=view_selector_1, view2=view_selector_2)\n",
    "display(ui, output)\n"
   ]
  },
  {
   "cell_type": "markdown",
   "id": "102ba2e2",
   "metadata": {},
   "source": [
    "## Visualize Dependency Relations in a Selected View\n",
    "\n",
    "Dependency relations represent syntactic links between words, such as subject, object, etc.\n",
    "\n",
    "In this step, we'll extract dependency annotations from a selected view and display sample governor-dependent relations and their labels.\n"
   ]
  },
  {
   "cell_type": "code",
   "execution_count": 12,
   "id": "0ddaab87",
   "metadata": {},
   "outputs": [
    {
     "name": "stdout",
     "output_type": "stream",
     "text": [
      "Total org.dakoda.syntax.UDependency annotations found: 198\n",
      "Showing first 10 dependency relations:\n",
      "\n",
      "Dependency: 'punct', Governor: 'bechreibt', Dependent: '.'\n",
      "Dependency: 'root', Governor: 'bechreibt', Dependent: 'bechreibt'\n",
      "Dependency: 'root', Governor: '<DF-8-47.74><TM-2>', Dependent: '<DF-8-47.74><TM-2>'\n",
      "Dependency: 'punct', Governor: 'Jugendherberge', Dependent: '“'\n",
      "Dependency: 'amod', Governor: 'Person', Dependent: 'unbekannten'\n",
      "Dependency: 'det', Governor: 'Artikel', Dependent: 'des'\n",
      "Dependency: 'det', Governor: 'Person', Dependent: 'ein'\n",
      "Dependency: 'punct', Governor: 'Zusammenfassung', Dependent: '‘'\n",
      "Dependency: 'nmod', Governor: 'Hotel', Dependent: 'Leute'\n",
      "Dependency: 'amod', Governor: 'Leute', Dependent: 'junge'\n"
     ]
    }
   ],
   "source": [
    "def extract_dependency_relations_fixed(view_cas, dep_type='org.dakoda.syntax.UDependency', max_examples=10):\n",
    "    deps = list(view_cas.select(dep_type))\n",
    "    print(f\"Total {dep_type} annotations found: {len(deps)}\")\n",
    "    print(f\"Showing first {max_examples} dependency relations:\\n\")\n",
    "\n",
    "    for dep in deps[:max_examples]:\n",
    "        label = getattr(dep, 'DependencyType', \n",
    "                        getattr(dep, 'dep', 'N/A'))  # Try common attribute names\n",
    "        \n",
    "        gov_text = \"N/A\"\n",
    "        dep_text = \"N/A\"\n",
    "\n",
    "        try:\n",
    "            # Try govBegin/govEnd span\n",
    "            if hasattr(dep, 'govBegin') and hasattr(dep, 'govEnd'):\n",
    "                gov_text = view_cas.sofa_string[dep.govBegin:dep.govEnd]\n",
    "            # Else try Governor feature with get_covered_text method\n",
    "            elif hasattr(dep, 'Governor') and dep.Governor is not None:\n",
    "                gov_text = dep.Governor.get_covered_text()\n",
    "        except Exception as e:\n",
    "            gov_text = f\"Error: {e}\"\n",
    "\n",
    "        try:\n",
    "            # Try depBegin/depEnd span\n",
    "            if hasattr(dep, 'depBegin') and hasattr(dep, 'depEnd'):\n",
    "                dep_text = view_cas.sofa_string[dep.depBegin:dep.depEnd]\n",
    "            # Else try Dependent feature with get_covered_text method\n",
    "            elif hasattr(dep, 'Dependent') and dep.Dependent is not None:\n",
    "                dep_text = dep.Dependent.get_covered_text()\n",
    "        except Exception as e:\n",
    "            dep_text = f\"Error: {e}\"\n",
    "\n",
    "        print(f\"Dependency: '{label}', Governor: '{gov_text}', Dependent: '{dep_text}'\")\n",
    "\n",
    "# Example usage\n",
    "view_name = 'ctok'\n",
    "view_cas = cas.get_view(view_name)\n",
    "extract_dependency_relations_fixed(view_cas)\n"
   ]
  },
  {
   "cell_type": "markdown",
   "id": "d305e856",
   "metadata": {},
   "source": [
    "## Interactive Dependency Relation Explorer\n",
    "\n",
    "Select corpus, file, and annotation view below to explore syntactic dependencies interactively.\n",
    "\n",
    "You can also specify how many dependency relations to display.\n"
   ]
  },
  {
   "cell_type": "code",
   "execution_count": 13,
   "id": "a63a8c58",
   "metadata": {},
   "outputs": [
    {
     "data": {
      "application/vnd.jupyter.widget-view+json": {
       "model_id": "0ccdb204da6d42e3a2c35b1750d59458",
       "version_major": 2,
       "version_minor": 0
      },
      "text/plain": [
       "VBox(children=(Dropdown(description='Corpus:', options=('CDLK', 'KLP1'), value='CDLK'), Dropdown(description='…"
      ]
     },
     "metadata": {},
     "output_type": "display_data"
    },
    {
     "data": {
      "application/vnd.jupyter.widget-view+json": {
       "model_id": "39c41d7d9ef24da29a3b381a2e668ae3",
       "version_major": 2,
       "version_minor": 0
      },
      "text/plain": [
       "Output()"
      ]
     },
     "metadata": {},
     "output_type": "display_data"
    },
    {
     "data": {
      "application/vnd.jupyter.widget-view+json": {
       "model_id": "e7e3d45e57534d03a7b5af0a780e59d4",
       "version_major": 2,
       "version_minor": 0
      },
      "text/plain": [
       "interactive(children=(Dropdown(description='Corpus:', options=('CDLK', 'KLP1'), value='CDLK'), Dropdown(descri…"
      ]
     },
     "metadata": {},
     "output_type": "display_data"
    },
    {
     "data": {
      "text/plain": [
       "<function __main__.display_dependencies(corpus, filename, view_name, max_deps)>"
      ]
     },
     "execution_count": 13,
     "metadata": {},
     "output_type": "execute_result"
    }
   ],
   "source": [
    "import ipywidgets as widgets\n",
    "from IPython.display import display, clear_output\n",
    "\n",
    "# Corpus folders (reuse your paths)\n",
    "corpus_folders = {\n",
    "    'CDLK': CDLK_FOLDER,\n",
    "    'KLP1': KLP1_FOLDER\n",
    "}\n",
    "\n",
    "# Function to get available views in the selected file\n",
    "def get_views(xmi_path, typesystem_path):\n",
    "    with open(typesystem_path, 'rb') as f:\n",
    "        typesystem = cassis.load_typesystem(f)\n",
    "    with open(xmi_path, 'rb') as f:\n",
    "        cas = cassis.load_cas_from_xmi(f, typesystem=typesystem)\n",
    "    return [sofa.sofaID for sofa in cas.sofas]\n",
    "\n",
    "# Widget definitions\n",
    "corpus_selector = widgets.Dropdown(options=list(corpus_folders.keys()), description=\"Corpus:\")\n",
    "file_selector = widgets.Dropdown(description=\"File:\")\n",
    "view_selector = widgets.Dropdown(description=\"View:\")\n",
    "num_deps_selector = widgets.IntSlider(value=10, min=1, max=50, step=1, description='Max Deps:')\n",
    "\n",
    "output = widgets.Output()\n",
    "\n",
    "# Update file list based on corpus\n",
    "def update_files(change):\n",
    "    folder = corpus_folders[change['new']]\n",
    "    files = sorted([f for f in os.listdir(folder) if f.endswith('.xmi')])\n",
    "    file_selector.options = files\n",
    "    if files:\n",
    "        file_selector.value = files[0]\n",
    "\n",
    "# Update views based on selected file\n",
    "def update_views(change):\n",
    "    if change['new'] is None:\n",
    "        view_selector.options = []\n",
    "        return\n",
    "    corpus = corpus_selector.value\n",
    "    folder = corpus_folders[corpus]\n",
    "    xmi_path = os.path.join(folder, change['new'])\n",
    "    try:\n",
    "        views = get_views(xmi_path, TYPESYSTEM_PATH)\n",
    "        view_selector.options = views\n",
    "        if views:\n",
    "            view_selector.value = views[0]\n",
    "    except Exception as e:\n",
    "        view_selector.options = []\n",
    "        with output:\n",
    "            clear_output()\n",
    "            print(f\"Error loading views: {e}\")\n",
    "\n",
    "# Display dependencies based on selection\n",
    "def display_dependencies(corpus, filename, view_name, max_deps):\n",
    "    output.clear_output()\n",
    "    if None in [corpus, filename, view_name]:\n",
    "        return\n",
    "    folder = corpus_folders[corpus]\n",
    "    xmi_path = os.path.join(folder, filename)\n",
    "    with output:\n",
    "        try:\n",
    "            with open(TYPESYSTEM_PATH, 'rb') as f:\n",
    "                typesystem = cassis.load_typesystem(f)\n",
    "            with open(xmi_path, 'rb') as f:\n",
    "                cas = cassis.load_cas_from_xmi(f, typesystem=typesystem)\n",
    "            view_cas = cas.get_view(view_name)\n",
    "\n",
    "            # Reuse extraction function\n",
    "            extract_dependency_relations_fixed(view_cas, max_examples=max_deps)\n",
    "        except Exception as e:\n",
    "            print(f\"Error: {e}\")\n",
    "\n",
    "# Observers\n",
    "corpus_selector.observe(update_files, names='value')\n",
    "file_selector.observe(update_views, names='value')\n",
    "\n",
    "update_files({'new': corpus_selector.value})\n",
    "\n",
    "# Display the widgets and output\n",
    "ui = widgets.VBox([corpus_selector, file_selector, view_selector, num_deps_selector])\n",
    "display(ui, output)\n",
    "\n",
    "# Interactive linkage\n",
    "widgets.interact(display_dependencies,\n",
    "                 corpus=corpus_selector,\n",
    "                 filename=file_selector,\n",
    "                 view_name=view_selector,\n",
    "                 max_deps=num_deps_selector)\n"
   ]
  },
  {
   "cell_type": "markdown",
   "id": "d7bad65f",
   "metadata": {},
   "source": [
    "# Summary of Annotation Exploration and Visualization\n",
    "\n",
    "In this notebook, we have completed the following key tasks to explore and visualize learner corpora annotations:\n",
    "\n",
    "1. **Loaded learner corpora XMI files with the correct typesystem.**  \n",
    "   - Demonstrated how to load and access multiple annotation views within a CAS.\n",
    "\n",
    "2. **Listed all annotation types present in a corpus view along with their counts.**  \n",
    "   - Provided insight into the variety and distribution of linguistic and learner-specific annotations.\n",
    "\n",
    "3. **Extracted and displayed key annotations including:**  \n",
    "   - Lemmas (base forms of words)  \n",
    "   - Dependency relations (syntactic links between tokens)  \n",
    "   - Topological fields (sentence structure info)  \n",
    "   - Annotation stages\n",
    "\n",
    "4. **Compared learner text (`ctok`) with target hypothesis views (`transgec_th1`)**  \n",
    "   - Showed token count differences and demonstrated cross-layer token alignment mappings.\n",
    "\n",
    "5. **Implemented flexible view selection with dynamic annotation visualization.**  \n",
    "   - Allowed users to switch between different corpus views and visualize POS annotations inline with token color highlighting.\n",
    "\n",
    "6. **Created an interactive POS highlighting widget**  \n",
    "   - Enabled corpus and file selection with inline token text highlighted by part-of-speech tags, including a clear legend.\n",
    "\n",
    "7. **Built an interactive dependency relation explorer**  \n",
    "   - Users can select corpus, file, view, and number of dependencies to display detailed dependency relations with governor and dependent tokens.\n",
    "\n",
    "---\n",
    "\n",
    "This notebook provides a foundation for in-depth annotation analysis and visualization, paving the way for further linguistic and learner-specific research.\n",
    "\n",
    "Next steps could include interactive filtering, dependency graph visualization, or learner error analysis.\n",
    "\n"
   ]
  }
 ],
 "metadata": {
  "kernelspec": {
   "display_name": "Python 3",
   "language": "python",
   "name": "python3"
  },
  "language_info": {
   "codemirror_mode": {
    "name": "ipython",
    "version": 3
   },
   "file_extension": ".py",
   "mimetype": "text/x-python",
   "name": "python",
   "nbconvert_exporter": "python",
   "pygments_lexer": "ipython3",
   "version": "3.13.1"
  }
 },
 "nbformat": 4,
 "nbformat_minor": 5
}
