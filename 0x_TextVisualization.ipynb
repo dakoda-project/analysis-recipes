{
 "cells": [
  {
   "cell_type": "markdown",
   "id": "3824bde6",
   "metadata": {},
   "source": [
    "# Text Visualization"
   ]
  },
  {
   "cell_type": "code",
   "execution_count": null,
   "id": "b560fc80",
   "metadata": {},
   "outputs": [],
   "source": [
    "from dakoda.corpus import DakodaCorpus\n",
    "from cas_visualizer.visualizer import SpacySpanVisualiser, VisualisationConfig\n",
    "from IPython.display import display, HTML"
   ]
  },
  {
   "cell_type": "code",
   "execution_count": null,
   "id": "a3a9fbb8",
   "metadata": {},
   "outputs": [
    {
     "data": {
      "text/html": [
       "\n",
       "<div class=\"entities\" style=\"line-height: 2.5; direction: ltr\">Hallo Willkommen zu meinem Vortrag über Social Media . Viele Jugendliche \n",
       "<mark class=\"entity\" style=\"background: lightgreen; padding: 0.45em 0.6em; margin: 0 0.25em; line-height: 1; border-radius: 0.35em;\">\n",
       "    brauchen\n",
       "    <span style=\"font-size: 0.8em; font-weight: bold; line-height: 1; border-radius: 0.35em; vertical-align: middle; margin-left: 0.5rem\">STAGE</span>\n",
       "</mark>\n",
       " heutzutage Plattformen wie , Instagram , Snapchat , Facebook . . . Es \n",
       "<mark class=\"entity\" style=\"background: lightgreen; padding: 0.45em 0.6em; margin: 0 0.25em; line-height: 1; border-radius: 0.35em;\">\n",
       "    ist\n",
       "    <span style=\"font-size: 0.8em; font-weight: bold; line-height: 1; border-radius: 0.35em; vertical-align: middle; margin-left: 0.5rem\">STAGE</span>\n",
       "</mark>\n",
       " sehr praktisch um sich mit Freunden zu unterhalten im Kontakt zu bleiben . Jedoch \n",
       "<mark class=\"entity\" style=\"background: lightgreen; padding: 0.45em 0.6em; margin: 0 0.25em; line-height: 1; border-radius: 0.35em;\">\n",
       "    gibt\n",
       "    <span style=\"font-size: 0.8em; font-weight: bold; line-height: 1; border-radius: 0.35em; vertical-align: middle; margin-left: 0.5rem\">STAGE</span>\n",
       "</mark>\n",
       " es viele Risiken , z.b. Nacktbilder , hacking , Cyber Mobbing . . .</div>\n"
      ],
      "text/plain": [
       "<IPython.core.display.HTML object>"
      ]
     },
     "metadata": {},
     "output_type": "display_data"
    }
   ],
   "source": [
    "wtld  = DakodaCorpus(\"data/WTLD\")\n",
    "doc = wtld.random_doc()\n",
    "view_cas = doc.get_view(\"ctok\")\n",
    "\n",
    "cfg = VisualisationConfig.from_string('org.dakoda.Stage/name')\n",
    "spacy_span_vis = SpacySpanVisualiser(view_cas, [cfg])\n",
    "\n",
    "spacy_span_vis.set_selected_annotations_to_types({'STAGE': \"org.dakoda.Stage\"})\n",
    "spacy_span_vis.set_annotations_to_colors({'STAGE': 'lightgreen'})\n",
    "spacy_span_vis.set_span_type(SpacySpanVisualiser.SPAN_STYLE_HIGHLIGHTING)\n",
    "\n",
    "html = spacy_span_vis.visualise()\n",
    "display(HTML(html))\n"
   ]
  }
 ],
 "metadata": {
  "kernelspec": {
   "display_name": "dashboard-py3.11",
   "language": "python",
   "name": "python3"
  },
  "language_info": {
   "codemirror_mode": {
    "name": "ipython",
    "version": 3
   },
   "file_extension": ".py",
   "mimetype": "text/x-python",
   "name": "python",
   "nbconvert_exporter": "python",
   "pygments_lexer": "ipython3",
   "version": "3.11.10"
  }
 },
 "nbformat": 4,
 "nbformat_minor": 5
}
