{
 "cells": [
  {
   "cell_type": "markdown",
   "id": "3824bde6",
   "metadata": {},
   "source": [
    "# Belege\n",
    "\n",
    "Filtern und einzelne Belege anzeigen"
   ]
  },
  {
   "cell_type": "code",
   "execution_count": 2,
   "id": "760632a8",
   "metadata": {},
   "outputs": [
    {
     "name": "stdout",
     "output_type": "stream",
     "text": [
      "Corpus DaF contains 544 documents\n"
     ]
    }
   ],
   "source": [
    "from dakoda.corpus import DakodaCorpus\n",
    "from dakoda.query import annotation, contains, count, startswith, value\n",
    "\n",
    "corpus = DakodaCorpus(\"data/swiko_wtld/DaF\")\n",
    "print(f'Corpus {corpus.name} contains {len(corpus)} documents')"
   ]
  },
  {
   "cell_type": "code",
   "execution_count": 3,
   "id": "263f85f5",
   "metadata": {},
   "outputs": [
    {
     "name": "stdout",
     "output_type": "stream",
     "text": [
      "9\n",
      "Facebook , Twitter , Instagram . . .\n",
      "Ich bin nicht .\n",
      "die Katze\n",
      "Ich bin nich gut weil .\n",
      "Ich bin ok .\n",
      "Das ist nicht eine gute Idee .\n",
      "Sozial netz ist benutzen .\n",
      "Nein bitte nein .\n",
      "Am Morgen wir konnen schlafen .\n"
     ]
    }
   ],
   "source": [
    "# documents with no more than 15 tokens\n",
    "q_short_texts = count(annotation(\"Token\"), 'le', 15)  \n",
    "docs = list(corpus[q_short_texts])\n",
    "print(len(docs))\n",
    "for doc in docs:\n",
    "    print(doc.text)"
   ]
  },
  {
   "cell_type": "code",
   "execution_count": 4,
   "id": "ce1ce8c6",
   "metadata": {},
   "outputs": [
    {
     "name": "stdout",
     "output_type": "stream",
     "text": [
      "Ich bin ziemlich einverstanden mit diese Liste , aber nicht für alles . Zum beispiel denke ich dass die Uhr in dem 10 oder 15 Platz sein musst e aber für das computer und das Handy bin ich einverstanden . Eine Sache die im ersten Platz sein musst e ist das Kuli , weil wir brauchen es jeden Tag . Eine andere Sache die in diese Liste in der Mitte sein musst e ist die Kleidung , weil wir tragen sie immer .\n",
      "Mein Lieblings aktivité ist in die Shop gegangen und die zumba getanzen . Ich mag auch sehen TV und computer . Meine Lieblings books ist Indiana Teller und Harry potte ich Liebe Lesen . In nacht ich Lese auch . Ich Liebe arbeiten zu Lerherin . Lerherin zu Science und gimnastics und Geschichte . Ich mag auch arbeiten ins Medcinen . Meine Lieblings Musik ist Pop and Rock etc. . . . Ich höre Fränzozich Musik . Ich höre Keine Deutsh musik . ich mag nicht spider und insecte . Ich Laufe weil eine spider ist in meine schlafen room ist . ich auch mag nicht Lézard .\n",
      "Meine lieblings activité is Ftussball spielen , ich spiele gern mit meine Freunde . Das ist sehr gut ! Meine lieblings Tier ist der Tigre . Der Tiger \" wohnt \" in Africa . Er ist schön und intellegant Meine Hobby sind schwimmen in das schwimbad und in das Meer . Ich mag computer spielen .\n",
      "Hallo ich heisse Antonio Aymon ich bin in die Klasse 10VG2 ich liebe basketball , computerspielen und muscu ich bin 14 jahre und ich wohne in Aigle .\n",
      "Meine lieblingsactivitété sind fussball spielen und computergame online spielen und meine freund treffen . ich möchte eine Maçon Apprentissage machen . Ich habe meine contract für nach die Ende of die schule . if Mein geburtstag ist gestern , ich möchte eine Motocross , eine 125cm3 yz . it is the besser Motocross . ya ich habe eine phobie für die spider , es ist so toll . mit seine 8 feet . für die Nature , ich recycle meine rubbisch , ich gehe mit mein fahrad weil es zu viel umweltprobleme habe .\n",
      "Meine lieblingsmusik ist PNL - Uranus . Wenn ich habe freizeit . Ich spiele computer spielen , und fussball spielen . Ich wünsche ein neues computer . Es war in 2018 . Das ist die Lama .\n",
      "Hallo alles , Ich heisse Pascal und ich will kommt zu deines Klasse . So , ich bin Fünfzehn jahre alt , ich komme aus Madagascar , aber mein Vater kommt aus der Schweiz . Ich mache Fussball und mein Hobby ist computerspiel .\n",
      "Hallo , ich heisse Daniel . Ich bin 15 Jahre alt . Zu meine Hause , ich habe ein Hund und zwei Katze . Meine Sport sind : Fussball spielen , Rad fahren und Skateboard fahren . Ich mag nicht Schule , weil das langweilig ist . Meine Liebliessfach ist Mathe und Geschichte . Wenn ich 16 Jahre habe , nehme ich ein Moto . Meine Hobbys sind computer spielen und Freunde treffen .\n",
      "1 : Das Computer ist eine gute Idee fur das Arbeit . 2 : Die Electrike ist gut fur mein Haus aber wir können tot sein . 3 : Die Flage ist nicht gut das ist teuer . 4 : internet ist für computer und smartphone da ich liebe das . 6 : Die Brille ist nicht praktisch für das sport . 7 : Die Ühr ist sehr gut das ist shön und praktisch , ich liebe mein Ühr . 8 : Das Bus ist nicht teuer das ist gut fur gehen in anderes Land . 9 . Das tisch ist praktisch für Arbeitet . 100 : das Spul ist gut fur essen und trinken . 5 : Das Telefon ist teuer aber das ist gut fur spreche mit einen Freund .\n",
      "ich habe eine ocomputere but internet is very cool und grace a meine andy ich bin ponctuel und sauber . eine ist .\n",
      "Ya ich bin dafür dagegen für computer , das Handy und dan internet er ist sehr important für jeden tag und arbeiten .\n",
      "Ich bin sehr d'accord mit das weil , ich das ist sehr revolutionient finde . Das computer ist nicht wichtiger than electricity .\n",
      "Das ist die Besten inventions weil , sie praktisch fur spielt , lesen reisen , essen sind . Ich bin ok fur die ordung weil , das computer wichtig ist , der Flugzeug ist wichtig für reisen und das Handy ist wichtig für telefonieren oder chatten mit deiner Freunde . Die Kleidung sind ein gutes inventions weil , alle personnes Kleidung haben und die Bleischtifs für schrieben .\n",
      "Für mich das ist correct weil Fur \" exemple \" den computer ist besser als eine Uhr .\n",
      "Das ist gut , weil das die app viel machen ist . Viele leute utilisiert , computer , Energie , flugzeug aber am weniger sind der bus , die Uhrsacher . Am ersten Kann wir haben Autos , weil das wichtig ist , wenn wir im Beruf fahren . Ich finde , dass die order gut ist . Aber ich denkt , dass die Uhrsach nicht am Ende kann ist .\n",
      "der computer ist not zu erste pozision weil internet ist am vierten platz und computer mit nicht internet er fonktionirt nicht . Und Brille ist nicht sehr wichtig das buro nicht sehr wichtig . Es ist eine sehr good idee aber die ordor ist not sehr richtig .\n",
      "Die Liste ist gut weil den computer am ersten platz ist und es ist toll . Der Strom ist gut amden amden((2 ) ) zweiten platz , weil wenn wir haben Keinen Strom wir können nicht den computer fonktionieren machen .\n",
      "Ich finde dass die Handy ist wichtiger dann den computer weil , mit Handy wir alles machen kann und wir haben der immer mit Die Brille sind sehr wichtig Damit wir besser sehen kann . das flugzeug ist nicht sehr wichtig weil , wir mit dem auto spazieren Kann .\n",
      "Weil die inventions sind changes die monde . Ja weil der computer wie hat help . Der floge ist weniger important auch internet . Die ferneseher darf in die 6 position .\n",
      "Wir brauchen das , weil es sehr wichtig ist , es ist nicht aber wir brauchen das . Ich Kann nicht gehen zu Hause mit Keine bus . Ich Kann nicht essen mit Keine ( cuillère ) . Ich finde das sehr richtig . Wir brauchen Strom , damit wir licht haben , und wir brauchen auch computer , damit wir Infos haben .\n",
      "Dieses Inventions sind in die Liste , weil sie alles importent sind . Aber ich denke dass Electricität ist mehr importent than computer und Handy . Aber ich bin ok mit dem Handy . Ich denke dass Autos und Flugzeug must sein in der Liste weil , sie sehr important sind für alle personen .\n"
     ]
    }
   ],
   "source": [
    "q_lemma = annotation(\"Lemma\") & value(\"computer\", \"contains\")\n",
    "docs = list(corpus[q_lemma])\n",
    "for doc in docs:\n",
    "    print(doc.text)"
   ]
  }
 ],
 "metadata": {
  "kernelspec": {
   "display_name": "analsis-recipes-py3.13",
   "language": "python",
   "name": "python3"
  },
  "language_info": {
   "codemirror_mode": {
    "name": "ipython",
    "version": 3
   },
   "file_extension": ".py",
   "mimetype": "text/x-python",
   "name": "python",
   "nbconvert_exporter": "python",
   "pygments_lexer": "ipython3",
   "version": "3.11.10"
  }
 },
 "nbformat": 4,
 "nbformat_minor": 5
}
