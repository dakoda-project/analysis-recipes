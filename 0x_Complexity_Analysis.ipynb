{
 "cells": [
  {
   "cell_type": "markdown",
   "id": "3824bde6",
   "metadata": {},
   "source": [
    "# Linguistische Komplexität"
   ]
  },
  {
   "cell_type": "code",
   "execution_count": null,
   "id": "4a187929",
   "metadata": {},
   "outputs": [
    {
     "name": "stderr",
     "output_type": "stream",
     "text": [
      "/Users/zesch/git/dakoda/analysis-recipes/.venv/lib/python3.11/site-packages/cassis/typesystem.py:656: UserWarning: For type [org.dakoda.learnerannotation] feature with name [value] already exists in parent [de.tudarmstadt.ukp.dkpro.core.api.ner.type.NamedEntity]!\n",
      "  warnings.warn(msg)\n"
     ]
    },
    {
     "name": "stdout",
     "output_type": "stream",
     "text": [
      "Corpus contains 890 CASes\n"
     ]
    }
   ],
   "source": []
  }
 ],
 "metadata": {
  "kernelspec": {
   "display_name": ".venv",
   "language": "python",
   "name": "python3"
  },
  "language_info": {
   "codemirror_mode": {
    "name": "ipython",
    "version": 3
   },
   "file_extension": ".py",
   "mimetype": "text/x-python",
   "name": "python",
   "nbconvert_exporter": "python",
   "pygments_lexer": "ipython3",
   "version": "3.11.10"
  }
 },
 "nbformat": 4,
 "nbformat_minor": 5
}
