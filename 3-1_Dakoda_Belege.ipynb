{
 "cells": [
  {
   "cell_type": "markdown",
   "id": "3824bde6",
   "metadata": {},
   "source": [
    "# Belege\n",
    "\n",
    "Filtern und einzelne Belege anzeigen"
   ]
  },
  {
   "cell_type": "code",
   "execution_count": 2,
   "id": "760632a8",
   "metadata": {},
   "outputs": [],
   "source": [
    "from dakoda.corpus import DakodaCorpus\n",
    "wtld = DakodaCorpus(\"data/WTLD\")"
   ]
  },
  {
   "cell_type": "code",
   "execution_count": 17,
   "id": "263f85f5",
   "metadata": {},
   "outputs": [
    {
     "name": "stdout",
     "output_type": "stream",
     "text": [
      "890\n",
      "0\n"
     ]
    }
   ],
   "source": [
    "from dakoda.query import annotation, count\n",
    "\n",
    "# TODO ein Beispiel wo ähnlich den query tests ein paar Belege extrahiert werden nach linguistischen Kriterien\n",
    "# z.B. alle Verben in Partizip Perfekt (POS Tag VAPP)\n",
    "# alle Verbformen mit Lemma \"gehen\"\n",
    "print(len(list(wtld.docs)))\n",
    "\n",
    "q_short_texts = count(annotation(\"Token\"), 'le', 5)  # documents with no more than 5 tokens\n",
    "docs = list(wtld[q_short_texts])\n",
    "print(len(docs))\n",
    "for doc in docs:\n",
    "    print(doc.text)"
   ]
  }
 ],
 "metadata": {
  "kernelspec": {
   "display_name": "analsis-recipes-py3.13",
   "language": "python",
   "name": "python3"
  },
  "language_info": {
   "codemirror_mode": {
    "name": "ipython",
    "version": 3
   },
   "file_extension": ".py",
   "mimetype": "text/x-python",
   "name": "python",
   "nbconvert_exporter": "python",
   "pygments_lexer": "ipython3",
   "version": "3.11.10"
  }
 },
 "nbformat": 4,
 "nbformat_minor": 5
}
