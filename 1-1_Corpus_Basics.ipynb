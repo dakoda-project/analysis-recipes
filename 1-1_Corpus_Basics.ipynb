{
 "cells": [
  {
   "cell_type": "markdown",
   "id": "3824bde6",
   "metadata": {},
   "source": [
    "# Basics"
   ]
  },
  {
   "cell_type": "code",
   "execution_count": null,
   "id": "4a187929",
   "metadata": {},
   "outputs": [
    {
     "name": "stdout",
     "output_type": "stream",
     "text": [
      "Corpus merlin contains 1033 documents.\n",
      "\n",
      "M. Meier Müllergasse 1 12345 Stadt X International\n",
      "Müller Julia Bahnhofsstr . 1 A Stadt X Armenien AU\n",
      "Michael Meier 1 Zentralplatz 1234. Stadt X Aupairs\n",
      "Eva Meier Schmidt Müllergasse 12 12345 Stadt X Kro\n",
      "Abs. Frau EVA SCHMIDT BAHNHOFSTR , 8 - 12 , 1234 S\n"
     ]
    }
   ],
   "source": [
    "from dakoda.corpus import DakodaCorpus\n",
    "\n",
    "merlin = DakodaCorpus(\"data/merlin\")\n",
    "\n",
    "print(f'Corpus {merlin.name} contains {len(merlin)} documents.\\n')\n",
    "\n",
    "# da wir sehr viele docs haben, nehmen wir nur die ersten 5\n",
    "docs = merlin[:5]\n",
    "for doc in docs:\n",
    "    print(doc.text[:50])  # nur die ersten 50 Zeichen             "
   ]
  },
  {
   "cell_type": "code",
   "execution_count": 2,
   "id": "fd7cabea",
   "metadata": {},
   "outputs": [
    {
     "name": "stdout",
     "output_type": "stream",
     "text": [
      "Corpus ComiGs contains 70 documents.\n",
      "\n",
      "Eine Wespe steht auf die Banane , die liegt im Tel\n",
      "Es ist zeit für Abendessen . Frau Schmöker hat ein\n",
      "Ein Mann und sein Sohn sitzen am Tisch in die Küch\n",
      "Eine Mutter und ihr Mann sind in die Küche mit fri\n",
      "Ein Jung spielt mit einem Ball . Ein Mann geht in \n"
     ]
    }
   ],
   "source": [
    "comigs = DakodaCorpus(\"data/ComiGs\")\n",
    "\n",
    "print('Corpus {} contains {} documents.\\n'.format(comigs.name, len(comigs)))\n",
    "\n",
    "for doc in comigs[:5]:\n",
    "    print(doc.text[:50])  "
   ]
  },
  {
   "cell_type": "markdown",
   "id": "3d7d758f",
   "metadata": {},
   "source": [
    "## Document Metadata"
   ]
  },
  {
   "cell_type": "code",
   "execution_count": 3,
   "id": "6c5119c4",
   "metadata": {},
   "outputs": [
    {
     "name": "stdout",
     "output_type": "stream",
     "text": [
      "111\n",
      "A2\n",
      "ProficiencyLevel.NOT_AVAILABLE\n"
     ]
    }
   ],
   "source": [
    "doc = merlin.random_doc()\n",
    "meta = doc.meta\n",
    "print(meta.text.text_tokenCount)\n",
    "print(meta.text.proficiency.text_proficiency_cefrMax)\n",
    "print(meta.learner.language[0].proficiency.learner_language_proficiency_cTestCefrMax)\n"
   ]
  },
  {
   "cell_type": "markdown",
   "id": "02458ac3",
   "metadata": {},
   "source": [
    "## Working with layers"
   ]
  },
  {
   "cell_type": "code",
   "execution_count": 4,
   "id": "45e4d2ce",
   "metadata": {},
   "outputs": [
    {
     "name": "stdout",
     "output_type": "stream",
     "text": [
      "Manche sagt , dass Deutsch ist die Sprache der Phylosophi oder der Diskutierung . Deutsch wird ja nicht weltweit gesprochen . Aber Deutsch ist die logischste Sprache in der ganzen Welt . Als man Deutsch lernt , kann man lernen , etwas zu kritisieren oder etwas logisch zu erklären . Zur Zeit kommen die Studenten / Studentinen in Deutschland , um zu studieren . Hiermit können wir vermuten , Deutsch besitzt den wichtigen Teil der Wissenschaft . Schön wurde so viele bekannte wissenschaftliche Bücher auf Deutsch geschrieben . Einfach zum Beispiel Faust von Goethe , viele Physichalogie - und Sciencebücher usw. Es ist schon sinvoll , alle diese Bücher ohne Übersetzung zu lesen . Nicht nur beider Wissenschaft . Bei der Wirtschaft wird die Kraft von Deutschland Tagfür Tag größer . In der Börse ist schon viel Euro der Deutschen . Zum Schluss wenn man andere Sprache lernt , kann Deutschkenntnisse große Hilfe sein . Englisch und Deutch haben ähnliche Wörter und Ausdrucken . Somit ist Deutsch nicht nur für den Deutschen wichtig , als auch für anderen auch wichtig und sinnvoll .\n",
      "Manche sagen , dass Deutsch die Sprache der Philosophie oder der Diskussion ist . Deutsch wird ja nicht weltweit gesprochen . Aber Deutsch ist die logischste Sprache in der ganzen Welt . Als man Deutsch lernt , kann man lernen , etwas zu kritisieren oder etwas logisch zu erklären . Zur Zeit kommen die Studenten und Studentinnen nach Deutschland , um zu studieren . Hiermit können wir vermuten , dass Deutsch einen wichtigen Teil der Wissenschaft besitzt . Schön sind so viele bekannte wissenschaftliche Bücher auf Deutsch geschrieben worden . Einfach zum Beispiel Faust von Goethe , viele Physikalische - und Sciencebücher usw. Es ist schon sinnvoll , alle diese Bücher ohne Übersetzung zu lesen . Nicht nur in der Wissenschaft . Bei der Wirtschaft wird die Kraft von Deutschland Tag für Tag größer . An der Börse ist schon viel Euro der Deutschen . Zum Schluss , wenn man eine andere Sprache lernt , können Deutschkenntnisse eine große Hilfe sein . Englisch und Deutsch haben ähnliche Wörter und Ausdrücke . Somit ist Deutsch nicht nur für die Deutschen wichtig , sondern auch für andere Menschen nützlich und sinnvoll .\n"
     ]
    }
   ],
   "source": [
    "doc = merlin.random_doc()\n",
    "print(doc.learner.text)\n",
    "print(doc.target_hypothesis.text)"
   ]
  },
  {
   "cell_type": "code",
   "execution_count": 43,
   "id": "bfa3402f",
   "metadata": {},
   "outputs": [
    {
     "name": "stdout",
     "output_type": "stream",
     "text": [
      "*** \n",
      "--- \n",
      "***************\n",
      "*** 2,7 ****\n",
      "--- 2,8 ----\n",
      "  Meier  Müllergasse  12+ ,  12  -  234***************\n",
      "*** 10,15 ****\n",
      "--- 11,17 ----\n",
      "  Computer-Spezialist  Odenwaldstraße  5+ ,  53119  Bonn  Stadt***************\n",
      "*** 34,40 ****\n",
      "  Interesse  habe  ich! ihre  Anzeige  in  der--- 36,42 ----\n",
      "  Interesse  habe  ich! Ihre  Anzeige  in  der***************\n",
      "*** 43,61 ****\n",
      "  01.07.2010  gelesen  und- ich  interessiere  mich  sehr  dafür! ,! weil! ich  Informatik  studiert! habe! und! ich  muss  sechs  Monate--- 45,61 ----\n",
      "  01.07.2010  gelesen  und  interessiere  mich  sehr  dafür! .! Denn! ich! habe  Informatik  studiert! und  muss  sechs  Monate***************\n",
      "*** 69,79 ****\n",
      "--- 69,81 ----\n",
      "  Für  diese  verantwortungsvolle+ Position  bringe  ich  alle  Voraussetzungen  mit+ :  Ich  habe  5***************\n",
      "*** 96,108 ****\n",
      "  den  Einfluss  des! Elektroniker  auf  das  tägliche  Leben! \"! und  ich  glaube  ,--- 98,110 ----\n",
      "  den  Einfluss  des! Elektronikers  auf  das  tägliche  Leben! .! Und  ich  glaube  ,***************\n",
      "*** 128,134 ****\n",
      "  interessiere  mich  für- die  Fremdsprachen  .  Ich--- 130,135 ----\n",
      "***************\n",
      "*** 137,147 ****\n",
      "  ,  Englisch  und- ich  habe  Grundkenntnisse  in! Franzosisch  .  Ich  bin--- 138,147 ----\n",
      "  ,  Englisch  und  habe  Grundkenntnisse  in! Französisch  .  Ich  bin***************\n",
      "*** 159,181 ****\n",
      "  Leuten  zusammen  und- ich  mag  Teamarbeit  .! Ich  bin! auch! Flexibilität! und! Mobilität  .  Während  des! Studium! habe! ich! schon  bei  einer  Firma--- 159,180 ----\n",
      "  Leuten  zusammen  und  mag  Teamarbeit  .! Zudem  bin! ich! flexibel! und! mobil  .  Während  des! Studiums! habe! ich! bereits  bei  einer  Firma***************\n",
      "*** 190,199 ****\n",
      "  ich  die  Grundkenntnisse! in  Verkauf! kennen! gelernt  .  Während  meiner--- 189,197 ----\n",
      "  ich  die  Grundkenntnisse! im  Verkauf! kennengelernt  .  Während  meiner***************\n",
      "*** 210,223 ****\n",
      "  in  meinem  Studium! koninuierlich  weiterentwickelt  habe  .  Ich  führte! eine! Ertgespräche  mit  den  Kunden--- 208,220 ----\n",
      "  in  meinem  Studium! konsequent  weiterentwickelt  habe  .  Ich  führte! Erstgespräche  mit  den  Kunden***************\n",
      "*** 229,249 ****\n",
      "  Angebote  gekümmert  .! Ich! habe! auch! 3-monatiger! Informatikerkurs  gemacht  .  Am  besten! mächte  ich  8  Stunden  täglich! zß  von  8  bis--- 226,247 ----\n",
      "  Angebote  gekümmert  .! Zudem! habe! ich! einen! 3-monatigen! Informatikkurs  gemacht  .  Am  besten! möchte  ich  8  Stunden  täglich! ,  von  8  bis***************\n",
      "*** 259,265 ****\n",
      "  bin  ich  zu! ihrer  Verfügung  .  Ich--- 257,263 ----\n",
      "  bin  ich  zu! Ihrer  Verfügung  .  Ich***************\n",
      "*** 282,298 ****\n",
      "  bei  einer  Firma- ,- so- berühmt  wie  Computer-Spezialist- ,  lernen  könnte  .  Ab! 10  Juli  2010  könnte--- 280,292 ----\n",
      "  bei  einer  Firma  wie  Computer-Spezialist  lernen  könnte  .  Ab! 10.  Juli  2010  könnte***************\n",
      "*** 309,315 ****\n",
      "  Antwort  von  Ihnen- ,  würde  ich  mich--- 303,308 ----\n",
      "***************\n",
      "*** 319,328 ****\n",
      "--- 312,324 ----\n",
      "  Mit  freundlichen  Grüßen+ ,  Katharina  Meier  Unterlagen  :  Lebenslauf+ ,  Zeugnisse+ ,  Passfoto\n"
     ]
    }
   ],
   "source": [
    "print(doc.text_diff())"
   ]
  },
  {
   "cell_type": "code",
   "execution_count": 9,
   "id": "b6f6bbdf",
   "metadata": {},
   "outputs": [
    {
     "name": "stdout",
     "output_type": "stream",
     "text": [
      "Liebe (0, 5) ADJA\n",
      "Silke (6, 11) NE\n",
      "! (12, 13) $.\n",
      "Ich (14, 17) PPER\n",
      "bedanke (18, 25) VVFIN\n",
      "mich (26, 30) PRF\n",
      "dir (31, 34) PPER\n",
      "für (35, 38) APPR\n",
      "dienen (39, 45) ADJA\n",
      "Brief (46, 51) NN\n"
     ]
    }
   ],
   "source": [
    "for tag in doc.learner.pos_tags[:10]:\n",
    "    print(tag.text, tag.span, tag.value)"
   ]
  }
 ],
 "metadata": {
  "kernelspec": {
   "display_name": "analsis-recipes-py3.11",
   "language": "python",
   "name": "python3"
  },
  "language_info": {
   "codemirror_mode": {
    "name": "ipython",
    "version": 3
   },
   "file_extension": ".py",
   "mimetype": "text/x-python",
   "name": "python",
   "nbconvert_exporter": "python",
   "pygments_lexer": "ipython3",
   "version": "3.11.10"
  }
 },
 "nbformat": 4,
 "nbformat_minor": 5
}
