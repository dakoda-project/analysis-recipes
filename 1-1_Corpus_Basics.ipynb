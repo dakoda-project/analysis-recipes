{
 "cells": [
  {
   "cell_type": "markdown",
   "id": "3824bde6",
   "metadata": {},
   "source": [
    "# Basics"
   ]
  },
  {
   "cell_type": "code",
   "execution_count": 11,
   "id": "75f2f8c0",
   "metadata": {},
   "outputs": [],
   "source": [
    "from dakoda.corpus import DakodaCorpus"
   ]
  },
  {
   "cell_type": "code",
   "execution_count": 2,
   "id": "4a187929",
   "metadata": {},
   "outputs": [
    {
     "name": "stdout",
     "output_type": "stream",
     "text": [
      "Corpus WTLD contains 890 documents\n",
      "Ich gehe am liebsten mit freunden raus . Ich würde\n",
      "Ich möchte einmal Ärztin werden und anderen Mensch\n",
      "Ich beschäftige mich am liebsten mit Mode und soci\n",
      "Ich habe vor später in Richtung Journalismus zu ge\n",
      "Basketball ist nicht nur ein Hobby für mich , es i\n"
     ]
    }
   ],
   "source": [
    "wtld = DakodaCorpus(\"data/WTLD\")\n",
    "\n",
    "print('Corpus {} contains {} documents'.format(wtld.name, len(wtld)))\n",
    "\n",
    "# da wir sehr viele CASes haben, nehmen wir nur die ersten 5\n",
    "docs = wtld[:5]\n",
    "for doc in docs:\n",
    "    print(doc.text[:50])  # nur die ersten 50 Zeichen             "
   ]
  },
  {
   "cell_type": "code",
   "execution_count": 3,
   "id": "fd7cabea",
   "metadata": {},
   "outputs": [
    {
     "name": "stdout",
     "output_type": "stream",
     "text": [
      "Corpus ComiGs contains 70 documents\n",
      "Eine Wespe steht auf die Banane , die liegt im Tel\n",
      "Es ist zeit für Abendessen . Frau Schmöker hat ein\n",
      "Ein Mann und sein Sohn sitzen am Tisch in die Küch\n",
      "Eine Mutter und ihr Mann sind in die Küche mit fri\n",
      "Ein Jung spielt mit einem Ball . Ein Mann geht in \n"
     ]
    }
   ],
   "source": [
    "comigs = DakodaCorpus(\"data/ComiGs\")\n",
    "\n",
    "print('Corpus {} contains {} documents'.format(comigs.name, len(comigs)))\n",
    "\n",
    "# da wir sehr viele CASes haben, nehmen wir nur die ersten 5\n",
    "docs = comigs[:5]\n",
    "for doc in docs:\n",
    "    print(doc.text[:50])  # nur die ersten 50 Zeichen"
   ]
  },
  {
   "cell_type": "markdown",
   "id": "3d7d758f",
   "metadata": {},
   "source": [
    "## Document Metadata"
   ]
  },
  {
   "cell_type": "code",
   "execution_count": 10,
   "id": "6c5119c4",
   "metadata": {},
   "outputs": [
    {
     "name": "stdout",
     "output_type": "stream",
     "text": [
      "62\n"
     ]
    },
    {
     "name": "stderr",
     "output_type": "stream",
     "text": [
      "/Users/zesch/git/dakoda/analysis-recipes/.venv/lib/python3.11/site-packages/xsdata/formats/converter.py:83: ConverterWarning: Failed to convert value `` to one of (<enum 'DkdTrgLang'>,)\n",
      "  warnings.warn(\n",
      "/Users/zesch/git/dakoda/analysis-recipes/.venv/lib/python3.11/site-packages/xsdata/formats/converter.py:83: ConverterWarning: Failed to convert value `['notApplicable']` to one of (<enum 'ProficiencyAssignmentMethod'>,)\n",
      "  warnings.warn(\n"
     ]
    }
   ],
   "source": [
    "doc = wtld.random_doc()\n",
    "meta = doc.meta\n",
    "print(meta.text.text_tokenCount)"
   ]
  },
  {
   "cell_type": "markdown",
   "id": "02458ac3",
   "metadata": {},
   "source": [
    "## Working with layers"
   ]
  },
  {
   "cell_type": "code",
   "execution_count": 5,
   "id": "45e4d2ce",
   "metadata": {},
   "outputs": [
    {
     "name": "stdout",
     "output_type": "stream",
     "text": [
      "Mein Lieblingstier ist der Hund weil sie immer ein treuer Freund bleiben und ständig an deiner Seite stehen . Meine Hobbys sind einerseits draussen meine Zeit in der Natur zu geniessen und arbeiten am Computer zu machen . Mir gefiel unsere reise nach Tunesien weil ich dort viele meiner Verwandten nach langer Zeit wiedergesehen habe . Zuhause trennen wir den Müll voneinander und ich helfe ab und zu bei meinem Hausmeister aus . Mein Lieblingsdessert ist Schokoladen - Fondue weil ich einerseits Früchte sehr mag und Schokolade natürlich auch .\n",
      "Mein Lieblingstier ist der Hund , weil er immer ein treuer Freund bleibt und ständig an meiner Seite steht . Meine Hobbys sind einerseits , draußen meine Zeit in der Natur zu genießen und am Computer zu arbeiten . Mir gefiel unsere Reise nach Tunesien , weil ich dort viele meiner Verwandten nach langer Zeit wiedergesehen habe . Zuhause trennen wir den Müll voneinander und ich helfe ab und zu bei meinem Hausmeister aus . Mein Lieblingsdessert ist Schokoladen-Fondue , weil ich einerseits Früchte sehr mag und Schokolade natürlich auch .\n"
     ]
    }
   ],
   "source": [
    "doc = wtld.random_doc()\n",
    "print(doc.learner.text)\n",
    "print(doc.target_hypothesis.text)"
   ]
  },
  {
   "cell_type": "code",
   "execution_count": 6,
   "id": "bfa3402f",
   "metadata": {},
   "outputs": [
    {
     "name": "stdout",
     "output_type": "stream",
     "text": [
      "*** \n",
      "--- \n",
      "***************\n",
      "*** 3,47 ****\n",
      "  ist  der  Hund  weil! sie  immer  ein  treuer  Freund! bleiben  und  ständig  an! deiner  Seite! stehen  .  Meine  Hobbys  sind  einerseits! draussen  meine  Zeit  in  der  Natur  zu! geniessen  und- arbeiten  am  Computer  zu! machen  .  Mir  gefiel  unsere! reise  nach  Tunesien  weil  ich  dort--- 3,49 ----\n",
      "  ist  der  Hund+ ,  weil! er  immer  ein  treuer  Freund! bleibt  und  ständig  an! meiner  Seite! steht  .  Meine  Hobbys  sind  einerseits! ,! draußen  meine  Zeit  in  der  Natur  zu! genießen  und  am  Computer  zu! arbeiten  .  Mir  gefiel  unsere! Reise  nach  Tunesien+ ,  weil  ich  dort***************\n",
      "*** 74,82 ****\n",
      "  Mein  Lieblingsdessert  ist! Schokoladen! -! Fondue  weil  ich  einerseits--- 76,83 ----\n",
      "  Mein  Lieblingsdessert  ist! Schokoladen-Fondue! ,  weil  ich  einerseits\n"
     ]
    }
   ],
   "source": [
    "print(doc.text_diff())"
   ]
  },
  {
   "cell_type": "code",
   "execution_count": 8,
   "id": "b6f6bbdf",
   "metadata": {},
   "outputs": [
    {
     "name": "stdout",
     "output_type": "stream",
     "text": [
      "Mein (0, 4) PPOSAT\n",
      "Lieblingstier (5, 18) NN\n",
      "ist (19, 22) VAFIN\n",
      "der (23, 26) ART\n",
      "Hund (27, 31) NN\n",
      "weil (32, 36) KOUS\n",
      "sie (37, 40) PPER\n",
      "immer (41, 46) ADV\n",
      "ein (47, 50) ART\n",
      "treuer (51, 57) ADJA\n"
     ]
    }
   ],
   "source": [
    "for tag in doc.learner.pos_tags[:10]:\n",
    "    print(tag.text, tag.span, tag.value)"
   ]
  }
 ],
 "metadata": {
  "kernelspec": {
   "display_name": "analsis-recipes-py3.13",
   "language": "python",
   "name": "python3"
  },
  "language_info": {
   "codemirror_mode": {
    "name": "ipython",
    "version": 3
   },
   "file_extension": ".py",
   "mimetype": "text/x-python",
   "name": "python",
   "nbconvert_exporter": "python",
   "pygments_lexer": "ipython3",
   "version": "3.13.0"
  }
 },
 "nbformat": 4,
 "nbformat_minor": 5
}
