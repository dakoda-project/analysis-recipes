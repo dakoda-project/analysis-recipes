{
 "cells": [
  {
   "cell_type": "markdown",
   "id": "3824bde6",
   "metadata": {},
   "source": [
    "# Filtern - Metadaten\n",
    "\n",
    "Filtern nach Metadaten\n",
    "\n",
    "Wir konvertieren die Metadaten in einen Polars DateFrame. In diesem können wir dann flexibel filtern."
   ]
  },
  {
   "cell_type": "code",
   "execution_count": null,
   "id": "03fb89de",
   "metadata": {},
   "outputs": [],
   "source": [
    "import polars as pl\n",
    "from dakoda.corpus import DakodaCorpus\n",
    "wtld = DakodaCorpus(\"data/WTLD\")\n"
   ]
  },
  {
   "cell_type": "markdown",
   "id": "c378f2b1",
   "metadata": {},
   "source": [
    "## Exportieren\n",
    "\n",
    "Die Metadaten können wir dann auch exportieren."
   ]
  },
  {
   "cell_type": "code",
   "execution_count": null,
   "id": "f383841e",
   "metadata": {},
   "outputs": [],
   "source": [
    "# export metadata\n"
   ]
  },
  {
   "cell_type": "markdown",
   "id": "6fef5ec0",
   "metadata": {},
   "source": [
    "## Metadaten kombinieren\n",
    "\n",
    "Um über mehrere Corpora gleichzeitig filtern zu können, \n",
    "müssen die Metadaten in einem DataFrame zusammengeführt werden.\n"
   ]
  },
  {
   "cell_type": "code",
   "execution_count": null,
   "id": "2009b3c8",
   "metadata": {},
   "outputs": [],
   "source": [
    "wtld = DakodaCorpus(\"data/WTLD\")\n",
    "comigs = DakodaCorpus(\"data/ComiGs\")"
   ]
  }
 ],
 "metadata": {
  "kernelspec": {
   "display_name": "dashboard-py3.11",
   "language": "python",
   "name": "python3"
  },
  "language_info": {
   "codemirror_mode": {
    "name": "ipython",
    "version": 3
   },
   "file_extension": ".py",
   "mimetype": "text/x-python",
   "name": "python",
   "nbconvert_exporter": "python",
   "pygments_lexer": "ipython3",
   "version": "3.11.10"
  }
 },
 "nbformat": 4,
 "nbformat_minor": 5
}
