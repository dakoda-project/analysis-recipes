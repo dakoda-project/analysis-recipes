{
 "cells": [
  {
   "cell_type": "markdown",
   "id": "e289bfa4-16af-4189-b979-a616f3ec7d27",
   "metadata": {
    "panel-layout": {
     "height": 182,
     "visible": true,
     "width": 100
    },
    "slideshow": {
     "slide_type": "slide"
    }
   },
   "source": [
    "# Zugriff auf die Notebooks\n",
    "\n",
    "* Installation  auf [Jupyter-Hub](https://jupyter.dakoda.org) `https://jupyter.dakoda.org`\n",
    "\n",
    "* Besuchen Sie die Seite und folgen Sie dann dem  Link \"Sign up\", um einen Benutzer anzulegen. \n",
    "\n",
    "* Als E-Mail-Adresse kann z.B. auch \"workshop@dakoda.org\" angegeben werden.\n",
    "\n",
    "* Nach Freischaltung kann wieder der Hub unter https://jupyter.dakoda.org aufgerufen werden.\n"
   ]
  },
  {
   "cell_type": "markdown",
   "id": "382c4a56-867e-429c-a109-f0973c85923b",
   "metadata": {
    "panel-layout": {
     "height": 196.422,
     "visible": true,
     "width": 100
    },
    "slideshow": {
     "slide_type": "slide"
    }
   },
   "source": [
    "# Ziele für heute\n",
    "\n",
    "* Überblick über zentrale Konzepte der Python-Programmierung\n",
    "* Fokus auf Aspekte, die für die Arbeit mit den DAKODA-Daten gebraucht werden\n",
    "* Interaktives , häppchenweises Programmieren\n",
    "    * Beispiele und Übungen\n",
    "    * mögliche Lösungen für die Übungen sind verfügbar, aber zunächst versteckt\n",
    "* Sie müssen nicht alles sofort verstehen: die Notebooks bleiben verfügar und Sie können Inhalte später vertiefen.\n",
    "* Das Notebook richtet sich an Personen ohne Vorerfahrungen!\n"
   ]
  },
  {
   "cell_type": "markdown",
   "id": "1bbd1cda",
   "metadata": {
    "panel-layout": {
     "height": 499.828,
     "visible": true,
     "width": 100
    },
    "slideshow": {
     "slide_type": "slide"
    }
   },
   "source": [
    "# Jupyter-Notebooks\n",
    "\n",
    "* Jupyter-Notebook als  digitales Notizbuch\n",
    "    *  Notizen schreiben\n",
    "    * \"Experimente\" durchführen (Code ausführen) und\n",
    "    * Ergebnisse  einsehen können\n",
    "* Man kann fertige Notebooks dann auch in Dokumente umwandeln (siehe Menü: File->Save and Export Notebook As)\n",
    "* Notebooks: Schritt für Schritt arbeiten, kleine Codeabschnitte ausführen und unmittelbar sehen, was passiert.\n",
    "\n",
    "* Herkömmliche Programmierung: zuerst alles schreiben und dann ausführen\n",
    "* Code ist von Dokumentation / Interpretation / Analys getrennt"
   ]
  },
  {
   "cell_type": "markdown",
   "id": "fed9e74e",
   "metadata": {
    "panel-layout": {
     "height": 499.828,
     "visible": true,
     "width": 100
    },
    "slideshow": {
     "slide_type": "slide"
    }
   },
   "source": [
    "# Arten von Zellen \n",
    "\n",
    "* Ein Notizbuch besteht aus **Zellen**\n",
    "    * einzelne Felder für verschiedene Arten von Inhalten\n",
    "    * Textzellen (Markdown): Diese enthalten Erklärungen, Anweisungen und Notizen – genau wie der Text in dieser Zelle.\n",
    "    * Codezellen: Diese enthalten Python-Code, der tatsächlich etwas bewirkt. Ergebnisse werden direkt unter Codezellen angezeigt."
   ]
  },
  {
   "cell_type": "markdown",
   "id": "d268b78ac0f8461d",
   "metadata": {
    "panel-layout": {
     "height": 499.828,
     "visible": true,
     "width": 100
    },
    "slideshow": {
     "slide_type": "slide"
    }
   },
   "source": [
    "# Textformatierung\n",
    "\n",
    "* Die Textzellen erlauben **Markdown**-Formatierung\n",
    "    * [Markdown Cheat sheet](https://github.com/adam-p/markdown-here/wiki/markdown-cheatsheet)\n",
    "\n",
    "* Sie erlauben auch <span style=\"color:red\">html</span>-Formatierung!\n",
    "\n",
    "* Jupyter-Notebooks sind Dokumente mit einem **Inhaltsverzeichnis**! (Unter \"View\" kann man \"Table of Contents\" anzeigen)\n",
    "    * Wenn man in den Textzellen mit Markdown Überschriften setzt , werden diese im Inhaltsverzeichnis angezeigt."
   ]
  },
  {
   "cell_type": "code",
   "execution_count": null,
   "id": "38ea4f3bb2f04867",
   "metadata": {
    "panel-layout": {
     "height": 0,
     "visible": true,
     "width": 100
    },
    "slideshow": {
     "slide_type": "fragment"
    },
    "tags": []
   },
   "outputs": [],
   "source": [
    "print(\"Hallo Welt!\")"
   ]
  },
  {
   "cell_type": "markdown",
   "id": "ab756ef243630885",
   "metadata": {
    "panel-layout": {
     "height": 391.125,
     "visible": true,
     "width": 100
    },
    "slideshow": {
     "slide_type": "slide"
    }
   },
   "source": [
    "# Praktisches zur Benutzung von Notebooks\n",
    "\n",
    "* Zellen ausführen: auf eine Zelle klicken und  `Umschalt + Eingabetaste` drücken. Alternativ per Mausclick.\n",
    "    * Bei Codezellen erscheinen die Ergebnisse darunter in einer Ausgabezelle.\n",
    "    * Bei Textzellen wird die _Formatierung_ entsprechend angezeigt.\n",
    "    * NB: Sie können Ausgabezellen manuell leeren, wenn Sie aufräumen wollen.\n",
    "\n",
    "\n",
    "* Sequenzielles Arbeiten: Fangen  Sie oben an und arbeiten Sie sich nach unten vor.\n",
    "* ⚡ Viele Codezellen bauen auf früheren auf – ähnlich wie bei einem Rezept, bei dem jeder Schritt von den vorherigen abhängt.\n",
    "\n",
    "* Lesen Sie zuerst die Erläuterungen in den Textzellen, bevor Sie die Codezellen ausführen.\n",
    "* Führen Sie die Zellen einzeln aus, beobachten Sie, was passiert, verstehen Sie es und fahren dann mit der nächsten fort.\n",
    "* Experimentieren Sie: versuchen Sie, kleine Änderungen am Code zu machen, um zu sehen, was passiert.\n",
    "\n",
    "* Wenn etwas nicht funktioniert: Versuchen Sie, die darüber liegenden Zellen erneut auszuführen – manchmal muss der Code in der richtigen Reihenfolge ausgeführt werden.\n",
    "* Falls es Fehler gibt oder das Notebook \"hängt\": Sie können das Notebook neu starten und alles erneut ausführen.\n",
    "\n",
    "* NB: das Notebook, das Sie gerade verwenden ist für Sie natürlich veränderbar: Sie können neue Text- und Codezellen einfügen!\n"
   ]
  },
  {
   "cell_type": "code",
   "execution_count": null,
   "id": "810a9ae80eebfac6",
   "metadata": {
    "panel-layout": {
     "height": 0,
     "visible": true,
     "width": 100
    },
    "slideshow": {
     "slide_type": "subslide"
    }
   },
   "outputs": [],
   "source": [
    "x=10*3\n",
    "print(x)"
   ]
  },
  {
   "cell_type": "markdown",
   "id": "48d984731caf33e0",
   "metadata": {
    "panel-layout": {
     "height": 51.1406,
     "visible": true,
     "width": 100
    },
    "slideshow": {
     "slide_type": "subslide"
    }
   },
   "source": [
    "* NB: auch wenn wir in der obigen Zelle den output löschen, ist die Information in der Variable weiterhin im Speicher und die späteren Zellen können auf sie zugreifen."
   ]
  },
  {
   "cell_type": "code",
   "execution_count": null,
   "id": "278e9d44680b9a80",
   "metadata": {
    "ExecuteTime": {
     "end_time": "2025-09-19T13:56:54.779565Z",
     "start_time": "2025-09-19T13:56:54.775993Z"
    },
    "panel-layout": {
     "height": 0,
     "visible": true,
     "width": 100
    },
    "slideshow": {
     "slide_type": "slide"
    }
   },
   "outputs": [],
   "source": [
    "print(x)"
   ]
  },
  {
   "cell_type": "markdown",
   "id": "3005c0889e12442c",
   "metadata": {
    "panel-layout": {
     "height": 358.125,
     "visible": true,
     "width": 100
    },
    "slideshow": {
     "slide_type": "slide"
    }
   },
   "source": [
    "# 'Magische' Befehle\n",
    "* Es gibt eine Reihe von Kommandos , die man in Codezellen ausführen kann, die nicht direkt die Programmausführung betreffen.\n",
    "* Manche der sog. \"magic\" Befehle erlauben einem Zugriff auf das Betriebssystem des Rechners, auf dem das Notebook läuft.\n",
    "    * !pwd - Zeigt das Arbeitsverzeichnis an, in dem man sich befindet.\n",
    "    * !command - führt einen Befehl des OS aus\n",
    "* Andere helfen bei der Fehlersuche oder der Optimierung des Codes.\n",
    "* Z.T. kann man mit ihnen Programme in anderen Programmiersprachen ausführen.\n",
    "\n",
    "Beispiele\n",
    "```python\n",
    "%pwd # = print working directory\n",
    "!ls # = list\n",
    "%load # lädt den Inhalt einer Datei in eine Zelle\n",
    "\n",
    "```\n",
    "\n",
    "* das Ausrufezeichen ! gibt einem Zugriff auf die Kommandozeile des Betriebssystems\n",
    "* das Prozentzeichen % markiert Sonderbefehle, die das Notebook bereithält.\n"
   ]
  },
  {
   "cell_type": "code",
   "execution_count": null,
   "id": "369fb0ab2dc2945a",
   "metadata": {
    "ExecuteTime": {
     "end_time": "2025-09-19T14:14:04.923550Z",
     "start_time": "2025-09-19T14:14:04.918787Z"
    },
    "slideshow": {
     "slide_type": "subslide"
    }
   },
   "outputs": [],
   "source": [
    "!pwd"
   ]
  },
  {
   "cell_type": "code",
   "execution_count": null,
   "id": "519fd8ee2ae6352",
   "metadata": {
    "ExecuteTime": {
     "end_time": "2025-09-19T14:14:05.087710Z",
     "start_time": "2025-09-19T14:14:04.976661Z"
    },
    "slideshow": {
     "slide_type": "subslide"
    }
   },
   "outputs": [],
   "source": [
    "!ls"
   ]
  },
  {
   "cell_type": "code",
   "execution_count": null,
   "id": "a5753bc0-a5b9-4a24-b4bb-1300887b63bc",
   "metadata": {
    "slideshow": {
     "slide_type": "subslide"
    }
   },
   "outputs": [],
   "source": [
    "# %load ./snippets/comment.py\n",
    "# dies ist ein kommentar\n"
   ]
  },
  {
   "cell_type": "markdown",
   "id": "9b9297f6-c258-4335-bef7-d4a3d09e2d39",
   "metadata": {
    "panel-layout": {
     "height": 52.1406,
     "visible": true,
     "width": 100
    },
    "slideshow": {
     "slide_type": "subslide"
    }
   },
   "source": [
    "* Sie können nach dem Ausrufezeichen beliebige Befehle ausführen. Hier z.B. den `echo`-Befehl von Linux, der mit `print` vergleichbar ist."
   ]
  },
  {
   "cell_type": "code",
   "execution_count": null,
   "id": "8084d410-7110-4a2b-917d-db14ed9e63cf",
   "metadata": {
    "slideshow": {
     "slide_type": "subslide"
    }
   },
   "outputs": [],
   "source": [
    "!echo \"allô monde!\""
   ]
  },
  {
   "cell_type": "markdown",
   "id": "238ce4ddccb94fa9",
   "metadata": {
    "panel-layout": {
     "height": 196.422,
     "visible": true,
     "width": 100
    },
    "slideshow": {
     "slide_type": "slide"
    }
   },
   "source": [
    "# Module und Pakete\n",
    "\n",
    "*  **Modul**:  Python-Datei mit Code (Funktionen, Klassen, Variablen), den man in anderen Python-Programmen verwenden kann.\n",
    "    * ~ eine Art Werkzeugkasten\n",
    "    * statt dieselben Werkzeuge immer wieder zu schreiben, erstellt man sie einmal und verwendet sie immer wieder\n",
    "    * generell: am besten wenig Code selber schreiben,  sondern bestehenden Code wiederverwenden\n",
    "* **Paket** ist eine Sammlung verwandter Module  in einem Ordner\n",
    "   * ~  eine Art Werkzeugschrank, der mehrere spezialisierte Werkzeugkästen (Module) für verwandte Aufgaben enthält.\n",
    "   * Beispiel: Das Pandas-Paket besteht aus vielen Modulen zur Datenmanipulation, die alle zusammen zusammengefasst sind, weil sie verwandte Probleme lösen. (Pandas ist ~ programmatisches Excel)\n",
    "\n",
    "\n",
    "\n"
   ]
  },
  {
   "cell_type": "markdown",
   "id": "ca81d27b12f23721",
   "metadata": {
    "panel-layout": {
     "height": 155.562,
     "visible": true,
     "width": 100
    },
    "slideshow": {
     "slide_type": "subslide"
    }
   },
   "source": [
    "* Ein sehr wichtiger magischer Befehl zur Paketinstallation ist `pip`.\n",
    "* Nicht alle Python-Pakete, die es gibt, werden mit der Python-Grundinstallation auch gleich auf Ihrem Rechner installiert.\n",
    "* Die Idee ist, dass wir nur das installieren, was wir auch brauchen.\n",
    "\n",
    "```python3\n",
    "!pip install wikipedia\n",
    "```"
   ]
  },
  {
   "cell_type": "code",
   "execution_count": null,
   "id": "9d463c5bc1aa806a",
   "metadata": {
    "slideshow": {
     "slide_type": "subslide"
    }
   },
   "outputs": [],
   "source": [
    "!pip install wikipedia\n"
   ]
  },
  {
   "cell_type": "markdown",
   "id": "dbe0d06580dcf0b5",
   "metadata": {
    "ExecuteTime": {
     "end_time": "2025-09-19T14:33:58.516643Z",
     "start_time": "2025-09-19T14:33:58.508804Z"
    },
    "panel-layout": {
     "height": 69.2812,
     "visible": true,
     "width": 100
    },
    "slideshow": {
     "slide_type": "subslide"
    }
   },
   "source": [
    "* Wir bekommen dann auf unserem Rechner Zugriff auf den Code im Paket `wikipedia`.\n",
    "* Um das Paket in unserem eigenen Code tatsächlich verfübar zu  machen , müssen wir es **importieren**."
   ]
  },
  {
   "cell_type": "code",
   "execution_count": null,
   "id": "7f9a75784501c6c8",
   "metadata": {
    "ExecuteTime": {
     "end_time": "2025-09-19T14:34:47.487647Z",
     "start_time": "2025-09-19T14:34:46.001391Z"
    },
    "panel-layout": {
     "height": 0,
     "visible": true,
     "width": 100
    },
    "slideshow": {
     "slide_type": "slide"
    }
   },
   "outputs": [],
   "source": [
    "import wikipedia\n",
    "wikipedia.set_lang(\"fr\")\n",
    "leiptsch=wikipedia.summary(\"Leipzig\")\n",
    "print(leiptsch)"
   ]
  },
  {
   "cell_type": "markdown",
   "id": "fb6ca25f-8dff-4f7c-b8e3-fa840b09e4bf",
   "metadata": {
    "panel-layout": {
     "height": 120.703,
     "visible": true,
     "width": 100
    },
    "slideshow": {
     "slide_type": "slide"
    }
   },
   "source": [
    "* Pakete, die man mit `pip`installieren kann, haben einen Eintrag auf https://pypi.org/project/.  \n",
    "* Dort ist auch die Dokumentation zu den Paketen verlinkt.\n",
    "* Für uns heute nicht relevant, aber generell wichtig zu wissen:\n",
    "    * Von vielen Paketen gibt es verschiedene Versionen, weil z.B. neue Funktionen hinzukommen oder die  Implementierung optimiert wird.\n",
    "    * Wenn sie im Netz Code-Beispiele sehen, die  lokal nicht bei Ihnen nicht funktionieren , kann das an Versionsunterschieden liegen."
   ]
  },
  {
   "cell_type": "markdown",
   "id": "92c50502fe52070f",
   "metadata": {
    "panel-layout": {
     "height": 127.859,
     "visible": true,
     "width": 100
    },
    "slideshow": {
     "slide_type": "slide"
    }
   },
   "source": [
    "# Python\n",
    "\n",
    "* Programmiersprache: \"ist eine **formale** Sprache zur Formulierung von **Datenstrukturen** und **Algorithmen**, d. h. von Rechenvorschriften, die von einem Computer ausgeführt werden können\" (vgl. \"Programmiersprache\", Wikipedia)\n",
    "* Muss auf Rechner installiert werden (auf Linux und Mac meist vorinstalliert)\n",
    "* Verschiedene Versionen: Python 2.x und **Python 3.x**"
   ]
  },
  {
   "cell_type": "code",
   "execution_count": null,
   "id": "713e1e01",
   "metadata": {
    "ExecuteTime": {
     "end_time": "2025-09-19T14:37:14.152928Z",
     "start_time": "2025-09-19T14:37:14.042257Z"
    },
    "slideshow": {
     "slide_type": "subslide"
    }
   },
   "outputs": [],
   "source": [
    "# Überprüfung der Python-Version im Jupyter notebook\n",
    "!python -V\n"
   ]
  },
  {
   "cell_type": "markdown",
   "id": "9df43df1",
   "metadata": {
    "panel-layout": {
     "height": 68.2812,
     "visible": true,
     "width": 100
    },
    "slideshow": {
     "slide_type": "slide"
    }
   },
   "source": [
    "Überprüfung der Python-Version in der interaktiven shell / Kommandozeile\n",
    "\n",
    "<img src=\"imgs/termcheck.gif\" width=\"750\" align=\"center\">"
   ]
  },
  {
   "cell_type": "markdown",
   "id": "b367cab0",
   "metadata": {
    "panel-layout": {
     "height": 163.141,
     "visible": true,
     "width": 100
    },
    "slideshow": {
     "slide_type": "slide"
    }
   },
   "source": [
    "# Ausführen von Python-Code\n",
    "\n",
    "* interaktive Umgebung: Terminal\n",
    "* Ausführen einer Code-Datei im Terminal\n",
    "    * Code-Datei mit `.py` Endung (z.B. `my_script.py`)\n",
    "    * typischerweise editiert mit einem speziellen Editor (z.B. Notepad++, Sublime Text, Visual Studio Code), der Code speziell formatiert\n",
    "* **Jupyter Notebook**: browser-basierte Umgebung"
   ]
  },
  {
   "cell_type": "markdown",
   "id": "9237f456",
   "metadata": {
    "panel-layout": {
     "height": 111.719,
     "visible": true,
     "width": 100
    },
    "slideshow": {
     "slide_type": "slide"
    }
   },
   "source": [
    "# Verwendung im Terminal\n",
    "\n",
    "* Der Befehl `python` auf der Kommandozelle startet eine interaktive Python-Shell.\n",
    "* In der Shell kann dann Python-Code eingegeben  werden, der direkt ausgeführt wird.\n"
   ]
  },
  {
   "cell_type": "code",
   "execution_count": null,
   "id": "f9fae539-5b4d-4e92-baf8-6dcf8161cf6a",
   "metadata": {
    "panel-layout": {
     "height": 51.1406,
     "visible": true,
     "width": 100
    },
    "slideshow": {
     "slide_type": "subslide"
    }
   },
   "outputs": [],
   "source": [
    "# Kommentarzeile, markiert durch '#'. Wird nicht als Code interpretiert.\n",
    "# print-Funktion: Ausgabe im Terminal , in einer interaktiven Python-Shell oder einem Jupyter Notebook\n",
    "\n",
    "# String in doppelten oder einfachen Anführungszeichen\n",
    "print(\"Hello World\")\n",
    "print('Hallo Welt!')\n",
    "\n",
    "# Summen  bilden, Ergebnisse an Variablen x und y zuweisen\n",
    "x=4+2\n",
    "y=1+2.32\n",
    "# Ausgabe der Ergebnisse\n",
    "print(x)\n",
    "print(y)\n",
    "# Operator '+' kann auch für die Konkatenation von Strings verwendet werden\n",
    "\"Phon\"+\"ologie\""
   ]
  },
  {
   "cell_type": "markdown",
   "id": "d67a98af-f13e-41f9-8633-87c9113c9cfd",
   "metadata": {
    "panel-layout": {
     "height": 60.5938,
     "visible": true,
     "width": 100
    },
    "slideshow": {
     "slide_type": "slide"
    }
   },
   "source": [
    "# Hilfe zu Funktionen "
   ]
  },
  {
   "cell_type": "code",
   "execution_count": null,
   "id": "29c9eb82-2f57-467a-82f1-30eff057451b",
   "metadata": {
    "panel-layout": {
     "height": 0,
     "visible": true,
     "width": 100
    },
    "slideshow": {
     "slide_type": "subslide"
    }
   },
   "outputs": [],
   "source": [
    "# wir können uns von python selbst Information zu den verfügbaren Funktionen per help anzeigen lassen\n",
    "help(len)\n",
    "help(print)"
   ]
  },
  {
   "cell_type": "code",
   "execution_count": null,
   "id": "178daaab-6e09-4588-b345-31a009ab2e6b",
   "metadata": {
    "panel-layout": {
     "height": 0,
     "visible": true,
     "width": 100
    },
    "slideshow": {
     "slide_type": "subslide"
    }
   },
   "outputs": [],
   "source": [
    "print(\"papa was a rolling stone\")\n",
    "# wir können  mit print also  auch Folgendes tun\n",
    "print(\"papa\" , \"was\" , \"a\" ,\"rolling\", \"stone\")\n",
    "print(\"papa\" , \"was\" , \"a\" ,\"rolling\", \"stone\", sep=\"  \")"
   ]
  }
 ],
 "metadata": {
  "celltoolbar": "Slideshow",
  "kernelspec": {
   "display_name": "Python 3 (ipykernel)",
   "language": "python",
   "name": "python3"
  },
  "language_info": {
   "codemirror_mode": {
    "name": "ipython",
    "version": 3
   },
   "file_extension": ".py",
   "mimetype": "text/x-python",
   "name": "python",
   "nbconvert_exporter": "python",
   "pygments_lexer": "ipython3",
   "version": "3.9.19"
  },
  "panel-cell-order": [
   "e289bfa4-16af-4189-b979-a616f3ec7d27",
   "382c4a56-867e-429c-a109-f0973c85923b",
   "d268b78ac0f8461d",
   "38ea4f3bb2f04867",
   "ab756ef243630885",
   "810a9ae80eebfac6",
   "48d984731caf33e0",
   "278e9d44680b9a80",
   "3005c0889e12442c",
   "9b9297f6-c258-4335-bef7-d4a3d09e2d39",
   "238ce4ddccb94fa9",
   "ca81d27b12f23721",
   "dbe0d06580dcf0b5",
   "7f9a75784501c6c8",
   "fb6ca25f-8dff-4f7c-b8e3-fa840b09e4bf",
   "92c50502fe52070f",
   "9df43df1",
   "b367cab0",
   "9237f456",
   "f9fae539-5b4d-4e92-baf8-6dcf8161cf6a",
   "d67a98af-f13e-41f9-8633-87c9113c9cfd",
   "29c9eb82-2f57-467a-82f1-30eff057451b",
   "178daaab-6e09-4588-b345-31a009ab2e6b"
  ]
 },
 "nbformat": 4,
 "nbformat_minor": 5
}
