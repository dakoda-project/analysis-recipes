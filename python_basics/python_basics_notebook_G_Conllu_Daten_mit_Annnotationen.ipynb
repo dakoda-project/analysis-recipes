{
 "cells": [
  {
   "cell_type": "markdown",
   "id": "0e6fa06d",
   "metadata": {},
   "source": [
    "# 🚀 Daten mit Annotationen\n",
    "\n",
    "* Manchmal haben wir es mit Daten zu tun, die nicht nur aus Text bestehen sondern auch Annotationen enthalten.\n",
    "* Ein gängiges Beispiel dafür ist das CONLLU-Format (siehe Beispiel).\n",
    "* Im Conllu-Format enthält jede Zeile ein Token und in tab-getrennten Spalten diverse Annotationen.\n",
    "* Sätze werden durch Leerzeilen getrennt .\n",
    "* Die Spalten sind wie folgt belegt: ID, FORM, LEMMA, UPOS, XPOS, FEATS, HEAD, DEPREL, DEPS, MISC.\n",
    "  * UPOS = Part-of-speech-Tag nach Universal dependencies  (grobkörnig)\n",
    "  * XPOS = Part-of-speech-Tag nach sprach-spezifischem Tagset (feinkörnig)\n",
    "  * HEAD = Index desjenigen Tokens, das laut Dependenzsyntax der Kopf des aktuellen Tokens ist. (Im Beispiel unten wird die Tiger-Dependenzsyntax des Deutschen verwendet.)\n",
    "  * DEPREL = syntaktiche Relation zwischen dem aktuellen und dem Kopftoken.\n",
    "  * FEATS  = morphologische Merkmale des Tokens\n",
    "\n",
    "\n",
    "```txt\n",
    "1\tDie\tDie\tART\tART\tnumber=sg|gender=fem|case=nom\t2\tDET\t_\t_\n",
    "2\tSzene\tSzene\tN\tNN\tnumber=sg|gender=fem|person=third\t3\tSUBJ\t_\t_\n",
    "3\tfindet\tfinden\tV\tVVFIN\tnumber=sg|stress=none|mood=indicative|person=third|valence=-|tense=present\t0\tS\t_\t_\n",
    "4\tvermutlich\tvermutlich\tADV\tADV\tsubcat=sentence\t3\tADV\t_\t_\n",
    "5\tin\tin\tPREP\tAPPR\tcase=dat\t3\tPP\t_\t_\n",
    "6\teiner\teiner\tART\tART\tnumber=sg|gender=fem|case=dat\t7\tDET\t_\t_\n",
    "7\tKüche\tKüche\tN\tNN\tnumber=sg|gender=fem|person=third\t5\tPN\t_\t_\n",
    "8\tstatt\tstatt\tPTKVZ\tPTKVZ\t_\t3\tAVZ\t_\t_\n",
    "9\t.\t.\t$.\t$.\t_\t0\tROOT\t_\t_\n",
    "\n",
    "1\tEs\tEs\tPRO\tPPER\tnumber=sg|gender=neut|case=nom|person=third\t2\tSUBJ\t_\t_\n",
    "2\tgibt\tgeben\tV\tVVFIN\tnumber=sg|stress=none|mood=indicative|person=third|valence=ai|tense=present\t0\tS\t_\t_\n",
    "3\tzwei\tzwei\tCARD\tCARD\tnumber=pl|gender=bot|case=bot|person=third\t4\tATTR\t_\t_\n",
    "4\tFiguren\tFigur\tN\tNN\tnumber=pl|gender=fem|case=bot|person=third\t2\tOBJA\t_\t_\n",
    "5\t,\t,\t$,\t$,\t_\t0\tROOT\t_\t_\n",
    "6\tdie\tdie\tPRO\tPRELS\tnumber=pl|gender=bot|case=nom|person=third\t10\tSUBJ\t_\t_\n",
    "7\tan\tan\tPREP\tAPPR\tcase=dat\t10\tPP\t_\t_\n",
    "8\tdem\tdem\tART\tART\tnumber=sg|gender=masc|case=dat\t9\tDET\t_\t_\n",
    "9\tTisch\tTisch\tN\tNN\tnumber=sg|gender=masc|case=nom_dat_acc|person=third\t7\tPN\t_\t_\n",
    "10\tsitzen\tsitzen\tV\tVVFIN\tnumber=pl|mood=indicative|tense=present|person=third\t4\tREL\t_\t_\n",
    "11\t.\t.\t$.\t$.\t_\t0\tROOT\t_\t_\n",
    "```"
   ]
  },
  {
   "cell_type": "markdown",
   "id": "c523f1bc",
   "metadata": {},
   "source": [
    "## 🫵 Your turn\n",
    "\n",
    "* Die Datei `comigs_set_1_bsPg_1_sample.conllu` enthält Parses im Conllu-Format.\n",
    "* Überlegen Sie sich,  wie Sie diese Daten so einlesen können, dass Sie die nachfolgenden Analysen durchführen können.\n",
    "  * Ermitteln Sie pro Satz die Anzahl der Tokens. \n",
    "  * Wie lang ist der längste Satz? Wie lang ist der kürzeste Satz? (Pot. gibt es mehrere gleich lange/kurze Sätze)\n",
    "  * Finden Sie alle Verb-Lemmas im Text. Ermitteln Sie für jedes Verb-Lemma, wie oft es im Text vorkommt.\n",
    "  * Berechnen Sie die Häufigkeiten der UPOS Part-of-speech-Tags.\n",
    "  * Ermitteln Sie die 5 häufigsten Bigramme im Text. (Bigramme sollen keine Satzgrenzen überschreiten.)\n",
    "  * Was ist der am häufigsten vorkommende Buchstabe im Text?\n",
    "  * Ermitteln Sie für jedes Wort die Wortlänge und bilden  Sie am Ende eine Tabelle mit den Spalten `Wortlänge` und `Häufigkeit`, die dokumentiert, wie viele Wörter mit einer gegebenen  Länge im Text vorkommen. Die Tabelle soll aufsteigend nach der Wortlänge sortiert sein.\n"
   ]
  },
  {
   "cell_type": "code",
   "execution_count": 1,
   "id": "c98ac30f-09c0-4b64-ace3-9f083a30b7ad",
   "metadata": {},
   "outputs": [],
   "source": [
    "# %load ./snippets/various_frequencies_off_conllu.py\n",
    "\n",
    "# the path to the parse file is as shown below\n",
    "parse_file = \"./data/comigs_set_1_bsPg_1_sample.conllu\"\n"
   ]
  }
 ],
 "metadata": {
  "kernelspec": {
   "display_name": "Python 3 (ipykernel)",
   "language": "python",
   "name": "python3"
  },
  "language_info": {
   "codemirror_mode": {
    "name": "ipython",
    "version": 3
   },
   "file_extension": ".py",
   "mimetype": "text/x-python",
   "name": "python",
   "nbconvert_exporter": "python",
   "pygments_lexer": "ipython3",
   "version": "3.9.19"
  }
 },
 "nbformat": 4,
 "nbformat_minor": 5
}
