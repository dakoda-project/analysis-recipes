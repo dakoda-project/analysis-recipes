{
 "cells": [
  {
   "cell_type": "markdown",
   "id": "6d00f565-61da-4279-b229-9e94387996d7",
   "metadata": {},
   "source": [
    "# Daten-Eingabe und -Ausgabe\n",
    "\n",
    "* In vorausgehenden Notebooks haben wir gesehen, dass wir in einem Jupyter-Notebook bzw einer Terminal-Session von Hand Informationen eingeben können, die wir mit Programm-Anweisungen bearbeiten wollen.\n",
    "* Im Normalfall haben wir aber Datenmengen, die wir nicht selbst eintippen wollen (oder am Ende händisch kopieren und in eine Datei schreiben wollen.)\n",
    "* Wir wollen daher Informationen aus Dateien einlesen bzw. in Dateien schreiben.\n"
   ]
  },
  {
   "cell_type": "markdown",
   "id": "efc476ce-4ae7-4782-bf4e-9246e8969c47",
   "metadata": {},
   "source": [
    "## Einlesen einer Textdatei auf dem lokalen Rechner\n",
    "\n",
    "* Mit dem Befehl `open` können wir Dateien öffnen.\n",
    "* Ein simpler, aber häufiger Fall ist das Öffnen von einfachen Textdateien."
   ]
  },
  {
   "cell_type": "code",
   "execution_count": null,
   "id": "25683316-2d80-45d3-8b3c-94729c05daaf",
   "metadata": {},
   "outputs": [],
   "source": [
    "# wir verwenden eine Text-Datei aus dem Merlin-Korpus\n",
    "path_to_file=\"./data/1091_0000265.txt\"\n",
    "# Die open-Funktion nimmt mehrere Argumente. Das wichtigste ist das erste, der Pfad zur Datei.\n",
    "# Der zeite Parameter , das \"r\", sagt, dass wir die Datei lesen (read) wollen, statt sie z.B. schreiben zu wollen.\n",
    "# der dritte Parameter gibt den Zeichensatz an. Heute sollte das in den meisten Fällen utf-8 sei.\n",
    "# open gibt ein sog. file object zurück , unten das 'f'.\n",
    "with open(path_to_file,\"r\", encoding='utf-8') as f:\n",
    "    # mit der Methode readlines lesen wir den Datei-Inhalt aus dem file-objekt f  in eine Liste von Zeilen.\n",
    "    lines=f.readlines()\n",
    "print(lines)\n",
    "\n",
    "# Wir schauen uns die Datei zeilenweise an.\n",
    "# Wir verwenden die enumerate-Funktion um neben den Zeilen auch gleich einen Zähler zu bekommen.\n",
    "for ix,z  in enumerate(lines):\n",
    "    line = z.strip()\n",
    "    print(f\"Z{ix}: {line}\")\n",
    "# Wir sehen, dass die Zeilen nicht einzelne Sätze enthalten, sondern zum Teil Folgen von Sätzen."
   ]
  },
  {
   "cell_type": "markdown",
   "id": "be7f5984-85a7-4655-8594-a971d21e12af",
   "metadata": {},
   "source": [
    "Weitere Details:\n",
    "* Vor dem open-Befehl verwenden wir im Beispiel oben `with `. Dieses Konstrukt dient dazu sicherzustellen, dass die Datei unbeschadet bleibt, auch wenn während der Programmausführung etwas schief geht.\n",
    "* Wir könnten auch einfach folgende Variante verwenden, die den Schutz durch den sogenannten Context mananger  `with` nicht verwendet.\n",
    "* NB: wir beenden den Dateizugriff explizit mit `close`.\n",
    "\n",
    "```python\n",
    "f=open(path_to_file,\"r\", encoding='utf-8')\n",
    "lines=f.readlines()\n",
    "f.close()\n",
    "print(lines)\n",
    "\n",
    "```\n",
    "  "
   ]
  },
  {
   "cell_type": "code",
   "execution_count": null,
   "id": "d3285ded-393d-41ad-848a-34c0cac564a9",
   "metadata": {},
   "outputs": [],
   "source": [
    "\n",
    "with open(path_to_file,\"r\", encoding='utf-8') as f:\n",
    "    # mit der Methode read lesen wir den Datei-Inhalt in einen einzigen langen String.\n",
    "    text=f.read()\n",
    "print(text)\n"
   ]
  },
  {
   "cell_type": "markdown",
   "id": "7d17663a-20bb-4904-bb77-2f9c996ecda3",
   "metadata": {},
   "source": [
    "## Erstes Beispiel: Wörter zählen\n",
    "\n",
    "* Wir möchten Folgendes zählen:\n",
    "    * die Anzahl aller Token im Text der oben geladenenen Datei.\n",
    "    * für jede Wortform, wie häufig sie ist\n",
    "\n",
    "* Vorgehen (\"Algorithmus\")\n",
    "    * Wir betrachten nacheinander alle Zeilen.\n",
    "    * Wir spalten jede Zeile in Tokens auf.\n",
    "    * Wir ermitteln die Tokenzahl pro Zeile und addieren sie zu einer Zählvariable hinzu.\n",
    "    * Für jedes Token in der Zeile prüfen wir, ob wir es schon einmal gesehen haben.\n",
    "    * Wenn nicht, legen wir einen Eintrag (record) dafür an und initialisieren die Häufigkeit mit 0.\n",
    "    * Danach addieren wir beim bestehenden Eintrag 1 zur alten Häufigkeit hinzu.\n",
    "\n"
   ]
  },
  {
   "cell_type": "code",
   "execution_count": null,
   "id": "69251245-e44b-4ae9-a257-24567e669115",
   "metadata": {},
   "outputs": [],
   "source": [
    "# we use the regular expressions module\n",
    "import re\n",
    "# we use a dictionary to keep track of the token frequencies\n",
    "# an empty dictionary can be constructed as '{}'\n",
    "freq_records = {}\n",
    "total_tokens = 0\n",
    "# we iterate through the lines\n",
    "for z in lines:\n",
    "    # we remove the final newline character using the strip-method for strings\n",
    "    line = z.strip()\n",
    "\n",
    "    # We separate punctuation marks from preceding alphabetic characters (letters)\n",
    "    line = re.sub(\"([a-zA-Zäöü])([\\.\\!\\?,])\",\"\\\\1 \\\\2\",line)\n",
    "    print(f\"Rohtext Zeile:\\t{line}\")\n",
    "\n",
    "    # we split the text of the line into a list of tokens\n",
    "    white_space_tokens = re.split(\"\\s+\",line)\n",
    "    total_tokens = total_tokens + len(white_space_tokens)\n",
    "    print(f\"Tokens  Zeile: {white_space_tokens}\")\n",
    "\n",
    "    # we visit each token in the list of tokens\n",
    "    for token in white_space_tokens:\n",
    "        # we ignore 'Tokens' that are emptys strings\n",
    "        if token =='':\n",
    "            continue\n",
    "        if token not in freq_records:\n",
    "            freq_records[token] = 0\n",
    "        freq_records[token] +=1\n",
    "print(\"\\n\")\n",
    "print(f\"Anzahl aller Tokens im Text: {total_tokens}\")\n",
    "print(\"\\n\")\n",
    "print(\"Häufigkeiten\")\n",
    "print(freq_records)\n",
    "print(\"\\n\")\n",
    "print(\"Tokens nach absteigender Häufigkeit\")\n",
    "# Wir ignorieren die vollständigen Details der nächsten Zeile fürs Erste\n",
    "# Aber wir können aber schon mal festhalten, dass man mit `sorted` ein dictionary sortieren kann.\n",
    "# Unten sortieren wir nach den Werten im Dictionary, nicht nach den Schlüsseln\n",
    "# Indem wir reverse=True setzten, sortieren wir absteigend\n",
    "sorted_keys = sorted(freq_records, key=freq_records.get, reverse=True)\n",
    "for r in sorted_keys:\n",
    "    print(r, freq_records[r])\n",
    "\n"
   ]
  },
  {
   "cell_type": "code",
   "execution_count": null,
   "id": "064e5ba5-5fb6-4c07-82fa-003d8cd65dcd",
   "metadata": {},
   "outputs": [],
   "source": [
    "# wir speichern das dictionary in einer Datei für die Benutzuung in einem anderen Notebook\n",
    "# import json\n",
    "#with open(\"./data/cyop_of_freq_data.json\", \"w\") as f:\n",
    "#    json.dump(freq_records, f)"
   ]
  },
  {
   "cell_type": "markdown",
   "id": "56fd3764-3d9d-4a7f-a3ab-49c8b813e821",
   "metadata": {},
   "source": [
    "**Details**\n",
    "\n",
    "* Oben verwenden wir das Modul `re`  für reguläre Ausdrücke.\n",
    "* Wir kommen später noch mal vertiefend auf `re' zu sprechen.\n",
    "* Viele der Dinge, die wir mit `re` machen können, kann man alternativ auch mit Stringmethoden machen:\n",
    "    * `white_space_tokens = line.split()` wäre eine Alternative zu\n",
    "    * `white_space_tokens = re.split(\"\\s+\",line)`\n",
    "* Probieren Sie es mal aus.\n",
    "  "
   ]
  },
  {
   "cell_type": "markdown",
   "id": "0fce0b7f-39bb-4fb5-9586-4fdffa25ede8",
   "metadata": {},
   "source": [
    "## 🫵 Your turn\n",
    "\n",
    "* Momentan schreiben wir das Ergebnis der Häufigkeitsermittlung einfach auf den Bildschirm.\n",
    "* Schreiben Sie die Ergebnisse stattdessen nun in eine Textdatei.\n",
    "* Legen Sie die Datei unter dem Namen \"1091_0000265.freqs.tsv\" an.\n",
    "* Schreiben Sie zunächst das Wort und dann, getrennt durch einen Tabulator, die Häufigkeit.\n",
    "* Am Anfang der Datei schreiben Sie als Spaltenüberschriften \"Token\" und \"Häufigkeit\".\n",
    "* Legen Sie die Datei unter dem Namen \"1091_0000265.freqs.tsv\" an.\n",
    "* Lassen Sie sich [hiervon](https://www.geeksforgeeks.org/python/writing-to-file-in-python/) inspirieren oder googlen Sie nach anderen Seiten bei Bedarf.\n",
    "\n",
    "Versuchen Sie es erst selbst zu lösen. Sie können danach die `load`-Zeile in der folgenden Zelle auskommentieren und die Zelle ausführen , um eine  Lösung zu sehen.\n",
    "\n"
   ]
  },
  {
   "cell_type": "code",
   "execution_count": null,
   "id": "ffddbda6-1f8a-45d3-a18b-673034d70955",
   "metadata": {},
   "outputs": [],
   "source": [
    "# Platz für ihren Code"
   ]
  },
  {
   "cell_type": "code",
   "execution_count": null,
   "id": "3a68cde7-f548-4e37-80ca-57ce8013ed97",
   "metadata": {},
   "outputs": [],
   "source": [
    "# hier können Sie eine mögliche Lösung einblenden\n",
    "# %load ./snippets/freq_2_tsvfile.py\n"
   ]
  },
  {
   "cell_type": "markdown",
   "id": "9e157607-362a-4953-aba1-a74279cef77d",
   "metadata": {},
   "source": [
    "## 🫵 Your turn\n",
    "\n",
    "* Wie könnten Sie den Code oben modifizieren,  so dass die einzelnen Sätze zugreifbar sind?\n",
    "* (Die Lösung wird nicht perfekt  sein, da an manchen Stellen ein satzbeendendes Interpunktionszeichen fehlt.)\n"
   ]
  },
  {
   "cell_type": "code",
   "execution_count": null,
   "id": "732349ec-42ab-4bcf-9277-e8056ff88746",
   "metadata": {},
   "outputs": [],
   "source": [
    "# %load ./snippets/get_sentences.py\n"
   ]
  },
  {
   "cell_type": "markdown",
   "id": "17cb1bd7",
   "metadata": {},
   "source": [
    "# Container-Datentypen\n",
    "\n",
    "* Wir haben schon integers , floats und strings gesehen.\n",
    "* Weitere Arten von Objekten in Python sind Listen, Mengen/Sets, Tupel und Dictionaries.\n",
    "* Diese sind Container: sie enthalten andere Objekte.\n"
   ]
  },
  {
   "cell_type": "markdown",
   "id": "5d46da56",
   "metadata": {},
   "source": [
    "## Listen\n",
    "* Listen sind vergleichbar zu sog. Arrays in anderen Programmiersprachen.\n",
    "* Listen können beliebig viele Elemente enthalten.\n",
    "* Sie können auch verschiedene Typen von Objekten enthalten. (In andere Programmiersprachen geht das nicht.)\n",
    "    * ⚡ Diese Möglichkeit sollte man vielleicht in der Praxis nicht oder nur gut überlegt nutzen.\n",
    "* Die Werte in einer Liste können sich wiederholen. (Es sind keine Mengen (EN 'sets'), in denen jedes Element nur genau einmal vorkommen kann.\n",
    "* Listen werden durch eckige Klammern gekennzeichnet, innerhalb derer die Elemente durch Kommata getrennt sind."
   ]
  },
  {
   "cell_type": "code",
   "execution_count": null,
   "id": "9f2f21cd",
   "metadata": {},
   "outputs": [],
   "source": [
    "# Erzeugen von leeren Listen: 2 Alternativen\n",
    "words = []\n",
    "worte = list()\n",
    "\n",
    "# Erzeugen von gefüllten Listen\n",
    "participants = [\"Alice\", \"Bob\", \"Charlie\"]\n",
    "ages = [30, 25, 28]\n",
    "ages2 = [30, 28, 25]\n",
    "# Sind die beiden Listen gleich?\n",
    "ages2 == ages\n",
    "\n",
    "\n",
    "# meist keine gute Idee, Elemente mit verschiedenen Typen in eine Liste zu stecken\n",
    "mixed_bag = [\"apple\", 3, True]\n",
    "\n"
   ]
  },
  {
   "cell_type": "markdown",
   "id": "4e0e666f-7395-4838-900b-d228aafd83c7",
   "metadata": {},
   "source": [
    "## Listen-Methoden\n",
    "\n",
    "* Listen sind Objekte der list-Klasse.\n",
    "* Sie verfügen über viele eigene [Methoden](https://www.geeksforgeeks.org/python/list-methods-python/)."
   ]
  },
  {
   "cell_type": "code",
   "execution_count": null,
   "id": "846e176b-f682-4b80-ac7c-478b1a935e09",
   "metadata": {},
   "outputs": [],
   "source": [
    "\n",
    "verbs = [\"gehen\", \"stehen\", \"sitzen\"]\n",
    "\n",
    "print(len(verbs))  # Länge der Liste\n",
    "\n",
    "verbs.append(\"liegen\") # Einfügen am Ende\n",
    "print(verbs)\n",
    "\n",
    "verbs.sort() # Sortieren\n",
    "print(verbs)\n",
    "\n",
    "verbs.reverse() # Umkehren\n",
    "print(verbs)\n",
    "\n",
    "verbs.remove(\"gehen\") # Element entfernen\n",
    "print(verbs)\n",
    "\n",
    "verbs.clear() # Löschen aller Einträge\n",
    "print(verbs)\n"
   ]
  },
  {
   "cell_type": "markdown",
   "id": "c6418f83-aa5f-4a18-ba22-384ad9c9680a",
   "metadata": {},
   "source": [
    "## 🫵 Your turn\n",
    "\n",
    "* Wir wollen die Liste nouns in absteigender Folge sortieren .\n",
    "* Wie machen wir das?\n",
    "Versuchen Sie es erst selbst. Sie können in der übernächsten Zelle, den load-Befehl auskommentieren und die Zelle ausführen, um eine mögliche Lösung zu sehen."
   ]
  },
  {
   "cell_type": "code",
   "execution_count": null,
   "id": "227e1979-8d5d-44e6-bbf8-dc0dd1e83b51",
   "metadata": {},
   "outputs": [],
   "source": [
    "\n",
    "nouns = [\"Gang\", \"Tafel\", \"Schnee\" ]\n",
    "\n",
    "# insert your python statements here\n",
    "\n",
    "print(nouns)\n",
    "\n",
    "\n"
   ]
  },
  {
   "cell_type": "code",
   "execution_count": null,
   "id": "c28d0260-dcd8-4a36-889d-924e5dd846a6",
   "metadata": {},
   "outputs": [],
   "source": [
    "# %load ./snippets/reverse_sort.py\n",
    "nouns = [\"Gang\", \"Tafel\", \"Schnee\" ]\n",
    "\n",
    "# insert your python statements here\n",
    "\n",
    "print(nouns)\n",
    "\n",
    "\n"
   ]
  },
  {
   "cell_type": "markdown",
   "id": "37c0e866-b599-4b96-8576-d75415c99965",
   "metadata": {},
   "source": [
    "### Methoden zum Zugriff auf Elemente in einer Liste\n",
    "\n",
    "* ⚡ Die Position des ersten Elements in einer Liste ist 0. Das zweite Element steht an Position 1, und so weiter.\n",
    "* Wir können auch <span style=\"color:red\">negative</span> Indizes (!) verwenden, um auf Elemente in der Liste zuzugreifen.\n",
    "* Die Position -1 ist die letzte Position in einer Liste. \n",
    "    * Wenn wir vom ersten Element an Position 0 nach links gehen, landen wir quasi beim letzten Element der Liste!"
   ]
  },
  {
   "cell_type": "code",
   "execution_count": null,
   "id": "9b143f8f-115f-49ed-9e97-b815f884340f",
   "metadata": {},
   "outputs": [],
   "source": [
    "\n",
    "verbs = [\"gehen\", \"stehen\", \"sitzen\"]\n",
    "print(f\"Liste am Anfang {verbs[0]}\")\n",
    "\n",
    "# Wir können Untersequenzen auslesen, z.B. die ersten beiden Wörter wie folgt\n",
    "print(verbs[0:2])\n",
    "\n",
    "# Der linke Wert (hier:0) gibt die erste Position aus, die ausgegeben werden soll. \n",
    "# Der rechte Wert (hier:2) gibt die Position aus, bis zu der ausgegeben werden soll. \n",
    "# Diese Position ist also die erste Position, die nicht mehr ausgegeben werden soll!\n",
    "print(verbs[1:3])\n",
    "\n",
    "\n",
    "verbs.append(\"stellen\")\n",
    "print(f\"aktualisierte Liste {verbs}\")\n",
    "\n",
    "# Egal wie lang die Liste ist, wir können das letzte Element wie folgt auslesen:\n",
    "print(verbs[-1])\n",
    "\n",
    "# Das vorletzte Element kann wie folgt gelesen werden:\n",
    "print(verbs[-2])\n",
    "\n",
    "# Lesen aller Elemente ausser dem letzten\n",
    "print(verbs[:-1])\n",
    "\n",
    "# Lesen ab dem zweiten Element (an Position 1!) bis ans Ende\n",
    "print(verbs[1:])\n"
   ]
  },
  {
   "cell_type": "markdown",
   "id": "8aa69c9b-a7f4-4fd7-ae0f-3abfa31bfc4a",
   "metadata": {},
   "source": [
    "### Einfügen und Entfernen von Elementen an bestimmten Positionen\n",
    "\n",
    "* Wir können Elemente an einer bestimmten Position hinzufügen oder entfernen."
   ]
  },
  {
   "cell_type": "code",
   "execution_count": null,
   "id": "3a383dc8-272f-4a77-b133-eba1cf301d75",
   "metadata": {},
   "outputs": [],
   "source": [
    "\n",
    "#  Einfügen eines neuen Elements an einer bestimmten Position (hier: an Positon 0)\n",
    "verbs.insert(0, \"krabbeln\")\n",
    "print(verbs)\n",
    "# Einfügen an vorletzter Stelle\n",
    "verbs.insert(-1, \"fliegen\")\n",
    "print(verbs)\n",
    "# Entfernen des ersten Elements\n",
    "verbs.pop(0)\n",
    "print(verbs)\n"
   ]
  },
  {
   "cell_type": "markdown",
   "id": "ba04cf4d-1cce-4b46-9de9-af16df83b67f",
   "metadata": {},
   "source": [
    "### Anzeigen des Index beim Iterieren über eine Liste\n",
    "\n",
    "* Wenn wir lange Listen verarbeiten, ist es manchmal interessant , beobachten zu können, wie weit die Iteratoin fortgeschritten ist.\n",
    "* die Funktion `enumerate`  macht für for-loops den Index des aktuellen Elements verfügbar."
   ]
  },
  {
   "cell_type": "code",
   "execution_count": null,
   "id": "04a298b4-05fb-4f33-bfcb-36ba87d037c9",
   "metadata": {},
   "outputs": [],
   "source": [
    "numbers = list(range(1,10000))\n",
    "for index, number in enumerate(numbers):\n",
    "    if index%1000==0:\n",
    "        print(f\"processing {index}-th number {number}\")\n",
    "        "
   ]
  },
  {
   "cell_type": "markdown",
   "id": "3caf49b0-a062-4a7f-806f-e1d28e596336",
   "metadata": {},
   "source": [
    "## Mengen / Sets\n",
    "\n",
    "* Mengen sind ähnlich zu Listen, aber sie enthalten keine Duplikate.\n",
    "* Die Elemente in Mengen sind nicht in einer bestimmten Reihenfolge sortiert.\n",
    "* Mengen sind veränderbar.\n",
    "* Wie bei Listen können die Elemente heterogene Typen enthalten."
   ]
  },
  {
   "cell_type": "code",
   "execution_count": null,
   "id": "e9ad1435-aad4-42a2-8f6d-6d31b6dbb22b",
   "metadata": {},
   "outputs": [],
   "source": [
    "\n",
    "# Erzeugen einer leeren Menge\n",
    "m=set()\n",
    "# Hinzufügen von Elementen\n",
    "m.add(1)\n",
    "m.add(\"norbert\")\n",
    "print(m)\n",
    "# Test ob Element in Menge enthalten\n",
    "print(2 in m)\n",
    "\n",
    "# neues Set aus einer Liste mit den gleichen Elementen wie oben\n",
    "n=set(['norbert',1])\n",
    "# Sind diese sets gleich?\n",
    "m==n\n",
    "\n"
   ]
  },
  {
   "cell_type": "code",
   "execution_count": null,
   "id": "ac11d048-6390-490a-888c-cff7f8b4618c",
   "metadata": {},
   "outputs": [],
   "source": [
    "# Wir können über Mengen auch direkt iterieren:\n",
    "\n",
    "for member in m:\n",
    "    print(member)\n",
    "\n"
   ]
  },
  {
   "cell_type": "markdown",
   "id": "2b2a53b6-51a1-4853-8212-a31a6e87f87c",
   "metadata": {},
   "source": [
    "### Spezielle Operationen auf Mengen\n",
    "\n",
    "* Mengen haben nicht dieselben Methoden wie Listen. Wie oben gesehen fügt man z.B. mit `add` Elemente zu einer Menge hinzu, während bei einer Liste `append` verwendet wird.\n",
    "* Daneben gibt es Methoden für Operationen, die spezifisch für Mengen sind.\n"
   ]
  },
  {
   "cell_type": "code",
   "execution_count": null,
   "id": "33bab4c1-dbb9-41f9-8a39-15b1bfab8b2c",
   "metadata": {},
   "outputs": [],
   "source": [
    "\n",
    "# Erzeugen einer Menge aus einer Liste\n",
    "verben_a = set([\"gehen\", \"stehen\", \"sitzen\"])\n",
    "verben_b = set([\"laufen\", \"stehen\", \"gehen\", \"stolzieren\"])\n",
    "\n",
    "# Hinzufügen von Elementen: add, nicht append\n",
    "verben_a.add(\"fliegen\")\n",
    "\n",
    "# Vereinigung von Mengen\n",
    "alle_verben = verben_a.union(verben_b)\n",
    "\n",
    "# Schnittmenge\n",
    "geteilte_verben = verben_a.intersection(verben_b)\n",
    "print(f\"geteilte Verben {geteilte_verben}\")\n",
    "\n",
    "# Unterschiede zwischen Mengen\n",
    "nur_verben_a = verben_a.difference(verben_b)\n",
    "nur_verben_b = verben_b.difference(verben_a)\n",
    "\n",
    "# Alternative Syntax  für Differenz\n",
    "print(f\"a-b {verben_a - verben_b}\")\n",
    "print(f\"b-a {verben_b - verben_a}\")\n"
   ]
  },
  {
   "cell_type": "markdown",
   "id": "a17ad6f5-d1a7-4ab2-a9c9-6f483468a767",
   "metadata": {},
   "source": [
    "## 🫵 Your turn\n",
    "\n",
    "* Finden  Sie die Menge aller Mädchennamen, die entweder nur 2022 oder nur 2024 unter den 10 häufigsten Babynamen waren."
   ]
  },
  {
   "cell_type": "code",
   "execution_count": null,
   "id": "07397c5b",
   "metadata": {},
   "outputs": [],
   "source": [
    "female_names_2024 = [\"Emilia\", \"Sophia\", \"Emma\", \"Hannah\", \"Mia\", \"Lina\", \"Ella\", \"Lia\", \"Leni\", \"Mila\"]\n",
    "female_names_2022 = [\"Emilia\", \"Mia\", \"Sophia\",\"Emma\",\"Hannah\",\"Lina\",\"Mila\", \"Ella\", \"Leni\", \"Clara\"]\n"
   ]
  },
  {
   "cell_type": "code",
   "execution_count": null,
   "id": "592c555d-2a4b-4ea6-a8ad-e9c15c249012",
   "metadata": {},
   "outputs": [],
   "source": [
    "# %load ./snippets/baby_names_not_shared.py\n"
   ]
  },
  {
   "cell_type": "markdown",
   "id": "86ccfa26-70ae-4a6b-9145-6023c06506f8",
   "metadata": {},
   "source": [
    "* 🚀 Neben den veränderbaren Mengen vom Type `set` gibt es auch den sogenannten Typ `frozenset`, der unveränderlich ist."
   ]
  },
  {
   "cell_type": "markdown",
   "id": "cad465f5",
   "metadata": {},
   "source": [
    "## Dictionaries\n",
    "\n",
    "* Dictionaries werden verwendet, um Datenwerte in Schlüssel-Wert-Paaren (key-value-pairs) zu speichern.\n",
    "* Das erste Element jedes Paares , der key, muss sich also von den ersten Elementen aller anderen Paare unterscheiden. \n",
    "* Ein Dictionary wird mit geschweiften Klammern gekennzeichnet, innerhalb derer jedes Elementpaar durch einen Doppelpunkt getrennt ist"
   ]
  },
  {
   "cell_type": "code",
   "execution_count": null,
   "id": "2b28e6d0",
   "metadata": {},
   "outputs": [],
   "source": [
    "# leere Dictionaries erzeugen\n",
    "leeres_dict = {}\n",
    "leeres_dict2=dict()\n",
    "\n",
    "# dictionaries gleich mit Inhalt initialisieren\n",
    "persons = {\"Charlie\": 28, \"Alice\": 30, \"Bob\": 25}\n",
    "persons2 = { \"Bob\": 25, \"Charlie\": 28, \"Alice\":30}\n",
    "# Sind diese Dictionaries gleich?\n",
    "persons == persons2\n"
   ]
  },
  {
   "cell_type": "markdown",
   "id": "4edfef93-bc21-4973-ba30-aa5e14bc339d",
   "metadata": {},
   "source": [
    "### Methoden von Dictionaries"
   ]
  },
  {
   "cell_type": "code",
   "execution_count": null,
   "id": "5152a16b-92e8-472b-a703-fa71a9c27a71",
   "metadata": {},
   "outputs": [],
   "source": [
    "\n",
    "# Ausgabe aller Schlüssel\n",
    "print(persons.keys())\n",
    "\n",
    "# Ausgabe aller Werte\n",
    "print(persons.values())\n",
    "\n",
    "# Ausgabe der Schlüssel-Wert Paare\n",
    "print(persons.items())\n",
    "\n",
    "# Ausgabe des Wertes für einen Schlüssel: setzt voraus, dass der Schlüssel existiert\n",
    "print(f\"Alter Alice {persons['Alice']}\")\n",
    "\n",
    "\n",
    "# die folgende Zeile würde einen Fehler produzieren, da der Schlüssel \"Waldemar\"  nicht existiert\n",
    "#print(persons[\"Waldemar\"])\n",
    "\n",
    "# mit der `get`-Methode von dictionaries kann man einen Standardwert zurückgeben, falls der Schlüssel nicht existiert\n",
    "print(f\"Alter von Waldemar {persons.get('Waldemar',12345)}\")\n",
    "\n",
    "# gibt man keinen Standardwert an, wird der Sonderwert `None` zurückgegeben\n",
    "print(persons.get(\"Waldemar\"))\n",
    "\n",
    "# Testen, ob ein Schlüssel existiert; Test gibt True oder False zurück\n",
    "print(\"Waldemar\" in persons)\n",
    "\n",
    "# entfernt den Eintrag für Alice und gibt den Wert für den Eintrag zurück\n",
    "print(f\"Wert für Alice {persons.pop('Alice')}\")\n",
    "\n",
    "# Löschen aller Einträge 🔥\n",
    "persons.clear()\n",
    "print(persons)\n"
   ]
  },
  {
   "cell_type": "markdown",
   "id": "7bfbc1cc",
   "metadata": {},
   "source": [
    "# 🚀 Tupel\n",
    "\n",
    "* Tupel sind fixe Sequenzen.\n",
    "* Sie sind ähnlich zu Listen, aber sie sind unveränderlich (immutable).\n",
    "* Tupel werden durch runde Klammern gekennzeichnet, innerhalb derer die Elemente durch Kommata getrennt sind.\n",
    "* Warum braucht man überhaupt Tupel?\n",
    "    * Wenn man sicherstellen will, dass Daten nicht verändert werden können.\n",
    "    * Speichermanagement - Tuple verbrauchen weniger Speicher als Listen\n",
    "    * Performanz - man kann schneller über die Element in einem Tupel iterieren bzw auf sie zugreifen als auf die Elemente einer Liste\n",
    "    * (Die letzten beiden Gründe sind nicht besonders wichtig, solange man kleine Datenmengen hat.)"
   ]
  },
  {
   "cell_type": "code",
   "execution_count": null,
   "id": "cf3a99be-5adf-493f-86fc-37ea88fa8d90",
   "metadata": {},
   "outputs": [],
   "source": [
    "tupelo = (1, 52, 32)\n",
    "# Testen, ob Element in Tupel enthalten ist\n",
    "print(f\"① Test, ob 3 im Tupel : {3 in tupelo}\")\n",
    "# Länge des Tupels\n",
    "print(f\"② Länge: {len(tupelo)}\")\n",
    "# Zugriff auf Elemente in Tupel\n",
    "print(f\"③ Element an Position 1: {tupelo[1]}\")\n",
    "print(f\"④ vorvorletztes Element bis Ende: {tupelo[-2:]}\")\n",
    "\n",
    "# Umkehrung der Elemente im Tupel\n",
    "print(f\"⑤ Umkehrung: {tupelo[::-1]}\")\n",
    "# NB: anders als bei den sort()- oder reverse()-Methoden einer Liste hat die obige Anweisung keinen Einfluss auf das ursprüngliche Tupel\n",
    "print(f\"⑥ unverändertes Tupel: {tupelo}\")\n",
    "# Zählen wie oft 52 vorkommt\n",
    "print(f\"wie oft kommt 52 vor? {tupelo.count(52)}\")"
   ]
  },
  {
   "cell_type": "code",
   "execution_count": null,
   "id": "97caa968-2fa9-4333-8b57-c5ec32dc295a",
   "metadata": {},
   "outputs": [],
   "source": [
    "# Tupel sind unveränderbar, darum gibt es hier einen Fehler\n",
    "tupelo[0]=12"
   ]
  },
  {
   "cell_type": "code",
   "execution_count": null,
   "id": "46dda018-659b-46a7-a041-311f2808da87",
   "metadata": {},
   "outputs": [],
   "source": [
    "# man kann leere Tupel erzeugen\n",
    "# man kann aber später nichts mehr in sie reinschreiben: Tupel sind eben unveränderlich\n",
    "tupel2 = tuple()\n",
    "print(tupel2)"
   ]
  },
  {
   "cell_type": "code",
   "execution_count": null,
   "id": "d97dbb4e-3db6-4c25-b59a-948ed5e21082",
   "metadata": {},
   "outputs": [],
   "source": [
    "# help zeigt, dass es für tuple keine Methode wie add oder append gibt.\n",
    "help(tuple)"
   ]
  },
  {
   "cell_type": "markdown",
   "id": "706445c5-c416-4269-8a67-8f924b4b7e85",
   "metadata": {},
   "source": [
    "# ✔️ Zwischenstand: I/O und Containerdatentypen\n",
    "\n",
    "\n",
    "* Mit der python Funktion `open()` kann man Dateien öffnen und eine file object erzeugen, mit dessen Methoden `read` oder `readlines`  man den Inhalt der Datei in einen String oder eine Liste von Strings lesen kann.\n",
    "* Mit `open()` und der Methode `write` von file objects kann man Dateien auch schreiben.\n",
    "* (NB: manche Klassen haben Methoden, die das Lesen und Schreiben von Daten managen)\n",
    "\n",
    "\n",
    "* Zu den Haupt-Containerdatentypen gehören\n",
    "    * Listen (veränderbar, potentiell mit sich wiederholenden Elementen): `names = [\"Hella\", \"Franz\"]``\n",
    "    * Sets/Mengen (veränderbar, mit sich nicht wiederholenden Elementen): `l1s={\"Deutsch\",\"Ungarisch\", \"Französisch\", \"Türkisch\"}``\n",
    "    * Dictionaries (veränderbar, mit unikalen keys/Schlüsseln): `student={'age':14, 'l1':\"Norwegisch\"}`\n",
    "\n",
    "\n",
    "* Die Containerdatentypen teilen sich einige wichtige Eigenschaften:\n",
    "    * Z.b. kann man mit `x in y`  prüfen ob\n",
    "        * x ein Element in der Liste y ist\n",
    "        * x ein Schlüssel des Dictionary y ist\n",
    "        * x im Tupel y enthalten ist\n",
    "        * x im Set y enthalten ist\n",
    "    * Ebenso kann man mit `len(y)` prüfen\n",
    "        * wie viele Elemente in der Liste y sind\n",
    "        * wie viele Elemente im Set y sind\n",
    "        * wie viele Elemente im Tupel y sind\n",
    "        * wie viele Schlüssle das dictionary  y hat\n",
    " \n",
    "\n"
   ]
  },
  {
   "cell_type": "code",
   "execution_count": null,
   "id": "5f69915f-f43e-41ab-9e8b-bf712431884f",
   "metadata": {},
   "outputs": [],
   "source": []
  }
 ],
 "metadata": {
  "kernelspec": {
   "display_name": "Python 3 (ipykernel)",
   "language": "python",
   "name": "python3"
  },
  "language_info": {
   "codemirror_mode": {
    "name": "ipython",
    "version": 3
   },
   "file_extension": ".py",
   "mimetype": "text/x-python",
   "name": "python",
   "nbconvert_exporter": "python",
   "pygments_lexer": "ipython3",
   "version": "3.9.19"
  }
 },
 "nbformat": 4,
 "nbformat_minor": 5
}
