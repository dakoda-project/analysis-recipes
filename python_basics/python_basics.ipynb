{
 "cells": [
  {
   "cell_type": "markdown",
   "id": "e289bfa4-16af-4189-b979-a616f3ec7d27",
   "metadata": {},
   "source": [
    "# Zugriff auf die Notebooks\n",
    "\n",
    "* Installation  auf [Jupyter-Hub](https://jupyter.dakoda.org) `https://jupyter.dakoda.org`\n",
    "\n",
    "* Besuchen Sie die Seite und folgen Sie dann dem  Link \"Sign up\", um einen Benutzer anzulegen. \n",
    "\n",
    "* Als E-Mail-Adresse kann z.B. auch \"workshop@dakoda.org\" angegeben werden.\n",
    "\n",
    "* Nach Freischaltung kann wieder der Hub unter https://jupyter.dakoda.org aufgerufen werden.\n"
   ]
  },
  {
   "cell_type": "markdown",
   "id": "382c4a56-867e-429c-a109-f0973c85923b",
   "metadata": {},
   "source": [
    "# Ziele für heute\n",
    "\n",
    "* Überblick über zentrale Konzepte der Python-Programmierung\n",
    "* Fokus auf Aspekte, die für die Arbeit mit den DAKODA-Daten gebraucht werden\n",
    "* Interaktives , häppchenweises Programmieren\n",
    "    * Beispiele und Übungen\n",
    "    * mögliche Lösungen für die Übungen sind verfügbar, aber zunächst versteckt\n",
    "* Sie müssen nicht alles sofort verstehen: die Notebooks bleiben verfügar und Sie können Inhalte später vertiefen.\n",
    "* Das Notebook richtet sich an Personen ohne Vorerfahrungen!\n"
   ]
  },
  {
   "cell_type": "markdown",
   "id": "d268b78ac0f8461d",
   "metadata": {},
   "source": [
    "# Jupyter-Notebooks\n",
    "\n",
    "* Jupyter-Notebook als  digitales Notizbuch\n",
    "    *  Notizen schreiben\n",
    "    * \"Experimente\" durchführen (Code ausführen) und\n",
    "    * Ergebnisse  einsehen können\n",
    "* Man kann fertige Notebooks dann auch in Dokumente umwandeln (siehe Menü: File->Save and Export Notebook As)\n",
    "* Notebooks: Schritt für Schritt arbeiten, kleine Codeabschnitte ausführen und unmittelbar sehen, was passiert.\n",
    "\n",
    "* Herkömmliche Programmierung: zuerst alles schreiben und dann ausführen\n",
    "* Code und Dokuemtation / Interpretation getrennt\n",
    "\n",
    "* Ein Notizbuch besteht aus **Zellen**\n",
    "    * einzelne Felder für verschiedene Arten von Inhalten\n",
    "    * Textzellen (Markdown): Diese enthalten Erklärungen, Anweisungen und Notizen – genau wie der Text in dieser Zelle.\n",
    "    * Codezellen: Diese enthalten Python-Code, der tatsächlich etwas bewirkt. Ergebnisse werden direkt unter Codezellen angezeigt.\n",
    "\n",
    "* **Markdown**-Formatierung\n",
    "    * [Markdown Cheat sheet](https://github.com/adam-p/markdown-here/wiki/markdown-cheatsheet)\n",
    "    * (In den Markdown-Zellen können Sie auch <span style=\"color:blue\">html</span> verwenden.)\n",
    "\n",
    "* Jupyter-Notebooks sind Dokumente mit einem **Inhaltsverzeichnis**! (Unter \"View\" kann man \"Table of Contents\" anzeigen)\n",
    "    * Wenn man in den Textzellen mit Markdown Überschriften setzt , werden diese im Inhaltsverzeichnis angezeigt.\n",
    "\n"
   ]
  },
  {
   "cell_type": "code",
   "execution_count": null,
   "id": "38ea4f3bb2f04867",
   "metadata": {
    "editable": true,
    "slideshow": {
     "slide_type": ""
    },
    "tags": []
   },
   "outputs": [],
   "source": [
    "print(\"Hallo Welt!\")"
   ]
  },
  {
   "cell_type": "markdown",
   "id": "ab756ef243630885",
   "metadata": {},
   "source": [
    "# Praktisches zur Benutzung von Notebooks\n",
    "\n",
    "* Zellen ausführen: auf eine Zelle klicken und  `Umschalt + Eingabetaste` drücken. Alternativ per Mausclick.\n",
    "    * Bei Codezellen erscheinen die Ergebnisse darunter in einer Ausgabezelle.\n",
    "    * Bei Textzellen wird die _Formatierung_ entsprechend angezeigt.\n",
    "    * NB: Sie können Ausgabezellen manuell leeren, wenn Sie aufräumen wollen.\n",
    "\n",
    "\n",
    "* Sequenzielles Arbeiten: Fangen  Sie oben an und arbeiten Sie sich nach unten vor.\n",
    "* ⚡ Viele Codezellen bauen auf früheren auf – ähnlich wie bei einem Rezept, bei dem jeder Schritt von den vorherigen abhängt.\n",
    "\n",
    "* Lesen Sie zuerst die Erläuterungen in den Textzellen, bevor Sie die Codezellen ausführen.\n",
    "* Führen Sie die Zellen einzeln aus, beobachten Sie, was passiert, verstehen Sie es und fahren dann mit der nächsten fort.\n",
    "* Experimentieren Sie: versuchen Sie, kleine Änderungen am Code zu machen, um zu sehen, was passiert.\n",
    "\n",
    "* Wenn etwas nicht funktioniert: Versuchen Sie, die darüber liegenden Zellen erneut auszuführen – manchmal muss der Code in der richtigen Reihenfolge ausgeführt werden.\n",
    "* Falls es Fehler gibt oder das Notebook \"hängt\": Sie können das Notebook neu starten und alles erneut ausführen.\n",
    "\n",
    "* NB: das Notebook, das Sie gerade verwenden ist für Sie natürlich veränderbar: Sie können neue Text- und Codezellen einfügen!\n"
   ]
  },
  {
   "cell_type": "code",
   "execution_count": null,
   "id": "810a9ae80eebfac6",
   "metadata": {},
   "outputs": [],
   "source": [
    "x=10*2\n",
    "print(x)"
   ]
  },
  {
   "cell_type": "markdown",
   "id": "48d984731caf33e0",
   "metadata": {},
   "source": [
    "* NB: auch wenn wir in der obigen Zelle den output löschen, ist die Information in der Variable weiterhin im Speicher und die späteren Zellen können auf sie zugreifen."
   ]
  },
  {
   "cell_type": "code",
   "execution_count": null,
   "id": "278e9d44680b9a80",
   "metadata": {
    "ExecuteTime": {
     "end_time": "2025-09-19T13:56:54.779565Z",
     "start_time": "2025-09-19T13:56:54.775993Z"
    }
   },
   "outputs": [],
   "source": [
    "print(x)"
   ]
  },
  {
   "cell_type": "markdown",
   "id": "3005c0889e12442c",
   "metadata": {},
   "source": [
    "# 'Magische' Befehle\n",
    "* Es gibt eine Reihe von Kommandos , die man in Codezellen ausführen kann, die nicht direkt die Programmausführung betreffen.\n",
    "* Manche der sog. \"magic\" Befehle erlauben einem Zugriff auf das Betriebssystem des Rechners, auf dem das Notebook läuft.\n",
    "    * !pwd - Zeigt das Arbeitsverzeichnis an, in dem man sich befindet.\n",
    "    * !command - führt einen Befehl des OS aus\n",
    "* Andere helfen bei der Fehlersuche oder der Optimierung des Codes.\n",
    "* Z.T. kann man mit ihnen Programme in anderen Programmiersprachen ausführen.\n",
    "\n",
    "Beispiele\n",
    "```python\n",
    "%pwd # = print working directory\n",
    "!ls # = list\n",
    "%load # lädt den Inhalt einer Datei in eine Zelle\n",
    "\n",
    "```\n",
    "\n",
    "* das Ausrufezeichen ! gibt einem Zugriff auf die Kommandozeile des Betriebssystems\n",
    "* das Prozentzeichen % markiert Sonderbefehle, die das Notebook bereithält.\n"
   ]
  },
  {
   "cell_type": "code",
   "execution_count": null,
   "id": "369fb0ab2dc2945a",
   "metadata": {
    "ExecuteTime": {
     "end_time": "2025-09-19T14:14:04.923550Z",
     "start_time": "2025-09-19T14:14:04.918787Z"
    }
   },
   "outputs": [],
   "source": [
    "!pwd"
   ]
  },
  {
   "cell_type": "code",
   "execution_count": null,
   "id": "519fd8ee2ae6352",
   "metadata": {
    "ExecuteTime": {
     "end_time": "2025-09-19T14:14:05.087710Z",
     "start_time": "2025-09-19T14:14:04.976661Z"
    }
   },
   "outputs": [],
   "source": [
    "!ls"
   ]
  },
  {
   "cell_type": "code",
   "execution_count": null,
   "id": "a5753bc0-a5b9-4a24-b4bb-1300887b63bc",
   "metadata": {},
   "outputs": [],
   "source": [
    "# %load ./snippets/comment.py\n",
    "# dies ist ein kommentar\n"
   ]
  },
  {
   "cell_type": "markdown",
   "id": "9b9297f6-c258-4335-bef7-d4a3d09e2d39",
   "metadata": {},
   "source": [
    "* Sie können nach dem Ausrufezeichen beliebige Befehle ausführen. Hier z.B. den `echo`-Befehl von Linux, der mit `print` vergleichbar ist."
   ]
  },
  {
   "cell_type": "code",
   "execution_count": null,
   "id": "8084d410-7110-4a2b-917d-db14ed9e63cf",
   "metadata": {},
   "outputs": [],
   "source": [
    "!echo \"allô monde!\""
   ]
  },
  {
   "cell_type": "markdown",
   "id": "238ce4ddccb94fa9",
   "metadata": {},
   "source": [
    "# Module und Pakete\n",
    "\n",
    "*  **Modul**:  Python-Datei mit Code (Funktionen, Klassen, Variablen), den man in anderen Python-Programmen verwenden kann.\n",
    "    * ~ eine Art Werkzeugkasten\n",
    "    * statt dieselben Werkzeuge immer wieder zu schreiben, erstellt man sie einmal und verwendet sie immer wieder\n",
    "    * generell: am besten wenig Code selber schreiben,  sondern bestehenden Code wiederverwenden\n",
    "* **Paket** ist eine Sammlung verwandter Module  in einem Ordner\n",
    "   * ~  eine Art Werkzeugschrank, der mehrere spezialisierte Werkzeugkästen (Module) für verwandte Aufgaben enthält.\n",
    "   * Beispiel: Das Pandas-Paket besteht aus vielen Modulen zur Datenmanipulation, die alle zusammen zusammengefasst sind, weil sie verwandte Probleme lösen. (Pandas ist ~ programmatisches Excel)\n",
    "\n",
    "\n",
    "\n"
   ]
  },
  {
   "cell_type": "markdown",
   "id": "ca81d27b12f23721",
   "metadata": {},
   "source": [
    "* Ein sehr wichtiger magischer Befehl zur Paketinstallation ist `pip`.\n",
    "* Nicht alle Python-Pakete, die es gibt, werden mit der Python-Grundinstallation auch gleich auf Ihrem Rechner installiert.\n",
    "* Die Idee ist, dass wir nur das installieren, was wir auch brauchen.\n",
    "\n",
    "```python3\n",
    "!pip install wikipedia\n",
    "```"
   ]
  },
  {
   "cell_type": "code",
   "execution_count": null,
   "id": "9d463c5bc1aa806a",
   "metadata": {},
   "outputs": [],
   "source": [
    "!pip install wikipedia\n"
   ]
  },
  {
   "cell_type": "markdown",
   "id": "dbe0d06580dcf0b5",
   "metadata": {
    "ExecuteTime": {
     "end_time": "2025-09-19T14:33:58.516643Z",
     "start_time": "2025-09-19T14:33:58.508804Z"
    }
   },
   "source": [
    "* Wir bekommen dann auf unserem Rechner Zugriff auf den Code im Paket `wikipedia`.\n",
    "* Um das Paket in unserem eigenen Code tatsächlich verfübar zu  machen , müssen wir es **importieren**."
   ]
  },
  {
   "cell_type": "code",
   "execution_count": null,
   "id": "7f9a75784501c6c8",
   "metadata": {
    "ExecuteTime": {
     "end_time": "2025-09-19T14:34:47.487647Z",
     "start_time": "2025-09-19T14:34:46.001391Z"
    }
   },
   "outputs": [],
   "source": [
    "import wikipedia\n",
    "wikipedia.set_lang(\"fr\")\n",
    "leiptsch=wikipedia.summary(\"Leipzig\")\n",
    "print(leiptsch)"
   ]
  },
  {
   "cell_type": "markdown",
   "id": "fb6ca25f-8dff-4f7c-b8e3-fa840b09e4bf",
   "metadata": {},
   "source": [
    "* Pakete, die man mit `pip`installieren kann, haben einen Eintrag auf https://pypi.org/project/.  \n",
    "* Dort ist auch die Dokumentation zu den Paketen verlinkt.\n",
    "* Für uns heute nicht relevant, aber generell wichtig zu wissen:\n",
    "    * Von vielen Paketen gibt es verschiedene Versionen, weil z.B. neue Funktionen hinzukommen oder die  Implementierung optimiert wird.\n",
    "    * Wenn sie im Netz Code-Beispiele sehen, die  lokal nicht bei Ihnen nicht funktionieren , kann das an Versionsunterschieden liegen."
   ]
  },
  {
   "cell_type": "markdown",
   "id": "92c50502fe52070f",
   "metadata": {},
   "source": [
    "# Python\n",
    "\n",
    "* Programmiersprache: \"ist eine **formale** Sprache zur Formulierung von **Datenstrukturen** und **Algorithmen**, d. h. von Rechenvorschriften, die von einem Computer ausgeführt werden können\" (vgl. \"Programmiersprache\", Wikipedia)\n",
    "* Muss auf Rechner installiert werden (auf Linux und Mac meist vorinstalliert)\n",
    "* Verschiedene Versionen: Python 2.x und **Python 3.x**"
   ]
  },
  {
   "cell_type": "code",
   "execution_count": null,
   "id": "713e1e01",
   "metadata": {
    "ExecuteTime": {
     "end_time": "2025-09-19T14:37:14.152928Z",
     "start_time": "2025-09-19T14:37:14.042257Z"
    }
   },
   "outputs": [],
   "source": [
    "# Überprüfung der Python-Version im Jupyter notebook\n",
    "!python -V\n"
   ]
  },
  {
   "cell_type": "markdown",
   "id": "9df43df1",
   "metadata": {},
   "source": [
    "Überprüfung der Python-Version in der interaktiven shell / Kommandozeile\n",
    "\n",
    "<img src=\"imgs/termcheck.gif\" width=\"750\" align=\"center\">"
   ]
  },
  {
   "cell_type": "markdown",
   "id": "b367cab0",
   "metadata": {
    "slideshow": {
     "slide_type": "slide"
    }
   },
   "source": [
    "# Ausführen von Python-Code\n",
    "\n",
    "* interaktive Umgebung: Terminal\n",
    "* Ausführen einer Code-Datei im Terminal\n",
    "    * Code-Datei mit `.py` Endung (z.B. `my_script.py`)\n",
    "    * typischerweise editiert mit einem speziellen Editor (z.B. Notepad++, Sublime Text, Visual Studio Code), der Code speziell formatiert\n",
    "* **Jupyter Notebook**: browser-basierte Umgebung"
   ]
  },
  {
   "cell_type": "markdown",
   "id": "9237f456",
   "metadata": {},
   "source": [
    "# Verwendung im Terminal\n",
    "\n",
    "* Der Befehl `python` auf der Kommandozelle startet eine interaktive Python-Shell.\n",
    "* In der Shell kann dann Python-Code eingegeben  werden, der direkt ausgeführt wird.\n"
   ]
  },
  {
   "cell_type": "code",
   "execution_count": null,
   "id": "f9fae539-5b4d-4e92-baf8-6dcf8161cf6a",
   "metadata": {},
   "outputs": [],
   "source": [
    "# Kommentarzeile, markiert durch '#'. Wird nicht als Code interpretiert.\n",
    "# print-Funktion: Ausgabe im Terminal , in einer interaktiven Python-Shell oder einem Jupyter Notebook\n",
    "\n",
    "# String in doppelten oder einfachen Anführungszeichen\n",
    "print(\"Hello World\")\n",
    "print('Hallo Welt!')\n",
    "\n",
    "# Summen  bilden, Ergebnisse an Variablen x und y zuweisen\n",
    "x=4+2\n",
    "y=1+2.32\n",
    "# Ausgabe der Ergebnisse\n",
    "print(x)\n",
    "print(y)\n",
    "# Operator '+' kann auch für die Konkatenation von Strings verwendet werden\n",
    "\"Phon\"+\"ologie\""
   ]
  },
  {
   "cell_type": "markdown",
   "id": "d67a98af-f13e-41f9-8633-87c9113c9cfd",
   "metadata": {},
   "source": [
    "# Hilfe zu Funktionen "
   ]
  },
  {
   "cell_type": "code",
   "execution_count": null,
   "id": "29c9eb82-2f57-467a-82f1-30eff057451b",
   "metadata": {},
   "outputs": [],
   "source": [
    "# wir können uns von python selbst Information zu den verfügbaren Funktionen per help anzeigen lassen\n",
    "help(len)\n",
    "help(print)"
   ]
  },
  {
   "cell_type": "code",
   "execution_count": null,
   "id": "178daaab-6e09-4588-b345-31a009ab2e6b",
   "metadata": {},
   "outputs": [],
   "source": [
    "print(\"papa was a rolling stone\")\n",
    "# wir können  mit print also  auch Folgendes tun\n",
    "print(\"papa\" , \"was\" , \"a\" ,\"rolling\", \"stone\")\n",
    "print(\"papa\" , \"was\" , \"a\" ,\"rolling\", \"stone\", sep=\"  \")"
   ]
  },
  {
   "cell_type": "markdown",
   "id": "e9760ea4-d85a-4700-adf5-3971230fe0d7",
   "metadata": {},
   "source": [
    "# Bestandteile von Python-Programmen"
   ]
  },
  {
   "cell_type": "code",
   "execution_count": null,
   "id": "d9f00666-68e3-4d24-96c6-e28518154fb0",
   "metadata": {},
   "outputs": [],
   "source": [
    "# namen ist eine Variable\n",
    "# [\"Noah\", \"Matteo\", \"Elias\", \"Luca\", \"Leon\", \"Theo\", \"Finn\", \"Paul\",\"Emil\", \"Henry\"]  ist eine Liste von  Strings\n",
    "# Es sind die 10 häufigste Namen für Jungen in 2024 in DE.\n",
    "# Listen kann man mit eckigen Klammern definieren.\n",
    "namen = [\"Noah\", \"Matteo\", \"Elias\", \"Luca\", \"Leon\", \"Theo\", \"Finn\", \"Paul\",\"Emil\", \"Henry\"] \n",
    "\n",
    "# longest ist eine weitere Variable\n",
    "longest=\"\"\n",
    "# die for-Schleife ist eine Kontrollstruktur\n",
    "for name in namen:\n",
    "    # der if-Test ist eine Kontrollstruktur\n",
    "    # Die Funktion len() ist eine in Python eingebaute (built-in) Funktion: man muss nichts extra installieren, um sie verfügbar zu haben.\n",
    "    # das Größerzeichen > ist ein sogenannter operator (mehr Details unten)\n",
    "    if len(name)>len(longest):\n",
    "        # das Gleichheitszeichen = ist auch ein operator\n",
    "        longest=name\n",
    "    print(name)\n",
    "print(f\"längster Name: {longest}\")"
   ]
  },
  {
   "cell_type": "markdown",
   "id": "e5a515e6-02ca-430f-a0c6-aaa4d34d43b1",
   "metadata": {},
   "source": [
    "\n",
    "## 🚀 Literale vs Variablen vs Ausdrücke\n",
    "\n",
    "* die einzelnens Strings in der Liste namen oben sind sog. Literale\n",
    "* Ein Literal in der Programmierung ist ein fester Wert, den man direkt in den Code schreibt, um Daten darzustellen. \n",
    "* Es handelt sich dabei um den tatsächlichen Wert selbst, nicht um eine Variable oder um einen Ausdruck, der berechnet werden muss.\n",
    "\n",
    "```python3\n",
    "x = 42          # 42 ist ein Literal, x ist eine Variable\n",
    "y = x + 10      # `x + 10` ist ein Ausdruck (die Zahl 10 darin ist aber ein Literal)\n",
    "name = \"Alice\"  # \"Alice\" ist ein Literal, name ist eine Variable\n",
    "is_5_even = True # is_5_even ist eine Variable, True ist ein Literal\n",
    "``` \n"
   ]
  },
  {
   "cell_type": "markdown",
   "id": "8cf14262-f1f3-41cf-8722-b481dcac4653",
   "metadata": {},
   "source": [
    "**Weiteres**\n",
    "* Die Funktion len() gibt die Anzahl der Elemente in einem Objekt zurück, z. B. die Anzahl der Buchstaben in einem String oder die Anzahl der Elemente in einer Liste.\n",
    "* len() kann auch  auf viele weitere Arten von \"Container\"-artigen Objekten angewendet  werden.\n",
    "* Die Funktion len() braucht ein Argument , das ihr in den runden Klammern übergeben wird."
   ]
  },
  {
   "cell_type": "markdown",
   "id": "741db66f-e590-45ce-bc53-af2de0fed1ae",
   "metadata": {
    "jp-MarkdownHeadingCollapsed": true
   },
   "source": [
    "# Formatierung mit Einrückungen\n",
    "\n",
    "* ⚡ Das Einrücken von Code dient in erster Linie dazu, die Struktur und den Geltungsbereich von Code zu definieren – sie sagt Python, welche Codezeilen als Block zusammengehören.\n",
    "* In der Regel arbeitet man mit 4 spaces oder einem Tab.\n",
    "* Die genaue Größe der Einrückung ist nicht so wichtig. Wichtig ist, dass jede Einrückungsebene gleich markiert ist.\n",
    "* Dadurch entsteht eine visuelle Hierarchie, die der logischen Struktur des Programms entspricht.\n",
    "* Im Code-Block oben garantiert die Platzierung der Anweisung `print(name)`, dass jeder in der Schleife durchlaufene Name gedruckt wird.\n",
    "* Würden wir das print-Statement noch eine Ebene weiter einrücken, so dass es mit `longest=name` aligniert ist, dann würde `name` nur dann gedruckt, wenn die Bedingung im if-Test erfüllt ist."
   ]
  },
  {
   "cell_type": "markdown",
   "id": "6c98593f",
   "metadata": {},
   "source": [
    "# Objekte und Typen \n",
    "\n",
    "* Wir programmieren mit unterschiedlichen Arten von Objekten.\n",
    "* Wir können den Typ eines Objektes überprüfen, indem wir den Befehl <span style=\"color:blue\">type()</span> verwenden.\n",
    "\n",
    "```py\n",
    "type(5)\n",
    "type(\"Hallo Welt\")\n",
    "```\n",
    "\n",
    "* Einige eingebaute Haupttypen:\n",
    "    * int(eger) - ganze Zahl\n",
    "    * float - Fließkommazahl\n",
    "    * str(ing) - Text\n",
    "* NB: auch Funktionen haben einen Typ!\n",
    "\n"
   ]
  },
  {
   "cell_type": "code",
   "execution_count": null,
   "id": "ff080410",
   "metadata": {},
   "outputs": [],
   "source": [
    "print(type(5))\n",
    "print(f\"Hallo Welt ist ein {type('Hallo Welt')}\")\n",
    "\n",
    "\n",
    "# Beachten sie: das x in der nächsten Programmzelle haben wir in dieser Zelle  gar nicht definiert\n",
    "# Das Notebook greift wieder auf das x aus einer Zelle weiter oben zu!\n",
    "# das \"f\" zu Beginn des print-Befehls erlaubt uns, den Wert einer Variable in den String einzubauen.\n",
    "# Mehr Information dazu gibt es weiter unten unter der Überschrift \"Ausgabe von Text!.\n",
    "print(f\"x ist ein {type(x)}\")\n",
    "\n",
    "# dasselbe gilt für y\n",
    "print(f\"y ist ein {type(y)}\")\n",
    "print(f\"print ist ein {type(print)}\")\n"
   ]
  },
  {
   "cell_type": "markdown",
   "id": "198b13f4-0ae3-40b4-be18-eafa1dc1209a",
   "metadata": {},
   "source": [
    "* In Python kann man einer Variablen nacheinander Inhalte verschiedenen Typs zuweisen.\n",
    "* Z.B. kann y auch als Variable für einen String dienen."
   ]
  },
  {
   "cell_type": "code",
   "execution_count": null,
   "id": "37a5a64e-b68d-4fa2-a266-b00d4f22b6b2",
   "metadata": {},
   "outputs": [],
   "source": [
    "y=\"European Chapter\"\n",
    "print(f\"y ist jetzt ein {type(y)}\")"
   ]
  },
  {
   "cell_type": "markdown",
   "id": "2ef264bd",
   "metadata": {},
   "source": [
    "## 🫵 Your turn\n",
    "\n",
    "* Ergeben `1+2` und `'1'+'2'` die gleichen Werte ❓"
   ]
  },
  {
   "cell_type": "code",
   "execution_count": null,
   "id": "20645034",
   "metadata": {},
   "outputs": [],
   "source": [
    "a=1+2\n",
    "print(a)\n",
    "print(type(a))\n",
    "b='1'+'2'\n",
    "print(b)\n",
    "print(type(b))\n"
   ]
  },
  {
   "cell_type": "markdown",
   "id": "72df22d7-1805-4452-8b99-1436e5a0c326",
   "metadata": {},
   "source": [
    "## 🫵Your turn\n",
    "\n",
    "* Was passiert in den nachfolgenden Beispielen ❓\n",
    "* Es kann zu Fehlern kommen ;)\n",
    "  * Wagen Sie eine Prognose, was funktioniert und was nicht!  "
   ]
  },
  {
   "cell_type": "code",
   "execution_count": 15,
   "id": "b55b3e0a-f60a-4481-af10-a25b6070c2c3",
   "metadata": {},
   "outputs": [
    {
     "name": "stdout",
     "output_type": "stream",
     "text": [
      "['ho', 'ho', 'ho', 'ho', 'ho', 'ho', 'ho', 'ho', 'ho', 'ho']\n",
      "+-+-+-+-+-+-+-+-+-+-+-+-+-+-+-+-+-+-+-+-\n"
     ]
    },
    {
     "ename": "TypeError",
     "evalue": "unsupported operand type(s) for -: 'str' and 'str'",
     "output_type": "error",
     "traceback": [
      "\u001b[0;31m---------------------------------------------------------------------------\u001b[0m",
      "\u001b[0;31mTypeError\u001b[0m                                 Traceback (most recent call last)",
      "Cell \u001b[0;32mIn[15], line 4\u001b[0m\n\u001b[1;32m      2\u001b[0m \u001b[38;5;28mprint\u001b[39m(nick\u001b[38;5;241m*\u001b[39m\u001b[38;5;241m10\u001b[39m)\n\u001b[1;32m      3\u001b[0m \u001b[38;5;28mprint\u001b[39m(\u001b[38;5;124m\"\u001b[39m\u001b[38;5;124m+-\u001b[39m\u001b[38;5;124m\"\u001b[39m \u001b[38;5;241m*\u001b[39m \u001b[38;5;241m20\u001b[39m)\n\u001b[0;32m----> 4\u001b[0m \u001b[38;5;28mprint\u001b[39m(\u001b[38;5;124;43m\"\u001b[39;49m\u001b[38;5;124;43mhello\u001b[39;49m\u001b[38;5;124;43m\"\u001b[39;49m\u001b[38;5;241;43m-\u001b[39;49m\u001b[38;5;124;43m\"\u001b[39;49m\u001b[38;5;124;43mlo\u001b[39;49m\u001b[38;5;124;43m\"\u001b[39;49m)\n\u001b[1;32m      5\u001b[0m \u001b[38;5;28mprint\u001b[39m(\u001b[38;5;124m\"\u001b[39m\u001b[38;5;124m-\u001b[39m\u001b[38;5;124m\"\u001b[39m \u001b[38;5;241m-\u001b[39m \u001b[38;5;241m4\u001b[39m)\n",
      "\u001b[0;31mTypeError\u001b[0m: unsupported operand type(s) for -: 'str' and 'str'"
     ]
    }
   ],
   "source": [
    "nick = [\"ho\"]\n",
    "print(nick*10)\n",
    "print(\"+-\" * 20)\n",
    "print(\"hello\"-\"lo\")\n",
    "print(\"-\" - 4)\n",
    "\n"
   ]
  },
  {
   "cell_type": "markdown",
   "id": "e346efa1",
   "metadata": {},
   "source": [
    "## Konversion zwischen Typen\n",
    "\n",
    "* Es gibt Funktionen , die zwischen (geeigneten) Strings, Integers und Floats konvertieren können."
   ]
  },
  {
   "cell_type": "code",
   "execution_count": null,
   "id": "7bdc42c5",
   "metadata": {},
   "outputs": [],
   "source": [
    "a=3\n",
    "print(type(a))\n",
    "\n",
    "a2=str(a)\n",
    "print(type(a2))\n",
    "\n",
    "b='3.14'\n",
    "print(type(b))\n",
    "\n",
    "b2=float(b)\n",
    "print(type(b2))\n",
    "\n",
    "my_sum=b2+a\n",
    "print(my_sum)\n"
   ]
  },
  {
   "cell_type": "markdown",
   "id": "b779db53",
   "metadata": {},
   "source": [
    "# Funktionen \n",
    "\n",
    "* Eine Funktion ist ein Code-Block, der nur ausgeführt wird, wenn er aufgerufen wird.\n",
    "* Wir können Daten, sogenannte Parameter oder Argumente, an eine Funktion übergeben.\n",
    "* Eine Funktion kann Daten als Ergebnis zurückgeben.\n",
    "    * Sie muss es aber nicht zwingend: vielleicht schreibt  die Funktion nur Dinge in eine Datei.\n",
    "* Funktionen werden mit ihrem Namen und Parametern aufgerufen: `function_name(parameter1, parameter2,...)`.\n",
    "* Python hat viele eingebaute Funktionen wie `print()`, `type()`, `str()`, `int()`, `float()`, ...\n",
    "* Wir können auch eigene Funktionen erstellen.\n",
    "\n",
    "\n",
    "<!--* Eine mathematische Funktion wie f(x) = x² gibt bei derselben Eingabe (z.B. 2) immer denselben Wert (4) zurück. \n",
    "* Eine Python-Funktion kann  bei jedem Aufruf unterschiedliche Werte zurückgeben, selbst bei identischen Eingaben, wenn sie von externen Faktoren abhängt. -->\n",
    "\n"
   ]
  },
  {
   "cell_type": "markdown",
   "id": "72a42e75",
   "metadata": {},
   "source": [
    "# Wie man eigene Funktionen definiert\n",
    "\n",
    "* keyword `def` für Definition einer Funktion\n",
    "* `function_name` ist der Name der Funktion\n",
    "* `parameters` sind optional, werden durch Kommata getrennt\n",
    "* Das Semikolon `:` markiert den Anfang des Funktionskörpers\n",
    "* `return` gibt einen Wert zurück, falls eine Funktion einen Wert zurückgibt\n",
    "\n",
    "```\n",
    "def function_name(parameter_a, parameter_b):\n",
    "    ...\n",
    "    return ... \n",
    "```"
   ]
  },
  {
   "cell_type": "code",
   "execution_count": null,
   "id": "6bdd0712",
   "metadata": {},
   "outputs": [],
   "source": [
    "def add_numbers(a, b):\n",
    "    return a + b\n",
    "\n",
    "# Aufruf der Funktion und Zweisung an die Variable result\n",
    "result = add_numbers(3, 5)\n",
    "print(result)\n"
   ]
  },
  {
   "cell_type": "markdown",
   "id": "c53dafbf-7bc7-4faf-8f96-40cdf93a55e1",
   "metadata": {},
   "source": [
    "# 🫵 Your Turn\n",
    "\n",
    "* Wir verarbeiten die Metadaten eines L1-Lerner-Korpus. \n",
    "* Wir kennen für die Texte des Korpus \n",
    "    - das Jahr , in dem sie geschrieben wurden\n",
    "    - das Jahr , in dem die Autorin geboren wurde.\n",
    "* Wir brauchen eine Funktion, die berechnet, wie viele Monate lang die Autorin schon Spracherfahrung mit ihrer L1 hatte.\n",
    "* Schreiben Sie eine Funktion, die diese Berechnung ausführt.\n",
    "\n",
    "\n",
    "\n",
    "\n"
   ]
  },
  {
   "cell_type": "code",
   "execution_count": 22,
   "id": "54509c62-e11e-4a17-adb8-b330a4ba5559",
   "metadata": {},
   "outputs": [
    {
     "name": "stdout",
     "output_type": "stream",
     "text": [
      "84\n"
     ]
    }
   ],
   "source": [
    "def calculate_exposure_months(birth_year, text_creation_year):\n",
    "    return (text_creation_year - birth_year) * 12\n",
    "\n",
    "months = calculate_exposure_months(2000,2007)\n",
    "print(months)"
   ]
  },
  {
   "cell_type": "markdown",
   "id": "ea5b7ae6-c92c-4398-846d-bcf715245edc",
   "metadata": {},
   "source": [
    "# Operatoren\n",
    "\n",
    "## Unterarten\n",
    "\n",
    "\n",
    "* Assignment: =, +=, -=, etc.\n",
    "* Comparison: ==, !=, >, <, >=, <=\n",
    "* Arithmetic: +, -, *, /, etc.\n",
    "* Logical: and, or, not\n",
    "* Membership: in\n",
    "\n",
    "## Nähe zu Funktionen\n",
    "* Operatoren und Funktionen nehmen beide Eingaben entgegen und erzeugen Ausgaben. \n",
    "* Tatsächlich können viele Operatoren als Kurzform für Funktionsaufrufe betrachtet werden. \n",
    "* Python bietet sogar explizite Funktionsäquivalente für Operatoren:"
   ]
  },
  {
   "cell_type": "code",
   "execution_count": null,
   "id": "c953da9e-0b9e-4b58-9b0f-e23f8701d04e",
   "metadata": {},
   "outputs": [],
   "source": [
    "import operator\n",
    "a=3\n",
    "b=2\n",
    "print(a + b)\n",
    "print(operator.add(a, b))\n"
   ]
  },
  {
   "cell_type": "markdown",
   "id": "97432e29-96b3-44e2-8d3f-176c06517d35",
   "metadata": {},
   "source": [
    "# Klassen und Methoden"
   ]
  },
  {
   "cell_type": "markdown",
   "id": "6117cc4e-76ce-4a80-9beb-0b0c13b55628",
   "metadata": {},
   "source": [
    "* Oben haben wir von Typen und Objekten  gesprochen.\n",
    "* Wir können statt von Typen auch von Klassen sprechen.\n",
    "    * (In älteren Versionen von Python waren Typen und Klassen unterschiedliche Dinge, jetzt meinen sie aber dasselbe.)\n",
    "* Meist sprechen wir von Klassen, wenn es von uns selbst definierte Klassen sind.\n",
    "* Aber wir können auch `int`, `float` als Klassen bezeichnen.\n",
    "* ⚡ Alles in Python ist ein Objekt, das zu einer Klasse / einem Typ gehört.\n"
   ]
  },
  {
   "cell_type": "code",
   "execution_count": null,
   "id": "05de37dc-297f-4091-a01e-1c116e10e183",
   "metadata": {},
   "outputs": [],
   "source": [
    "# Die Klasse \"Learner\" hat  zwei Attribute: den Namen einer Lerner:in und die L1.\n",
    "class Learner:\n",
    "    # Initialisierungsmethode die ausgeführt wird, wenn eine neue Instanz der Klasse erzeugt wird\n",
    "    def __init__(self, name, first_lang):\n",
    "        self.name = name\n",
    "        self.l1 = first_lang\n",
    "\n",
    "    # eine Gruß-Methode\n",
    "    # sie gibt einen String zurück, in den der Name der Person eingefügt wird\n",
    "    def say_hello(self):\n",
    "        return f\"Hello, my name is {self.name}!\"\n",
    "\n",
    "    # diese Methode gibt die Erstrsprache der Person zurück\n",
    "    def state_l1(self):\n",
    "        return f\"My first language is {self.l1}.\"\n",
    "\n",
    "# Erstellung eines Objektes (= Instanz einer selbst-definierten Klasse)\n",
    "# Wir müssen die für die Klasse definierten Felder name und first lang an die __init__ Methode übergeben.\n",
    "# Die Notation `Class(parameters)` bedeutet, dass wir ein Objekt der Klasse erzeugen \n",
    "# und die parameter an die __init__ Methode der Klasse übergeben, um die Attribute der Klasse zu setzen.\n",
    "student = Learner(\"Max\", \"Swahili\")\n"
   ]
  },
  {
   "cell_type": "code",
   "execution_count": null,
   "id": "8daf5421-88f2-4ba7-af2f-9bcb4bba53d1",
   "metadata": {},
   "outputs": [],
   "source": [
    "# Aufruf einer Methode auf einem Objekt\n",
    "student.say_hello()"
   ]
  },
  {
   "cell_type": "code",
   "execution_count": null,
   "id": "8240d02a-95d3-4b8a-8027-fcff4430e587",
   "metadata": {},
   "outputs": [],
   "source": [
    "student.state_l1()"
   ]
  },
  {
   "cell_type": "code",
   "execution_count": null,
   "id": "350e1bc0-47a2-498f-8731-e176e905655c",
   "metadata": {},
   "outputs": [],
   "source": [
    "# Wir können die type-Funktion auf Objekte unserer selbst-gestrickten Klasse anwenden.\n",
    "print(type(student2))\n",
    "student2.say_hello()\n",
    "student2.name = \"Ashley\"\n",
    "student2.say_hello()"
   ]
  },
  {
   "cell_type": "markdown",
   "id": "0878f1b7-f0cb-4c9e-8508-07db99ddd4ad",
   "metadata": {},
   "source": [
    "* Eine Methode ist eine Funktion, die einem Objekt zugeordnet ist.\n",
    "* Diese Funktion kann auf das Objekt angewendet werden, um es zu ändern oder zu erweitern.\n",
    "* Methoden werden durch `.` gefolgt von dem Objekt und den Parametern aufgerufen: `object.method_name(parameter1, parameter2,...)`."
   ]
  },
  {
   "cell_type": "markdown",
   "id": "7fa6e704-8838-43b3-82b0-8d4607956f1c",
   "metadata": {},
   "source": [
    "\n",
    "*  🚀 Wir können Methoden wie `say_hello` nicht auf der Klasse aufrufen -- nur auf einem Objekt / einer Instanz der Klasse -- und auch  losgelöst von der Klasse.\n"
   ]
  },
  {
   "cell_type": "code",
   "execution_count": null,
   "id": "1627c100-a4af-44aa-80c5-53f62ced5a6d",
   "metadata": {},
   "outputs": [],
   "source": [
    "try:\n",
    "    Learner.say_hello()\n",
    "except:\n",
    "    print(\"Geht  nicht!\")\n",
    "\n",
    "try:\n",
    "    say_hello()\n",
    "except:\n",
    "    print(\"Geht gar nicht!\")\n",
    "\n"
   ]
  },
  {
   "cell_type": "markdown",
   "id": "70acf3bc-1aa1-4338-b2f8-7486f47b721f",
   "metadata": {},
   "source": [
    "**Details**\n",
    "\n",
    "* Fehler und Ausnahmen können die Ausführung eines Programms unterbrechen. \n",
    "* Python verfügt mit try- und except-Blöcken an Mitteln, um solche Situationen zu behandeln. \n",
    "* Wenn im try-Block ein Fehler auftritt, bricht Python die Ausführung des try-Blocks ab und springt zum exception-Block. \n",
    "* Mit diesen Blöcken können Sie die Fehler behandeln, ohne dass das Programm abstürzt.\n",
    "\n"
   ]
  },
  {
   "cell_type": "markdown",
   "id": "291dcdc8",
   "metadata": {},
   "source": [
    "# String-Methoden\n",
    "\n",
    "* Strings in Python sind Objekte der String-Klasse und haben viele Methoden, die wir verwenden können.\n",
    "* NB: Der Methodenname wird durch einen Punkt vom Objektnamen getrennt.\n",
    "* Methoden können auch Argumente haben (siehe z.B. `startswith` , `endswith` und `count` unten ).\n",
    "* Überblick über String-Methoden: https://www.w3schools.com/python/python_ref_string.asp"
   ]
  },
  {
   "cell_type": "code",
   "execution_count": null,
   "id": "ac8a829e-92dc-4640-82ab-f0ce2cdc4e38",
   "metadata": {},
   "outputs": [],
   "source": [
    "name=\"Linus Torvalds\"\n",
    "print(name.lower())\n",
    "print(name.upper())"
   ]
  },
  {
   "cell_type": "code",
   "execution_count": null,
   "id": "48de53a7-541e-4200-b2fa-c71f4d96d175",
   "metadata": {},
   "outputs": [],
   "source": [
    "# Test von Eigenschaften\n",
    "print(name.startswith(\"Linus\"))\n",
    "print(name.endswith(\"lds\"))\n",
    "\n",
    "\n",
    "# Zählen von Zeichenvorkommen\n",
    "print(f\"How many s in Linus? {name.count('s')}\")\n",
    "name2=\"R2D2\"\n",
    "print(f\"How many '2' in R2D2? {name2.count('2')}\")"
   ]
  },
  {
   "cell_type": "code",
   "execution_count": null,
   "id": "4a1ee332-65aa-46e3-a59f-9a99cfad4c47",
   "metadata": {},
   "outputs": [],
   "source": [
    "# Erzeugen von geänderten Varianten des Strings: wir ersetzen alle 's' durch 'x'\n",
    "place=\"Mississippi\"\n",
    "print(place.replace(\"s\", \"x\"))\n",
    "# place selbst wird nicht verändert\n",
    "print(f\"place is {place}\")\n",
    "# um die neue Variante verfügbar zu halten, müssen wir sie einer Variable zuweisen\n",
    "new_place= place.replace(\"s\", \"x\")\n",
    "print(f\"new_place is {new_place}\")"
   ]
  },
  {
   "cell_type": "code",
   "execution_count": null,
   "id": "846dcf5d-a169-4e40-8f70-1dbd61ec3e3b",
   "metadata": {},
   "outputs": [],
   "source": [
    "# Einige häufige Änderungen an strings\n",
    "satz=\" Er reagierte damit auf die Veröffentlichung von E-Mails, die den Diplomaten mit dem Sexualstraftäter Epstein in Verbindung bringen. \"\n",
    "# Entfernen von white space am Anfang und Ende eines Strings.\n",
    "satz_ohne_finalen_whitespace=satz.strip()\n",
    "print(f\"|{satz_ohne_finalen_whitespace}|\")\n",
    "\n",
    "# Es gibt neben `strip()` auch `lstrip()` und `rstrip()`. Was machen die wohl?"
   ]
  },
  {
   "cell_type": "code",
   "execution_count": null,
   "id": "f5688f17-d973-460a-ae12-8e61673960ea",
   "metadata": {},
   "outputs": [],
   "source": [
    "# split() erzeugt aus einem String eine Liste von Teilen , die jeweils durch ein Trennzeichen voneinander getrennt sind.\n",
    "# Ruft man die Funktion ohne Parameter auf, wird das Leerzeichen als Default-Trennzeichen angenommen. \n",
    "# Das bietet für das Deutsche eine erste , naive Form der Tokenisierung.\n",
    "tokens=satz.split()\n",
    "print(tokens)\n",
    "# Man kann natürlich auch andere Trennzeichen verwenden.\n",
    "parts=satz.split(\",\")\n",
    "print(parts)"
   ]
  },
  {
   "cell_type": "markdown",
   "id": "df4fc235-2f1c-409e-ad42-a2534e6e376c",
   "metadata": {},
   "source": [
    "# ✔️ Zusammenfassung: Hauptkonzepte von Programmen\n",
    "\n",
    "\n",
    "* Programme bestehen aus\n",
    "    * Variablen (Etiketten für Daten),\n",
    "    * Literalen (direkt informative Werte),\n",
    "    * Ausdrücke (Material, aus dem Man Werte ermitteln  kann)\n",
    "    * Kontrollstrukturen (Strukturen, die den Programmfluss regulieren)\n",
    "    * Funktionen und Operatoren (Prozessen, die aus Eingaben  Ausgaben generieren)\n",
    "* und sie verwenden Einrückungen zur Strukturierung\n",
    "\n",
    "Im Beispiel unten ist:\n",
    "\n",
    "* `check_for_palindrome` der Name der Funkion\n",
    "* `text` ein Parameter der Funktion\n",
    "* `text` ist auch eine Variable innerhalb der Funkion und kein Literal\n",
    "* \"Ja\" und \"Nein\" sind string-Literale\n",
    "* `is_palindrome` ist eine Variable (die entweder den Wert True oder False erhält)\n",
    "* `if-else` ist eine Kontrollstruktur    \n",
    "* `( text == text[::-1] )` ist ein Ausdruck der ausgewertet wird, um den Wahrheitswert für is_palindrome zu ermitteln\n",
    "* `==` ist der Gleichheitsoperator; seine Argmente sinid `text` und `text[::-1]`\n",
    "* Der String zwischen \"\"\" und \"\"\"  ist ein Kommentar zur Dokumentation der Funktion.\n",
    "\n",
    "```python\n",
    "def check_for_palindrome(text):\n",
    "    \"\"\"Prüfe ob text ein Palindrom ist\"\"\"\n",
    "    is_palindrome = ( text == text[::-1] )\n",
    "    if is_palindrome:\n",
    "        return \"Ja\"\n",
    "    else:\n",
    "        return \"Nein\"\n",
    "```\n",
    "\n",
    "\n",
    "* Alles in Python ist ein Objekt.\n",
    "* Jedes Objekt ist die Instanz einer Klasse bzw eines Typs. (Z.b. ist 1 eine Instanz des Typs `int`).\n",
    "* Man kann mit type() die Klasse eines Objekts nachsehen.\n",
    "* Bei geeigneten Werten kann man zwischen manchen Klassen konvertieren. (Z.b. aus dem String '12' die Zahl 12 machen.)\n",
    "\n",
    "* Neben den eingebauten Klassen/Typen wie int,float,string können wir unsere eigenen Klassen definieren.\n",
    "* Funktionen, die speziell an bestimmten Klassen hängen , weil sie deren Daten manipulieren, heissen Methoden.\n",
    "* Operatoren wie '+' und '=' sind im Wesentlichen auch Funktionen, nur mit einer besonderen Syntax.\n",
    "\n",
    "\n"
   ]
  },
  {
   "cell_type": "markdown",
   "id": "6d00f565-61da-4279-b229-9e94387996d7",
   "metadata": {},
   "source": [
    "# Daten-Eingabe und -Ausgabe\n",
    "\n",
    "* Oben haben wir gesehen, dass wir in einem Jupyter-Notebook bzw einer Terminal-Session von Hand Informationen eingeben können, die wir mit Programm-Anweisungen bearbeiten wollen.\n",
    "* Im Normalfall haben wir aber Datenmengen, die wir nicht selbst eintippen wollen (oder am Ende händisch kopieren und in eine Datei schreiben wollen.)\n",
    "* Wir wollen daher Informationen aus Dateien einlesen bzw. in Dateien schreiben.\n"
   ]
  },
  {
   "cell_type": "markdown",
   "id": "efc476ce-4ae7-4782-bf4e-9246e8969c47",
   "metadata": {},
   "source": [
    "## Einlesen einer Textdatei auf dem lokalen Rechner\n",
    "\n",
    "* Mit dem Befehl `open` können wir Dateien öffnen.\n",
    "* Ein simpler, aber häufiger Fall ist das Öffnen von einfachen Textdateien."
   ]
  },
  {
   "cell_type": "code",
   "execution_count": null,
   "id": "25683316-2d80-45d3-8b3c-94729c05daaf",
   "metadata": {},
   "outputs": [],
   "source": [
    "# wir verwenden eine Text-Datei aus dem Merlin-Korpus\n",
    "path_to_file=\"./data/1091_0000265.txt\"\n",
    "# Die open-Funktion nimmt mehrere Argumente. Das wichtigste ist das erste, der Pfad zur Datei.\n",
    "# Der zeite Parameter , das \"r\", sagt, dass wir die Datei lesen (read) wollen, statt sie z.B. schreiben zu wollen.\n",
    "# der dritte Parameter gibt den Zeichensatz an. Heute sollte das in den meisten Fällen utf-8 sei.\n",
    "# open gibt ein sog. file object zurück , unten das 'f'.\n",
    "with open(path_to_file,\"r\", encoding='utf-8') as f:\n",
    "    # mit der Methode readlines lesen wir den Datei-Inhalt aus dem file-objekt f  in eine Liste von Zeilen.\n",
    "    lines=f.readlines()\n",
    "print(lines)\n",
    "\n",
    "# Wir schauen uns die Datei zeilenweise an.\n",
    "# Wir verwenden die enumerate-Funktion um neben den Zeilen auch gleich einen Zähler zu bekommen.\n",
    "for ix,z  in enumerate(lines):\n",
    "    line = z.strip()\n",
    "    print(f\"Z{ix}: {line}\")\n",
    "# Wir sehen, dass die Zeilen nicht einzelne Sätze enthalten, sondern zum Teil Folgen von Sätzen."
   ]
  },
  {
   "cell_type": "markdown",
   "id": "be7f5984-85a7-4655-8594-a971d21e12af",
   "metadata": {},
   "source": [
    "Weitere Details:\n",
    "* Vor dem open-Befehl verwenden wir im Beispiel oben `with `. Dieses Konstrukt dient dazu sicherzustellen, dass die Datei unbeschadet bleibt, auch wenn während der Programmausführung etwas schief geht.\n",
    "* Wir könnten auch einfach folgende Variante verwenden, die den Schutz durch den sogenannten Context mananger  `with` nicht verwendet.\n",
    "* NB: wir beenden den Dateizugriff explizit mit `close`.\n",
    "\n",
    "```python\n",
    "f=open(path_to_file,\"r\", encoding='utf-8')\n",
    "lines=f.readlines()\n",
    "f.close()\n",
    "print(lines)\n",
    "\n",
    "```\n",
    "  "
   ]
  },
  {
   "cell_type": "code",
   "execution_count": null,
   "id": "d3285ded-393d-41ad-848a-34c0cac564a9",
   "metadata": {},
   "outputs": [],
   "source": [
    "\n",
    "with open(path_to_file,\"r\", encoding='utf-8') as f:\n",
    "    # mit der Methode read lesen wir den Datei-Inhalt in einen einzigen langen String.\n",
    "    text=f.read()\n",
    "print(text)\n"
   ]
  },
  {
   "cell_type": "markdown",
   "id": "7d17663a-20bb-4904-bb77-2f9c996ecda3",
   "metadata": {},
   "source": [
    "## Erstes Beispiel: Wörter zählen\n",
    "\n",
    "* Wir möchten Folgendes zählen:\n",
    "    * die Anzahl aller Token im Text der oben geladenenen Datei.\n",
    "    * für jede Wortform, wie häufig sie ist\n",
    "\n",
    "* Vorgehen (\"Algorithmus\")\n",
    "    * Wir betrachten nacheinander alle Zeilen.\n",
    "    * Wir spalten jede Zeile in Tokens auf.\n",
    "    * Wir ermitteln die Tokenzahl pro Zeile und addieren sie zu einer Zählvariable hinzu.\n",
    "    * Für jedes Token in der Zeile prüfen wir, ob wir es schon einmal gesehen haben.\n",
    "    * Wenn nicht, legen wir einen Eintrag (record) dafür an und initialisieren die Häufigkeit mit 0.\n",
    "    * Danach addieren wir beim bestehenden Eintrag 1 zur alten Häufigkeit hinzu.\n",
    "\n"
   ]
  },
  {
   "cell_type": "code",
   "execution_count": null,
   "id": "69251245-e44b-4ae9-a257-24567e669115",
   "metadata": {},
   "outputs": [],
   "source": [
    "# we use the regular expressions module\n",
    "import re\n",
    "# we use a dictionary to keep track of the token frequencies\n",
    "# an empty dictionary can be constructed as '{}'\n",
    "freq_records = {}\n",
    "total_tokens = 0\n",
    "# we iterate through the lines\n",
    "for z in lines:\n",
    "    # we remove the final newline character using the strip-method for strings\n",
    "    line = z.strip()\n",
    "\n",
    "    # We separate punctuation marks from preceding alphabetic characters (letters)\n",
    "    line = re.sub(\"([a-zA-Zäöü])([\\.\\!\\?,])\",\"\\\\1 \\\\2\",line)\n",
    "    print(f\"Rohtext Zeile:\\t{line}\")\n",
    "\n",
    "    # we split the text of the line into a list of tokens\n",
    "    white_space_tokens = re.split(\"\\s+\",line)\n",
    "    total_tokens = total_tokens + len(white_space_tokens)\n",
    "    print(f\"Tokens  Zeile: {white_space_tokens}\")\n",
    "\n",
    "    # we visit each token in the list of tokens\n",
    "    for token in white_space_tokens:\n",
    "        # we ignore 'Tokens' that are emptys strings\n",
    "        if token =='':\n",
    "            continue\n",
    "        if token not in freq_records:\n",
    "            freq_records[token] = 0\n",
    "        freq_records[token] +=1\n",
    "print(\"\\n\")\n",
    "print(f\"Anzahl aller Tokens im Text: {total_tokens}\")\n",
    "print(\"\\n\")\n",
    "print(\"Häufigkeiten\")\n",
    "print(freq_records)\n",
    "print(\"\\n\")\n",
    "print(\"Tokens nach absteigender Häufigkeit\")\n",
    "sorted_keys = sorted(freq_records, key=freq_records.get, reverse=True)\n",
    "for r in sorted_keys:\n",
    "    print(r, freq_records[r])"
   ]
  },
  {
   "cell_type": "markdown",
   "id": "56fd3764-3d9d-4a7f-a3ab-49c8b813e821",
   "metadata": {},
   "source": [
    "**Details**\n",
    "\n",
    "* Oben verwenden wir das Modul `re`  für reguläre Ausdrücke.\n",
    "* Wir kommen später noch mal vertiefend auf `re' zu sprechen.\n",
    "* Viele der Dinge, die wir mit `re` machen können, kann man alternativ auch mit Stringmethoden machen:\n",
    "    * `white_space_tokens = line.split()` wäre eine Alternative zu\n",
    "    * `white_space_tokens = re.split(\"\\s+\",line)`\n",
    "\n",
    "  "
   ]
  },
  {
   "cell_type": "markdown",
   "id": "0fce0b7f-39bb-4fb5-9586-4fdffa25ede8",
   "metadata": {},
   "source": [
    "## 🫵 Your turn\n",
    "\n",
    "* Momentan schreiben wir das Ergebnis der Häufigkeitsermittlung einfach auf den Bildschirm.\n",
    "* Schreiben Sie die Ergebnisse stattdessen nun in eine Textdatei.\n",
    "* Legen Sie die Datei unter dem Namen \"1091_0000265.freqs.tsv\" an.\n",
    "* Schreiben Sie zunächst das Wort und dann, getrennt durch einen Tabulator, die Häufigkeit.\n",
    "* Am Anfang der Datei schreiben Sie als Spaltenüberschriften \"Token\" und \"Häufigkeit\".\n",
    "* Legen Sie die Datei unter dem Namen \"1091_0000265.freqs.tsv\" an.\n",
    "* Lassen Sie sich [hiervon](https://www.geeksforgeeks.org/python/writing-to-file-in-python/) inspirieren oder googlen Sie nach anderen Seiten bei Bedarf.\n",
    "\n",
    "Versuchen Sie es erst selbst zu lösen. Sie können danach die `load`-Zeile in der folgenden Zelle auskommentieren und die Zelle ausführen , um eine  Lösung zu sehen.\n",
    "\n"
   ]
  },
  {
   "cell_type": "code",
   "execution_count": null,
   "id": "3a68cde7-f548-4e37-80ca-57ce8013ed97",
   "metadata": {},
   "outputs": [],
   "source": [
    "# %load ./snippets/freq_2_tsvfile.py\n",
    "# öffnen Sie eine Datei, in die Sie schreiben können\n",
    "with open(\"1091_0000265.freqs.tsv\", \"w\", encoding='utf-8') as out:\n",
    "    out.write(\"Token\\tHäufigkeit\\n\")\n",
    "    for r in sorted_keys:\n",
    "        out.write(f\"{r}\\t{freq_records[r]}\\n\")\n"
   ]
  },
  {
   "cell_type": "markdown",
   "id": "9e157607-362a-4953-aba1-a74279cef77d",
   "metadata": {},
   "source": [
    "## 🫵 Your turn\n",
    "\n",
    "* Wie könnten Sie den Code oben modifizieren,  so dass die einzelnen Sätze zugreifbar sind?\n",
    "* (Die Lösung wird nicht perfekt  sein, da an manchen Stellen ein satzbeendendes Interpunktionszeichen fehlt.)\n"
   ]
  },
  {
   "cell_type": "code",
   "execution_count": null,
   "id": "732349ec-42ab-4bcf-9277-e8056ff88746",
   "metadata": {},
   "outputs": [],
   "source": [
    "# %load ./snippets/get_sentences.py\n"
   ]
  },
  {
   "cell_type": "markdown",
   "id": "17cb1bd7",
   "metadata": {},
   "source": [
    "# Container-Datentypen\n",
    "\n",
    "* Wir haben schon integers , floats und strings gesehen.\n",
    "* Weitere Arten von Objekten in Python sind Listen, Mengen/Sets, Tupel und Dictionaries.\n",
    "* Diese sind Container: sie enthalten andere Objekte.\n"
   ]
  },
  {
   "cell_type": "markdown",
   "id": "5d46da56",
   "metadata": {},
   "source": [
    "## Listen\n",
    "* Listen sind vergleichbar zu sog. Arrays in anderen Programmiersprachen.\n",
    "* Listen können beliebig viele Elemente enthalten.\n",
    "* Sie können auch verschiedene Typen von Objekten enthalten. (In andere Programmiersprachen geht das nicht.)\n",
    "    * ⚡ Diese Möglichkeit sollte man vielleicht in der Praxis nicht oder nur gut überlegt nutzen.\n",
    "* Die Werte in einer Liste können sich wiederholen. (Es sind keine Mengen (EN 'sets'), in denen jedes Element nur genau einmal vorkommen kann.\n",
    "* Listen werden durch eckige Klammern gekennzeichnet, innerhalb derer die Elemente durch Kommata getrennt sind."
   ]
  },
  {
   "cell_type": "code",
   "execution_count": null,
   "id": "9f2f21cd",
   "metadata": {},
   "outputs": [],
   "source": [
    "# Erzeugen von leeren Listen: 2 Alternativen\n",
    "words = []\n",
    "worte = list()\n",
    "\n",
    "# Erzeugen von gefüllten Listen\n",
    "participants = [\"Alice\", \"Bob\", \"Charlie\"]\n",
    "ages = [30, 25, 28]\n",
    "ages2 = [30, 28, 25]\n",
    "mixed_bag = [\"apple\", 3, True]\n",
    "\n",
    "# Sind die beiden Listen gleich?\n",
    "ages2 == ages\n"
   ]
  },
  {
   "cell_type": "markdown",
   "id": "4e0e666f-7395-4838-900b-d228aafd83c7",
   "metadata": {},
   "source": [
    "## Listen-Methoden\n",
    "\n",
    "* Listen verfügen über viele eigene [Methoden](https://www.geeksforgeeks.org/python/list-methods-python/)."
   ]
  },
  {
   "cell_type": "code",
   "execution_count": null,
   "id": "846e176b-f682-4b80-ac7c-478b1a935e09",
   "metadata": {},
   "outputs": [],
   "source": [
    "\n",
    "verbs = [\"gehen\", \"stehen\", \"sitzen\"]\n",
    "\n",
    "print(len(verbs))  # Länge der Liste\n",
    "\n",
    "verbs.append(\"liegen\") # Einfügen am Ende\n",
    "print(verbs)\n",
    "\n",
    "verbs.sort() # Sortieren\n",
    "print(verbs)\n",
    "\n",
    "verbs.reverse() # Umkehren\n",
    "print(verbs)\n",
    "\n",
    "verbs.remove(\"gehen\") # Element entfernen\n",
    "print(verbs)\n",
    "\n",
    "verbs.clear() # Löschen aller Einträge\n",
    "print(verbs)\n"
   ]
  },
  {
   "cell_type": "markdown",
   "id": "c6418f83-aa5f-4a18-ba22-384ad9c9680a",
   "metadata": {},
   "source": [
    "## 🫵 Your turn\n",
    "\n",
    "* Wir wollen die Liste nouns in absteigender Folge sortieren .\n",
    "* Wie machen wir das?\n",
    "Versuchen Sie es erst selbst. Sie können in der übernächsten Zelle, den load-Befehl auskommentieren und die Zelle ausführen, um eine mögliche Lösung zu sehen."
   ]
  },
  {
   "cell_type": "code",
   "execution_count": null,
   "id": "227e1979-8d5d-44e6-bbf8-dc0dd1e83b51",
   "metadata": {},
   "outputs": [],
   "source": [
    "\n",
    "nouns = [\"Gang\", \"Tafel\", \"Schnee\" ]\n",
    "\n",
    "# insert your python statements here\n",
    "\n",
    "print(nouns)\n",
    "\n",
    "\n"
   ]
  },
  {
   "cell_type": "code",
   "execution_count": null,
   "id": "c28d0260-dcd8-4a36-889d-924e5dd846a6",
   "metadata": {},
   "outputs": [],
   "source": [
    "# %load ./snippets/reverse_sort.py\n",
    "nouns = [\"Gang\", \"Tafel\", \"Schnee\" ]\n",
    "\n",
    "# insert your python statements here\n",
    "nouns.sort()\n",
    "nouns.reverse()\n",
    "\n",
    "\n",
    "print(nouns)\n",
    "\n",
    "\n"
   ]
  },
  {
   "cell_type": "markdown",
   "id": "37c0e866-b599-4b96-8576-d75415c99965",
   "metadata": {},
   "source": [
    "### Methoden zum Zugriff auf Elemente in einer Liste\n",
    "\n",
    "* ⚡ Die Position des ersten Elements in einer Liste ist 0. Das zweite Element steht an Position 1, und so weiter.\n",
    "* Wir können auch negative Indizes verwenden, um auf Elemente in der Liste zuzugreifen.\n",
    "* Die Position -1 ist die letzte Position in einer Liste. \n",
    "    * Wenn wir vom ersten Element an Position 0 nach links gehen, landen wir quasi beim letzten Element der Liste!"
   ]
  },
  {
   "cell_type": "code",
   "execution_count": null,
   "id": "9b143f8f-115f-49ed-9e97-b815f884340f",
   "metadata": {},
   "outputs": [],
   "source": [
    "\n",
    "verbs = [\"gehen\", \"stehen\", \"sitzen\"]\n",
    "print(f\"Liste am Anfang {verbs[0]}\")\n",
    "\n",
    "# Wir können Untersequenzen auslesen, z.B. die ersten beiden Wörter wie folgt\n",
    "print(verbs[0:2])\n",
    "\n",
    "# Der linke Wert (hier:0) gibt die erste Position aus, die ausgegeben werden soll. \n",
    "# Der rechte Wert (hier:2) gibt die Position aus, bis zu der ausgegeben werden soll. \n",
    "# Diese Position ist also die erste Position, die nicht mehr ausgegeben werden soll!\n",
    "print(verbs[1:3])\n",
    "\n",
    "\n",
    "verbs.append(\"stellen\")\n",
    "print(f\"aktualisierte Liste {verbs}\")\n",
    "\n",
    "# Egal wie lang die Liste ist, wir können das letzte Element wie folgt auslesen:\n",
    "print(verbs[-1])\n",
    "\n",
    "# Das vorletzte Element kann wie folgt gelesen werden:\n",
    "print(verbs[-2])\n",
    "\n",
    "# Lesen aller Elemente ausser dem letzten\n",
    "print(verbs[:-1])\n",
    "\n",
    "# Lesen ab dem zweiten Element (an Position 1!) bis ans Ende\n",
    "print(verbs[1:])\n"
   ]
  },
  {
   "cell_type": "markdown",
   "id": "8aa69c9b-a7f4-4fd7-ae0f-3abfa31bfc4a",
   "metadata": {},
   "source": [
    "### Einfügen und Entfernen von Elementen an bestimmten Positionen\n",
    "\n",
    "* Wir können Elemente an einer bestimmten Position hinzufügen oder entfernen."
   ]
  },
  {
   "cell_type": "code",
   "execution_count": null,
   "id": "3a383dc8-272f-4a77-b133-eba1cf301d75",
   "metadata": {},
   "outputs": [],
   "source": [
    "\n",
    "#  Einfügen eines neuen Elements an einer bestimmten Position (hier: an Positon 0)\n",
    "verbs.insert(0, \"krabbeln\")\n",
    "print(verbs)\n",
    "# Einfügen an vorletzter Stelle\n",
    "verbs.insert(-1, \"fliegen\")\n",
    "print(verbs)\n",
    "# Entfernen des ersten Elements\n",
    "verbs.pop(0)\n",
    "print(verbs)\n"
   ]
  },
  {
   "cell_type": "markdown",
   "id": "3caf49b0-a062-4a7f-806f-e1d28e596336",
   "metadata": {},
   "source": [
    "## Mengen / Sets\n",
    "\n",
    "* Mengen sind ähnlich zu Listen, aber sie enthalten keine Duplikate.\n",
    "* Die Elemente in Mengen sind nicht in einer bestimmten Reihenfolge sortiert.\n",
    "* Mengen sind veränderbar.\n",
    "* Wie bei Listen können die Elemente heterogene Typen enthalten."
   ]
  },
  {
   "cell_type": "code",
   "execution_count": null,
   "id": "e9ad1435-aad4-42a2-8f6d-6d31b6dbb22b",
   "metadata": {},
   "outputs": [],
   "source": [
    "\n",
    "# Erzeugen einer leeren Menge\n",
    "m=set()\n",
    "# Hinzufügen von Elementen\n",
    "m.add(1)\n",
    "m.add(\"norbert\")\n",
    "print(m)\n",
    "# Test ob Element in Menge enthalten\n",
    "print(2 in m)\n",
    "\n",
    "# neues Set aus einer Liste mit den gleichen Elementen wie oben\n",
    "n=set(['norbert',1])\n",
    "# Sind diese sets gleich?\n",
    "m==n\n"
   ]
  },
  {
   "cell_type": "markdown",
   "id": "2b2a53b6-51a1-4853-8212-a31a6e87f87c",
   "metadata": {},
   "source": [
    "### Spezielle Operationen auf Mengen\n",
    "\n",
    "* Mengen haben nicht dieselben Methoden wie Listen. Wie oben gesehen fügt man z.B. mit `add` Elemente zu einer Menge hinzu, während bei einer Liste `append` verwendet wird.\n",
    "* Daneben gibt es Methoden für Operationen, die spezifisch für Mengen sind.\n"
   ]
  },
  {
   "cell_type": "code",
   "execution_count": null,
   "id": "33bab4c1-dbb9-41f9-8a39-15b1bfab8b2c",
   "metadata": {},
   "outputs": [],
   "source": [
    "\n",
    "# Erzeugen einer Menge aus einer Liste\n",
    "verben_a = set([\"gehen\", \"stehen\", \"sitzen\"])\n",
    "verben_b = set([\"laufen\", \"stehen\", \"gehen\", \"stolzieren\"])\n",
    "\n",
    "# Hinzufügen von Elementen\n",
    "verben_a.add(\"fliegen\")\n",
    "\n",
    "# Vereinigung von Mengen\n",
    "alle_verben = verben_a.union(verben_b)\n",
    "\n",
    "# Schnittmenge\n",
    "geteilte_verben = verben_a.intersection(verben_b)\n",
    "print(f\"geteilte Verben {geteilte_verben}\")\n",
    "\n",
    "# Unterschiede zwischen Mengen\n",
    "nur_verben_a = verben_a.difference(verben_b)\n",
    "nur_verben_b = verben_b.difference(verben_a)\n",
    "\n",
    "# Alternative Syntax  für Differenz\n",
    "print(f\"a-b {verben_a - verben_b}\")\n",
    "print(f\"b-a {verben_b - verben_a}\")\n"
   ]
  },
  {
   "cell_type": "markdown",
   "id": "a17ad6f5-d1a7-4ab2-a9c9-6f483468a767",
   "metadata": {},
   "source": [
    "## 🫵 Your turn\n",
    "\n",
    "* Finden  Sie die Menge aller Mädchennamen, die entweder nur 2022 oder nur 2024 unter den 10 häufigsten Babynamen waren."
   ]
  },
  {
   "cell_type": "code",
   "execution_count": null,
   "id": "07397c5b",
   "metadata": {},
   "outputs": [],
   "source": [
    "female_names_2024 = [\"Emilia\", \"Sophia\", \"Emma\", \"Hannah\", \"Mia\", \"Lina\", \"Ella\", \"Lia\", \"Leni\", \"Mila\"]\n",
    "female_names_2022 = [\"Emilia\", \"Mia\", \"Sophia\",\"Emma\",\"Hannah\",\"Lina\",\"Mila\", \"Ella\", \"Leni\", \"Clara\"]\n"
   ]
  },
  {
   "cell_type": "code",
   "execution_count": null,
   "id": "592c555d-2a4b-4ea6-a8ad-e9c15c249012",
   "metadata": {},
   "outputs": [],
   "source": [
    "# %load ./snippets/baby_names_not_shared.py\n"
   ]
  },
  {
   "cell_type": "markdown",
   "id": "86ccfa26-70ae-4a6b-9145-6023c06506f8",
   "metadata": {},
   "source": [
    "* 🚀 Neben den veränderbaren Mengen vom Type `set` gibt es auch den sogenannten Typ `frozenset`, der unveränderlich ist."
   ]
  },
  {
   "cell_type": "markdown",
   "id": "cad465f5",
   "metadata": {},
   "source": [
    "## Dictionaries\n",
    "\n",
    "* Dictionaries werden verwendet, um Datenwerte in Schlüssel-Wert-Paaren (key-value-pairs) zu speichern.\n",
    "* Das erste Element jedes Paares , der key, muss sich also von den ersten Elementen aller anderen Paare unterscheiden. \n",
    "* Ein Dictionary wird mit geschweiften Klammern gekennzeichnet, innerhalb derer jedes Elementpaar durch einen Doppelpunkt getrennt ist"
   ]
  },
  {
   "cell_type": "code",
   "execution_count": null,
   "id": "2b28e6d0",
   "metadata": {},
   "outputs": [],
   "source": [
    "# leere Dictionaries erzeugen\n",
    "leeres_dict = {}\n",
    "leeres_dict2=dict()\n",
    "\n",
    "# dictionaries gleich mit Inhalt initialisieren\n",
    "persons = {\"Charlie\": 28, \"Alice\": 30, \"Bob\": 25}\n",
    "persons2 = { \"Bob\": 25, \"Charlie\": 28, \"Alice\":30}\n",
    "# Sind diese Dictionaries gleich?\n",
    "persons == persons2\n"
   ]
  },
  {
   "cell_type": "markdown",
   "id": "4edfef93-bc21-4973-ba30-aa5e14bc339d",
   "metadata": {},
   "source": [
    "### Methoden von Dictionaries"
   ]
  },
  {
   "cell_type": "code",
   "execution_count": null,
   "id": "5152a16b-92e8-472b-a703-fa71a9c27a71",
   "metadata": {},
   "outputs": [],
   "source": [
    "\n",
    "# Ausgabe aller Schlüssel\n",
    "print(persons.keys())\n",
    "\n",
    "# Ausgabe aller Werte\n",
    "print(persons.values())\n",
    "\n",
    "# Ausgabe der Schlüssel-Wert Paare\n",
    "print(persons.items())\n",
    "\n",
    "# Ausgabe des Wertes für einen Schlüssel: setzt voraus, dass der Schlüssel existiert\n",
    "print(f\"Alter Alice {persons['Alice']}\")\n",
    "\n",
    "\n",
    "# die folgende Zeile würde einen Fehler produzieren, da der Schlüssel \"Waldemar\"  nicht existiert\n",
    "#print(persons[\"Waldemar\"])\n",
    "\n",
    "# mit der `get`-Methode von dictionaries kann man einen Standardwert zurückgeben, falls der Schlüssel nicht existiert\n",
    "print(f\"Alter von Waldemar {persons.get('Waldemar',12345)}\")\n",
    "\n",
    "# gibt man keinen Standardwert an, wird der Sonderwert `None` zurückgegeben\n",
    "print(persons.get(\"Waldemar\"))\n",
    "\n",
    "# Testen, ob ein Schlüssel existiert; Test gibt True oder False zurück\n",
    "print(\"Waldemar\" in persons)\n",
    "\n",
    "# entfernt den Eintrag für Alice und gibt den Wert für den Eintrag zurück\n",
    "print(f\"Wert für Alice {persons.pop('Alice')}\")\n",
    "\n",
    "# Löschen aller Einträge 🔥\n",
    "persons.clear()\n",
    "print(persons)\n"
   ]
  },
  {
   "cell_type": "markdown",
   "id": "7bfbc1cc",
   "metadata": {},
   "source": [
    "# 🚀 Tupel\n",
    "\n",
    "* Tupel sind fixe Sequenzen.\n",
    "* Sie sind ähnlich zu Listen, aber sie sind unveränderlich (immutable).\n",
    "* Tupel werden durch runde Klammern gekennzeichnet, innerhalb derer die Elemente durch Kommata getrennt sind.\n",
    "* Warum braucht man überhaupt Tupel?\n",
    "    * Wenn man sicherstellen will, dass Daten nicht verändert werden können.\n",
    "    * Speichermanagement - Tuple verbrauchen weniger Speicher als Listen\n",
    "    * Performanz - man kann schneller über die Element in einem Tupel iterieren bzw auf sie zugreifen als auf die Elemente einer Liste"
   ]
  },
  {
   "cell_type": "code",
   "execution_count": null,
   "id": "cf3a99be-5adf-493f-86fc-37ea88fa8d90",
   "metadata": {},
   "outputs": [],
   "source": [
    "tupelo = (1, 52, 32)\n",
    "# Testen, ob Element in Tupel enthalten ist\n",
    "print(f\"① Test, ob 3 im Tupel : {3 in tupelo}\")\n",
    "# Länge des Tupels\n",
    "print(f\"② Länge: {len(tupelo)}\")\n",
    "# Zugriff auf Elemente in Tupel\n",
    "print(f\"③ Element an Position 1: {tupelo[1]}\")\n",
    "print(f\"④ vorvorletztes Element bis Ende: {tupelo[-2:]}\")\n",
    "\n",
    "# Umkehrung der Elemente im Tupel\n",
    "print(f\"⑤ Umkehrung: {tupelo[::-1]}\")\n",
    "# NB: anders als bei den sort()- oder reverse()-Methoden einer Liste hat die obige Anweisung keinen Einfluss auf das ursprüngliche Tupel\n",
    "print(f\"⑥ unverändertes Tupel: {tupelo}\")\n",
    "# Zählen wie oft 52 vorkommt\n",
    "print(f\"wie oft kommt 52 vor? {tupelo.count(52)}\")"
   ]
  },
  {
   "cell_type": "code",
   "execution_count": null,
   "id": "97caa968-2fa9-4333-8b57-c5ec32dc295a",
   "metadata": {},
   "outputs": [],
   "source": [
    "# Tupel sind unveränderbar, darum gibt es hier einen Fehler\n",
    "tupelo[0]=12"
   ]
  },
  {
   "cell_type": "code",
   "execution_count": null,
   "id": "46dda018-659b-46a7-a041-311f2808da87",
   "metadata": {},
   "outputs": [],
   "source": [
    "# man kann leere Tupel erzeugen\n",
    "# man kann aber später nichts mehr in sie reinschreiben\n",
    "tupel2 = tuple()\n",
    "print(tupel2)"
   ]
  },
  {
   "cell_type": "code",
   "execution_count": null,
   "id": "d97dbb4e-3db6-4c25-b59a-948ed5e21082",
   "metadata": {},
   "outputs": [],
   "source": [
    "# help zeigt, dass es für tuple keine Methode wie add oder append gibt.\n",
    "help(tuple)"
   ]
  },
  {
   "cell_type": "markdown",
   "id": "706445c5-c416-4269-8a67-8f924b4b7e85",
   "metadata": {},
   "source": [
    "# ✔️ Zwischenstand: I/O und Containerdatentypen\n",
    "\n",
    "\n",
    "* Mit open() kann man Dateien öffnen und eine file object erzeugen, mit dessen Methoden read oder readlines  man den Inhalt der Datei in einen String oder eine Liste von Strings lesen kann.\n",
    "* Mit open() und der Methode write von file objects kann man Dateien auch schreiben.\n",
    "\n",
    "* Zu den Haupt-Containerdatentypen gehören\n",
    "    * Listen (veränderbar, potentiell mit sich wiederholenden Elementen): `names = [\"Hella\", \"Franz\"]``\n",
    "    * Sets/Mengen (veränderbar, mit sich nicht wiederholenden Elementen): `l1s={\"Deutsch\",\"Ungarisch\", \"Französisch\", \"Türkisch\"}``\n",
    "    * Dictionaries (veränderbar, mit unikalen keys/Schlüsseln): `student={'age':14, 'l1':\"Norwegisch\"}`\n",
    "\n",
    "\n",
    "* Die Containerdatentypen teilen sich einige wichtige Eigenschaften:\n",
    "    * Z.b. kann man mit `x in y`  prüfen ob\n",
    "        * x ein Element in der Liste y ist\n",
    "        * x ein Schlüssel des Dictionary y ist\n",
    "        * x im Tupel y enthalten ist\n",
    "        * x im Set y enthalten ist\n",
    "    * Ebenso kann man mit `len(y)` prüfen\n",
    "        * wie viele Elemente in der Liste y sind\n",
    "        * wie viele Elemente im Set y sind\n",
    "        * wie viele Elemente im Tupel y sind\n",
    "        * wie viele Schlüssle das dictionary  y hat\n",
    " \n",
    "\n"
   ]
  },
  {
   "cell_type": "markdown",
   "id": "1b5d728e-8b2a-418f-9dad-1ad672503656",
   "metadata": {},
   "source": [
    "# Variablen\n",
    "* Wenn wir Objekte,  insbesondere die Ergebnisse von Funktionen oder Operationen , dauerhaft zugänglich halten wollen, können wir Variablen verwenden.\n"
   ]
  },
  {
   "cell_type": "code",
   "execution_count": null,
   "id": "efd38048-79ee-4ed2-90bf-ae855597c89d",
   "metadata": {},
   "outputs": [],
   "source": [
    "# das Folgende druckt 8 als Ergebnis, der Wert verschwindet aber danach wieder\n",
    "print(4*2)\n",
    "# Durch Zuweisung an eine Variable lassen wir den Wert dauerhaft zugänglich\n",
    "product=4*2\n",
    "print(product)\n",
    "# Nach dem obigen print-statement können wir weiter mit product rechnen\n",
    "print(product-1)"
   ]
  },
  {
   "cell_type": "markdown",
   "id": "64f43ed2-a3c7-4dfe-a0f6-b30e81d2fec7",
   "metadata": {},
   "source": [
    "* NB: Zuweisung mit `=` müssen wir unterscheiden von dem Vergleichsoperator `==`."
   ]
  },
  {
   "cell_type": "code",
   "execution_count": null,
   "id": "b99fd5d4-c21e-4e25-899b-d2c82c1e9013",
   "metadata": {},
   "outputs": [],
   "source": [
    "\n",
    "x=2\n",
    "w=3\n",
    "# Test auf Gleichheit \n",
    "print(x==w)\n",
    "# Neuer Wert für x!\n",
    "x=w\n",
    "print(x)\n"
   ]
  },
  {
   "cell_type": "code",
   "execution_count": null,
   "id": "85f6d095",
   "metadata": {},
   "outputs": [],
   "source": [
    "# Was passiert bei den folgenden Anweisungen?\n",
    "print(2+2 == 4)\n",
    "print( (2+2) == 4)\n",
    "print(2+2 = 4) \n"
   ]
  },
  {
   "cell_type": "markdown",
   "id": "8abf4d70-a378-4460-b716-a3906658b743",
   "metadata": {},
   "source": [
    "🚀 **Weiterführendes**\n",
    "\n",
    "* Leerzeichen  sind bei Zuweisungen und Gleichheitsoperatoren eigentlich egal\n",
    "*  Um die Leserlichkeit von Code zu erhöhen, achten viele Python-Programmierer:innen auf einen einheitlichen Stil\n",
    "*  Es gibt Ttools, die Code-Dateien auf einen einheitlichen Formatstandard bringen können (z.B. `black`)."
   ]
  },
  {
   "cell_type": "code",
   "execution_count": null,
   "id": "b292ec99-344c-4468-8c8a-99d921590200",
   "metadata": {},
   "outputs": [],
   "source": [
    "x=2\n",
    "print(x)\n",
    "\n",
    "x = 2\n",
    "print(x)\n",
    "\n",
    "x =            2\n",
    "print(x)\n",
    "\n",
    "is_w_equal_to_3 = (w==3)\n",
    "print(is_w_equal_to_3)\n",
    "\n",
    "is_w_equal_to_3 = (w == 3)\n",
    "print(is_w_equal_to_3)"
   ]
  },
  {
   "cell_type": "markdown",
   "id": "b8e22f24",
   "metadata": {},
   "source": [
    "## Variablennamen\n",
    "\n",
    "* Variablennamen müssen mit einem Buchstaben oder einem Unterstrich beginnen. \n",
    "* Der Rest des Namens kann aus beliebigen weiteren Buchstaben, Unterstrichen oder Zahlen bestehen. \n",
    "\n",
    "```python\n",
    "x=1\n",
    "# Das Folgende wirft einen Fehler: X gibt es nicht , nur x.\n",
    "print(X)\n",
    "```\n",
    "* Bei Variablennamen wird zwischen Groß- und Kleinschreibung unterschieden.\n",
    "* Variablennamen dürfen keine der reservierten Python-Wörter enthalten.\n",
    "\n",
    "```python\n",
    "False None True and as assert break class continue\n",
    "def del elif else except finally for from global\n",
    "if import in is lambda nonlocal not\n",
    "or pass raise return try while with yield\n",
    "```\n",
    "\n",
    "* Eine Variable, die in einem Programm mit vielen Zeilen weiterlebt, sollte wahrscheinlich einen Namen haben, der die Daten beschreibt, die diese Variable enthält.\n",
    "\n",
    "```python\n",
    "word = \"Fluorierung\"\n",
    "# Beispiel: Variablenname für die Wortlänge\n",
    "\n",
    "# nicht so sprechend\n",
    "x=len(word)\n",
    "\n",
    "# klarer\n",
    "word_length = len(word)\n",
    "wordLength = len(word)\n",
    "wlen = len(word)\n",
    "word_len = len(word)\n",
    "```\n",
    "\n"
   ]
  },
  {
   "cell_type": "markdown",
   "id": "73774db2-4edd-4942-b2e5-4aa164762d24",
   "metadata": {},
   "source": [
    "Warum Englische Variablennamen?\n",
    "* Schlüsselwörter von Python (if, for, while, class, def) sind englische Wörter, sodass die Verwendung von Englisch für Variablen für Konsistenz sorgt.\n",
    "* Lingua Franca: Die meisten Dokumentationen, Tutorials und Open-Source-Projekte verwenden Englisch, wodurch eine starke Konvention entstanden ist.\n",
    "* Code-Sharing und Zusammenarbeit – Verwendung von Englisch stellt sicher, dass sehr viele den Code lesen und verstehen kann."
   ]
  },
  {
   "cell_type": "markdown",
   "id": "2cae21d2-87c3-48e6-935e-77f4508ffb69",
   "metadata": {},
   "source": [
    "## 🚀 Konstanten ('statische Variablen')\n",
    "\n",
    "\n",
    "* Manchmal möchten wir in einem Programm auch Information bereitstellen, die sich nicht ändern kann.\n",
    "* Wenn wir z.B. ein neues Korpus  bauen und dafür eine Abkürzung definiert haben, soll immer dieselbe verwendet werden und sie soll sich  nicht ändern.\n",
    "* Python  hat technisch gesprochen keine Konstanten , d.h. keine 'Variablen' , deren Wert nicht veränderbar sind.\n",
    "* Aber Python-Programmierer:innen verwenden typischerweise die Konvention, die Namen von Konstanten ganz in Großbuchstaben zu schreiben,\n",
    "* Wir würden also \"CORPUS_NAME\" oder \"CORPUS\" schreiben , um uns selbst oder anderen Personen, die mit unserem Code arbeiten wollen, zu signalisieren, dass etwas als Konstante behandelt werden soll.\n",
    "\n",
    "```python\n",
    "CORPUS=\"V-TEST\"\n",
    "```\n"
   ]
  },
  {
   "cell_type": "markdown",
   "id": "53583266-1fbd-4202-a7ab-680558588a2d",
   "metadata": {},
   "source": [
    "## 🚀 Scope: Verfügbarkeit / Sichtbarkeit von Python-Variablen\n",
    "\n",
    "\n",
    "* Der Variablenbereich bestimmt, wo in Ihrem Code auf eine Variable zugegriffen werden kann.\n",
    "* Die Leitfrage ist  „Welche Teile meines Programms können diese Variable ‚sehen‘?“\n",
    "* Man kann sich das Vorstellen  wie Räume in einem Puppen-Haus:  Variablen, die in einem Raum erstellt wurden, sind je nach Verfügbarkeit von Fenstern, Türen oder Durchreichen möglicherweise von anderen Räumen aus nicht sichtbar, aber von vorne bzw von oben , wenn das Puppenhaus kein Dach hat.\n",
    "\n",
    "* Man spricht von lokaler \"scope\" (Geltungsbereich) bei Variablen in Funktionen:  Innerhalb einer Funktion erstellte Variablen existieren nur innerhalb dieser Funktion.\n",
    "* Globale Variablen sind welche, die von überall aus sichtbar sind. "
   ]
  },
  {
   "cell_type": "code",
   "execution_count": null,
   "id": "6ee15139-1b68-42f6-9e84-03ee49fa321f",
   "metadata": {},
   "outputs": [],
   "source": [
    "\n",
    "y=5 #y existiert hier ganz 'draußen' und in allen darin eingebetteten Funktionen \n",
    "def my_function():\n",
    "\n",
    "    x = 10          # x  existiert nur innerhalb dieser Funktion\n",
    "    print(x)        # Dieses print-Statement funktioniert -  wir sind ja innerhalb der Fuktion\n",
    "    print(y*x)      # y ist hier auch zu sehen!\n",
    "    \n",
    "\n",
    "my_function()       # wenn wir die Funktion aufrufen, druckt das print-Statement in der Funktion einmal den Wert 10, dann das Ergebnis der Multiplikation mit y\n",
    "\n",
    "print(y)            # ok, denn y ist ja eine globale Variable und wir sind ohnehin in der äußersten \"Schachtel\"\n",
    "\n",
    "print(x)           # ERROR! x gibt es hier ausserhalb der Funktion nicht mehr\n",
    "\n"
   ]
  },
  {
   "cell_type": "markdown",
   "id": "f1d17fe7-b03a-471f-85ab-b644c5235d0a",
   "metadata": {},
   "source": [
    "* Warum gibt es überhaupt so was wie scope? Dank eingeschränkten Geltungsbereichs kann man denselben Variablennamen in verschiedenen Funktionen verwenden, \n",
    "ohne dass diese sich  unbemerkt und ungewollt in die Quere kommen.\n",
    "\n",
    "* Einfache Faustregel\n",
    "    * Variablen sind an dem Ort sichtbar, an dem sie erstellt wurden, sowie an allen „eingebetteten” Orten (z. B. innerhalb von Funktionen, die in diesem Bereich definiert sind). \n",
    "    * Sie sind jedoch nicht an  Orten / Bereichen \"ausserhalb\" oder in separaten Funktionen verfügbar."
   ]
  },
  {
   "cell_type": "markdown",
   "id": "76f27d97-1c38-4baa-ac84-0cd7cb831a7b",
   "metadata": {},
   "source": [
    "# Kontrollstrukturen\n",
    "\n",
    "* Bisher bestand unser Code lediglich aus Abfolgen von Anweisungen, die nacheinander ausgeführt werden. \n",
    "* Nützlicher ist es, wenn Anweisungen bedingt ausgeführt werden können, d.h. wenn einige Anweisungen z.B. die Ausführung umgehen können und andere mehrfach ausgeführt werden können.\n",
    "\n",
    "* Betrachten wir die **if-Kontrollstruktur**.\n",
    "  * Diese Struktur ermöglicht in ihrer einfachsten Form eine bedingte Anwendung.\n",
    "  * Es gibt einen Test / eine Testklausel und dann einen Block mit einer oder mehreren Anweisungen. \n",
    "  * Wenn die Testklausel wahr ist, werden die Anweisungen ausgeführt. Wenn sie nicht wahr ist, werden die Anweisungen nicht ausgeführt\n",
    "  * Mit `else` können Anweisungen spezifziert werden, die ausgeführt werden, wenn die getestete Bedingung nicht wahr ist."
   ]
  },
  {
   "cell_type": "code",
   "execution_count": null,
   "id": "7362a2c6-0f43-441c-b38a-3b143656a6cc",
   "metadata": {},
   "outputs": [],
   "source": [
    "verb_a = \"flitzen\"\n",
    "verb_b = \"kriechen\"\n",
    "if len(verb_a) <= len(verb_b):\n",
    "    print(\"Verb a ist kürzer oder gleich lang wie Verb b\")\n",
    "else:\n",
    "    print(\"Verb a ist länger\")"
   ]
  },
  {
   "cell_type": "markdown",
   "id": "3013cbe9-368a-44f6-b89f-66ca128d42e4",
   "metadata": {},
   "source": [
    "* NB: die Anweisungen im Block werden durch Leerzeichen oder Tabs und Zeilenumbrüche getrennt.\n",
    "* **Inkonsistente Einrückungen** führen zu einem Syntaxfehler. ;/\n",
    "* Grundsätzlich können Sie entweder mit Leerzeichen oder Tabulatoren einrücken, aber Sie dürfen die beiden Formen nicht mischen."
   ]
  },
  {
   "cell_type": "code",
   "execution_count": null,
   "id": "0c3ed241-99fd-4103-9663-6ba48dbaf42c",
   "metadata": {},
   "outputs": [],
   "source": [
    "# wirft einen Fehler!\n",
    "if len(verb_a)  < len(verb_b):\n",
    "  print(\"Verb a ist kürzer\")\n",
    "    print(\"Verb b ist länger\")\n"
   ]
  },
  {
   "cell_type": "markdown",
   "id": "d5085d98",
   "metadata": {},
   "source": [
    "## Eingebettete Kontrollstrukturen\n",
    "\n",
    "* Wir können mehrere Ebenen von Kontrollstrukturen haben.\n",
    "\n",
    "\n",
    "```python\n",
    "word=\"fliegen\"\n",
    "word_length=len(word)\n",
    "first_letter = word[0]\n",
    "# erster Test\n",
    "if word_length>5:\n",
    "    # zweiter Test\n",
    "    if first_letter == \"f\":\n",
    "        print(\"word ist länger als 5 Zeichen und der erste Buchstabe ist 'f'\")\n",
    "\n",
    "\n",
    "```\n"
   ]
  },
  {
   "cell_type": "markdown",
   "id": "c180be5a-38cd-4a0b-b58e-b733928bde0c",
   "metadata": {},
   "source": [
    "## if-else\n",
    "\n",
    "* if-else bedingt Anweisungen, die entweder ausgeführt werden oder nicht."
   ]
  },
  {
   "cell_type": "code",
   "execution_count": null,
   "id": "752ac4dd-68d9-4006-a51a-7b0206133573",
   "metadata": {},
   "outputs": [],
   "source": [
    "# Informationen über ein Wort in einem Dictionary\n",
    "word_1={\"form\":\"fliegen\", \"upos\":\"VERB\", \"lemma\":\"fliegen\"}\n",
    "\n",
    "# Wir betrachten den UPOS-Tag des Wortes\n",
    "if word_1[\"upos\"] == \"VERB\":\n",
    "    # NB: auf Positionen / Zeichen in Strings kann mit derselben Syntax wie bei Listen zugegriffen werden\n",
    "    # word_1[\"form\"] ist ein String (siehe oben)\n",
    "    # isupper() ist eine Methode, die prüft ob alle Buchstaben des Strings Großbuchstaben sind\n",
    "    # Uns interessiert nur der erste Buchstabe, daher wählen wir ihn aus mit word_1[\"form\"][0]\n",
    "    if word_1[\"form\"][0].isupper():\n",
    "        print(\"Das Wort ist ein Verb und beginnt mit einem Großbuchstaben\")\n",
    "    else:\n",
    "        print(\"Das Wort ist ein Verb und beginnt nicht mit einem Großbuchstaben\")"
   ]
  },
  {
   "cell_type": "code",
   "execution_count": null,
   "id": "240ec17b-01df-4960-9998-066890c5d24d",
   "metadata": {},
   "outputs": [],
   "source": [
    "# Ausführlichere Version mit expliziten Zwischenvariablen:\n",
    "\n",
    "upos_tag=word_1[\"upos\"]\n",
    "if upos_tag == \"VERB\":\n",
    "    word_form = word_1[\"form\"]\n",
    "    first_letter = word_form[0]\n",
    "    if first_letter.isupper():\n",
    "        print(\"Das Wort ist ein Verb und beginnt mit einem Großbuchstaben\")\n",
    "    else:\n",
    "        print(\"Das Wort ist ein Verb und beginnt nicht mit einem Großbuchstaben\")\n"
   ]
  },
  {
   "cell_type": "markdown",
   "id": "b8d00b83",
   "metadata": {},
   "source": [
    "### if-elif-else: Mehrere Tests\n",
    "\n",
    "* Wenn  mehr als eine Bedingung geprüft werden soll, müssen wir nach dem ersten Test für die weiteren Tests `elif` statt `if` verwenden.\n",
    "\n",
    "\n",
    "```python\n",
    "word_length = 11\n",
    "\n",
    "if word_length > 0 and word_length < 5:\n",
    "    print(\"Wort ist kleiner als 5 Zeichen\")\n",
    "elif word_length >= 5 and word_length < 10:\n",
    "    print(\"Wort ist zwischen 5 und 10 Zeichen\")\n",
    "elif word_length >= 10:\n",
    "    print(\"Wort ist größer als 10 Zeichen\")\n",
    "else:\n",
    "    print(\"Wort hat keine Zeichen\")\n",
    "```\n",
    "\n",
    "* Q: Was würde passieren, wenn wir oben nie `elif` sondern immer `if` verwenden ❓\n"
   ]
  },
  {
   "cell_type": "markdown",
   "id": "c37bc98c-36d7-4219-8cbb-f41ca3c58e34",
   "metadata": {},
   "source": [
    "### if-elif-else: Relevanz der Reihenfolge der Bedingungen\n",
    "\n",
    "* Wenn nur einer der Tests erfüllt werden kann, ist die Reihenfolge der Tests nicht relevant.\n",
    "* Wenn mehrere Bedingungen erfüllt werden können, ist die Reihenfolge der Bedingungen relevant: die erste zutreffende Bedingung wird ausgeführt.\n",
    "* Beispiel: ein Wort, das länger als N Zeichen ist, ist potentiell auch länger als ein Wort mit N + 10 Zeichen."
   ]
  },
  {
   "cell_type": "code",
   "execution_count": null,
   "id": "b0aa384d-2bc5-4fc6-8e81-11a9fb84d2f0",
   "metadata": {},
   "outputs": [],
   "source": [
    "\n",
    "word_length = 11\n",
    "\n",
    "if word_length >= 30:\n",
    "    print(\"Wort ist länger als 30 Zeichen\")\n",
    "elif word_length >= 20:\n",
    "    print(\"Wort ist länger als 20 Zeichen\")\n",
    "elif word_length >= 10:\n",
    "    print(\"Wort ist länger als 10 Zeichen\")\n",
    "elif word_length >= 1:\n",
    "    print(\"Wort ist länger als 1 Zeichen\")\n",
    "else:\n",
    "    print(\"Wort hat keine Zeichen\")\n"
   ]
  },
  {
   "cell_type": "markdown",
   "id": "fb1d15b4-74a5-48e3-b251-43029f7106d1",
   "metadata": {},
   "source": [
    "* Wenn wir im obigen Beispiel die Reihenfolge der ifs und elifs umkehren, feuert bei allen Wortlängen größer als 0 immer nur die Bedingung für Wortlänge >=1."
   ]
  },
  {
   "cell_type": "markdown",
   "id": "84e8a7ee-bcef-4386-b42b-b03bd46e34b7",
   "metadata": {},
   "source": [
    "### Negative Bedingungen:"
   ]
  },
  {
   "cell_type": "code",
   "execution_count": null,
   "id": "98d6827f-fa42-400f-a33b-1cb15f89e72c",
   "metadata": {},
   "outputs": [],
   "source": [
    "# Ungleichheit von Variableninhalt  und Vergleichswert VERB\n",
    "\n",
    "upos=\"NOUN\"\n",
    "if upos != \"VERB\":\n",
    "    print(\"Das Wort ist kein Verb\")\n",
    "else:\n",
    "    print(\"Das Wort ist ein Verb\")\n"
   ]
  },
  {
   "cell_type": "code",
   "execution_count": null,
   "id": "0ea2b79e-e0df-479e-bb01-146b5fe42ea7",
   "metadata": {},
   "outputs": [],
   "source": [
    "# Test ist wahr, wenn der Wert der variable verb_lemma nicht in der Liste aux enthalten ist\n",
    "\n",
    "aux = [\"haben\", \"sein\", \"werden\"]\n",
    "verb_lemma = \"gehen\"\n",
    "if verb_lemma not in aux:\n",
    "    print(\"do something\")\n",
    "   "
   ]
  },
  {
   "cell_type": "code",
   "execution_count": null,
   "id": "e7cb7478-f854-4e4f-85a7-179064aecb2b",
   "metadata": {},
   "outputs": [],
   "source": [
    "#Test ob Liste leer ist (= kein Elemente hat)\n",
    "\n",
    "words=[]\n",
    "if words:\n",
    "    print(\"list is not empty\")\n",
    "else:\n",
    "    print(\"list is empty\")"
   ]
  },
  {
   "cell_type": "code",
   "execution_count": null,
   "id": "0d7211a1-00c3-47e2-964d-48e5a652cdfe",
   "metadata": {},
   "outputs": [],
   "source": [
    "# Der Test, ob dictionary leer ist, funktioniert nicht analog zu Listen 🔥\n",
    "translations={}\n",
    "\n",
    "if translations:\n",
    "    print(\"dictionary is empty\")\n",
    "else:\n",
    "    print(\"dictionary is not empty\")\n",
    "\n",
    "# testen mit len() funktioniert ✅\n",
    "if len(translations)==0:\n",
    "    print(\"dictionary is empty\")\n",
    "else:\n",
    "    print(\"dictionary is not empty\")"
   ]
  },
  {
   "cell_type": "markdown",
   "id": "40b5fe47",
   "metadata": {},
   "source": [
    "### Bedingungen ohne auszuführenden Code: `pass`\n",
    "\n",
    "* Manchmal wollen wir nur für ein Ergebnis des Tests Code ausführen.\n",
    "* Dann können wir `pass` verwenden.\n",
    "\n",
    "```python\n",
    "if upos == \"VERB\":\n",
    "    print(\"Das Wort ist ein Verb\")\n",
    "else:\n",
    "    pass\n",
    "```\n",
    "\n",
    "Wenn wir im  `else`-Fall nichts tun wollen, können wir allerdings `else` auch ganz weglassen.\n",
    "\n",
    "```python\n",
    "upos=\"VERB\"\n",
    "if upos != \"VERB\":\n",
    "    print(\"Das Wort ist kein Verb\")\n",
    "```\n",
    "\n",
    "\n"
   ]
  },
  {
   "cell_type": "markdown",
   "id": "1b52541c",
   "metadata": {},
   "source": [
    "### Komplexe Bedingungen\n",
    "\n",
    "* Manchmal möchten wir eine komplexe Bedingung erfüllen.\n",
    "* Statt einzelne Tests in einander einzubetten, können wir die Bedingungen mit einem `and` verknüpfen, um mehrere Bedingungen zu erfüllen.\n",
    "\n",
    "```python\n",
    "# Informationen über ein Wort in einem Dictionary\n",
    "word_1={\"form\":\"fliegen\", \"upos\":\"VERB\", \"lemma\":\"fliegen\"}\n",
    "\n",
    "if word_1[\"upos\"] == \"VERB\" and word_1[\"form\"][0].isupper():\n",
    "    print(\"Das Wort ist ein Verb und beginnt mit einem Großbuchstaben\")\n",
    "```\n",
    "\n",
    "* Statt einzelne Bedingungen abzutesten, die bei Zutreffen alle zum gleichen Ergebnis führen, können wir die Bedingungen mit einem `or` verknüpfen.\n",
    "\n",
    "```python\n",
    "if word_1[\"upos\"] == \"VERB\" or word_1[\"upos\"] === \"AUX\"\n",
    "    print(\"Das Wort ist ein Vollverb oder ein Auxiliary\")\n",
    "\n",
    "\n",
    "```\n"
   ]
  },
  {
   "cell_type": "markdown",
   "id": "71cdb568",
   "metadata": {},
   "source": [
    "## Schleifen\n",
    "\n",
    "* Schleifen ermöglichen es uns, mehrere Anweisungen oder Codeblöcke zu wiederholen.\n",
    "* Haupttypen:\n",
    "    * for-loops\n",
    "    * while-loops"
   ]
  },
  {
   "cell_type": "markdown",
   "id": "8f7832e2",
   "metadata": {},
   "source": [
    "### For-loops\n",
    "\n",
    "* Sie geben eine Liste oder eine Folge von Elementen an und durchlaufen dann die Liste, wobei Sie den Block einmal für jedes Element in der Liste oder Folge anwenden. \n",
    "* Die Syntax besteht aus einer for-Klausel, gefolgt von einem eingerückten Block mit einer oder mehreren Anweisungen.\n",
    "\n",
    "```python\n",
    "# For loop über eine Liste von Wörtern\n",
    "verbs = [\"fliegen\", \"kriechen\", \"gehen\", \"laufen\"]\n",
    "for verb in verbs:\n",
    "    print(verb)\n",
    "\n",
    "\n",
    "# For loop über eine Menge / set\n",
    "vset = set(verbs)\n",
    "for verb in vset:\n",
    "    print(verb)\n",
    "\n",
    "\n",
    "# For loop über ein Dictionary\n",
    "persons = {\"Charlie\": 28, \"Alice\": 30, \"Bob\": 25}\n",
    "\n",
    "for name in persons:\n",
    "    print(f\"{name} ist {persons[name]} Jahre alt\")\n",
    "\n",
    "# alternative Variante für Durchlauf durch Dictionary, wobei es sowohl für die keys als auch die values  eine Variable gibt\n",
    "for name, age in persons.items():\n",
    "    print(f\"{name} ist {age} Jahre alt\")\n",
    "\n",
    "\n",
    "```\n"
   ]
  },
  {
   "cell_type": "markdown",
   "id": "cb410e76-4a5c-4111-a674-0b8105a83ee8",
   "metadata": {},
   "source": [
    "### while-loops\n",
    "\n",
    "* Wir führen die Anweisungen im Inneren der Schleife aus, solange die Bedingung , die abgetestet wird, wahr ist\n"
   ]
  },
  {
   "cell_type": "code",
   "execution_count": null,
   "id": "797f3ea5-f373-4572-bd55-48440bec3a7b",
   "metadata": {},
   "outputs": [],
   "source": [
    "# Wir wiederholen die Anfrage bis eine valide Antwort kommt\n",
    "age=\"\"\n",
    "while not age.isdigit():\n",
    "    age = input(\"Geben Sie ihr Alter in Jahren an: \")\n",
    "print(f\"Sie sind  {age} Jahre alt\")"
   ]
  },
  {
   "cell_type": "markdown",
   "id": "99787aab-6448-4229-b65b-486831938c04",
   "metadata": {},
   "source": [
    "* Man kann alle `for`-loops zu `while`-loops umschreiben.\n",
    "* Oft ist der `for`-loop aber einfacher."
   ]
  },
  {
   "cell_type": "code",
   "execution_count": null,
   "id": "dadc521c-7fe4-4b6d-938f-431bb5359649",
   "metadata": {},
   "outputs": [],
   "source": [
    "\n",
    "namen = [\"Henriette\", \"Paul\", \"Max\"]\n",
    "\n",
    "for name in namen:\n",
    "    print(f\"Hallo, {name}\")\n",
    "\n",
    "# für while loop brauchen wir hier einen Zähler, damit wir nicht über die Länge der Liste  hinausschießen!\n",
    "i = 0\n",
    "while i < len(namen):\n",
    "    print(f\"Hallo, {namen[i]}\")\n",
    "    i += 1\n"
   ]
  },
  {
   "cell_type": "markdown",
   "id": "d709235b",
   "metadata": {},
   "source": [
    "## Kombination for und if-else\n",
    "\n",
    "* Beispiel: wir zählen die Anzahl der Buchstaben in einem Wort, die Vokale sind.\n",
    "* NB: wir betrachten nur einzelne Buchstaben, wir versuchen nicht zu erkennen, dass z.B. `ei` als Diphtong eigentlich nur ein Vokal ist.\n",
    "\n",
    "```python\n",
    "# Vokale definieren\n",
    "vowels = 'aeiouäöü'\n",
    "# Zählvariable\n",
    "vowelCount = 0\n",
    "# Wort definieren\n",
    "word = 'Oberbürgermeisterin'\n",
    "\n",
    "# wir iterieren über die Buchstaben des Wortes\n",
    "for letter in word.lower():\n",
    "    if letter in vowels:\n",
    "        vowelCount = vowelCount + 1 # add 1\n",
    "print(vowelCount)\n",
    "```\n"
   ]
  },
  {
   "cell_type": "code",
   "execution_count": null,
   "id": "9733ba16-dca2-4ccb-bb70-dc9de52e5465",
   "metadata": {},
   "outputs": [],
   "source": [
    "# Vokale definieren\n",
    "vowels = 'aeiouäöü'\n",
    "# Zählvariable\n",
    "vowelCount = 0\n",
    "# Wort definieren\n",
    "word = 'Oberbürgermeisterin'\n",
    "\n",
    "# wir iterieren über die Buchstaben des Wortes\n",
    "for letter in word.lower():\n",
    "    if letter in vowels:\n",
    "        vowelCount = vowelCount + 1 # add 1\n",
    "print(vowelCount)"
   ]
  },
  {
   "cell_type": "markdown",
   "id": "e067be94",
   "metadata": {},
   "source": [
    "## 🫵 Your turn\n",
    "\n",
    "* Wie könnten sie den obigen Code verändern, so dass sie die Anzahl der unterschiedlichen Vokale zählen?\n",
    "* Für `Oberbürgermeisterin` sollte das Ergebnis 4 sein: ['o','e','ü','i'].\n",
    "* Um eine mögliche Lösung zu sehen, kommentieren Sie den load-Befehl in der folgenden Code-Zelle aus."
   ]
  },
  {
   "cell_type": "code",
   "execution_count": null,
   "id": "c58045bc-96db-4d8a-9039-2191dcb36cf4",
   "metadata": {},
   "outputs": [],
   "source": [
    "# %load ./snippets/count_vowels.py\n"
   ]
  },
  {
   "cell_type": "markdown",
   "id": "9d4fd35b-7da9-4081-b898-e948549e4838",
   "metadata": {},
   "source": [
    "## 🫵 Your turn\n",
    "\n",
    "* Wir wollen Konsonanten in einem Wort zählen.\n",
    "* Der nachfolgende Code funktioniert so aber  nicht.\n",
    "* Was für ein Problem haben wir hier? Wir können Sie es beheben?\n",
    "* NB: wir verwenden hier eine while-Schleife: solange die Bedingung wahr ist, fahren wir mit den Anweisungen in der Schleife fort.\n"
   ]
  },
  {
   "cell_type": "markdown",
   "id": "31a8e4d9-483b-4b26-ac4d-d677a88e758f",
   "metadata": {},
   "source": [
    "```python\n",
    "word = 'Oida'\n",
    "vowels = 'aeiou'\n",
    "position = 0\n",
    "consonants = 0\n",
    "while position < len(word):\n",
    "    letter = word.lower()[position]\n",
    "    if letter not in vowels:\n",
    "        consonants +=1\n",
    "        print(letter)\n",
    "        position += 1\n",
    "print(f\"found {consonants} consonants\")\n",
    "```"
   ]
  },
  {
   "cell_type": "code",
   "execution_count": null,
   "id": "020c9fbd-1254-4e8b-b460-598ebb94938c",
   "metadata": {},
   "outputs": [],
   "source": [
    "# %load \"./snippets/fix_bad_loop.py\"\n",
    "word = 'Oida'\n",
    "vowels = 'aeiou'\n",
    "position = 0\n",
    "consonants = 0\n",
    "while position < len(word):\n",
    "    letter = word.lower()[position]\n",
    "    if letter not in vowels:\n",
    "        consonants +=1\n",
    "        print(letter)\n",
    "    position += 1\n",
    "print(f\"found {consonants} consonants\")\n"
   ]
  },
  {
   "cell_type": "markdown",
   "id": "58e51b65-f053-4741-9a64-603e73c7db92",
   "metadata": {},
   "source": [
    "## Einschub: Strings vs  Listen\n",
    "\n",
    "* Wir haben mehrfach gesehen, dass wir auf Buchstaben(sequenzen) in strings mit derselben Syntax wie bei Listen zugreifen können.\n",
    "* Dennoch sind Strings fundamental keine Listen von Buchstaben.\n",
    "\n",
    "\n"
   ]
  },
  {
   "cell_type": "code",
   "execution_count": null,
   "id": "c7ce75da-306e-43f8-a9f7-a92acee0a58d",
   "metadata": {},
   "outputs": [],
   "source": [
    "word_list = [\"Hans\", \"Susanne\", \"Max\"]\n",
    "print(word_list)\n",
    "word_list[0] = \"Hand\" #ok\n",
    "print(word_list)\n",
    "word_list.append(\"Kim\")\n",
    "print(word_list)\n"
   ]
  },
  {
   "cell_type": "code",
   "execution_count": null,
   "id": "b435c032",
   "metadata": {},
   "outputs": [],
   "source": [
    "#  Strings sind unveränderliche Objekte, die nicht durch Indexierung oder Veränderungen erweitert werden können.\n",
    "word = \"Bad\"\n",
    "word[0] = \"R\" #Fehler: wir können Bad nicht so zu Rad verwandeln\n",
    "print(word)\n"
   ]
  },
  {
   "cell_type": "code",
   "execution_count": null,
   "id": "ffa8bdf9",
   "metadata": {},
   "outputs": [],
   "source": [
    "word.append(\"en\") # ergibt nicht \"Baden\"\n",
    "print(word)"
   ]
  },
  {
   "cell_type": "markdown",
   "id": "b0710887-dc62-4c5e-816a-6c16f7ed11b8",
   "metadata": {},
   "source": [
    "## break und continue statements in Schleifen\n",
    "\n",
    "* Mit den Anweisungen „break“ und „continue“ können wir Schleifen genauer steuern.\n",
    "* Eine „break“-Anweisung beendet die kleinste umschließende Schleife.\n",
    "* Die „continue“-Anweisung beendet die aktuelle Iteration der kleinsten umschließenden Schleife und springt zur nächsten Iteration.\n",
    "\n"
   ]
  },
  {
   "cell_type": "code",
   "execution_count": null,
   "id": "a4b6e06c-a3bc-4580-8096-3312c445229c",
   "metadata": {},
   "outputs": [],
   "source": [
    "from collections import Counter\n",
    "wort_liste = [\"Lösung\",\"Haus\", \"Appell\", \"ist\" ,\"Mut\", \"Armeechef\", \"zu\", ]\n",
    "stopwords = [\"ab\", \"auf\", \"zu\", \"ist\", \"war\", \"mit\", \"bin\", \"bist\", \"warst\", \"waren\", \"ohne\"]\n",
    "vowels= 'aeiouäöü'\n",
    "\n",
    "# Wir wollen ermitteln mit welcher Häufigkeit verschiedene Vokale den ersten Vokal in einem Wort darstellen.\n",
    "# Wir suchen in jedem Wort den ersten Vokal und fügen ihn in die Liste firstvowels hinzu.\n",
    "# Am Ende ermitteln wir die Häufigkeit.\n",
    "firstvowels=[]\n",
    "\n",
    "for word in wort_liste:\n",
    "\tif word in stopwords:\n",
    "        # Wenn wir ein Stopwort (~ Funktionswort)  haben , interessiert uns sein erster Vokal nicht.\n",
    "        # Mit continue springen wir weiter zum nächsten Wort in der Wortliste.\n",
    "\t\tcontinue\n",
    "\tfor letter in word.lower():\n",
    "\t\tif letter in vowels:\n",
    "\t\t\tfirstvowels.append(letter)\n",
    "            # Da uns nur der erste Vokal interessiert, können wir abbrechen , wenn wir ihn gefunden haben\n",
    "            # Beachte, dass wir nur die Buchstabenschleife verlassen. Wir gehen aber weiter zum nächsten Wort!\n",
    "\t\t\tbreak\n",
    "vowel_frequencies = {}\n",
    "for v in firstvowels:\n",
    "    if v not in vowel_frequencies:\n",
    "        vowel_frequencies[v] = 0\n",
    "    vowel_frequencies[v]+=1\n",
    "print(vowel_frequencies)"
   ]
  },
  {
   "cell_type": "markdown",
   "id": "806db010-b445-4248-8c23-907b9656f34d",
   "metadata": {},
   "source": [
    "## 🫵 Your turn\n",
    "\n",
    "* Können Sie im vorausgehenden Beispiel das `continue`-Statement entfernen und mit anderen Mitteln denselben Effekt erreichen, dass Stopwörter nicht auf den ersten Vokal durchsucht werden?\n",
    "\n",
    "Probieren Sie es erst selbst , Sie können danach auch den load-Befehl in der folgenden Zeile auskommentieren, um eine mögliche Lösung zu sehen."
   ]
  },
  {
   "cell_type": "code",
   "execution_count": null,
   "id": "c4d5a3f1-1d5f-418b-805c-625b925f3bc7",
   "metadata": {},
   "outputs": [],
   "source": [
    "# %load ./snippets/no_counter.py\n"
   ]
  },
  {
   "cell_type": "markdown",
   "id": "b62738ab",
   "metadata": {},
   "source": [
    "# Ausgabe von Text (print)\n",
    "\n",
    "* Die einfache Funktion `print` gibt eine String-Repräsentation eines Objektes aus.\n",
    "* Die Funktion print kann für viele Datentpyen wie int oder float genutzt werden, die keine Strings sind, aber als Strings repräsentiert werden können.\n"
   ]
  },
  {
   "cell_type": "code",
   "execution_count": null,
   "id": "b2c46f0e",
   "metadata": {},
   "outputs": [],
   "source": [
    "# print kann einen einzelnen String oder eine Liste von Strings ausgeben\n",
    "print(\"Speerwerfer Julian Webers Sehnsucht nach einer WM-Medaille\")\n",
    "# im Fall einer Liste werden die Teile durch Leerzeichen getrennt ausgegeben\n",
    "print(\"Speerwerfer\", \"Julian\", \"Webers\", \"Sehnsucht\",\"nach\",\"einer\", \"WM-Medaille\")\n",
    "# Wenn man keine Kommas einfügt, kleben die Teile direkt aneinander\n",
    "print(\"Speerwerfer\" \"Julian\" \"Webers\" \"Sehnsucht\" \"nach\" \"einer\" \"WM-Medaille\")"
   ]
  },
  {
   "cell_type": "markdown",
   "id": "e9844c2b-199c-4ef6-a472-4db1fdcb9cd4",
   "metadata": {},
   "source": [
    "## Stringinterpolierung\n",
    "\n",
    "* String-Interpolation ist ein Prozess, bei dem Werte von Variablen in Platzhalter in einem String eingesetzt werden.\n",
    "* Es gibt (wie oft in Python) mehrere verschiedene Arten von String-Interpolation.\n",
    "* Man muss sie nicht alle benutzen ;)\n"
   ]
  },
  {
   "cell_type": "code",
   "execution_count": null,
   "id": "7fea74a3-df32-432a-99f3-9ffc1644de2a",
   "metadata": {},
   "outputs": [],
   "source": [
    "# Variablen definieren\n",
    "name = 'World'\n",
    "program = 'Python'\n",
    "\n",
    "# Häßlichste Alternative: Konkatenierung der Teile mit + \n",
    "print('Hello' + ' ' + name +'! This is ' + program)"
   ]
  },
  {
   "cell_type": "code",
   "execution_count": null,
   "id": "a5ea66d3-5afa-421d-bd17-38c890b82f60",
   "metadata": {},
   "outputs": [],
   "source": [
    "## f-strings: vor dem öffnenden Anführungszeichen kommt ein 'f'!\n",
    "# An den Stellen, an denen Variablen eingesetzt werden, können wir die Variable einfach zwischen geschweifte Klammern schreiben\n",
    "\n",
    "print(f'Hello {name}! This is {program}')"
   ]
  },
  {
   "cell_type": "code",
   "execution_count": null,
   "id": "c2b1a30c-03d1-4571-ac64-c812848158a7",
   "metadata": {},
   "outputs": [],
   "source": [
    "# %-formatting: statt Variablennamen fügen wir %s in den String ein, wo die Werte eingefügt werden sollen. \n",
    "# Wir geben die Reihenfolge der Variablen nach dem String in runden Klammern an, denen ein % vorausgehen muss.\n",
    "print('Hello %s! This is %s.'%(name,program))"
   ]
  },
  {
   "cell_type": "code",
   "execution_count": null,
   "id": "14c1aaa8-a127-48ad-beb0-89ffcdc01fb3",
   "metadata": {},
   "outputs": [],
   "source": [
    "# str-format: eine Methode der String-Klasse\n",
    "print('Hello {nom}! This is {programme}.'.format(nom=name,programme=program))"
   ]
  },
  {
   "cell_type": "markdown",
   "id": "c286c20b-1910-40f1-9f95-576ed7879fd9",
   "metadata": {},
   "source": [
    "## 🚀 Fortgeschrittene Formatierungsoptionen bei interpolierten Strings"
   ]
  },
  {
   "cell_type": "code",
   "execution_count": null,
   "id": "d0bc9f56-1a15-4037-8634-a21d15d91a2c",
   "metadata": {},
   "outputs": [],
   "source": [
    "# str-format hat auch  Optionen zur Formatierung von Zahlen:\n",
    "prices = [59,2,1003,90001]\n",
    "for price in prices:\n",
    "    # der Preis soll rechts aligniert sein, maximal 8 Zeichen und 2 Nachkommastellen haben [Das Dezimalzeichen ist bei den 8 Zeichen eingerechnet.]\n",
    "    print('Der Preis beträgt {:>8.2f} Euro'.format(price) )"
   ]
  },
  {
   "cell_type": "code",
   "execution_count": null,
   "id": "b430383c-788a-4da9-8afd-5d4da854c3e8",
   "metadata": {},
   "outputs": [],
   "source": [
    "#  Dezimalstellen mit f-strings\n",
    "for price in prices:\n",
    "    txt = f\"Der Preis ist {price:>8.2f} Euro\"\n",
    "    print(txt)\n",
    "# Anzahl der Stellen angleichen: zfill fügt nur 0-en hinzu, falls die Zahl nicht ausreichend lang ist\n",
    "for price in prices:\n",
    "    txt = f\"Der Preis lautet {str(price).zfill(5)} Euro\"\n",
    "    print(txt)\n",
    "# Ausrichtung der Zahlen\n",
    "for price in prices:\n",
    "    txt = f\"Der Preis kommt auf {str(price).rjust(5,' ')} Euro\"\n",
    "    print(txt)\n",
    "for price in prices:\n",
    "    txt = f\"Der Preis beläuft sich auf {str(price).ljust(5,' ')} Euro\"\n",
    "    print(txt)\n",
    "# wir können in den geschweiften Klammern sogar noch Funktionen aufrufen oder rechnen.\n",
    "for price in prices:\n",
    "    txt = f\"Der Preis ist {2*price:>9.2f} Euro\"\n",
    "    print(txt)"
   ]
  },
  {
   "cell_type": "markdown",
   "id": "5deec990-dc75-4cfd-9411-d1c0ab3e8e64",
   "metadata": {},
   "source": [
    "# ✔️ Zwischenfazit Kontrollstrukturen\n",
    "\n",
    "\n",
    "* Kontrollstrukturen in Python bestimmen den Ablauf eines Programms – sie steuern, welcher Code wann, wie oft und unter welchen Bedingungen ausgeführt wird.\n",
    "\n",
    "* Bedingungen: if/elif/else – Ausführen von Codeblöcke abhängig vom Zutreffen bestimmter Bedingungen \n",
    "\n",
    "* Schleifenstrukturen: wiederholte Codeausführung:\n",
    "\t* for-Schleifen – Iterieren über Sequenzen (Listen, Zeichenfolgen, Bereiche) oder eine bestimmte Anzahl von Malen.\n",
    "\t* while-Schleifen – Wiederholen, solange eine Bedingung wahr bleibt.\n",
    "\n",
    "* Wir können auch die Behandlung von Fehlern und Sonderfällen hier einordnen:\n",
    "\t* try/except – Fehler elegant abfangen und behandeln\n",
    "\n",
    "\n"
   ]
  },
  {
   "cell_type": "markdown",
   "id": "767e950f",
   "metadata": {},
   "source": [
    "# ⌛ Reguläre Ausdrücke\n",
    "\n",
    "* Wir  müssen oft beurteilen, ob eine Zeichenkette (String) einem Muster entspricht, eine bestimmte Zeichenfolge oder eine bestimmte Anzahl von Zeichen enthält usw.\n",
    "* Wie andere Programmiersprachen implementiert auch Python  einen allgemeinen Musterabgleichmechanismus, der flexibel und effizient ist: reguläre Ausdrücke.\n",
    "* Wir müssen das Modul für reguläre Ausdrücke importieren.\n",
    "\n",
    "```py\n",
    "import re\n",
    "```\n"
   ]
  },
  {
   "cell_type": "markdown",
   "id": "628388f9",
   "metadata": {},
   "source": [
    "## Funktion re.match\n",
    "\n",
    "* Diese Funktion versucht,  einen regulären Ausdruck vom **Anfang** eines Strings her zu matchen.\n",
    "* Die Funktion nimmt ein Muster (pattern) und einen String (string) als Argumente und gibt `None` zurück, falls der String nicht mit dem Muster anfängt, ansonsten gibt sie ein Match-Objekt zurück\n",
    "* `re.match(pattern, string, flags=0)`\n"
   ]
  },
  {
   "cell_type": "code",
   "execution_count": null,
   "id": "bda60f0a",
   "metadata": {},
   "outputs": [],
   "source": [
    "import re\n",
    "words = [ \"Kanzleramt\" , \"Wahlkampf\", \"Bundesseite\", \"Staatsministerin\", \"Bundesinnenministerium\" ,\"Präsidialamt\", \"Ministerpräsidentin\"]\n",
    "for w in words:\n",
    "    print(f\"\\nword {w}\")\n",
    "    bresult= re.match(r'^Bundes', w)\n",
    "    if bresult !=None:\n",
    "        print(f\"{w} beginnt mit 'Bundes' {bresult}\")\n",
    "    else:\n",
    "        print(f\"Suche nach Bundes: {bresult}\")\n",
    "    mresult= re.match(\".*minister.*\", w)\n",
    "    if mresult!=None:\n",
    "        print(f\"{w} enthält 'minister' {mresult}\")\n",
    "    else:\n",
    "        print(f\"Suche nach minister: {mresult}\")\n",
    "    # die nachfolgende Alternative funktionert für Staatsministerin, aber nicht für Ministerpräsidentin\n",
    "    # Q: Was müsste man tun, damit sie auch die Ministerpräsidentin matcht?\n",
    "    if re.match(\".*minister\", w):\n",
    "        print(\"Match für Binnen-minister\")\n",
    "    # die nachfolgende Alternative funktionert NICHT  für Staatsministerin und Ministerpräsidentin\n",
    "    if re.match(\"minister\", w):\n",
    "       print(\"Match für initialen minister\")\n",
    "    else:\n",
    "        print(\"Suche nach initialem minister: Nada\")\n"
   ]
  },
  {
   "cell_type": "markdown",
   "id": "8b1b0e1e",
   "metadata": {},
   "source": [
    "## Funktion re.search\n",
    "\n",
    "* Die Funktion re.search() sucht nach dem **ersten Vorkommen** eines Musters in einem beliebigen Teil eines Strings .\n",
    "* Die Funktion gibt `None` zurück, falls der String nicht mit dem Muster übereinstimmt, ansonsten gibt sie ein Match-Objekt zurück\n",
    "* `re.search(pattern, string, flags=0)`\n"
   ]
  },
  {
   "cell_type": "code",
   "execution_count": null,
   "id": "24edca50",
   "metadata": {},
   "outputs": [],
   "source": [
    "\n",
    "\n",
    "words = [ \"Kanzleramt\" , \"Wahlkampf\", \"Bundesseite\", \"Staatsministerin\", \"Bundesinnenministerium\" ,\"Präsidialamt\", \"Ministerpräsidentin\", \"Praesidentin\", \"Praesidium\"]\n",
    "for w in words:\n",
    "    print(f\"{w}\")\n",
    "    # simple Suche nach der Sequenz 'in' egal wo\n",
    "    in_any= re.search(\"in\", w)\n",
    "    if in_any!=None:\n",
    "        print(f\"\\t{w} enthält 'in' {in_any}\")\n",
    "\n",
    "    # Suche nach `in` am Ende des Strings: das Dollarzeichen $ steht für das Ende des Strings\n",
    "    in_end= re.search(\"in$\", w)\n",
    "    if in_end!=None:\n",
    "        print(f\"\\t{w} enthält 'in' am Ende {in_end}\")\n",
    "\n",
    "    # Muster das nach folgenden Formen sucht: präsid/Präsid/praesid oder Praesid \n",
    "    # In eckigen Klammern [] stehen Alternativen, d.h. wir akzeptieren praesid oder Praesid\n",
    "    # In den runden Klammern stehen durch \"|\" getrennt alternative Sequenzen: wir können entweder Präsid oder Praesid haben.\n",
    "    prez = re.search(\"[Pp]r(ä|ae)sid\", w)\n",
    "    if prez!=None:\n",
    "        print(f\"\\t{w} enthält 'Präsid' {prez}\")\n",
    "\n"
   ]
  },
  {
   "cell_type": "markdown",
   "id": "8c0a684a",
   "metadata": {},
   "source": [
    "## Funktion re.split\n",
    "\n",
    "* Reguläre Ausdrücke können verwendet werden, um Zeichenketten zu teilen.\n",
    "* `re.split(pattern, string, maxsplit=0, flags=0)\n"
   ]
  },
  {
   "cell_type": "code",
   "execution_count": null,
   "id": "7010a7db",
   "metadata": {},
   "outputs": [],
   "source": [
    "\n",
    "word=\"Ur-ur-ur-ur-oma\"\n",
    "print(re.split(\"(ur)\", word.lower()))\n",
    "re.split(\"(\\-)\",word.lower())\n",
    "word=\"Ururururoma\"\n",
    "\n",
    "parts = re.split(\"(ur)\", word.lower())\n",
    "print(parts)\n",
    "# Fortgeschritten: Entfernen der leeren Strings in einer sog. list comprehension\n",
    "parts = [part for part in parts if part !='']\n",
    "print(parts)"
   ]
  },
  {
   "cell_type": "markdown",
   "id": "ce716936",
   "metadata": {},
   "source": [
    "## Funktion re.sub\n",
    "\n",
    "* Ersetzt alle Treffer eines Musters in einem String.\n",
    "* Die Funktion `sub` hat folgende Argumente\n",
    "* `re.sub(pattern, repl, string, count=0, flags=0)`\n",
    "  * `repl` (= replaecment) kann ein String oder eine Funktion sein, die einen String als Argument erwartet und einen ersetzenden String zurückgibt.\n",
    "  * `string` ist der Input-String, der verändert werden soll\n",
    "  * `count` gibt an , wie oft die Ersetzung gemacht werden soll, wenn sie möglich ist. Der Wert 0 hat hier die Sonderinterpretaton, dass alle Instanzen von `pattern` durch `repl` ersetzt werden sollen. \n"
   ]
  },
  {
   "cell_type": "code",
   "execution_count": null,
   "id": "0bfc254f",
   "metadata": {},
   "outputs": [],
   "source": [
    "word=\"praesidieren\"\n",
    "# ae => ä\n",
    "print(re.sub(\"ae\", \"ä\",word ))\n",
    "# prae => Prä\n",
    "print(re.sub(\"prae\", \"Prä\", word ))\n",
    "word=\"Urururoma\"\n",
    "# wir ersetzen jede Sequenz ur oder Ur durch dieselbe Zeichenfolge und einen Bindestrich\n",
    "# \\\\1 bedeutet das die erste in runden Klammern eingeschlossene Gruppe aus dem Muster wieder verwendet wird. Stichwort: capturing group.\n",
    "print(re.sub(\"([Uu]r)\", \"\\\\1-\", word ))\n",
    "word=\"Bürger:innen\"\n",
    "# Umformatieren des Binnen-i\n",
    "print(re.sub(\":i\", \"I\", word ))"
   ]
  },
  {
   "cell_type": "markdown",
   "id": "eaa253df",
   "metadata": {},
   "source": [
    "\n",
    "## Funktion re.findall\n",
    "\n",
    "* Sucht alle nicht überlappenden Treffer eines Musters in einem String und gibt sie als Liste zurück.\n",
    "* Man kann mit dem Ergebnis also auch zählen.\n",
    "\n"
   ]
  },
  {
   "cell_type": "code",
   "execution_count": null,
   "id": "275d06ac",
   "metadata": {},
   "outputs": [],
   "source": [
    "words = [\"SPD\", \"CSU\", \"Die Linke\", \"Bündnis 90/Die Grünen\", \"CDU\", \"ÖDP\", \"Volt\",\"Bundesinnenministerium\" ,\"Präsidialamt\", \"Praeses\"]\n",
    "for w in words:\n",
    "    vowel = re.findall(\"[äöüiouea]\", w.lower())\n",
    "    print(f\"{w} enthält {len(vowel)} Vokale: {vowel}\")\n",
    "    conseq = re.findall(\"[qsdrtzpgkjdmnbcxl]{2,}\", w.lower())\n",
    "    print(f\"{w} enthält {len(conseq)} Konsonantensequenzen: {conseq}\")\n",
    "\n"
   ]
  },
  {
   "cell_type": "markdown",
   "id": "e9e75ec5",
   "metadata": {},
   "source": [
    "## Funktion re.finditer\n",
    "\n",
    "* Sucht alle nicht überlappenden Treffer eines Musters in einem String und gibt sie sukzessive zurück.\n",
    "* Gibt Details der Treffer zurück.\n"
   ]
  },
  {
   "cell_type": "code",
   "execution_count": null,
   "id": "eb787bb1",
   "metadata": {},
   "outputs": [],
   "source": [
    "\n",
    "words = [\"SPD\", \"CSU\", \"Die Linke\", \"Bündnis 90/Die Grünen\", \"CDU\", \"ÖDP\", \"Volt\",\"Bundesinnenministerium\" ,\"Präsidialamt\", \"Praeses\"]\n",
    "for w in words:\n",
    "    for match in re.finditer(\"[qsdrtzpgkjdmnbcxl]{2,}\", w.lower()):\n",
    "        print(f\"In {w} matchen wir {match.group()} von {match.start()} -  {match.end()}\")\n"
   ]
  },
  {
   "cell_type": "markdown",
   "id": "b133eb62",
   "metadata": {},
   "source": [
    "## Musterdefinition\n",
    "\n",
    "* Einzelne Zeichen können direkt verwendet werden.\n",
    "* Zeichensequenzen wie 'ober' oder 'erst' können verwendet werden.\n",
    "* Wir können alternative Zeichenfolgen durch \"|\"  verwenden getrennt, um mehrere Alternativen zu akzeptieren.\n",
    "* Das Symbol  '.' steht für ein beliebiges Zeichen.\n",
    "* In eckigen Klammern [] stehen Alternativen.\n",
    "* Das Symbol  '^' in eckigen Klammern zeigt Negation an. [^eiou] bedeutet, dass die genannten Vokale nicht vorkommen dürfen.\n",
    "* Das Symbol  '+' nach einem Zeichen oder einer Zeichensequenz bedeutet, dass es mindestens ein Vorkommen dieser Zeichenfolge oder Zeichen geben muss.\n",
    "* Das Symbol  '*' nach einem Zeichen oder einer Zeichensequenz bedeutet, dass es 0 oder mehr  Vorkommen dieser Zeichenfolge oder Zeichen geben muss.\n",
    "* In geschweiften Klammern kann man angeben, wieviele Vorkommen einer Zeichenfolge oder Zeichen mindestens oder höchstens erlaubt sind.\n",
    "* ^ und $ stehen für den String-Anfang und das String-Ende\n",
    "\n"
   ]
  },
  {
   "cell_type": "code",
   "execution_count": null,
   "id": "705d72be",
   "metadata": {},
   "outputs": [],
   "source": [
    "import re\n",
    "word=\"Oberbürgermeisterin\"\n",
    "# alle b's\n",
    "print(re.findall(\"b\",word))\n",
    "\n",
    "# Alle Sequenzen , die mit e beginnen und i enden. greedy (gieriges) matching: wir bilden möglichst lange Sequenzen\n",
    "print(re.findall(\"e.*i\",word))\n",
    "\n",
    "# Alle Sequenzen , die mit e beginnen und i enden. non-greedy matching: wir bilden möglichst kurze Sequenzen\n",
    "print(re.findall(\"e.*?i\",word))\n",
    "\n",
    "# alle Sequenzen , die mit e beginnen und i enden , bei denen dazwischen keine weiteres e kommt.\n",
    "print(re.findall(\"e[^e]*i\",word) )\n",
    "\n",
    "# Alle Sequenzen von mehr als 2 Konsonanten\n",
    "print(re.findall(\"[wrtzpsdfgjklxcvbnm]{2,}\", word))\n",
    "\n",
    "# alle Spannen von 1 oder 2 Vorkommen von \"ur\"\n",
    "word=\"Urururururururoma\"\n",
    "for match in re.finditer(\"(ur){1,2}\",word.lower()):\n",
    "    print(match)\n",
    "# alle Spannen von 1 oder 2 Vorkommen von \"ur\", die nicht am Wortanfang sind (\\B)\n",
    "for match in re.finditer(\"\\B(ur){1,2}\",word.lower()):\n",
    "    print(match)\n",
    "word=\"B52s\"\n",
    "\n",
    "# match all sequences of letter chars\n",
    "print(re.findall(\"[a-zäöüß]+\", word.lower()))\n",
    "\n"
   ]
  },
  {
   "cell_type": "markdown",
   "id": "38c14000-a833-4ce9-981f-d5725c83ca96",
   "metadata": {},
   "source": [
    "## 🫵 Your turn\n",
    "\n",
    "* Auf welche Weisen können Sie  testen, ob ein deutsches Wort mit einem Vokal (Monophthong oder Diphthong) endet?\n"
   ]
  },
  {
   "cell_type": "code",
   "execution_count": null,
   "id": "1f0872e9-afbd-449b-8def-583b505e7005",
   "metadata": {},
   "outputs": [],
   "source": [
    "# %load ./snippets/end_in_vowel.py\n"
   ]
  },
  {
   "cell_type": "markdown",
   "id": "3dcf601f-6b72-4e52-a09d-481aabd73cf6",
   "metadata": {},
   "source": [
    "## 🫵 Your turn\n",
    "\n",
    "*  Wir verwenden  die Datei `1091_0000265.txt`, die wir schon beim Wörterzählen oben benutzt hatten.\n",
    "*  Die Aufgabe besteht darin, alle verschiedenen Sequenzen von zwei Wörtern (Bigrammen) zu ermitteln und  zu zählen, wie oft sie im Text vorkommen.\n",
    "*  Wie könnten Sie dazu vorgehen? Können Sie eine der Methoden aus dem `re`-Modul verwenden?\n"
   ]
  },
  {
   "cell_type": "code",
   "execution_count": null,
   "id": "13c9d4ae-7b00-468b-885b-f98353b49396",
   "metadata": {},
   "outputs": [],
   "source": [
    "# %load ./snippets/count_bigrams.py\n",
    "# wir verwenden wieder die Text-Datei aus dem Merlin-Korpus\n",
    "import re\n",
    "path_to_file=\"./data/1091_0000265.txt\"\n",
    "# Die open-Funktion nimmt mehrere Argumente. Das wichtigste ist das erste, der Pfad zur Datei.\n",
    "with open(path_to_file,\"r\", encoding='utf-8') as f:\n",
    "    # mit der Methode readlines lesen wir den Datei-Inhalt in eine Liste von Zeilen.\n",
    "    lines=f.readlines()\n",
    "print(lines)\n",
    "\n",
    "# NB: wir können die obigen Methoden aus re nicht direkt verwenden, weil sie keine überlappenden Treffer zulassen.\n",
    "# Bei einer Sequenz \"Ich mag Eis.\" wolten wir die Bigramme \"Ich mag\" , \"mag Eis\"  und \"Eis .\" finden und nicht  nur \"Ich mag\" und \"Eis .\"\n",
    "\n",
    "records = {}\n",
    "all_tokens = []\n",
    "\n",
    "# Wir erstellen zunächste eine lange Liste von Tokens, in der die Tokens aller Sätze zusammengefügt sind.\n",
    "for z in lines:\n",
    "    # we remove the final newline character\n",
    "    line = z.strip()\n",
    "    # We separate punctuation marks from preceding alphabetic characters (letters)\n",
    "    line = re.sub(\"([a-zA-Zäöü])([\\.\\!\\?,])\",\"\\\\1 \\\\2\",line)\n",
    "    # We split the text of the line into a list of tokens\n",
    "    white_space_tokens = re.split(\"\\s+\",line)\n",
    "    # We join the tokens of all sentences. This means we can get bigrams that cross sentence boundaries!\n",
    "    all_tokens.extend(white_space_tokens)\n",
    "ix=0\n",
    "\n",
    "# Wir ermitteln nun die Bigramme und zählen.\n",
    "#\n",
    "# NB: die Einträge in einer Liste beginnen ab Index 0!\n",
    "#\n",
    "# [\"Ich\", \"mag\" , \"Eis\" , \".\" ] Länge 4\n",
    "# [ 0, 1,2, 3]\n",
    "# \n",
    "# Wir dürfen nicht bis zur letzten Index-Position (3) gehen und dann nach dem Token an Position 3+1 schauen: \n",
    "# es gibt nämlich keine Position 4 und wir würden einen Fehler bekommen.\n",
    "# Der höchste Index ix , den wir besuchen dürfen , ist 2.\n",
    "# Um das sicherzustellen, testen wir, dass  jeder Index, den wir besuchen,  **kleiner** ist als die Tokenanzahl - 1.\n",
    "while ix < len(all_tokens)-1:\n",
    "    bigram = all_tokens[ix]+\"_\"+all_tokens[ix+1]\n",
    "    if bigram not in records:\n",
    "        records[bigram]=0\n",
    "    records[bigram]+=1\n",
    "    ix+=1\n",
    "print(records)\n"
   ]
  },
  {
   "cell_type": "markdown",
   "id": "772d2d68-25c2-42f0-8463-7c00f806ed4d",
   "metadata": {},
   "source": [
    "\n",
    "## Alternative Implementierung mit fertigen Bausteinen\n",
    "\n",
    "* Oben haben wir eine handgestrickte Implementation der Bigramm-Ermittlung gesehen.\n",
    "* Soweit wie möglich möchten wir beim Programmieren gerne Code wiederverwenden, den es schon gibt und der gut getestet und optimiert ist.\n",
    "* Unten ist ein Beispiel, wie wir mit einer Kombination aus der `bigrams`-Methode des Natural Language Toolkits (nltk) und einem `Counter` aus dem `collections`-Modul die Bigramm-Frequenzen ermitteln können.\n"
   ]
  },
  {
   "cell_type": "code",
   "execution_count": null,
   "id": "ebb183ac-7ce1-40df-8f6e-95e643fc31d9",
   "metadata": {},
   "outputs": [],
   "source": [
    "# falls nötig , nltk installieren\n",
    "!pip install  nltk\n",
    "# als erstes nltk importieren\n",
    "import nltk\n",
    "# Download von Daten für das Satzsplitting (muss nur einmal laufen)\n",
    "nltk.download('punkt')\n",
    "nltk.download('punkt_tab')"
   ]
  },
  {
   "cell_type": "code",
   "execution_count": null,
   "id": "263002dc-f5f9-4c35-9c07-4fdbf5d4842e",
   "metadata": {},
   "outputs": [],
   "source": [
    "\n",
    "# wir importieren Funktionen aus dem NLTK-Paket bzw seinen Unterpaketen\n",
    "from nltk.tokenize import sent_tokenize, word_tokenize\n",
    "from nltk.util import bigrams\n",
    "from collections import Counter\n",
    "\n",
    "with open(\"./data/tagesschau_polen.txt\") as f:\n",
    "    text = f.read()\n",
    "# die Methode zum Sentence splitting braucht eine Angabe zur Sprache!\n",
    "sentences = sent_tokenize(text, language='german')\n",
    "    \n",
    "# Wir besuchen der Reihe nach alle Sätze und teilen sie in Listen von Tokens auf.\n",
    "# Die Tokenliste jedes Satzes fügen wir zu unserer globalen Tokenliste list_of_tokens hinzu. \n",
    "list_of_tokens = []\n",
    "for sentence in sentences:\n",
    "    tokens = word_tokenize(sentence, language='german')\n",
    "    # während die append-Methode von Listen nur ein  Element  hinzufügen kann, fügt die extend-Methode einer Liste alle\n",
    "    # Elemente einer anderen Liste hinzu\n",
    "    list_of_tokens.extend(tokens)\n",
    "\n",
    "c=Counter( bigrams(list_of_tokens))\n",
    "print(c)"
   ]
  },
  {
   "cell_type": "markdown",
   "id": "559c3eaf-627a-4b64-85ef-25923483e8b3",
   "metadata": {},
   "source": [
    "**Your turn**\n",
    "* Wenden Sie den Ansatz mit nltk auf die Datei `./data/1091_0000265.txt` an, die wir  oben mit unserem eigenen Code verarbeitet hatten, an.\n",
    "* Kommen die gleichen Bigramme dabei  heraus?    \n",
    "  "
   ]
  },
  {
   "cell_type": "markdown",
   "id": "35ed2f01-db63-4f23-884d-ec5cf844d581",
   "metadata": {},
   "source": [
    "# ✔️ Zusammenfassung reguläre Ausdrücke\n",
    "\n",
    "* Strings bieten nur grundlegende Mustererkennung durch einfache Methoden (z.B. `startswith`, `endswith` )-\n",
    "* Reguläre Ausdrücke (Regex) in Python sind Mustererkennungswerkzeuge, mit denen wir Text anhand flexibler Muster statt anhand exakter Zeichenfolgen durchsuchen können.\n",
    "* Mit Regex können wir Text finden, der einem Muster entspricht, anstatt bestimmte Zeichen zu suchen.\n",
    "* Beispielsweise können wir alle E-Mail-Adressen, Telefonnummern oder Datumsangaben in einem Dokument finden, ohne die genauen Werte zu kennen.\n",
    "\n",
    "* Typische  Anwendungen\n",
    "    * Datenvalidierung – Prüfen, ob Daten korrekt formatiert sind \n",
    "    * Textextraktion – Extraktion bestimmter Informationen aus Dokumenten  oder Metadaten.\n",
    "    * Datenbereinigung – Entfernen von unerwünschten Zeichen oder Strings\n",
    "    * Datenumfomatierung z.B. durch Aufspalten von Strings in Listen von Teilstrings (z.b. Sätzen )\n",
    "\n",
    "```python\n",
    "x=\"Martin ist am 08.03.2001 geboren\"\n",
    "date=re.sub(\"^(.*?)([0-9]{2,2}\\.[0-9]{2,2}\\.[0-9]{4,4})(.*)\", \"\\\\2\",x)\n",
    "print(date)\n",
    "# '08.03.2001'\n",
    "```\n"
   ]
  },
  {
   "cell_type": "markdown",
   "id": "5230fa9c-a9e6-4866-a45f-b52beaba1d55",
   "metadata": {},
   "source": [
    "# ⌛ Tabellen\n",
    "\n",
    "* Wir arbeiten häufig mit Tabellen , die z.B. Metadaten enthalten.\n",
    "* Eine gängige Art der Darstellung von Daten ist eine Text-Datei, in der die Spalten durch Kommas oder einen anderen Delimiter getrennt sind.\n",
    "* Wir können auch Excel-Dateien verwenden, um Daten zu speichern und zu laden.\n",
    "* Pandas ist eine gängige  Bibliothek,  um tabellarische Daten zu manipulieren und zu visualisieren.\n",
    "* Wir schauen uns eine Datei zu den Sprecher:innen im Comigs-Korpus an.\n",
    "* Die Datei hat drei Spalten: ID, Proficiencly level und set.\n",
    "  * Es gibt in Comigs zwei Unterkorpora , set 1 und set 2 , die sich u.a. dadurch unterscheiden, dass es beim einen  set zwei manuell erstellte Zielhypothesen gibt und  beim anderen nicht.\n",
    "\n"
   ]
  },
  {
   "cell_type": "code",
   "execution_count": null,
   "id": "f9cd1e42",
   "metadata": {},
   "outputs": [],
   "source": [
    "import pandas as pd\n",
    "# Wir laden die Datei in einen Pandas-Dataframe mit Hilfe einer Methode der Klasse pandas.\n",
    "# Der Parameter sep=\"\\t\" besagt, dass wir  Tab-getrennte Daten haben. \n",
    "# (Wir verwenden deswegen auch als Dateinamenserweiterung .tsv und nicht .csv .)\n",
    "df = pd.read_csv('./data/comigs_proficiency_levels.tsv',sep=\"\\t\")\n",
    "\n",
    "# Mit head können wir uns die ersten Zeilen des Dataframes anzeigen lassen\n",
    "print(f\"HEAD:\\n {df.head()}\") \n",
    "# Das Gegenstück für die letzten Zeilen ist tail()\n",
    "\n",
    "print(f\"TAIL:\\n {df.tail()}\") \n",
    "\n",
    "# Ausgabe der ganzen Tabelle\n",
    "print(df)\n",
    "\n",
    "# Länge der Tabelle\n",
    "print(f\"Tabelle hat {len(df)} Zeilen\")"
   ]
  },
  {
   "cell_type": "code",
   "execution_count": null,
   "id": "d04c388f",
   "metadata": {},
   "outputs": [],
   "source": [
    "# Wir können uns Information über die Datentypen in den Spalten anzeigen lassen:\n",
    "print(df.info())\n",
    "\n",
    "# Ebenso macht es meist Sinn zu prüfen, ob die Daten vollständig sind.\n",
    "print(\"Fehlende Werte je Spalte: \\n\")\n",
    "print(df.isnull().sum())\n",
    "\n"
   ]
  },
  {
   "cell_type": "code",
   "execution_count": null,
   "id": "6d7d3952",
   "metadata": {},
   "outputs": [],
   "source": [
    "# Wir sortieren die Tabelle: zuerst aufsteigend nach set, dann nach Proficiency level, und dann nach ID\n",
    "# inplace=True führt dazu, dass die sortierte Tabelle direkt in df gespeichert wird, ohne einen neuen Dataframe zu erzeugen.\n",
    "df.sort_values(by=[\"set\", \"Proficiency level\", \"ID\" ], ascending=True, inplace=True)  \n",
    "print(df)\n"
   ]
  },
  {
   "cell_type": "code",
   "execution_count": null,
   "id": "2f1c1bad",
   "metadata": {},
   "outputs": [],
   "source": [
    "# Wenn wir nur an Set 1 interessiert sind, können wir  einen Unter-Datenframe erzeugen, in dem wir nur die Zeilen für set 1  behalten \n",
    "# NB: beachten Sie die Syntax, mit der  wir die Zeilen des Dataframes filtern.\n",
    "set1_df = df[ df[\"set\"] == 1 ]\n",
    "print(set1_df)\n",
    "print(len(set1_df))\n",
    "\n",
    "# wir können den neuen Dataframe in eine TSV-Datei speichern - pandas dataframes haben dazu die Methode `to_csv`.\n",
    "set1_df.to_csv(\"set1_df.tsv\",sep=\"\\t\", index=False)"
   ]
  },
  {
   "cell_type": "markdown",
   "id": "c03a7c96",
   "metadata": {},
   "source": [
    "## 🫵 Your turn\n",
    "\n",
    "* Erstellen Sie eine Liste mit den IDs der Lerner:innen aus Set2, die das GER-Niveau A2 haben (Spalte 'Proficiency level').\n",
    "* Kommentieren Sie den load-Befehl in der nächsten Zelle aus, wenn Sie eine Lösung sehen wollen.\n"
   ]
  },
  {
   "cell_type": "code",
   "execution_count": 14,
   "id": "feb0fad9-780e-4ba9-8c4f-02cf7ff9506d",
   "metadata": {},
   "outputs": [],
   "source": [
    "# %load ./snippets/find_set2_level_a2_learners.py\n",
    "set2_ids = df[ df[\"set\"] == 2 ][\"ID\"].tolist()\n",
    "a2_ids = df[ df[\"Proficiency level\"] == \"A2\"][\"ID\"].tolist()\n",
    "schnittmenge=set(set2_ids).intersection(set(a2_ids))\n",
    "print(list(schnittmenge))\n",
    "\n",
    "# Kompaktere Alternative, die die Funktionalität von pandas nutzt: \n",
    "# wir bilden einen neuen Dataframe, in dem wir nur die Zeilen für Set 2 und Proficiency level A2 behalten.\n",
    "set2_a2_df = df[ (df[\"set\"] == 2) & (df[\"Proficiency level\"] == \"A2\") ]\n",
    "print(set2_a2_df[\"ID\"].tolist())\n",
    "\n"
   ]
  },
  {
   "cell_type": "code",
   "execution_count": null,
   "id": "a11d4a0d",
   "metadata": {},
   "outputs": [],
   "source": [
    "# Zugriff auf eine einzelne Spalte:\n",
    "print(df[\"Proficiency level\"])\n",
    "\n",
    "# Welche Proficiency levels kommen in der Spalte \"Proficiency level\" vor?\n",
    "print(df[\"Proficiency level\"].unique())\n",
    "# Wie oft kommt jeder der Proficiency levels vor?\n",
    "print(df[\"Proficiency level\"].value_counts())"
   ]
  },
  {
   "cell_type": "markdown",
   "id": "8885a27c",
   "metadata": {},
   "source": [
    "## 🫵 Your turn\n",
    "\n",
    "* \tWie können Sie bestimmen, wie viele Lerner:innen in Set 1 und Set 2 jeweils vorhanden sind?"
   ]
  },
  {
   "cell_type": "code",
   "execution_count": null,
   "id": "0593bca5-6eae-4ee1-90f0-c190d0672fe1",
   "metadata": {},
   "outputs": [],
   "source": [
    "# %load ./snippets/count_learners_per_set.py\n"
   ]
  },
  {
   "cell_type": "code",
   "execution_count": null,
   "id": "5f9e4ca3",
   "metadata": {},
   "outputs": [],
   "source": [
    "# Wir wollen schauen , ob die gleichen Proficiency levels in beiden sets vorkommen.\n",
    "\n",
    "set1_proficiency_levels = df[df[\"set\"] == 1][\"Proficiency level\"].unique()\n",
    "set2_proficiency_levels = df[df[\"set\"] == 2][\"Proficiency level\"].unique()\n",
    "\n",
    "print(f\"Set 1 Proficiency Levels: {set1_proficiency_levels}\")\n",
    "print(f\"Set 2 Proficiency Levels: {set2_proficiency_levels}\")\n"
   ]
  },
  {
   "cell_type": "code",
   "execution_count": null,
   "id": "feaef938",
   "metadata": {},
   "outputs": [],
   "source": [
    "# Wir möchten uns nun die Anzahl der Lerner:innen pro Proficiency level pro Set anzeigen lassen.\n",
    "# Wir erstellen mit der Funktion crosstab eine Kreuztabelle aus den beiden Variablen.\n",
    "print(pd.crosstab(df[\"Proficiency level\"], df[\"set\"]))"
   ]
  },
  {
   "cell_type": "code",
   "execution_count": null,
   "id": "3847ac81",
   "metadata": {},
   "outputs": [],
   "source": [
    "# Wir möchten die Daten in der Tabelle umformatieren und die Info in Proficiency levels in 2 Spalten \"Proficiency Min\" und \"Proficeincy Max\" aufteilen.\n",
    "# Wenn ein einfacher Wert in der Spalte \"Proficiency level\" steht, schreiben wir ihn in die beiden neuen Spalten \"Proficiency Min\" und \"Proficiency Max\" .\n",
    "# Wenn ein Wert mit \"/\" in der Spalte steht (z.B. A2/B1), trennen wir den Eintrag und schreiben den linken Wert in \"Proficiency Min\" und den rechten Wert in \"Proficiency Max\".\n",
    "\n",
    "# Wir können neue Spalten zu einem Datenframe hinzufügen.\n",
    "\n",
    "df[\"Proficiency Min\"]=\"\"\n",
    "df[\"Proficiency Max\"]=\"\"\n",
    "for ix, row in df.iterrows():\n",
    "\tif \"/\" in row[\"Proficiency level\"]:\n",
    "\t\tdf.loc[ix, \"Proficiency Min\"] = row[\"Proficiency level\"].split(\"/\")[0]\n",
    "\t\tdf.loc[ix, \"Proficiency Max\"] = row[\"Proficiency level\"].split(\"/\")[1]\n",
    "\telse:\n",
    "\t\tdf.loc[ix, \"Proficiency Min\"] = row[\"Proficiency level\"]\n",
    "\t\tdf.loc[ix, \"Proficiency Max\"] = row[\"Proficiency level\"]\n",
    "print(df.tail())"
   ]
  },
  {
   "cell_type": "markdown",
   "id": "e0a049c6",
   "metadata": {},
   "source": [
    "## 🫵 Your turn\n",
    "\n",
    "* Verändern Sie den obigen Code so, dass Sie möglichst die Methoden aus dem Modul `re` verwenden, um die Einträge in \"Proficiency Min\" und \"Proficiency Max\" zu extrahieren.\n",
    "* (Sie können eine Lösung sehen, in dem  Sie den load-Befehl in der nächsten Zelle auskommentieren, den Code laden und dann ausführen."
   ]
  },
  {
   "cell_type": "code",
   "execution_count": null,
   "id": "d9551e91",
   "metadata": {},
   "outputs": [],
   "source": [
    "# %load ./snippets/use_re_module.py\n",
    "\n"
   ]
  },
  {
   "cell_type": "markdown",
   "id": "d70063b6-cfad-4c92-995f-3ca1abc329d6",
   "metadata": {},
   "source": [
    "* In der Code-Zelle unten können Sie eine noch eine kompaktere Version sehen, um die Info in Proficiency level aufzuteilen."
   ]
  },
  {
   "cell_type": "code",
   "execution_count": null,
   "id": "716164f4-238a-4fb9-85aa-f36c360a1231",
   "metadata": {},
   "outputs": [],
   "source": [
    "# %load ./snippets/apply_example.py\n"
   ]
  },
  {
   "cell_type": "markdown",
   "id": "b71357e2",
   "metadata": {},
   "source": [
    "## 🫵 Your turn\n",
    "\n",
    "* Erstellen Sie neue Kreuztabellen mit den Proficiency levels in \"Proficiency Min\" und \"Proficiency Max\" pro Set."
   ]
  },
  {
   "cell_type": "code",
   "execution_count": null,
   "id": "c709eb96",
   "metadata": {},
   "outputs": [],
   "source": [
    "# %load ./snippets/create_crosstabs.py\n"
   ]
  },
  {
   "cell_type": "markdown",
   "id": "4b6ab90d",
   "metadata": {},
   "source": [
    "## Erstellen von Dataframes aus Listen  und Dictionaries\n",
    "\n",
    "* DataFrames / Tabellen haben eine natürliche Verwandtschaft zu Listen und Dictionaries.\n",
    "* Wir können die einzelnen Spalten als Listen verstehen.\n",
    "* Wir können Zeilen als Dictionaries verstehen, wobei die Schlüssel die Spaltennamen und die Werte die Spaltenwerte in den relevanten Zellen sind.\n"
   ]
  },
  {
   "cell_type": "code",
   "execution_count": null,
   "id": "ff878f3b",
   "metadata": {},
   "outputs": [],
   "source": [
    "# Weiter oben haben wir Worthäufigkeiten für eine Datei aus dem Merlin-Korpus ermittelt und in dem Dictionary `freq_records` gespeichert.\n",
    "\n",
    "print(freq_records)\n",
    "\n",
    "# Wir erzeugen aus den Schlüsseln und Werten zwei parallele Listen.\n",
    "# NB: die keys()-Methode von dictionaries gibt nicht direkt eine Liste zurück.\n",
    "# Wir können den Rückgabewert mit list() wieder in eine Liste umwandeln.\n",
    "words = list(freq_records.keys())\n",
    "freqs = list(freq_records.values())\n",
    "# Wir schauen uns einige der Werte in den Listen an.\n",
    "print(words[0:5])\t\n",
    "print(freqs[0:5])\n",
    "# Erstellen eines Dataframes aus parallelen Listen\n",
    "# Beachte: wir müssen am Ende ein dictionary haben, dessen Schlüssel die Spaltennamen und dessen Werte die zugehörigen Listen für die Werte in den Zeilen  sind.\n",
    "df_words_freqs = pd.DataFrame({\"word\": words, \"frequency\": freqs})\n",
    "print(df_words_freqs.head())\n"
   ]
  },
  {
   "cell_type": "code",
   "execution_count": null,
   "id": "4aca8fdc",
   "metadata": {},
   "outputs": [],
   "source": [
    "\n",
    "# Wir haben oben auch ein Dictionary namens `records` mit den Häufigkeiten von Bigrammen erzeugt.\n",
    "print(records)\n",
    "\n",
    "# Wir wandeln die Information  in eine Liste von Dictionaries um. \n",
    "# Jedes dictionary hat 2 key-value Paare, eines für das Bigramm und eines für seine Häufigkeit.\n",
    "# Aus der Liste von dictionaries können wir einen DataFrame erzeugen.\n",
    "row_list  =[]\n",
    "for kee,val in records.items():\n",
    "\trow_dict = {\"bigram\": kee, \"frequency\": val}\n",
    "\trow_list.append(row_dict)\n",
    "print(f\"row_list {row_list[0:5]}\")\n",
    "bigram_df = pd.DataFrame(row_list)\n",
    "print(bigram_df.head())\t\n"
   ]
  },
  {
   "cell_type": "markdown",
   "id": "928fd7ec",
   "metadata": {},
   "source": [
    "## 🫵 Your turn \n",
    "\n",
    "\n",
    "* Oben haben wir ein Dictionary `vowel_frequencies` erstellt.\n",
    "* Wandeln Sie die Werte in einen Dataframe um.\n"
   ]
  },
  {
   "cell_type": "code",
   "execution_count": null,
   "id": "9d7b1e82-6e6a-4ddb-aed8-3f6577a40371",
   "metadata": {},
   "outputs": [],
   "source": [
    "# %load ./snippets/vowel_frequencies_df.py\n"
   ]
  },
  {
   "cell_type": "code",
   "execution_count": null,
   "id": "b92a861b-c693-47cd-8142-0bf40d6213c3",
   "metadata": {},
   "outputs": [],
   "source": [
    "* In der folgenden Zelle sind noch zwei alternative Lösungen, die kompakter sind."
   ]
  },
  {
   "cell_type": "code",
   "execution_count": null,
   "id": "431067ca-a0ca-4d4b-a023-423de87ee336",
   "metadata": {},
   "outputs": [],
   "source": [
    "# %load ./snippets/vowel_frequencies_df_compact.py\n"
   ]
  },
  {
   "cell_type": "markdown",
   "id": "c41c54fd",
   "metadata": {},
   "source": [
    "# Visualisierung\n",
    "\n",
    "* pandas stellt auch Methoden bereit , um Daten zu visualiseren.\n",
    "* Zum Beispiel können wir aus den oben erstellten Crosstabs  Barplots erstellen.\n"
   ]
  },
  {
   "cell_type": "code",
   "execution_count": null,
   "id": "927d4996",
   "metadata": {},
   "outputs": [],
   "source": [
    "crosstab_min.plot(kind=\"bar\", stacked=True, rot=0)\n",
    "crosstab_min.plot(kind=\"bar\", stacked=False, rot=0)"
   ]
  },
  {
   "cell_type": "markdown",
   "id": "0e6fa06d",
   "metadata": {},
   "source": [
    "# 🚀 Daten mit Annotationen\n",
    "\n",
    "* Manchmal haben wir es mit Daten zu tun, die nicht nur aus Text bestehen sondern auch Annotationen enthalten.\n",
    "* Ein gängiges Beispiel dafür ist das CONLLU-Format (siehe Beispiel).\n",
    "* Im Conllu-Format enthält jede Zeile ein Token und in tab-getrennten Spalten diverse Annotationen.\n",
    "* Sätze werden durch Leerzeilen getrennt .\n",
    "* Die Spalten sind wie folgt belegt: ID, FORM, LEMMA, UPOS, XPOS, FEATS, HEAD, DEPREL, DEPS, MISC.\n",
    "  * UPOS = Part-of-speech-Tag nach Universal dependencies  (grobkörnig)\n",
    "  * XPOS = Part-of-speech-Tag nach sprach-spezifischem Tagset (feinkörnig)\n",
    "  * HEAD = Index desjenigen Tokens, das laut Dependenzsyntax der Kopf des aktuellen Tokens ist. (Im Beispiel unten wird die Tiger-Dependenzsyntax des Deutschen verwendet.)\n",
    "  * DEPREL = syntaktiche Relation zwischen dem aktuellen und dem Kopftoken.\n",
    "  * FEATS  = morphologische Merkmale des Tokens\n",
    "\n",
    "\n",
    "```txt\n",
    "1\tDie\tDie\tART\tART\tnumber=sg|gender=fem|case=nom\t2\tDET\t_\t_\n",
    "2\tSzene\tSzene\tN\tNN\tnumber=sg|gender=fem|person=third\t3\tSUBJ\t_\t_\n",
    "3\tfindet\tfinden\tV\tVVFIN\tnumber=sg|stress=none|mood=indicative|person=third|valence=-|tense=present\t0\tS\t_\t_\n",
    "4\tvermutlich\tvermutlich\tADV\tADV\tsubcat=sentence\t3\tADV\t_\t_\n",
    "5\tin\tin\tPREP\tAPPR\tcase=dat\t3\tPP\t_\t_\n",
    "6\teiner\teiner\tART\tART\tnumber=sg|gender=fem|case=dat\t7\tDET\t_\t_\n",
    "7\tKüche\tKüche\tN\tNN\tnumber=sg|gender=fem|person=third\t5\tPN\t_\t_\n",
    "8\tstatt\tstatt\tPTKVZ\tPTKVZ\t_\t3\tAVZ\t_\t_\n",
    "9\t.\t.\t$.\t$.\t_\t0\tROOT\t_\t_\n",
    "\n",
    "1\tEs\tEs\tPRO\tPPER\tnumber=sg|gender=neut|case=nom|person=third\t2\tSUBJ\t_\t_\n",
    "2\tgibt\tgeben\tV\tVVFIN\tnumber=sg|stress=none|mood=indicative|person=third|valence=ai|tense=present\t0\tS\t_\t_\n",
    "3\tzwei\tzwei\tCARD\tCARD\tnumber=pl|gender=bot|case=bot|person=third\t4\tATTR\t_\t_\n",
    "4\tFiguren\tFigur\tN\tNN\tnumber=pl|gender=fem|case=bot|person=third\t2\tOBJA\t_\t_\n",
    "5\t,\t,\t$,\t$,\t_\t0\tROOT\t_\t_\n",
    "6\tdie\tdie\tPRO\tPRELS\tnumber=pl|gender=bot|case=nom|person=third\t10\tSUBJ\t_\t_\n",
    "7\tan\tan\tPREP\tAPPR\tcase=dat\t10\tPP\t_\t_\n",
    "8\tdem\tdem\tART\tART\tnumber=sg|gender=masc|case=dat\t9\tDET\t_\t_\n",
    "9\tTisch\tTisch\tN\tNN\tnumber=sg|gender=masc|case=nom_dat_acc|person=third\t7\tPN\t_\t_\n",
    "10\tsitzen\tsitzen\tV\tVVFIN\tnumber=pl|mood=indicative|tense=present|person=third\t4\tREL\t_\t_\n",
    "11\t.\t.\t$.\t$.\t_\t0\tROOT\t_\t_\n",
    "```"
   ]
  },
  {
   "cell_type": "markdown",
   "id": "c523f1bc",
   "metadata": {},
   "source": [
    "## 🫵 Your turn\n",
    "\n",
    "* Die Datei `comigs_set_1_bsPg_1_sample.conllu` enthält Parses im Conllu-Format.\n",
    "* Überlegen Sie sich,  wie Sie diese Daten so einlesen können, dass Sie die nachfolgenden Analysen durchführen können.\n",
    "  * Ermitteln Sie pro Satz die Anzahl der Tokens. \n",
    "  * Wie lang ist der längste Satz? Wie lang ist der kürzeste Satz? (Pot. gibt es mehrere gleich lange/kurze Sätze)\n",
    "  * Finden Sie alle Verb-Lemmas im Text. Ermitteln Sie für jedes Verb-Lemma, wie oft es im Text vorkommt.\n",
    "  * Berechnen Sie die Häufigkeiten der UPOS Part-of-speech-Tags.\n",
    "  * Ermitteln Sie die 5 häufigsten Bigramme im Text. (Bigramme sollen keine Satzgrenzen überschreiten.)\n",
    "  * Was ist der am häufigsten vorkommende Buchstabe im Text?\n",
    "  * Ermitteln Sie für jedes Wort die Wortlänge und bilden  Sie am Ende eine Tabelle mit den Spalten `Wortlänge` und `Häufigkeit`, die dokumentiert, wie viele Wörter mit einer gegebenen  Länge im Text vorkommen. Die Tabelle soll aufsteigend nach der Wortlänge sortiert sein.\n"
   ]
  },
  {
   "cell_type": "code",
   "execution_count": null,
   "id": "c98ac30f-09c0-4b64-ace3-9f083a30b7ad",
   "metadata": {},
   "outputs": [],
   "source": [
    "# %load ./snippets/various_frequencies_off_conllu.py\n",
    "\n",
    "# the path to the parse file is as shown below\n",
    "parse_file = \"./data/comigs_set_1_bsPg_1_sample.conllu\"\n"
   ]
  },
  {
   "cell_type": "markdown",
   "id": "1a7f257b-7608-4ecc-a837-5903622e99d8",
   "metadata": {},
   "source": [
    "# Extras"
   ]
  },
  {
   "cell_type": "markdown",
   "id": "979196ef-6122-44b1-9227-976ea923c526",
   "metadata": {},
   "source": [
    "## Installation von jupyter notebook und / oder python auf windows\n"
   ]
  },
  {
   "cell_type": "code",
   "execution_count": null,
   "id": "afb445c1-5183-4d87-949f-3ec036038d8a",
   "metadata": {},
   "outputs": [],
   "source": [
    "# Installation von jupyter notebook\n",
    "\n",
    "* Wenn Sie jupyter notebook (oder die Variante jupyter lab) selbst installieren wollen, geht das z.B. direkt über python.\n",
    "\n",
    "```shell\n",
    "\n",
    "# Installation\n",
    "pip install notebook\n",
    "\n",
    "# Starten auf der Kommandozeile\n",
    "jupyter notebook\n",
    "\n",
    "```\n",
    "\n",
    "* Auf der Seite `https://www.geeksforgeeks.org/installation-guide/install-jupyter-notebook-in-windows/` finden Sie weitere alternative Wege, um jupyter notebook zu installieren."
   ]
  },
  {
   "cell_type": "markdown",
   "id": "e8262a71-d148-4505-86f7-a971af6fa416",
   "metadata": {},
   "source": [
    "## Installation von python auf windows"
   ]
  },
  {
   "cell_type": "code",
   "execution_count": null,
   "id": "1e1a7ff1-0847-4d7a-9fa0-917d19b07b2a",
   "metadata": {},
   "outputs": [],
   "source": [
    "* Auf https://realpython.com/installing-python/ gibt es Infos, wie Sie python auf einem Windows-Rechner installieren können."
   ]
  }
 ],
 "metadata": {
  "kernelspec": {
   "display_name": "Python 3 (ipykernel)",
   "language": "python",
   "name": "python3"
  },
  "language_info": {
   "codemirror_mode": {
    "name": "ipython",
    "version": 3
   },
   "file_extension": ".py",
   "mimetype": "text/x-python",
   "name": "python",
   "nbconvert_exporter": "python",
   "pygments_lexer": "ipython3",
   "version": "3.9.19"
  }
 },
 "nbformat": 4,
 "nbformat_minor": 5
}
