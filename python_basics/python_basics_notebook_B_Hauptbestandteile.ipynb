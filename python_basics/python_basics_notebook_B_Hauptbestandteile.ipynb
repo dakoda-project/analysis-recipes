{
 "cells": [
  {
   "cell_type": "markdown",
   "id": "e9760ea4-d85a-4700-adf5-3971230fe0d7",
   "metadata": {},
   "source": [
    "# Bestandteile von Python-Programmen"
   ]
  },
  {
   "cell_type": "code",
   "execution_count": 3,
   "id": "d9f00666-68e3-4d24-96c6-e28518154fb0",
   "metadata": {},
   "outputs": [
    {
     "name": "stdout",
     "output_type": "stream",
     "text": [
      "Noah\n",
      "Matteo\n",
      "Elias\n",
      "Luca\n",
      "Leon\n",
      "Theo\n",
      "Finn\n",
      "Paul\n",
      "Emil\n",
      "Henry\n",
      "längster Name: Matteo hat 6 Zeichen\n"
     ]
    }
   ],
   "source": [
    "# namen ist eine Variable\n",
    "# [\"Noah\", \"Matteo\", \"Elias\", \"Luca\", \"Leon\", \"Theo\", \"Finn\", \"Paul\",\"Emil\", \"Henry\"]  ist eine Liste von  Strings\n",
    "# Es sind die 10 häufigste Namen für Jungen in 2024 in DE.\n",
    "# Listen kann man mit eckigen Klammern definieren.\n",
    "namen = [\"Noah\", \"Matteo\", \"Elias\", \"Luca\", \"Leon\", \"Theo\", \"Finn\", \"Paul\",\"Emil\", \"Henry\"] \n",
    "\n",
    "# longest ist eine weitere Variable\n",
    "longest=\"\"\n",
    "# die for-Schleife ist eine Kontrollstruktur\n",
    "for name in namen:\n",
    "    # der if-Test ist eine Kontrollstruktur\n",
    "    # Die Funktion len() ist eine in Python eingebaute (built-in) Funktion: man muss nichts extra installieren, um sie verfügbar zu haben.\n",
    "    # das Größerzeichen > ist ein sogenannter operator (mehr Details unten)\n",
    "    if len(name)>len(longest):\n",
    "        # das Gleichheitszeichen = ist auch ein operator\n",
    "        longest=name\n",
    "    print(name)\n",
    "max_len =len(longest)\n",
    "print(f\"längster Name: {longest} hat {max_len} Zeichen\")"
   ]
  },
  {
   "cell_type": "markdown",
   "id": "e5a515e6-02ca-430f-a0c6-aaa4d34d43b1",
   "metadata": {},
   "source": [
    "\n",
    "## 🚀 Literale vs Variablen vs Ausdrücke\n",
    "\n",
    "* die einzelnens Strings in der Liste namen oben sind sog. Literale\n",
    "* Ein Literal in der Programmierung ist ein fester Wert, den man direkt in den Code schreibt, um Daten darzustellen. \n",
    "* Es handelt sich dabei um den tatsächlichen Wert selbst, nicht um eine Variable oder um einen Ausdruck, der berechnet werden muss.\n",
    "\n",
    "```python3\n",
    "x = 42          # 42 ist ein Literal, x ist eine Variable\n",
    "y = x + 10      # `x + 10` ist ein Ausdruck (die Zahl 10 darin ist aber ein Literal)\n",
    "name = \"Alice\"  # \"Alice\" ist ein Literal, name ist eine Variable\n",
    "is_5_even = True # is_5_even ist eine Variable, True ist ein Literal\n",
    "``` \n"
   ]
  },
  {
   "cell_type": "markdown",
   "id": "8cf14262-f1f3-41cf-8722-b481dcac4653",
   "metadata": {},
   "source": [
    "**Weiteres**\n",
    "* Die Funktion len() gibt die Anzahl der Elemente in einem Objekt zurück, z. B. die Anzahl der Buchstaben in einem String oder die Anzahl der Elemente in einer Liste.\n",
    "* len() kann auch  auf viele weitere Arten von \"Container\"-artigen Objekten angewendet  werden.\n",
    "* Die Funktion len() braucht ein Argument , das ihr in den runden Klammern übergeben wird."
   ]
  },
  {
   "cell_type": "markdown",
   "id": "741db66f-e590-45ce-bc53-af2de0fed1ae",
   "metadata": {
    "jp-MarkdownHeadingCollapsed": true
   },
   "source": [
    "# Formatierung mit Einrückungen\n",
    "\n",
    "* ⚡ Das Einrücken von Code dient in erster Linie dazu, die Struktur und den Geltungsbereich von Code zu definieren – sie sagt Python, welche Codezeilen als Block zusammengehören.\n",
    "* In der Regel arbeitet man mit 4 spaces oder einem Tab.\n",
    "* Die genaue Größe der Einrückung ist nicht so wichtig. Wichtig ist, dass jede Einrückungsebene gleich markiert ist.\n",
    "* Dadurch entsteht eine visuelle Hierarchie, die der logischen Struktur des Programms entspricht.\n",
    "* Im Code-Block oben garantiert die Platzierung der Anweisung `print(name)`, dass jeder in der Schleife durchlaufene Name gedruckt wird.\n",
    "* Würden wir das print-Statement noch eine Ebene weiter einrücken, so dass es mit `longest=name` aligniert ist, dann würde `name` nur dann gedruckt, wenn die Bedingung im if-Test erfüllt ist."
   ]
  },
  {
   "cell_type": "markdown",
   "id": "6c98593f",
   "metadata": {},
   "source": [
    "# Objekte und Typen \n",
    "\n",
    "* Wir programmieren mit unterschiedlichen Arten von Objekten.\n",
    "* Wir können den Typ eines Objektes überprüfen, indem wir den Befehl <span style=\"color:blue\">type()</span> verwenden.\n",
    "\n",
    "```py\n",
    "type(5)\n",
    "type(\"Hallo Welt\")\n",
    "```\n",
    "\n",
    "* Einige eingebaute Haupttypen:\n",
    "    * int(eger) - ganze Zahl\n",
    "    * float - Fließkommazahl\n",
    "    * str(ing) - Text\n",
    "* NB: auch Funktionen haben einen Typ!\n",
    "\n"
   ]
  },
  {
   "cell_type": "code",
   "execution_count": 7,
   "id": "ff080410",
   "metadata": {},
   "outputs": [
    {
     "name": "stdout",
     "output_type": "stream",
     "text": [
      "<class 'int'>\n",
      "Hallo Welt ist ein <class 'str'>\n",
      "max_len ist ein <class 'int'>\n",
      "y ist ein <class 'float'>\n",
      "print ist ein <class 'builtin_function_or_method'>\n"
     ]
    }
   ],
   "source": [
    "print(type(5))\n",
    "print(f\"Hallo Welt ist ein {type('Hallo Welt')}\")\n",
    "\n",
    "\n",
    "# Beachten sie: das max_len in der nächsten Programmzelle haben wir in dieser Zelle  gar nicht definiert\n",
    "# Das Notebook greift wieder auf die Variable aus der Zelle weiter oben zu!\n",
    "# das \"f\" zu Beginn des print-Befehls erlaubt uns, den Wert einer Variable in den String einzubauen.\n",
    "# Mehr Information dazu gibt es weiter unten unter der Überschrift \"Ausgabe von Text!.\n",
    "\n",
    "print(f\"max_len ist ein {type(max_len)}\")\n",
    "y=1.21\n",
    "print(f\"y ist ein {type(y)}\")\n",
    "\n",
    "print(f\"print ist ein {type(print)}\")\n"
   ]
  },
  {
   "cell_type": "markdown",
   "id": "198b13f4-0ae3-40b4-be18-eafa1dc1209a",
   "metadata": {},
   "source": [
    "* In Python kann man einer Variablen nacheinander Inhalte verschiedenen Typs zuweisen.\n",
    "* Z.B. kann y auch als Variable für einen String dienen."
   ]
  },
  {
   "cell_type": "code",
   "execution_count": 8,
   "id": "37a5a64e-b68d-4fa2-a266-b00d4f22b6b2",
   "metadata": {},
   "outputs": [
    {
     "name": "stdout",
     "output_type": "stream",
     "text": [
      "y ist jetzt ein <class 'str'>\n"
     ]
    }
   ],
   "source": [
    "y=\"European Chapter\"\n",
    "print(f\"y ist jetzt ein {type(y)}\")"
   ]
  },
  {
   "cell_type": "markdown",
   "id": "2ef264bd",
   "metadata": {},
   "source": [
    "## 🫵 Your turn\n",
    "\n",
    "* Ergeben `1+2` und `'1'+'2'` die gleichen Werte ❓"
   ]
  },
  {
   "cell_type": "code",
   "execution_count": 9,
   "id": "20645034",
   "metadata": {},
   "outputs": [
    {
     "name": "stdout",
     "output_type": "stream",
     "text": [
      "3\n",
      "<class 'int'>\n",
      "12\n",
      "<class 'str'>\n"
     ]
    }
   ],
   "source": [
    "a=1+2\n",
    "print(a)\n",
    "print(type(a))\n",
    "b='1'+'2'\n",
    "print(b)\n",
    "print(type(b))\n"
   ]
  },
  {
   "cell_type": "markdown",
   "id": "72df22d7-1805-4452-8b99-1436e5a0c326",
   "metadata": {},
   "source": [
    "## 🫵Your turn\n",
    "\n",
    "* Was passiert in den nachfolgenden Beispielen ❓\n",
    "* Es kann zu Fehlern kommen ;)\n",
    "  * Wagen Sie eine Prognose, was funktioniert und was nicht!  "
   ]
  },
  {
   "cell_type": "code",
   "execution_count": null,
   "id": "b55b3e0a-f60a-4481-af10-a25b6070c2c3",
   "metadata": {},
   "outputs": [],
   "source": [
    "nick = [\"ho\"]\n",
    "print(nick*10)\n",
    "print(\"+-\" * 20)\n",
    "print(\"hello\"-\"lo\")\n",
    "print(\"-\" - 4)\n",
    "\n"
   ]
  },
  {
   "cell_type": "markdown",
   "id": "e346efa1",
   "metadata": {},
   "source": [
    "## Konversion zwischen Typen\n",
    "\n",
    "* Es gibt Funktionen , die zwischen (geeigneten) Strings, Integers und Floats konvertieren können."
   ]
  },
  {
   "cell_type": "code",
   "execution_count": 11,
   "id": "7bdc42c5",
   "metadata": {},
   "outputs": [
    {
     "name": "stdout",
     "output_type": "stream",
     "text": [
      "<class 'int'>\n",
      "<class 'str'>\n",
      "<class 'str'>\n",
      "<class 'float'>\n",
      "6.140000000000001\n"
     ]
    }
   ],
   "source": [
    "a=3\n",
    "print(type(a))\n",
    "\n",
    "a2=str(a)\n",
    "print(type(a2))\n",
    "\n",
    "b='3.14'\n",
    "print(type(b))\n",
    "\n",
    "b2=float(b)\n",
    "print(type(b2))\n",
    "\n",
    "my_sum=b2+a\n",
    "print(my_sum)\n"
   ]
  },
  {
   "cell_type": "markdown",
   "id": "b779db53",
   "metadata": {},
   "source": [
    "# Funktionen \n",
    "\n",
    "* Eine Funktion ist ein Code-Block, der nur ausgeführt wird, wenn er aufgerufen wird.\n",
    "* Wir können Daten, sogenannte Parameter oder Argumente, an eine Funktion übergeben.\n",
    "* Eine Funktion kann Daten als Ergebnis zurückgeben.\n",
    "    * Sie muss es aber nicht zwingend: vielleicht schreibt  die Funktion nur Dinge in eine Datei.\n",
    "* Funktionen werden mit ihrem Namen und Parametern aufgerufen: `function_name(parameter1, parameter2,...)`.\n",
    "* Python hat viele eingebaute Funktionen wie `print()`, `type()`, `str()`, `int()`, `float()`, ...\n",
    "* Wir können auch eigene Funktionen erstellen.\n",
    "\n",
    "\n",
    "<!--* Eine mathematische Funktion wie f(x) = x² gibt bei derselben Eingabe (z.B. 2) immer denselben Wert (4) zurück. \n",
    "* Eine Python-Funktion kann  bei jedem Aufruf unterschiedliche Werte zurückgeben, selbst bei identischen Eingaben, wenn sie von externen Faktoren abhängt. -->\n",
    "\n"
   ]
  },
  {
   "cell_type": "markdown",
   "id": "72a42e75",
   "metadata": {},
   "source": [
    "# Wie man eigene Funktionen definiert\n",
    "\n",
    "* keyword `def` für Definition einer Funktion\n",
    "* `function_name` ist der Name der Funktion\n",
    "* `parameters` sind optional, werden durch Kommata getrennt\n",
    "* Das Semikolon `:` markiert den Anfang des Funktionskörpers\n",
    "* `return` gibt einen Wert zurück, falls eine Funktion einen Wert zurückgibt\n",
    "\n",
    "```\n",
    "def function_name(parameter_a, parameter_b):\n",
    "    ...\n",
    "    return ... \n",
    "```"
   ]
  },
  {
   "cell_type": "code",
   "execution_count": 12,
   "id": "6bdd0712",
   "metadata": {},
   "outputs": [
    {
     "name": "stdout",
     "output_type": "stream",
     "text": [
      "8\n"
     ]
    }
   ],
   "source": [
    "def add_numbers(a, b):\n",
    "    return a + b\n",
    "\n",
    "# Aufruf der Funktion und Zweisung an die Variable result\n",
    "result = add_numbers(3, 5)\n",
    "print(result)\n"
   ]
  },
  {
   "cell_type": "markdown",
   "id": "c53dafbf-7bc7-4faf-8f96-40cdf93a55e1",
   "metadata": {},
   "source": [
    "# 🫵 Your Turn\n",
    "\n",
    "* Wir verarbeiten die Metadaten eines L1-Lerner-Korpus. \n",
    "* Wir kennen für die Texte des Korpus \n",
    "    - das Jahr , in dem sie geschrieben wurden\n",
    "    - das Jahr , in dem die Autorin geboren wurde.\n",
    "* Wir brauchen eine Funktion, die berechnet, wie viele Monate lang die Autorin schon Spracherfahrung mit ihrer L1 hatte.\n",
    "* Schreiben Sie eine Funktion, die diese Berechnung ausführt.\n",
    "\n",
    "\n",
    "\n",
    "\n"
   ]
  },
  {
   "cell_type": "code",
   "execution_count": null,
   "id": "54509c62-e11e-4a17-adb8-b330a4ba5559",
   "metadata": {},
   "outputs": [],
   "source": [
    "# %load ./snippets/calculate_exposure_months.py\n"
   ]
  },
  {
   "cell_type": "markdown",
   "id": "ea5b7ae6-c92c-4398-846d-bcf715245edc",
   "metadata": {},
   "source": [
    "# Operatoren\n",
    "\n",
    "## Unterarten\n",
    "\n",
    "\n",
    "* Assignment: =, +=, -=, etc.\n",
    "* Comparison: ==, !=, >, <, >=, <=\n",
    "* Arithmetic: +, -, *, /, etc.\n",
    "* Logical: and, or, not\n",
    "* Membership: in\n",
    "\n",
    "## Nähe zu Funktionen\n",
    "* Operatoren und Funktionen nehmen beide Eingaben entgegen und erzeugen Ausgaben. \n",
    "* Tatsächlich können viele Operatoren als Kurzform für Funktionsaufrufe betrachtet werden. \n",
    "* Python bietet sogar explizite Funktionsäquivalente für Operatoren:"
   ]
  },
  {
   "cell_type": "code",
   "execution_count": 14,
   "id": "c953da9e-0b9e-4b58-9b0f-e23f8701d04e",
   "metadata": {},
   "outputs": [
    {
     "name": "stdout",
     "output_type": "stream",
     "text": [
      "5\n",
      "5\n"
     ]
    }
   ],
   "source": [
    "import operator\n",
    "a=3\n",
    "b=2\n",
    "print(a + b)\n",
    "print(operator.add(a, b))\n"
   ]
  },
  {
   "cell_type": "markdown",
   "id": "97432e29-96b3-44e2-8d3f-176c06517d35",
   "metadata": {},
   "source": [
    "# Klassen und Methoden"
   ]
  },
  {
   "cell_type": "markdown",
   "id": "6117cc4e-76ce-4a80-9beb-0b0c13b55628",
   "metadata": {},
   "source": [
    "* Oben haben wir von Typen und Objekten  gesprochen.\n",
    "* Wir können statt von Typen auch von Klassen sprechen.\n",
    "    * (In älteren Versionen von Python waren Typen und Klassen unterschiedliche Dinge, jetzt meinen sie aber dasselbe.)\n",
    "* Meist sprechen wir von Klassen, wenn es von uns selbst definierte Klassen sind.\n",
    "* Aber wir können auch `int`, `float` als Klassen bezeichnen.\n",
    "* ⚡ Alles in Python ist ein Objekt, das zu einer Klasse / einem Typ gehört.\n"
   ]
  },
  {
   "cell_type": "code",
   "execution_count": 23,
   "id": "05de37dc-297f-4091-a01e-1c116e10e183",
   "metadata": {},
   "outputs": [],
   "source": [
    "# Die Klasse \"Learner\" hat  zwei Attribute: den Namen einer Lerner:in und die L1.\n",
    "class Learner:\n",
    "    # Initialisierungsmethode die ausgeführt wird, wenn eine neue Instanz der Klasse erzeugt wird\n",
    "    def __init__(self, name, first_lang):\n",
    "        self.name = name\n",
    "        self.l1 = first_lang\n",
    "\n",
    "    # eine Gruß-Methode\n",
    "    # sie gibt einen String zurück, in den der Name der Person eingefügt wird\n",
    "    def say_hello(self):\n",
    "        return f\"Hello, my name is {self.name}!\"\n",
    "\n",
    "    # diese Methode gibt die Erstrsprache der Person zurück\n",
    "    def state_l1(self):\n",
    "        return f\"My first language is {self.l1}.\"\n",
    "\n",
    "# Erstellung eines Objektes (= Instanz einer selbst-definierten Klasse)\n",
    "# Wir müssen die für die Klasse definierten Felder name und first lang an die __init__ Methode übergeben.\n",
    "# Die Notation `Class(parameters)` bedeutet, dass wir ein Objekt der Klasse erzeugen \n",
    "# und die parameter an die __init__ Methode der Klasse übergeben, um die Attribute der Klasse zu setzen.\n",
    "student = Learner(\"Max\", \"Swahili\")\n",
    "student2  = Learner(\"Alcia\", \"Polish\")"
   ]
  },
  {
   "cell_type": "code",
   "execution_count": 24,
   "id": "8daf5421-88f2-4ba7-af2f-9bcb4bba53d1",
   "metadata": {},
   "outputs": [
    {
     "data": {
      "text/plain": [
       "'Hello, my name is Alcia!'"
      ]
     },
     "execution_count": 24,
     "metadata": {},
     "output_type": "execute_result"
    }
   ],
   "source": [
    "# Aufruf einer Methode auf einem Objekt\n",
    "student2.say_hello()"
   ]
  },
  {
   "cell_type": "code",
   "execution_count": 25,
   "id": "8240d02a-95d3-4b8a-8027-fcff4430e587",
   "metadata": {},
   "outputs": [
    {
     "data": {
      "text/plain": [
       "'My first language is Swahili.'"
      ]
     },
     "execution_count": 25,
     "metadata": {},
     "output_type": "execute_result"
    }
   ],
   "source": [
    "student.state_l1()"
   ]
  },
  {
   "cell_type": "code",
   "execution_count": 26,
   "id": "350e1bc0-47a2-498f-8731-e176e905655c",
   "metadata": {},
   "outputs": [
    {
     "name": "stdout",
     "output_type": "stream",
     "text": [
      "<class '__main__.Learner'>\n"
     ]
    },
    {
     "data": {
      "text/plain": [
       "'Hello, my name is Ashley!'"
      ]
     },
     "execution_count": 26,
     "metadata": {},
     "output_type": "execute_result"
    }
   ],
   "source": [
    "# Wir können die type-Funktion auf Objekte unserer selbst-gestrickten Klasse anwenden.\n",
    "print(type(student2))\n",
    "student2.say_hello()\n",
    "student2.name = \"Ashley\"\n",
    "student2.say_hello()"
   ]
  },
  {
   "cell_type": "markdown",
   "id": "0878f1b7-f0cb-4c9e-8508-07db99ddd4ad",
   "metadata": {},
   "source": [
    "* Eine Methode ist eine Funktion, die einem Objekt zugeordnet ist.\n",
    "* Diese Funktion kann auf das Objekt angewendet werden, um es zu ändern oder zu erweitern.\n",
    "* Methoden werden durch `.` gefolgt von dem Objekt und den Parametern aufgerufen: `object.method_name(parameter1, parameter2,...)`."
   ]
  },
  {
   "cell_type": "markdown",
   "id": "7fa6e704-8838-43b3-82b0-8d4607956f1c",
   "metadata": {},
   "source": [
    "\n",
    "*  🚀 Wir können Methoden wie `say_hello` nicht auf der Klasse aufrufen -- nur auf einem Objekt / einer Instanz der Klasse -- und auch  losgelöst von der Klasse.\n"
   ]
  },
  {
   "cell_type": "code",
   "execution_count": 27,
   "id": "1627c100-a4af-44aa-80c5-53f62ced5a6d",
   "metadata": {},
   "outputs": [
    {
     "name": "stdout",
     "output_type": "stream",
     "text": [
      "Geht  nicht!\n",
      "Geht gar nicht!\n"
     ]
    }
   ],
   "source": [
    "try:\n",
    "    Learner.say_hello()\n",
    "except:\n",
    "    print(\"Geht  nicht!\")\n",
    "\n",
    "try:\n",
    "    say_hello()\n",
    "except:\n",
    "    print(\"Geht gar nicht!\")\n",
    "\n"
   ]
  },
  {
   "cell_type": "markdown",
   "id": "70acf3bc-1aa1-4338-b2f8-7486f47b721f",
   "metadata": {},
   "source": [
    "**Details**\n",
    "\n",
    "* Fehler und Ausnahmen können die Ausführung eines Programms unterbrechen. \n",
    "* Python verfügt mit try- und except-Blöcken an Mitteln, um solche Situationen zu behandeln. \n",
    "* Wenn im try-Block ein Fehler auftritt, bricht Python die Ausführung des try-Blocks ab und springt zum exception-Block. \n",
    "* Mit diesen Blöcken können Sie die Fehler behandeln, ohne dass das Programm abstürzt.\n",
    "\n"
   ]
  },
  {
   "cell_type": "markdown",
   "id": "291dcdc8",
   "metadata": {},
   "source": [
    "# String-Methoden\n",
    "\n",
    "* Strings in Python sind Objekte der String-Klasse und haben viele Methoden, die wir verwenden können.\n",
    "* NB: Der Methodenname wird durch einen Punkt vom Objektnamen getrennt.\n",
    "* Methoden können auch Argumente haben (siehe z.B. `startswith` , `endswith` und `count` unten ).\n",
    "* Überblick über String-Methoden: https://www.w3schools.com/python/python_ref_string.asp"
   ]
  },
  {
   "cell_type": "code",
   "execution_count": 28,
   "id": "ac8a829e-92dc-4640-82ab-f0ce2cdc4e38",
   "metadata": {},
   "outputs": [
    {
     "name": "stdout",
     "output_type": "stream",
     "text": [
      "linus torvalds\n",
      "LINUS TORVALDS\n"
     ]
    }
   ],
   "source": [
    "name=\"Linus Torvalds\"\n",
    "print(name.lower())\n",
    "print(name.upper())"
   ]
  },
  {
   "cell_type": "code",
   "execution_count": 29,
   "id": "48de53a7-541e-4200-b2fa-c71f4d96d175",
   "metadata": {},
   "outputs": [
    {
     "name": "stdout",
     "output_type": "stream",
     "text": [
      "True\n",
      "True\n",
      "How many s in Linus? 2\n",
      "How many '2' in R2D2? 2\n"
     ]
    }
   ],
   "source": [
    "# Test von Eigenschaften\n",
    "print(name.startswith(\"Linus\"))\n",
    "print(name.endswith(\"lds\"))\n",
    "\n",
    "\n",
    "# Zählen von Zeichenvorkommen\n",
    "print(f\"How many s in Linus? {name.count('s')}\")\n",
    "name2=\"R2D2\"\n",
    "print(f\"How many '2' in R2D2? {name2.count('2')}\")"
   ]
  },
  {
   "cell_type": "code",
   "execution_count": 30,
   "id": "4a1ee332-65aa-46e3-a59f-9a99cfad4c47",
   "metadata": {},
   "outputs": [
    {
     "name": "stdout",
     "output_type": "stream",
     "text": [
      "Mixxixxippi\n",
      "place is Mississippi\n",
      "new_place is Mixxixxippi\n"
     ]
    }
   ],
   "source": [
    "# Erzeugen von geänderten Varianten des Strings: wir ersetzen alle 's' durch 'x'\n",
    "place=\"Mississippi\"\n",
    "print(place.replace(\"s\", \"x\"))\n",
    "# place selbst wird nicht verändert\n",
    "print(f\"place is {place}\")\n",
    "# um die neue Variante verfügbar zu halten, müssen wir sie einer Variable zuweisen\n",
    "new_place= place.replace(\"s\", \"x\")\n",
    "print(f\"new_place is {new_place}\")"
   ]
  },
  {
   "cell_type": "code",
   "execution_count": 31,
   "id": "846dcf5d-a169-4e40-8f70-1dbd61ec3e3b",
   "metadata": {},
   "outputs": [
    {
     "name": "stdout",
     "output_type": "stream",
     "text": [
      "|Er reagierte damit auf die Veröffentlichung von E-Mails, die den Diplomaten mit dem Sexualstraftäter Epstein in Verbindung bringen.|\n"
     ]
    }
   ],
   "source": [
    "# Einige häufige Änderungen an strings\n",
    "satz=\" Er reagierte damit auf die Veröffentlichung von E-Mails, die den Diplomaten mit dem Sexualstraftäter Epstein in Verbindung bringen. \"\n",
    "# Entfernen von white space am Anfang und Ende eines Strings.\n",
    "satz_ohne_finalen_whitespace=satz.strip()\n",
    "print(f\"|{satz_ohne_finalen_whitespace}|\")\n",
    "\n",
    "# Es gibt neben `strip()` auch `lstrip()` und `rstrip()`. Was machen die wohl?"
   ]
  },
  {
   "cell_type": "code",
   "execution_count": 32,
   "id": "f5688f17-d973-460a-ae12-8e61673960ea",
   "metadata": {},
   "outputs": [
    {
     "name": "stdout",
     "output_type": "stream",
     "text": [
      "['Er', 'reagierte', 'damit', 'auf', 'die', 'Veröffentlichung', 'von', 'E-Mails,', 'die', 'den', 'Diplomaten', 'mit', 'dem', 'Sexualstraftäter', 'Epstein', 'in', 'Verbindung', 'bringen.']\n",
      "[' Er reagierte damit auf die Veröffentlichung von E-Mails', ' die den Diplomaten mit dem Sexualstraftäter Epstein in Verbindung bringen. ']\n"
     ]
    }
   ],
   "source": [
    "# split() erzeugt aus einem String eine Liste von Teilen , die jeweils durch ein Trennzeichen voneinander getrennt sind.\n",
    "# Ruft man die Funktion ohne Parameter auf, wird das Leerzeichen als Default-Trennzeichen angenommen. \n",
    "# Das bietet für das Deutsche eine erste , naive Form der Tokenisierung.\n",
    "tokens=satz.split()\n",
    "print(tokens)\n",
    "# Man kann natürlich auch andere Trennzeichen verwenden.\n",
    "parts=satz.split(\",\")\n",
    "print(parts)"
   ]
  },
  {
   "cell_type": "markdown",
   "id": "df4fc235-2f1c-409e-ad42-a2534e6e376c",
   "metadata": {},
   "source": [
    "# ✔️ Zusammenfassung: Hauptkonzepte von Programmen\n",
    "\n",
    "\n",
    "* Programme bestehen aus\n",
    "    * Variablen (Etiketten für Daten),\n",
    "    * Literalen (direkt informative Werte),\n",
    "    * Ausdrücke (Material, aus dem Man Werte ermitteln  kann)\n",
    "    * Kontrollstrukturen (Strukturen, die den Programmfluss regulieren)\n",
    "    * Funktionen und Operatoren (Prozessen, die aus Eingaben  Ausgaben generieren)\n",
    "* und sie verwenden Einrückungen zur Strukturierung\n",
    "\n",
    "Im Beispiel unten ist:\n",
    "\n",
    "* `check_for_palindrome` der Name der Funkion\n",
    "* `text` ein Parameter der Funktion\n",
    "* `text` ist auch eine Variable innerhalb der Funkion und kein Literal\n",
    "* \"Ja\" und \"Nein\" sind string-Literale\n",
    "* `is_palindrome` ist eine Variable (die entweder den Wert True oder False erhält)\n",
    "* `if-else` ist eine Kontrollstruktur    \n",
    "* `( text == text[::-1] )` ist ein Ausdruck der ausgewertet wird, um den Wahrheitswert für is_palindrome zu ermitteln\n",
    "* `==` ist der Gleichheitsoperator; seine Argmente sinid `text` und `text[::-1]`\n",
    "* Der String zwischen \"\"\" und \"\"\"  ist ein Kommentar zur Dokumentation der Funktion.\n",
    "\n",
    "```python\n",
    "def check_for_palindrome(text):\n",
    "    \"\"\"Prüfe ob text ein Palindrom ist\"\"\"\n",
    "    is_palindrome = ( text == text[::-1] )\n",
    "    # man könnte hier auch in Langform schreiben: \n",
    "    # if is_palindrome==True:\n",
    "    if is_palindrome:\n",
    "        return \"Ja\"\n",
    "    else:\n",
    "        return \"Nein\"\n",
    "```\n",
    "\n",
    "\n",
    "* Alles in Python ist ein Objekt.\n",
    "* Jedes Objekt ist die Instanz einer Klasse bzw eines Typs. (Z.b. ist 1 eine Instanz des Typs `int`).\n",
    "* Man kann mit type() die Klasse eines Objekts nachsehen.\n",
    "* Bei geeigneten Werten kann man zwischen manchen Klassen konvertieren. (Z.b. aus dem String '12' die Zahl 12 machen.)\n",
    "\n",
    "* Neben den eingebauten Klassen/Typen wie `int`,`float`,`string` können wir unsere eigenen Klassen definieren.\n",
    "* Funktionen, die speziell an bestimmten Klassen hängen , weil sie deren Daten manipulieren, heissen **Methoden**.\n",
    "* **Operatoren** wie '+' und '=' sind im Wesentlichen auch Funktionen, nur mit einer besonderen Syntax.\n",
    "\n",
    "\n"
   ]
  },
  {
   "cell_type": "code",
   "execution_count": null,
   "id": "24d56da9-caa2-4997-a120-621a32a1a275",
   "metadata": {},
   "outputs": [],
   "source": []
  }
 ],
 "metadata": {
  "kernelspec": {
   "display_name": "Python 3 (ipykernel)",
   "language": "python",
   "name": "python3"
  },
  "language_info": {
   "codemirror_mode": {
    "name": "ipython",
    "version": 3
   },
   "file_extension": ".py",
   "mimetype": "text/x-python",
   "name": "python",
   "nbconvert_exporter": "python",
   "pygments_lexer": "ipython3",
   "version": "3.9.19"
  }
 },
 "nbformat": 4,
 "nbformat_minor": 5
}
