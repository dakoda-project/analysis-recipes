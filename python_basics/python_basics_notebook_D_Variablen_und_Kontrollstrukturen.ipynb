{
 "cells": [
  {
   "cell_type": "markdown",
   "id": "1b5d728e-8b2a-418f-9dad-1ad672503656",
   "metadata": {},
   "source": [
    "# Variablen\n",
    "* Wenn wir Objekte,  insbesondere die Ergebnisse von Funktionen oder Operationen , dauerhaft zugänglich halten wollen, können wir Variablen verwenden.\n"
   ]
  },
  {
   "cell_type": "code",
   "execution_count": null,
   "id": "efd38048-79ee-4ed2-90bf-ae855597c89d",
   "metadata": {},
   "outputs": [],
   "source": [
    "# das Folgende druckt 8 als Ergebnis, der Wert verschwindet aber danach wieder\n",
    "print(4*2)\n",
    "# Durch Zuweisung an eine Variable lassen wir den Wert dauerhaft zugänglich\n",
    "product=4*2\n",
    "print(product)\n",
    "# Nach dem obigen print-statement können wir weiter mit product rechnen\n",
    "print(product-1)"
   ]
  },
  {
   "cell_type": "markdown",
   "id": "64f43ed2-a3c7-4dfe-a0f6-b30e81d2fec7",
   "metadata": {},
   "source": [
    "* NB: Zuweisung mit `=` müssen wir unterscheiden von dem Vergleichsoperator `==`."
   ]
  },
  {
   "cell_type": "code",
   "execution_count": null,
   "id": "b99fd5d4-c21e-4e25-899b-d2c82c1e9013",
   "metadata": {},
   "outputs": [],
   "source": [
    "\n",
    "x=2\n",
    "w=3\n",
    "# Test auf Gleichheit \n",
    "print(x==w)\n",
    "# Neuer Wert für x!\n",
    "x=w\n",
    "print(x)\n"
   ]
  },
  {
   "cell_type": "code",
   "execution_count": null,
   "id": "85f6d095",
   "metadata": {},
   "outputs": [],
   "source": [
    "# Was passiert bei den folgenden Anweisungen?\n",
    "print(2+2 == 4)\n",
    "print( (2+2) == 4)\n",
    "print(2+2 = 4) \n"
   ]
  },
  {
   "cell_type": "markdown",
   "id": "8abf4d70-a378-4460-b716-a3906658b743",
   "metadata": {},
   "source": [
    "🚀 **Weiterführendes**\n",
    "\n",
    "* Leerzeichen  sind bei Zuweisungen und Gleichheitsoperatoren eigentlich egal\n",
    "*  Um die Leserlichkeit von Code zu erhöhen, achten viele Python-Programmierer:innen auf einen einheitlichen Stil\n",
    "*  Es gibt Tools, die Code-Dateien auf einen einheitlichen Formatstandard bringen können (z.B. `black`)."
   ]
  },
  {
   "cell_type": "code",
   "execution_count": null,
   "id": "b292ec99-344c-4468-8c8a-99d921590200",
   "metadata": {},
   "outputs": [],
   "source": [
    "x=2\n",
    "print(x)\n",
    "\n",
    "x = 2\n",
    "print(x)\n",
    "\n",
    "x =            2\n",
    "print(x)\n",
    "\n",
    "is_w_equal_to_3 = (w==3)\n",
    "print(is_w_equal_to_3)\n",
    "\n",
    "is_w_equal_to_3 = (w == 3)\n",
    "print(is_w_equal_to_3)"
   ]
  },
  {
   "cell_type": "markdown",
   "id": "b8e22f24",
   "metadata": {},
   "source": [
    "## Variablennamen\n",
    "\n",
    "* Variablennamen müssen mit einem Buchstaben oder einem Unterstrich beginnen. \n",
    "* Der Rest des Namens kann aus beliebigen weiteren Buchstaben, Unterstrichen oder Zahlen bestehen. \n",
    "\n",
    "```python\n",
    "x=1\n",
    "# Das Folgende wirft einen Fehler: X gibt es nicht , nur x.\n",
    "print(X)\n",
    "```\n",
    "* Bei Variablennamen wird zwischen Groß- und Kleinschreibung unterschieden.\n",
    "* Variablennamen dürfen keine der reservierten Python-Wörter enthalten.\n",
    "\n",
    "```python\n",
    "False None True and as assert break class continue\n",
    "def del elif else except finally for from global\n",
    "if import in is lambda nonlocal not\n",
    "or pass raise return try while with yield\n",
    "```\n",
    "\n",
    "* Eine Variable, die in einem Programm mit vielen Zeilen weiterlebt, sollte wahrscheinlich einen Namen haben, der die Daten beschreibt, die diese Variable enthält.\n",
    "\n",
    "```python\n",
    "word = \"Fluorierung\"\n",
    "# Beispiel: Variablenname für die Wortlänge\n",
    "\n",
    "# nicht so sprechend\n",
    "x=len(word)\n",
    "\n",
    "# klarer\n",
    "word_length = len(word)\n",
    "wordLength = len(word)\n",
    "wlen = len(word)\n",
    "word_len = len(word)\n",
    "```\n",
    "\n"
   ]
  },
  {
   "cell_type": "markdown",
   "id": "73774db2-4edd-4942-b2e5-4aa164762d24",
   "metadata": {},
   "source": [
    "Warum Englische Variablennamen?\n",
    "* Schlüsselwörter von Python (if, for, while, class, def) sind englische Wörter, sodass die Verwendung von Englisch für Variablen für Konsistenz sorgt.\n",
    "* Lingua Franca: Die meisten Dokumentationen, Tutorials und Open-Source-Projekte verwenden Englisch.\n"
   ]
  },
  {
   "cell_type": "markdown",
   "id": "2cae21d2-87c3-48e6-935e-77f4508ffb69",
   "metadata": {},
   "source": [
    "## 🚀 Konstanten ('statische Variablen')\n",
    "\n",
    "\n",
    "* Manchmal möchten wir in einem Programm auch Information bereitstellen, die sich nicht ändern kann.\n",
    "* Wenn wir z.B. ein neues Korpus  bauen und dafür eine Abkürzung definiert haben, soll immer dieselbe Abkürzung verwendet werden und sie soll sich  nicht ändern.\n",
    "* Python  hat technisch gesprochen keine Konstanten , d.h. keine 'Variablen' , deren Wert nicht veränderbar sind.\n",
    "* Aber Python-Programmierer:innen verwenden typischerweise die Konvention, die Namen von Konstanten ganz in **Großbuchstaben** zu schreiben,\n",
    "* Wir würden also \"CORPUS_NAME\" oder \"CORPUS\" schreiben , um uns selbst oder anderen Personen, die mit unserem Code arbeiten wollen, zu signalisieren, dass etwas als Konstante behandelt werden soll.\n",
    "\n",
    "```python\n",
    "CORPUS=\"V-TEST\"\n",
    "```\n"
   ]
  },
  {
   "cell_type": "markdown",
   "id": "53583266-1fbd-4202-a7ab-680558588a2d",
   "metadata": {},
   "source": [
    "## 🚀 Scope: Verfügbarkeit / Sichtbarkeit von Python-Variablen\n",
    "\n",
    "\n",
    "* Der Gültigkeitsbereich (`scope`) bestimmt, wo in Ihrem Code auf eine Variable zugegriffen werden kann.\n",
    "* Die Leitfrage ist  „Welche Teile meines Programms können diese Variable ‚sehen‘?“\n",
    "* Man kann sich das Vorstellen  wie Räume in einem Puppen-Haus:  Variablen, die in einem Raum leben / erstellt wurden, sind je nach Verfügbarkeit von Fenstern, Türen oder Durchreichen möglicherweise von anderen Räumen aus nicht sichtbar, aber von vorne bzw von oben , wenn das Puppenhaus kein Dach hat.\n",
    "\n",
    "* Man spricht von lokaler \"scope\" (Geltungsbereich) bei Variablen in Funktionen:  Innerhalb einer Funktion erstellte Variablen existieren nur innerhalb dieser Funktion.\n",
    "* Globale Variablen sind welche, die von überall aus sichtbar sind. "
   ]
  },
  {
   "cell_type": "code",
   "execution_count": null,
   "id": "6ee15139-1b68-42f6-9e84-03ee49fa321f",
   "metadata": {},
   "outputs": [],
   "source": [
    "\n",
    "y=5 #y existiert hier ganz 'draußen' und in allen darin eingebetteten Funktionen \n",
    "def my_function():\n",
    "\n",
    "    x = 10          # x  existiert nur innerhalb dieser Funktion\n",
    "    print(x)        # Dieses print-Statement funktioniert -  wir sind ja innerhalb der Fuktion\n",
    "    print(y*x)      # y ist hier auch zu sehen!\n",
    "    \n",
    "\n",
    "my_function()       # wenn wir die Funktion aufrufen, druckt das print-Statement in der Funktion einmal den Wert 10, dann das Ergebnis der Multiplikation mit y\n",
    "\n",
    "print(y)            # ok, denn y ist ja eine globale Variable und wir sind ohnehin in der äußersten \"Schachtel\"\n",
    "\n",
    "print(x)           # Fehler! x gibt es hier ausserhalb der Funktion nicht mehr\n",
    "\n"
   ]
  },
  {
   "cell_type": "markdown",
   "id": "f1d17fe7-b03a-471f-85ab-b644c5235d0a",
   "metadata": {},
   "source": [
    "* **Warum** gibt es überhaupt so was wie scope?\n",
    "\n",
    "* Die Idee ist, dass  man bei eingeschränktem Geltungsbereich denselben Variablennamen in verschiedenen Funktionen verwenden kann, \n",
    "ohne dass diese sich unbemerkt und ungewollt in die Quere kommen.\n",
    "\n",
    "* Einfache Faustregel\n",
    "    * Variablen sind an dem Ort sichtbar, an dem sie erstellt wurden, sowie an allen „eingebetteten” Orten (z. B. innerhalb von Funktionen, die in diesem Bereich definiert sind). \n",
    "    * Sie sind jedoch nicht an  Orten / Bereichen \"ausserhalb\" oder in separaten Funktionen verfügbar."
   ]
  },
  {
   "cell_type": "markdown",
   "id": "76f27d97-1c38-4baa-ac84-0cd7cb831a7b",
   "metadata": {},
   "source": [
    "# Kontrollstrukturen\n",
    "\n",
    "* Bisher bestand unser Code hauptsächlich aus Abfolgen von Anweisungen, die nacheinander ausgeführt werden. \n",
    "* Nützlicher ist es, wenn Anweisungen bedingt ausgeführt werden können, d.h. wenn einige Anweisungen z.B. die Ausführung umgehen können und andere mehrfach ausgeführt werden können.\n",
    "\n",
    "* Betrachten wir die **if-Kontrollstruktur**.\n",
    "  * Diese Struktur ermöglicht in ihrer einfachsten Form eine bedingte Anwendung.\n",
    "  * Es gibt einen Test / eine Testklausel und dann einen Block mit einer oder mehreren Anweisungen. \n",
    "  * Wenn die Testklausel wahr ist, werden die Anweisungen ausgeführt. Wenn sie nicht wahr ist, werden die Anweisungen nicht ausgeführt\n",
    "  * Mit `else` können Anweisungen spezifziert werden, die ausgeführt werden, wenn die getestete Bedingung nicht wahr ist."
   ]
  },
  {
   "cell_type": "code",
   "execution_count": null,
   "id": "7362a2c6-0f43-441c-b38a-3b143656a6cc",
   "metadata": {},
   "outputs": [],
   "source": [
    "verb_a = \"flitzen\"\n",
    "verb_b = \"kriechen\"\n",
    "if len(verb_a) <= len(verb_b):\n",
    "    print(\"Verb a ist kürzer oder gleich lang wie Verb b\")\n",
    "else:\n",
    "    print(\"Verb a ist länger\")"
   ]
  },
  {
   "cell_type": "markdown",
   "id": "3013cbe9-368a-44f6-b89f-66ca128d42e4",
   "metadata": {},
   "source": [
    "* NB: die Anweisungen im Block werden durch Leerzeichen oder Tabs und Zeilenumbrüche getrennt.\n",
    "* **Inkonsistente Einrückungen** führen zu einem Syntaxfehler. ;/\n",
    "* Grundsätzlich können Sie entweder mit Leerzeichen oder Tabulatoren einrücken, aber Sie dürfen die beiden Formen nicht mischen."
   ]
  },
  {
   "cell_type": "code",
   "execution_count": null,
   "id": "0c3ed241-99fd-4103-9663-6ba48dbaf42c",
   "metadata": {},
   "outputs": [],
   "source": [
    "# wirft einen Fehler!\n",
    "if len(verb_a)  < len(verb_b):\n",
    "   print(\"Verb a ist kürzer\")\n",
    "    print(\"Verb b ist länger\") #tab\n"
   ]
  },
  {
   "cell_type": "markdown",
   "id": "d5085d98",
   "metadata": {},
   "source": [
    "## Eingebettete Kontrollstrukturen\n",
    "\n",
    "* Wir können mehrere Ebenen von Kontrollstrukturen haben.\n",
    "\n",
    "\n",
    "```python\n",
    "word=\"fliegen\"\n",
    "word_length=len(word)\n",
    "first_letter = word[0]\n",
    "# erster Test\n",
    "if word_length>5:\n",
    "    # zweiter Test\n",
    "    if first_letter == \"f\":\n",
    "        print(\"word ist länger als 5 Zeichen und der erste Buchstabe ist 'f'\")\n",
    "\n",
    "\n",
    "```\n"
   ]
  },
  {
   "cell_type": "markdown",
   "id": "c180be5a-38cd-4a0b-b58e-b733928bde0c",
   "metadata": {},
   "source": [
    "## if-else\n",
    "\n",
    "* if-else bedingt Anweisungen, die entweder ausgeführt werden oder nicht."
   ]
  },
  {
   "cell_type": "code",
   "execution_count": null,
   "id": "752ac4dd-68d9-4006-a51a-7b0206133573",
   "metadata": {},
   "outputs": [],
   "source": [
    "# Informationen über ein Wort in einem Dictionary\n",
    "word_1={\"form\":\"fliegen\", \"upos\":\"VERB\", \"lemma\":\"fliegen\"}\n",
    "\n",
    "# Wir betrachten den UPOS-Tag des Wortes\n",
    "if word_1[\"upos\"] == \"VERB\":\n",
    "    # NB: auf Positionen / Zeichen in Strings kann mit derselben Syntax wie bei Listen zugegriffen werden\n",
    "    # word_1[\"form\"] ist ein String (siehe oben)\n",
    "    # isupper() ist eine Methode, die prüft ob alle Buchstaben des Strings Großbuchstaben sind\n",
    "    # Uns interessiert nur der erste Buchstabe, daher wählen wir ihn aus mit word_1[\"form\"][0]\n",
    "    if word_1[\"form\"][0].isupper():\n",
    "        print(\"Das Wort ist ein Verb und beginnt mit einem Großbuchstaben\")\n",
    "    else:\n",
    "        print(\"Das Wort ist ein Verb und beginnt nicht mit einem Großbuchstaben\")"
   ]
  },
  {
   "cell_type": "code",
   "execution_count": null,
   "id": "240ec17b-01df-4960-9998-066890c5d24d",
   "metadata": {},
   "outputs": [],
   "source": [
    "# Ausführlichere Version mit expliziten Zwischenvariablen:\n",
    "\n",
    "upos_tag=word_1[\"upos\"]\n",
    "if upos_tag == \"VERB\":\n",
    "    word_form = word_1[\"form\"]\n",
    "    first_letter = word_form[0]\n",
    "    if first_letter.isupper():\n",
    "        print(\"Das Wort ist ein Verb und beginnt mit einem Großbuchstaben\")\n",
    "    else:\n",
    "        print(\"Das Wort ist ein Verb und beginnt nicht mit einem Großbuchstaben\")\n"
   ]
  },
  {
   "cell_type": "markdown",
   "id": "69166770-5ac9-44bd-8b3d-ea5c28cb388a",
   "metadata": {},
   "source": [
    "### if-elif-else: Mehrere Tests\n",
    "\n",
    "* Wenn  mehr als eine Bedingung geprüft werden soll, müssen wir nach dem ersten Test für die weiteren Tests `elif` statt `if` verwenden."
   ]
  },
  {
   "cell_type": "code",
   "execution_count": null,
   "id": "8192d8f7-857f-455d-bda3-3aadb0dbe2c2",
   "metadata": {},
   "outputs": [],
   "source": [
    "word_length = 11\n",
    "\n",
    "if word_length > 0 and word_length < 5:\n",
    "    print(\"Wort ist kleiner als 5 Zeichen\")\n",
    "elif word_length >= 5 and word_length < 10:\n",
    "    print(\"Wort ist zwischen 5 und 10 Zeichen\")\n",
    "elif word_length >= 10:\n",
    "    print(\"Wort ist größer als 10 Zeichen\")\n",
    "else:\n",
    "    print(\"Wort hat keine Zeichen\")\n"
   ]
  },
  {
   "cell_type": "markdown",
   "id": "da424bd6-eb06-44bc-bbff-48a13aa12d81",
   "metadata": {},
   "source": [
    "* Q: Was würde passieren, wenn wir oben nie `elif` sondern immer `if` verwenden ❓"
   ]
  },
  {
   "cell_type": "markdown",
   "id": "c37bc98c-36d7-4219-8cbb-f41ca3c58e34",
   "metadata": {},
   "source": [
    "### if-elif-else: Relevanz der Reihenfolge der Bedingungen\n",
    "\n",
    "* Wenn nur einer der Tests erfüllt werden kann, ist die Reihenfolge der Tests nicht relevant.\n",
    "* Wenn mehrere Bedingungen erfüllt werden können, ist die Reihenfolge der Bedingungen relevant: die erste zutreffende Bedingung wird ausgeführt.\n",
    "* Beispiel: ein Wort, das länger als N Zeichen ist, ist potentiell auch länger als ein Wort mit N + 10 Zeichen."
   ]
  },
  {
   "cell_type": "code",
   "execution_count": null,
   "id": "b0aa384d-2bc5-4fc6-8e81-11a9fb84d2f0",
   "metadata": {},
   "outputs": [],
   "source": [
    "\n",
    "word_length = 11\n",
    "\n",
    "if word_length >= 1:\n",
    "    print(\"Wort ist länger als 1 Zeichen\")\n",
    "elif word_length >= 10:\n",
    "    print(\"Wort ist länger als 10 Zeichen\")\n",
    "elif word_length >= 20:\n",
    "    print(\"Wort ist länger als 20 Zeichen\")\n",
    "elif word_length >= 30:\n",
    "    print(\"Wort ist länger als 30 Zeichen\")\n",
    "else:\n",
    "    print(\"Wort hat keine Zeichen\")\n"
   ]
  },
  {
   "cell_type": "markdown",
   "id": "fb1d15b4-74a5-48e3-b251-43029f7106d1",
   "metadata": {},
   "source": [
    "* Was können wir tun, wenn wir nur die \"informativste\" Bedingung matchen wollen?"
   ]
  },
  {
   "cell_type": "markdown",
   "id": "84e8a7ee-bcef-4386-b42b-b03bd46e34b7",
   "metadata": {},
   "source": [
    "### Negative Bedingungen:"
   ]
  },
  {
   "cell_type": "code",
   "execution_count": null,
   "id": "98d6827f-fa42-400f-a33b-1cb15f89e72c",
   "metadata": {},
   "outputs": [],
   "source": [
    "# Ungleichheit von Variableninhalt  und Vergleichswert VERB\n",
    "\n",
    "upos=\"NOUN\"\n",
    "if upos != \"VERB\":\n",
    "    print(\"Das Wort ist kein Verb\")\n",
    "else:\n",
    "    print(\"Das Wort ist ein Verb\")\n"
   ]
  },
  {
   "cell_type": "code",
   "execution_count": null,
   "id": "0ea2b79e-e0df-479e-bb01-146b5fe42ea7",
   "metadata": {},
   "outputs": [],
   "source": [
    "# Test ist wahr, wenn der Wert der variable verb_lemma nicht in der Liste aux enthalten ist\n",
    "\n",
    "aux = [\"haben\", \"sein\", \"werden\"]\n",
    "verb_lemma = \"gehen\"\n",
    "if verb_lemma not in aux:\n",
    "    print(\"do something\")\n",
    "   "
   ]
  },
  {
   "cell_type": "code",
   "execution_count": null,
   "id": "e7cb7478-f854-4e4f-85a7-179064aecb2b",
   "metadata": {},
   "outputs": [],
   "source": [
    "#Test ob Liste leer ist (= kein Elemente hat)\n",
    "\n",
    "words=[]\n",
    "if words:\n",
    "    print(\"list is not empty\")\n",
    "else:\n",
    "    print(\"list is empty\")"
   ]
  },
  {
   "cell_type": "code",
   "execution_count": null,
   "id": "0d7211a1-00c3-47e2-964d-48e5a652cdfe",
   "metadata": {},
   "outputs": [],
   "source": [
    "# Der Test, ob ein dictionary leer ist, funktioniert nicht analog zum Test bei Listen 🔥\n",
    "translations={}\n",
    "\n",
    "if translations:\n",
    "    print(\"dictionary is empty\")\n",
    "else:\n",
    "    print(\"dictionary is not empty\")\n",
    "\n",
    "# testen mit len() funktioniert ✅\n",
    "if len(translations)==0:\n",
    "    print(\"dictionary is empty\")\n",
    "else:\n",
    "    print(\"dictionary is not empty\")"
   ]
  },
  {
   "cell_type": "markdown",
   "id": "40b5fe47",
   "metadata": {},
   "source": [
    "### Bedingungen ohne auszuführenden Code: `pass`\n",
    "\n",
    "* Manchmal wollen wir nur für ein Ergebnis des Tests Code ausführen.\n",
    "* Dann können wir `pass` verwenden.\n",
    "\n",
    "```python\n",
    "if upos == \"VERB\":\n",
    "    print(\"Das Wort ist ein Verb\")\n",
    "else:\n",
    "    pass\n",
    "```\n",
    "\n",
    "Wenn wir im  `else`-Fall nichts tun wollen, können wir allerdings `else` auch ganz weglassen.\n",
    "\n",
    "```python\n",
    "upos=\"VERB\"\n",
    "if upos != \"VERB\":\n",
    "    print(\"Das Wort ist kein Verb\")\n",
    "```\n",
    "\n",
    "\n"
   ]
  },
  {
   "cell_type": "markdown",
   "id": "1b52541c",
   "metadata": {},
   "source": [
    "### Komplexe Bedingungen\n",
    "\n",
    "* Manchmal möchten wir eine komplexe Bedingung erfüllen.\n",
    "* Statt einzelne Tests in einander einzubetten, können wir die Bedingungen mit einem `and` verknüpfen, um mehrere Bedingungen zu erfüllen.\n",
    "\n",
    "```python\n",
    "# Informationen über ein Wort in einem Dictionary\n",
    "word_1={\"form\":\"fliegen\", \"upos\":\"VERB\", \"lemma\":\"fliegen\"}\n",
    "\n",
    "if word_1[\"upos\"] == \"VERB\" and word_1[\"form\"][0].isupper():\n",
    "    print(\"Das Wort ist ein Verb und beginnt mit einem Großbuchstaben\")\n",
    "```\n",
    "\n",
    "* Statt einzelne Bedingungen abzutesten, die bei Zutreffen alle zum gleichen Ergebnis führen, können wir die Bedingungen mit einem `or` verknüpfen.\n",
    "\n",
    "```python\n",
    "if word_1[\"upos\"] == \"VERB\" or word_1[\"upos\"] === \"AUX\"\n",
    "    print(\"Das Wort ist ein Vollverb oder ein Auxiliary\")\n",
    "\n",
    "\n",
    "```\n"
   ]
  },
  {
   "cell_type": "markdown",
   "id": "71cdb568",
   "metadata": {},
   "source": [
    "## Schleifen\n",
    "\n",
    "* Schleifen ermöglichen es uns, mehrere Anweisungen oder Codeblöcke zu wiederholen.\n",
    "* Haupttypen:\n",
    "    * for-loops\n",
    "    * while-loops"
   ]
  },
  {
   "cell_type": "markdown",
   "id": "2d87feeb-e2e9-4c96-bb93-7e4f9325d216",
   "metadata": {},
   "source": [
    "### For-loops\n",
    "\n",
    "* Sie geben eine Liste oder eine Folge von Elementen an und durchlaufen dann die Liste, wobei Sie den Block einmal für jedes Element in der Liste oder Folge anwenden. \n",
    "* Die Syntax besteht aus einer `for`-Klausel, gefolgt von einem eingerückten Block mit einer oder mehreren Anweisungen."
   ]
  },
  {
   "cell_type": "code",
   "execution_count": null,
   "id": "e7d4a432-b6d1-4dd3-bff6-986e2870aa8f",
   "metadata": {},
   "outputs": [],
   "source": [
    "\n",
    "# For loop über eine Liste von Wörtern\n",
    "verbs = [\"fliegen\", \"kriechen\", \"gehen\", \"laufen\"]\n",
    "for verb in verbs:\n",
    "    print(verb)\n",
    "\n",
    "print()\n",
    "# For loop über eine Menge / set\n",
    "vset = set(verbs)\n",
    "for verb in vset:\n",
    "    print(verb)\n",
    "print()\n",
    "\n",
    "# For loop über ein Dictionary\n",
    "persons = {\"Charlie\": 28, \"Alice\": 30, \"Bob\": 25}\n",
    "\n",
    "for name in persons:\n",
    "    print(f\"{name} ist {persons[name]} Jahre alt\")\n",
    "\n",
    "# alternative Variante für Durchlauf durch Dictionary, wobei es sowohl für die keys als auch die values  eine Variable gibt\n",
    "for name, age in persons.items():\n",
    "    print(f\"{name} ist {age} Jahre alt\")\n",
    "\n",
    "\n"
   ]
  },
  {
   "cell_type": "markdown",
   "id": "cb410e76-4a5c-4111-a674-0b8105a83ee8",
   "metadata": {},
   "source": [
    "### while-loops\n",
    "\n",
    "* Wir führen die Anweisungen im Inneren der Schleife aus, solange die Bedingung , die abgetestet wird, wahr ist\n"
   ]
  },
  {
   "cell_type": "code",
   "execution_count": null,
   "id": "797f3ea5-f373-4572-bd55-48440bec3a7b",
   "metadata": {},
   "outputs": [],
   "source": [
    "# Wir wiederholen die Anfrage bis eine valide Antwort kommt\n",
    "age=\"\"\n",
    "while not age.isdigit():\n",
    "    age = input(\"Geben Sie ihr Alter in Jahren an: \")\n",
    "print(f\"Sie sind  {age} Jahre alt\")"
   ]
  },
  {
   "cell_type": "markdown",
   "id": "99787aab-6448-4229-b65b-486831938c04",
   "metadata": {},
   "source": [
    "* Man kann alle `for`-loops zu `while`-loops umschreiben.\n",
    "* Oft ist der `for`-loop aber einfacher."
   ]
  },
  {
   "cell_type": "code",
   "execution_count": null,
   "id": "dadc521c-7fe4-4b6d-938f-431bb5359649",
   "metadata": {},
   "outputs": [],
   "source": [
    "\n",
    "namen = [\"Henriette\", \"Paul\", \"Max\"]\n",
    "\n",
    "for name in namen:\n",
    "    print(f\"Hallo, {name}\")\n",
    "\n",
    "# für while loop brauchen wir hier einen Zähler, damit wir nicht über die Länge der Liste  hinausschießen!\n",
    "i = 0\n",
    "while i < len(namen):\n",
    "    print(f\"Hallo, {namen[i]}\")\n",
    "    i += 1\n"
   ]
  },
  {
   "cell_type": "markdown",
   "id": "d709235b",
   "metadata": {},
   "source": [
    "## Kombination for und if-else\n",
    "\n",
    "* Beispiel: wir zählen die Anzahl der Buchstaben in einem Wort, die Vokale sind.\n",
    "* NB: wir betrachten nur einzelne Buchstaben, wir versuchen nicht zu erkennen, dass z.B. `ei` als Diphtong eigentlich nur ein Vokal ist.\n",
    "\n",
    "```python\n",
    "# Vokale definieren\n",
    "vowels = 'aeiouäöü'\n",
    "# Zählvariable\n",
    "vowelCount = 0\n",
    "# Wort definieren\n",
    "word = 'Oberbürgermeisterin'\n",
    "\n",
    "# wir iterieren über die Buchstaben des Wortes\n",
    "for letter in word.lower():\n",
    "    if letter in vowels:\n",
    "        vowelCount = vowelCount + 1 # add 1\n",
    "print(vowelCount)\n",
    "```\n"
   ]
  },
  {
   "cell_type": "code",
   "execution_count": null,
   "id": "9733ba16-dca2-4ccb-bb70-dc9de52e5465",
   "metadata": {},
   "outputs": [],
   "source": [
    "# Vokale definieren\n",
    "vowels = 'aeiouäöü'\n",
    "# Zählvariable\n",
    "vowelCount = 0\n",
    "# Wort definieren\n",
    "word = 'Oberbürgermeisterin'\n",
    "\n",
    "# wir iterieren über die Buchstaben des Wortes\n",
    "for letter in word.lower():\n",
    "    if letter in vowels:\n",
    "        vowelCount = vowelCount + 1 # add 1\n",
    "print(vowelCount)"
   ]
  },
  {
   "cell_type": "markdown",
   "id": "e067be94",
   "metadata": {},
   "source": [
    "## 🫵 Your turn\n",
    "\n",
    "* Wie könnten sie den obigen Code verändern, so dass sie die Anzahl der unterschiedlichen Vokale zählen?\n",
    "* Für `Oberbürgermeisterin` sollte das Ergebnis 4 sein: ['o','e','ü','i'].\n",
    "* Um eine mögliche Lösung zu sehen, kommentieren Sie den load-Befehl in der folgenden Code-Zelle aus."
   ]
  },
  {
   "cell_type": "code",
   "execution_count": null,
   "id": "c58045bc-96db-4d8a-9039-2191dcb36cf4",
   "metadata": {},
   "outputs": [],
   "source": [
    "# %load ./snippets/count_vowels.py\n"
   ]
  },
  {
   "cell_type": "markdown",
   "id": "9d4fd35b-7da9-4081-b898-e948549e4838",
   "metadata": {},
   "source": [
    "## 🫵 Your turn\n",
    "\n",
    "* Wir wollen Konsonanten in einem Wort zählen.\n",
    "* Der nachfolgende Code funktioniert so aber  nicht.\n",
    "* Was für ein Problem haben wir hier? Wir können Sie es beheben?\n",
    "* NB: wir verwenden hier eine while-Schleife: solange die Bedingung wahr ist, fahren wir mit den Anweisungen in der Schleife fort.\n"
   ]
  },
  {
   "cell_type": "markdown",
   "id": "31a8e4d9-483b-4b26-ac4d-d677a88e758f",
   "metadata": {},
   "source": [
    "```python\n",
    "word = 'Oida'\n",
    "vowels = 'aeiou'\n",
    "position = 0\n",
    "consonants = 0\n",
    "while position < len(word):\n",
    "    letter = word.lower()[position]\n",
    "    if letter not in vowels:\n",
    "        consonants +=1\n",
    "        print(letter)\n",
    "        position += 1\n",
    "print(f\"found {consonants} consonants\")\n",
    "```"
   ]
  },
  {
   "cell_type": "code",
   "execution_count": null,
   "id": "020c9fbd-1254-4e8b-b460-598ebb94938c",
   "metadata": {},
   "outputs": [],
   "source": [
    "# %load \"./snippets/fix_bad_loop.py\"\n",
    "word = 'Oida'\n",
    "vowels = 'aeiou'\n",
    "position = 0\n",
    "consonants = 0\n",
    "while position < len(word):\n",
    "    letter = word.lower()[position]\n",
    "    if letter not in vowels:\n",
    "        consonants +=1\n",
    "        print(letter)\n",
    "    position += 1\n",
    "print(f\"found {consonants} consonants\")\n"
   ]
  },
  {
   "cell_type": "markdown",
   "id": "58e51b65-f053-4741-9a64-603e73c7db92",
   "metadata": {},
   "source": [
    "## Einschub: Strings vs  Listen\n",
    "\n",
    "* Wir haben mehrfach gesehen, dass wir auf Buchstaben(sequenzen) in strings mit derselben Syntax wie bei Listen zugreifen können.\n",
    "* Dennoch sind Strings fundamental keine Listen von Buchstaben.\n",
    "\n",
    "\n"
   ]
  },
  {
   "cell_type": "code",
   "execution_count": null,
   "id": "c7ce75da-306e-43f8-a9f7-a92acee0a58d",
   "metadata": {},
   "outputs": [],
   "source": [
    "word_list = [\"Hans\", \"Susanne\", \"Max\"]\n",
    "print(word_list)\n",
    "word_list[0] = \"Hand\" #ok\n",
    "print(word_list)\n",
    "word_list.append(\"Kim\")\n",
    "print(word_list)\n"
   ]
  },
  {
   "cell_type": "code",
   "execution_count": null,
   "id": "b435c032",
   "metadata": {},
   "outputs": [],
   "source": [
    "#  Strings sind unveränderliche Objekte, die nicht durch Indexierung oder Veränderungen erweitert werden können.\n",
    "word = \"Bad\"\n",
    "word[0] = \"R\" #Fehler: wir können Bad nicht so zu Rad verwandeln\n",
    "print(word)\n"
   ]
  },
  {
   "cell_type": "code",
   "execution_count": null,
   "id": "ffa8bdf9",
   "metadata": {},
   "outputs": [],
   "source": [
    "word.append(\"en\") # ergibt nicht \"Baden\"\n",
    "print(word)"
   ]
  },
  {
   "cell_type": "markdown",
   "id": "b0710887-dc62-4c5e-816a-6c16f7ed11b8",
   "metadata": {},
   "source": [
    "## break und continue statements in Schleifen\n",
    "\n",
    "* Mit den Anweisungen „break“ und „continue“ können wir Schleifen genauer steuern.\n",
    "* Eine „break“-Anweisung beendet die kleinste umschließende Schleife.\n",
    "* Die „continue“-Anweisung beendet die aktuelle Iteration der kleinsten umschließenden Schleife und springt zur nächsten Iteration.\n",
    "\n"
   ]
  },
  {
   "cell_type": "code",
   "execution_count": null,
   "id": "a4b6e06c-a3bc-4580-8096-3312c445229c",
   "metadata": {},
   "outputs": [],
   "source": [
    "from collections import Counter\n",
    "wort_liste = [\"Lösung\",\"Haus\", \"Appell\", \"ist\" ,\"Mut\", \"Armeechef\", \"zu\", ]\n",
    "stopwords = [\"ab\", \"auf\", \"zu\", \"ist\", \"war\", \"mit\", \"bin\", \"bist\", \"warst\", \"waren\", \"ohne\"]\n",
    "vowels= 'aeiouäöü'\n",
    "\n",
    "# Wir wollen ermitteln mit welcher Häufigkeit verschiedene Vokale den ersten Vokal in einem Wort darstellen.\n",
    "# Wir suchen in jedem Wort den ersten Vokal und fügen ihn in die Liste firstvowels hinzu.\n",
    "# Am Ende ermitteln wir die Häufigkeit.\n",
    "firstvowels=[]\n",
    "\n",
    "for word in wort_liste:\n",
    "\tif word in stopwords:\n",
    "        # Wenn wir ein Stopwort (~ Funktionswort)  haben , interessiert uns sein erster Vokal nicht.\n",
    "        # Mit continue springen wir weiter zum nächsten Wort in der Wortliste.\n",
    "\t\tcontinue\n",
    "\tfor letter in word.lower():\n",
    "\t\tif letter in vowels:\n",
    "\t\t\tfirstvowels.append(letter)\n",
    "            # Da uns nur der erste Vokal interessiert, können wir abbrechen , wenn wir ihn gefunden haben\n",
    "            # Beachte, dass wir nur die Buchstabenschleife verlassen. Wir gehen aber weiter zum nächsten Wort!\n",
    "\t\t\tbreak\n",
    "vowel_frequencies = {}\n",
    "for v in firstvowels:\n",
    "    if v not in vowel_frequencies:\n",
    "        vowel_frequencies[v] = 0\n",
    "    vowel_frequencies[v]+=1\n",
    "print(vowel_frequencies)"
   ]
  },
  {
   "cell_type": "code",
   "execution_count": null,
   "id": "47dcfd87-cb06-46ec-9466-b328b2fbeb14",
   "metadata": {},
   "outputs": [],
   "source": [
    "# wir speichern das Ergebnis in vowel frequencies auf disk zur Beutzung in einem späteren Notebook\n",
    "import json\n",
    "with open(\"./data/copy_of_vowel_frequenceies.sjon\",\"w\") as f:\n",
    "    json.dump(vowel_frequencies, f)"
   ]
  },
  {
   "cell_type": "markdown",
   "id": "806db010-b445-4248-8c23-907b9656f34d",
   "metadata": {},
   "source": [
    "## 🫵 Your turn\n",
    "\n",
    "* Können Sie im vorausgehenden Beispiel das `continue`-Statement entfernen und mit anderen Mitteln denselben Effekt erreichen, dass Stopwörter nicht auf den ersten Vokal durchsucht werden?\n",
    "\n",
    "Probieren Sie es erst selbst , Sie können danach auch den load-Befehl in der folgenden Zeile auskommentieren, um eine mögliche Lösung zu sehen."
   ]
  },
  {
   "cell_type": "code",
   "execution_count": null,
   "id": "c4d5a3f1-1d5f-418b-805c-625b925f3bc7",
   "metadata": {},
   "outputs": [],
   "source": [
    "# %load ./snippets/no_counter.py\n"
   ]
  },
  {
   "cell_type": "markdown",
   "id": "b62738ab",
   "metadata": {},
   "source": [
    "# Ausgabe von Text (print)\n",
    "\n",
    "* Die einfache Funktion `print` gibt eine String-Repräsentation eines Objektes aus.\n",
    "* Die Funktion print kann für viele Datentpyen wie int oder float genutzt werden, die keine Strings sind, aber als Strings repräsentiert werden können.\n"
   ]
  },
  {
   "cell_type": "code",
   "execution_count": null,
   "id": "b2c46f0e",
   "metadata": {},
   "outputs": [],
   "source": [
    "# print kann einen einzelnen String oder eine Liste von Strings ausgeben\n",
    "print(\"Speerwerfer Julian Webers Sehnsucht nach einer WM-Medaille\")\n",
    "# im Fall einer Liste werden die Teile durch Leerzeichen getrennt ausgegeben\n",
    "print(\"Speerwerfer\", \"Julian\", \"Webers\", \"Sehnsucht\",\"nach\",\"einer\", \"WM-Medaille\")\n",
    "# Wenn man keine Kommas einfügt, kleben die Teile direkt aneinander\n",
    "print(\"Speerwerfer\" \"Julian\" \"Webers\" \"Sehnsucht\" \"nach\" \"einer\" \"WM-Medaille\")"
   ]
  },
  {
   "cell_type": "markdown",
   "id": "e9844c2b-199c-4ef6-a472-4db1fdcb9cd4",
   "metadata": {},
   "source": [
    "## Stringinterpolierung\n",
    "\n",
    "* String-Interpolation ist ein Prozess, bei dem Werte von Variablen in Platzhalter in einem String eingesetzt werden.\n",
    "* Es gibt (wie oft in Python) mehrere verschiedene Arten von String-Interpolation.\n",
    "* Man muss sie nicht alle benutzen ;)\n"
   ]
  },
  {
   "cell_type": "code",
   "execution_count": null,
   "id": "7fea74a3-df32-432a-99f3-9ffc1644de2a",
   "metadata": {},
   "outputs": [],
   "source": [
    "# Variablen definieren\n",
    "name = 'World'\n",
    "program = 'Python'\n",
    "\n",
    "# Häßlichste Alternative: Konkatenierung der Teile mit + \n",
    "print('Hello' + ' ' + name +'! This is ' + program)"
   ]
  },
  {
   "cell_type": "code",
   "execution_count": null,
   "id": "a5ea66d3-5afa-421d-bd17-38c890b82f60",
   "metadata": {},
   "outputs": [],
   "source": [
    "## f-strings: vor dem öffnenden Anführungszeichen kommt ein 'f'!\n",
    "# An den Stellen, an denen Variablen eingesetzt werden, können wir die Variable einfach zwischen geschweifte Klammern schreiben\n",
    "\n",
    "print(f'Hello {name}! This is {program}')"
   ]
  },
  {
   "cell_type": "code",
   "execution_count": null,
   "id": "c2b1a30c-03d1-4571-ac64-c812848158a7",
   "metadata": {},
   "outputs": [],
   "source": [
    "# %-formatting: statt Variablennamen fügen wir %s in den String ein, wo die Werte eingefügt werden sollen. \n",
    "# Wir geben die Reihenfolge der Variablen nach dem String in runden Klammern an, denen ein % vorausgehen muss.\n",
    "print('Hello %s! This is %s.'%(name,program))"
   ]
  },
  {
   "cell_type": "code",
   "execution_count": null,
   "id": "14c1aaa8-a127-48ad-beb0-89ffcdc01fb3",
   "metadata": {},
   "outputs": [],
   "source": [
    "# str-format: eine Methode der String-Klasse\n",
    "print('Hello {nom}! This is {programme}.'.format(nom=name,programme=program))"
   ]
  },
  {
   "cell_type": "markdown",
   "id": "c286c20b-1910-40f1-9f95-576ed7879fd9",
   "metadata": {},
   "source": [
    "## 🚀 Fortgeschrittene Formatierungsoptionen bei interpolierten Strings"
   ]
  },
  {
   "cell_type": "code",
   "execution_count": null,
   "id": "d0bc9f56-1a15-4037-8634-a21d15d91a2c",
   "metadata": {},
   "outputs": [],
   "source": [
    "# str-format hat auch  Optionen zur Formatierung von Zahlen:\n",
    "prices = [59,2,1003,90001]\n",
    "for price in prices:\n",
    "    # der Preis soll rechts aligniert sein, maximal 8 Zeichen und 2 Nachkommastellen haben [Das Dezimalzeichen ist bei den 8 Zeichen eingerechnet.]\n",
    "    print('Der Preis beträgt {:>8.2f} Euro'.format(price) )"
   ]
  },
  {
   "cell_type": "code",
   "execution_count": null,
   "id": "b430383c-788a-4da9-8afd-5d4da854c3e8",
   "metadata": {},
   "outputs": [],
   "source": [
    "#  Dezimalstellen mit f-strings\n",
    "for price in prices:\n",
    "    txt = f\"Der Preis ist {price:>8.2f} Euro\"\n",
    "    print(txt)\n",
    "# Anzahl der Stellen angleichen: zfill fügt nur 0-en hinzu, falls die Zahl nicht ausreichend lang ist\n",
    "for price in prices:\n",
    "    txt = f\"Der Preis lautet {str(price).zfill(5)} Euro\"\n",
    "    print(txt)\n",
    "# Ausrichtung der Zahlen\n",
    "for price in prices:\n",
    "    txt = f\"Der Preis kommt auf {str(price).rjust(5,' ')} Euro\"\n",
    "    print(txt)\n",
    "for price in prices:\n",
    "    txt = f\"Der Preis beläuft sich auf {str(price).ljust(5,' ')} Euro\"\n",
    "    print(txt)\n",
    "# wir können in den geschweiften Klammern sogar noch Funktionen aufrufen oder rechnen.\n",
    "for price in prices:\n",
    "    txt = f\"Der Preis ist {2*price:>9.2f} Euro\"\n",
    "    print(txt)"
   ]
  },
  {
   "cell_type": "markdown",
   "id": "5deec990-dc75-4cfd-9411-d1c0ab3e8e64",
   "metadata": {},
   "source": [
    "# ✔️ Zwischenfazit Kontrollstrukturen\n",
    "\n",
    "\n",
    "* Kontrollstrukturen in Python bestimmen den Ablauf eines Programms – sie steuern, welcher Code wann, wie oft und unter welchen Bedingungen ausgeführt wird.\n",
    "\n",
    "* Bedingungen: if/elif/else – Ausführen von Codeblöcke abhängig vom Zutreffen bestimmter Bedingungen \n",
    "\n",
    "* Schleifenstrukturen: wiederholte Codeausführung:\n",
    "\t* for-Schleifen – Iterieren über Sequenzen (Listen, Zeichenfolgen, Bereiche) oder eine bestimmte Anzahl von Malen.\n",
    "\t* while-Schleifen – Wiederholen, solange eine Bedingung wahr bleibt.\n",
    "\n",
    "* Wir können auch die Behandlung von Fehlern und Sonderfällen hier einordnen:\n",
    "\t* try/except – Fehler elegant abfangen und behandeln\n",
    "\n",
    "\n"
   ]
  }
 ],
 "metadata": {
  "kernelspec": {
   "display_name": "Python 3 (ipykernel)",
   "language": "python",
   "name": "python3"
  },
  "language_info": {
   "codemirror_mode": {
    "name": "ipython",
    "version": 3
   },
   "file_extension": ".py",
   "mimetype": "text/x-python",
   "name": "python",
   "nbconvert_exporter": "python",
   "pygments_lexer": "ipython3",
   "version": "3.9.19"
  }
 },
 "nbformat": 4,
 "nbformat_minor": 5
}
