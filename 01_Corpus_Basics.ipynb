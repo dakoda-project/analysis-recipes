{
 "cells": [
  {
   "cell_type": "markdown",
   "id": "3824bde6",
   "metadata": {},
   "source": [
    "# Basics"
   ]
  },
  {
   "cell_type": "code",
   "execution_count": 6,
   "id": "75f2f8c0",
   "metadata": {},
   "outputs": [],
   "source": [
    "import itertools\n",
    "from dakoda.corpus import DakodaCorpus"
   ]
  },
  {
   "cell_type": "code",
   "execution_count": 7,
   "id": "4a187929",
   "metadata": {},
   "outputs": [
    {
     "name": "stdout",
     "output_type": "stream",
     "text": [
      "Corpus contains 890 CASes\n",
      "Ferien mit Freunden sind fürmich fürmich((2 ) ) das schönste . Ich versteh nicht wieso reitferien \" In \" sind . Ich mag Pferde / reiten nicht . Skiferien sind meiner Meinung nach \" In \" da es sehr lustig sein kann . Zuhausebleiben Zuhausebleiben((2 ) ) und nichts machen wäre auch \" In \" . Alleine Ferien machen wäre mir zu langweilig , deshalb \" out \" . Zu zu teuren Hotels hat jeder seine eigene Meinung , viele finden es gut , andere widerum nicht .\n",
      "Ich glaube das ist eine Gute Idee weil in Deutschland zum beispiel wichtiger ist Deutsch zu lernen . Ich möchte in Ireland zu gehen . In der Schule ich finde das ist komplizirt Deutsch zu lernen . Aber die Leute sprechen zu fast für mich .\n",
      "Ein katz essen vier Hunden Mause in einen Monate . In die Schweiz , Es gibt 1,5 millionen Katze und ein Katze cost 1000 für zwölf monat\n",
      "Mein persönlichen Lieblingsdessert ist Coupe Dänemark , da ich Vanilleeis liebe und dann noch mit der heissen schokolade darüber das ist einfach Lecker . Momentan weiss ich noch nicht genau was ich werden will , doch ich weiss schon , dass ich in richtung der Informatik und Robotik gehen will . Ich mag vieles , doch momentan boxe ich um mich fit zu halten . Ich spiele auch sehr gerne Fussball mit meinen Freunden und Ping Pong . Ich würde mir ein neues Velo wünschen , da mein momentanes Velo mir viel zu klein ist . Ich würde mir wahrscheinlich auch eine PC wünschen da dies schon lange ein Taum von mir ist . Ich habe nicht vor vielen dingen angst , doch vor grösseren Spinnen hab ich angst , kleinere Spinnen sind kein Problem .\n",
      "Meine liblinst pet ist den weiss Wolf . Meine liblings Musik ist Pop Musik . Meine liblinst hobby ist Ski farhen , Clavir spielen , Baldminton und hört Musik . Ich mochte nicht speider . Ich mochte bin eine fotografieren .\n"
     ]
    }
   ],
   "source": [
    "wtld = DakodaCorpus(\"data/WTLD\")\n",
    "\n",
    "print('Corpus contains {} CASes'.format(wtld.size()))\n",
    "\n",
    "# da wir sehr viele CASes haben, nehmen wir nur die ersten 5\n",
    "for cas in itertools.islice(wtld.docs(), 5):\n",
    "    print(cas.sofa_string)                    "
   ]
  },
  {
   "cell_type": "code",
   "execution_count": 8,
   "id": "fd7cabea",
   "metadata": {},
   "outputs": [
    {
     "name": "stdout",
     "output_type": "stream",
     "text": [
      "Corpus contains 70 CASes\n",
      "Es war einmal eine Familie . Sie wohnen zusammen in einem Haus . Ein Tag wenn das essen war bereit und warm auf dem Tisch , Vater und Mutter waren schon da um anfangen zum essen , aber der Sohn war nicht da . Vater hat gefragt wo ist der Sohn , und Mutter sagte das er in seinem zimmer ist . Vater hat aufgewacht um der Sohn abholen . er hat zum seinem zimmer gegangen . Er hat gesehen das der Sohn konzentriert auf ein Buch und liest der Buch genau ohne verstehen das der Vater hat gekommen . Vater hat Der Sohn gesagt : wach auf , ist zeit Zum essen . Der Sohn hat aufgewacht und hat zum Küche gegangen . Vater wollte sehen das was für ein Buch war dass , sein Sohn so liest es . Deswegen er hat ein bisschen das Buch geguckt . Der Sohn liegt auf dem Bank vor dem Tisch und er und seine Mutter warten für papa bis er kommt . Aber nach einige Minuten er hat nicht gekommen . der Bank von der Vater war schon leer . Sie haben viel gewartet , aber Vater hat nicht gekommen und das Essen war nicht mehr warm . mama fragt Sohn : gehe mal und sehe das wo steht papa ? Er hat aufgewacht und zum seinem zimmer gegangen hat . er war ein bisschen sauer von seine Vater dass , wo steht er ? warum kommt er nicht ? Danach hat er gesehen und jetzt er weist die antworte von alle diese Fragen . Ja , Der Vater liest jetzt das Buch . Das Buch war ein spannendes Buch und die heißen Schmöker . Wenn man ein Schmöker liest , kann man das Buch nicht verlassen und liest bis zum ende das Buch .\n",
      "Die Szene ist in die Küche . Die kind hat Wut . Die wurst hat eine Biene . Der Vater sprache mit sein Sohn Die beide Laufen nach Fenster Jetz die kind ist Ruhe Die Biene hat gefliegen . Die beide sind glücklich . Die beide sind gegen üben die frei Biene . Die Biene hat zurückkomme . Der Vater hat Wut . Die Kind ist Überraschung . Die Kind spracher über versuchen ein mal . Der Vater sag \" Warten ! \" . Die Biene ist in die Wurts von Vater . Die Vater möchte die Biene töten . Die Szene ist in die Küche noch ein mal . Die Kind ist verwirrt .\n",
      "Es ist Mittagstisch Zeit und das Essen ist schön fertig . Die Eltern sind schön im Esszimmer , aber das Kind ist noch nicht dort . Beide fragen sich , wo das Kind ist . Das Vater geht nach den Kind Wohnzimmer , um ihm zu suchen . Zum Glück ist er da . Er ließt ein ganz interessantes Buch . Das Vater sagt das Kind , dass er nach Esszimmer gehen muss . Das Kind gehorche seinem Vater und geht jetzt zu essen . Das Vater fragt ihn , was das Kind ließt , deswegen bleibt er im Wohnzimmer , um das Buch durchzusehen . Das Kind und seiner Mutter sind in Esszimmer . Aber , Wo ist der Vater ? Ihr könnt nicht anfangen , müsst ihr auf dem Vater warten . Beide sind hungrig , deswegen ordnet das Mutter den Kind , seinen Vater zu bringen . Das Mutter sieht ärgerlich . Das Kind muss wieder nach Wohnzimmer gehen . Das Kind ist jetzt auch ärger , weil er nicht wieder nach Wohnzimmer gehen will . Wenn das Kind in Wohnzimmer kommt , sieht der Vater im Boden . Er ließt des Kinds Buch . Ich glaube , dass es ein aufregend Buch ist .\n",
      "Es war einmal ein Vater und Sein Sohn . Es war Mittag und sie wollten etwas essen . Vater hat alles vorbereitet zum essen . Das essen war Currywurst auf einem Teller für jede von ihnen . In der zeit das sie wollten Anfangen zum essen , eine Wespe kommt und sitzt auf der Currywurst von sein Sohn . Der Sohn wollte der mit einem Klammer weg machen aber Vater hat gesagt : Nein , warte . Vater hat erzählt über das Die Menschen müssen nicht die Tieren stören oder sterben . Wir müssen freundlich sein mit ihnen . und sie haben mit der Wespe das auf dem Teller war zum Fenster gegangen . Vater hat das Teller raus aus dem Fenster liegt . Die Wespe Fliegt und gehe weg von das Teller . Der Sohn war glücklich . Aber nach einige Sekunde hat sie zurück und biss Kopf von Vater . Der Sohn war überrascht dass warum etwas so passiert , wir waren ganz freundlich zu sie , und hatte das gemacht . Nachdem sie haben zurück gegangen zum Küche um endlich etwas essen . Aber der Wespe war schon wieder zurück . Der Sohn hat gesagt : papa , sollen wir sie nochmal draußen schieben ? Vater war ganz sauer von was passiert hatte und hat gesagt : Nein , warte . Diesmal Vater versucht mit einem Klammer der Wespe sterben . Der Sohn war ganz begeistert und verrückt von alle diese komplizierte Sachen das hier passiert hat . Mann muss nicht immer freundlich sein .\n",
      "Ist Mahlzeit ins Haus . Der Vater Frage über ihr Sohn . Die Mutter antwortet der Vater . Die Kind liest ein Buch . Die Kind ist liegend auf dem Boden . Der Vater wird ihre Tochter anrufen . Die Kind gehe nach anderen Raum . Der Vater blick das Buch . Der Vater sich beugen zu das Bush sehen . Die Mutter und die Kind warten der Vater . Der Vater nicht auf der Raum zurückkommen . Die Mutter und die Kind sind Verwirrung . Die Mutter Sprache mit die Kind . Die Kind hören ihre Mutter . Sie sind im der Abendessen Raum . Die Kind hat hassen . Der Vater liest das Buch . Der Vater ist in anderen Raum . Der Vater ist liegend auf dem Boden .\n"
     ]
    }
   ],
   "source": [
    "comigs = DakodaCorpus(\"data/ComiGs\")\n",
    "\n",
    "print('Corpus contains {} CASes'.format(comigs.size()))\n",
    "\n",
    "for cas in itertools.islice(comigs.docs(), 5):\n",
    "    print(cas.sofa_string)  "
   ]
  },
  {
   "cell_type": "markdown",
   "id": "02458ac3",
   "metadata": {},
   "source": [
    "## Working with layers"
   ]
  },
  {
   "cell_type": "code",
   "execution_count": 9,
   "id": "45e4d2ce",
   "metadata": {},
   "outputs": [
    {
     "name": "stdout",
     "output_type": "stream",
     "text": [
      "ich glaube deine idée ist gut . Die scientifiques sind zu intelligante und génial . Seiner idée is zu gut weil in die Schule ich habe nicht konzontriert . Ich mag Lernen ins Deutschland und ich mag Berlin . In Berlin ich habe zwei cousinen und er ist mein Onkel und meine tante gewonnen . Sechs month ist long aber ich mag die gute . . . superbe idée .\n",
      "Ich glaube , deine Idee ist gut . Die Wissenschaftler sind zu genial und genial . Seine Idee ist zu gut , weil ich in der Schule nichts gelernt habe . Ich mag lernen in Deutschland und ich mag Berlin . In Berlin habe ich zwei Cousinen und er ist mein Onkel und meine Tante gewonnen . Sechs Monat ist long , aber ich mag die guten . . Super Idee .\n"
     ]
    }
   ],
   "source": [
    "doc = wtld.random_doc()\n",
    "print(doc.get_view(\"ctok\").sofa_string)\n",
    "print(doc.get_view(\"mbartgec_th1\").sofa_string)"
   ]
  }
 ],
 "metadata": {
  "kernelspec": {
   "display_name": "dashboard-py3.11",
   "language": "python",
   "name": "python3"
  },
  "language_info": {
   "codemirror_mode": {
    "name": "ipython",
    "version": 3
   },
   "file_extension": ".py",
   "mimetype": "text/x-python",
   "name": "python",
   "nbconvert_exporter": "python",
   "pygments_lexer": "ipython3",
   "version": "3.11.10"
  }
 },
 "nbformat": 4,
 "nbformat_minor": 5
}
