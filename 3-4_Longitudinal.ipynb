{
 "cells": [
  {
   "cell_type": "markdown",
   "id": "3824bde6",
   "metadata": {},
   "source": [
    "# Longitudinale Daten"
   ]
  },
  {
   "cell_type": "code",
   "execution_count": null,
   "id": "bce6f553",
   "metadata": {},
   "outputs": [
    {
     "name": "stdout",
     "output_type": "stream",
     "text": [
      "Corpus DaF contains 544 documents\n"
     ]
    }
   ],
   "source": [
    "from dakoda.query import field, value\n",
    "from dakoda.corpus import DakodaCorpus\n",
    "\n",
    "corpus = DakodaCorpus(\"data/swiko_wtld/DaF\")\n",
    "print(f'Corpus {corpus.name} contains {len(corpus)} documents')"
   ]
  },
  {
   "cell_type": "code",
   "execution_count": 2,
   "id": "837fffc4",
   "metadata": {},
   "outputs": [
    {
     "name": "stdout",
     "output_type": "stream",
     "text": [
      "Writer Es145 wrote 4 documents: {'SWI06_fD_Es145_p.xml', 'SWI01_fD_Es145_p.xml', 'SWI08_fD_Es145_p.xml', 'SWI03_fD_Es145_p.xml'}\n",
      "Writer Es153 wrote 4 documents: {'SWI01_fD_Es153_p.xml', 'SWI06_fD_Es153_p.xml', 'SWI03_fD_Es153_p.xml', 'SWI08_fD_Es153_p.xml'}\n",
      "Writer Es157 wrote 4 documents: {'SWI06_fD_Es157_p.xml', 'SWI03_fD_Es157_p.xml', 'SWI01_fD_Es157_p.xml', 'SWI08_fD_Es157_p.xml'}\n",
      "Writer Es165 wrote 4 documents: {'SWI08_fD_Es165_c.xml', 'SWI03_fD_Es165_c.xml', 'SWI01_fD_Es165_c.xml', 'SWI06_fD_Es165_c.xml'}\n",
      "Writer Es170 wrote 4 documents: {'SWI08_fD_Es170_p.xml', 'SWI06_fD_Es170_p.xml', 'SWI03_fD_Es170_p.xml', 'SWI01_fD_Es170_p.xml'}\n",
      "Writer Es171 wrote 4 documents: {'SWI03_fD_Es171_p.xml', 'SWI01_fD_Es171_p.xml', 'SWI08_fD_Es171_p.xml', 'SWI06_fD_Es171_p.xml'}\n",
      "Writer Es174 wrote 4 documents: {'SWI03_fD_Es174_p.xml', 'SWI08_fD_Es174_p.xml', 'SWI06_fD_Es174_p.xml', 'SWI01_fD_Es174_p.xml'}\n",
      "Writer Es175 wrote 4 documents: {'SWI06_fD_Es175_p.xml', 'SWI01_fD_Es175_p.xml', 'SWI08_fD_Es175_p.xml', 'SWI03_fD_Es175_p.xml'}\n",
      "Writer Es176 wrote 4 documents: {'SWI06_fD_Es176_p.xml', 'SWI03_fD_Es176_p.xml', 'SWI01_fD_Es176_p.xml', 'SWI08_fD_Es176_p.xml'}\n",
      "Writer Es179 wrote 4 documents: {'SWI06_fD_Es179_p.xml', 'SWI03_fD_Es179_p.xml', 'SWI01_fD_Es179_p.xml', 'SWI08_fD_Es179_p.xml'}\n",
      "Writer Es180 wrote 4 documents: {'SWI06_fD_Es180_p.xml', 'SWI03_fD_Es180_p.xml', 'SWI08_fD_Es180_p.xml', 'SWI01_fD_Es180_p.xml'}\n",
      "Writer Es185 wrote 4 documents: {'SWI08_fD_Es185_c.xml', 'SWI01_fD_Es185_c.xml', 'SWI03_fD_Es185_c.xml', 'SWI06_fD_Es185_c.xml'}\n",
      "Writer Mo101 wrote 4 documents: {'SWI06_fD_Mo101_p.xml', 'SWI03_fD_Mo101_p.xml', 'SWI08_fD_Mo101_p.xml', 'SWI01_fD_Mo101_p.xml'}\n",
      "Writer Mo115 wrote 4 documents: {'SWI01_fD_Mo115_p.xml', 'SWI03_fD_Mo115_p.xml', 'SWI08_fD_Mo115_p.xml', 'SWI06_fD_Mo115_p.xml'}\n",
      "Writer Mo129 wrote 4 documents: {'SWI06_fD_Mo129_c.xml', 'SWI01_fD_Mo129_c.xml', 'SWI03_fD_Mo129_c.xml', 'SWI08_fD_Mo129_c.xml'}\n",
      "Writer Mo131 wrote 4 documents: {'SWI01_fD_Mo131_p.xml', 'SWI06_fD_Mo131_p.xml', 'SWI08_fD_Mo131_p.xml', 'SWI03_fD_Mo131_p.xml'}\n",
      "Writer Mo132 wrote 4 documents: {'SWI03_fD_Mo132_p.xml', 'SWI08_fD_Mo132_p.xml', 'SWI01_fD_Mo132_p.xml', 'SWI06_fD_Mo132_p.xml'}\n",
      "Writer RI100 wrote 4 documents: {'SWI01_fD_RI100_p.xml', 'SWI07_fD_RI100_p.xml', 'SWI02_fD_RI100_p.xml', 'SWI08_fD_RI100_p.xml'}\n",
      "Writer RI101 wrote 4 documents: {'SWI01_fD_RI101_p.xml', 'SWI02_fD_RI101_p.xml', 'SWI03_fD_RI101_p.xml', 'SWI07_fD_RI101_p.xml'}\n",
      "Writer RI103 wrote 4 documents: {'SWI01_fD_RI103_p.xml', 'SWI06_fD_RI103_p.xml', 'SWI07_fD_RI103_p.xml', 'SWI02_fD_RI103_p.xml'}\n",
      "Writer RI106 wrote 4 documents: {'SWI08_fD_RI106_p.xml', 'SWI01_fD_RI106_p.xml', 'SWI03_fD_RI106_p.xml', 'SWI02_fD_RI106_p.xml'}\n",
      "Writer RI205 wrote 4 documents: {'SWI07_fD_RI205_p.xml', 'SWI04_fD_RI205_p.xml', 'SWI06_fD_RI205_p.xml', 'SWI01_fD_RI205_p.xml'}\n",
      "Writer RI207 wrote 4 documents: {'SWI04_fD_RI207_p.xml', 'SWI05_fD_RI207_p.xml', 'SWI01_fD_RI207_p.xml', 'SWI08_fD_RI207_p.xml'}\n",
      "Writer RI208 wrote 4 documents: {'SWI01_fD_RI208_p.xml', 'SWI06_fD_RI208_p.xml', 'SWI07_fD_RI208_p.xml', 'SWI08_fD_RI208_p.xml'}\n",
      "Writer RI217 wrote 4 documents: {'SWI03_fD_RI217_p.xml', 'SWI07_fD_RI217_p.xml', 'SWI08_fD_RI217_p.xml', 'SWI01_fD_RI217_p.xml'}\n",
      "Writer RI221 wrote 4 documents: {'SWI03_fD_RI221_p.xml', 'SWI01_fD_RI221_p.xml', 'SWI07_fD_RI221_p.xml', 'SWI02_fD_RI221_p.xml'}\n",
      "Writer RI222 wrote 4 documents: {'SWI04_fD_RI222_p.xml', 'SWI01_fD_RI222_p.xml', 'SWI08_fD_RI222_p.xml', 'SWI05_fD_RI222_p.xml'}\n",
      "Writer RI303 wrote 4 documents: {'SWI08_fD_RI303_p.xml', 'SWI03_fD_RI303_p.xml', 'SWI07_fD_RI303_p.xml', 'SWI01_fD_RI303_p.xml'}\n",
      "Writer RI304 wrote 4 documents: {'SWI05_fD_RI304_p.xml', 'SWI01_fD_RI304_p.xml', 'SWI02_fD_RI304_p.xml', 'SWI04_fD_RI304_p.xml'}\n",
      "Writer RI305 wrote 4 documents: {'SWI07_fD_RI305_p.xml', 'SWI02_fD_RI305_p.xml', 'SWI04_fD_RI305_p.xml', 'SWI01_fD_RI305_p.xml'}\n",
      "Writer RI312 wrote 4 documents: {'SWI01_fD_RI312_p.xml', 'SWI07_fD_RI312_p.xml', 'SWI06_fD_RI312_p.xml', 'SWI04_fD_RI312_p.xml'}\n",
      "Writer RI313 wrote 4 documents: {'SWI03_fD_RI313_p.xml', 'SWI07_fD_RI313_p.xml', 'SWI06_fD_RI313_p.xml', 'SWI01_fD_RI313_p.xml'}\n",
      "Writer RI315 wrote 4 documents: {'SWI08_fD_RI315_p.xml', 'SWI02_fD_RI315_p.xml', 'SWI06_fD_RI315_p.xml', 'SWI01_fD_RI315_p.xml'}\n",
      "Writer RI317 wrote 4 documents: {'SWI06_fD_RI317_p.xml', 'SWI07_fD_RI317_p.xml', 'SWI01_fD_RI317_p.xml', 'SWI04_fD_RI317_p.xml'}\n",
      "Writer RI319 wrote 4 documents: {'SWI01_fD_RI319_p.xml', 'SWI08_fD_RI319_p.xml', 'SWI07_fD_RI319_p.xml', 'SWI06_fD_RI319_p.xml'}\n",
      "Writer RI324 wrote 4 documents: {'SWI02_fD_RI324_p.xml', 'SWI08_fD_RI324_p.xml', 'SWI05_fD_RI324_p.xml', 'SWI01_fD_RI324_p.xml'}\n",
      "Writer RI400 wrote 4 documents: {'SWI03_fD_RI400_p.xml', 'SWI05_fD_RI400_p.xml', 'SWI08_fD_RI400_p.xml', 'SWI01_fD_RI400_p.xml'}\n",
      "Writer RI401 wrote 4 documents: {'SWI01_fD_RI401_p.xml', 'SWI07_fD_RI401_p.xml', 'SWI08_fD_RI401_p.xml', 'SWI06_fD_RI401_p.xml'}\n",
      "Writer RI402 wrote 4 documents: {'SWI07_fD_RI402_p.xml', 'SWI04_fD_RI402_p.xml', 'SWI01_fD_RI402_p.xml', 'SWI06_fD_RI402_p.xml'}\n",
      "Writer RI403 wrote 4 documents: {'SWI04_fD_RI403_p.xml', 'SWI05_fD_RI403_p.xml', 'SWI01_fD_RI403_p.xml', 'SWI03_fD_RI403_p.xml'}\n",
      "Writer RI409 wrote 4 documents: {'SWI01_fD_RI409_p.xml', 'SWI05_fD_RI409_p.xml', 'SWI04_fD_RI409_p.xml', 'SWI08_fD_RI409_p.xml'}\n",
      "Writer RI415 wrote 4 documents: {'SWI07_fD_RI415_p.xml', 'SWI03_fD_RI415_p.xml', 'SWI01_fD_RI415_p.xml', 'SWI02_fD_RI415_p.xml'}\n",
      "Writer RI416 wrote 4 documents: {'SWI01_fD_RI416_p.xml', 'SWI04_fD_RI416_p.xml', 'SWI08_fD_RI416_p.xml', 'SWI05_fD_RI416_p.xml'}\n",
      "Writer RI417 wrote 4 documents: {'SWI08_fD_RI417_p.xml', 'SWI04_fD_RI417_p.xml', 'SWI07_fD_RI417_p.xml', 'SWI01_fD_RI417_p.xml'}\n",
      "Writer RI424 wrote 4 documents: {'SWI01_fD_RI424_p.xml', 'SWI02_fD_RI424_p.xml', 'SWI04_fD_RI424_p.xml', 'SWI07_fD_RI424_p.xml'}\n",
      "Writer RI502 wrote 4 documents: {'SWI02_fD_RI502_p.xml', 'SWI01_fD_RI502_p.xml', 'SWI05_fD_RI502_p.xml', 'SWI08_fD_RI502_p.xml'}\n",
      "Writer RI504 wrote 4 documents: {'SWI08_fD_RI504_p.xml', 'SWI03_fD_RI504_p.xml', 'SWI05_fD_RI504_p.xml', 'SWI01_fD_RI504_p.xml'}\n",
      "Writer RI505 wrote 4 documents: {'SWI05_fD_RI505_p.xml', 'SWI06_fD_RI505_p.xml', 'SWI03_fD_RI505_p.xml', 'SWI01_fD_RI505_p.xml'}\n",
      "Writer RI510 wrote 4 documents: {'SWI08_fD_RI510_p.xml', 'SWI03_fD_RI510_p.xml', 'SWI01_fD_RI510_p.xml', 'SWI06_fD_RI510_p.xml'}\n",
      "Writer RI512 wrote 4 documents: {'SWI01_fD_RI512_p.xml', 'SWI03_fD_RI512_p.xml', 'SWI02_fD_RI512_p.xml', 'SWI05_fD_RI512_p.xml'}\n",
      "Writer RI513 wrote 4 documents: {'SWI03_fD_RI513_p.xml', 'SWI01_fD_RI513_p.xml', 'SWI04_fD_RI513_p.xml', 'SWI05_fD_RI513_p.xml'}\n",
      "Writer RI518 wrote 4 documents: {'SWI07_fD_RI518_p.xml', 'SWI05_fD_RI518_p.xml', 'SWI01_fD_RI518_p.xml', 'SWI06_fD_RI518_p.xml'}\n",
      "Writer RI519 wrote 4 documents: {'SWI01_fD_RI519_p.xml', 'SWI02_fD_RI519_p.xml', 'SWI07_fD_RI519_p.xml', 'SWI04_fD_RI519_p.xml'}\n",
      "Writer RI520 wrote 4 documents: {'SWI03_fD_RI520_p.xml', 'SWI05_fD_RI520_p.xml', 'SWI01_fD_RI520_p.xml', 'SWI02_fD_RI520_p.xml'}\n",
      "Writer RI522 wrote 4 documents: {'SWI02_fD_RI522_p.xml', 'SWI06_fD_RI522_p.xml', 'SWI08_fD_RI522_p.xml', 'SWI01_fD_RI522_p.xml'}\n",
      "Writer Es141 wrote 4 documents: {'SWI07_fD_Es141_c.xml', 'SWI04_fD_Es141_c.xml', 'SWI02_fD_Es141_c.xml', 'SWI05_fD_Es141_c.xml'}\n",
      "Writer Es147 wrote 4 documents: {'SWI02_fD_Es147_p.xml', 'SWI07_fD_Es147_p.xml', 'SWI05_fD_Es147_p.xml', 'SWI04_fD_Es147_p.xml'}\n",
      "Writer Es148 wrote 4 documents: {'SWI07_fD_Es148_p.xml', 'SWI02_fD_Es148_p.xml', 'SWI04_fD_Es148_p.xml', 'SWI05_fD_Es148_p.xml'}\n",
      "Writer Es152 wrote 4 documents: {'SWI07_fD_Es152_p.xml', 'SWI05_fD_Es152_p.xml', 'SWI04_fD_Es152_p.xml', 'SWI02_fD_Es152_p.xml'}\n",
      "Writer Es154 wrote 4 documents: {'SWI04_fD_Es154_p.xml', 'SWI05_fD_Es154_p.xml', 'SWI07_fD_Es154_p.xml', 'SWI02_fD_Es154_p.xml'}\n",
      "Writer Es158 wrote 4 documents: {'SWI02_fD_Es158_p.xml', 'SWI05_fD_Es158_p.xml', 'SWI07_fD_Es158_p.xml', 'SWI04_fD_Es158_p.xml'}\n",
      "Writer Es159 wrote 4 documents: {'SWI05_fD_Es159_p.xml', 'SWI04_fD_Es159_p.xml', 'SWI07_fD_Es159_p.xml', 'SWI02_fD_Es159_p.xml'}\n",
      "Writer Es164 wrote 4 documents: {'SWI05_fD_Es164_c.xml', 'SWI02_fD_Es164_c.xml', 'SWI07_fD_Es164_c.xml', 'SWI04_fD_Es164_c.xml'}\n",
      "Writer Es177 wrote 4 documents: {'SWI07_fD_Es177_p.xml', 'SWI05_fD_Es177_p.xml', 'SWI02_fD_Es177_p.xml', 'SWI04_fD_Es177_p.xml'}\n",
      "Writer Es184 wrote 4 documents: {'SWI05_fD_Es184_c.xml', 'SWI04_fD_Es184_c.xml', 'SWI02_fD_Es184_c.xml', 'SWI07_fD_Es184_c.xml'}\n",
      "Writer Mo106 wrote 4 documents: {'SWI07_fD_Mo106_c.xml', 'SWI02_fD_Mo106_c.xml', 'SWI04_fD_Mo106_c.xml', 'SWI05_fD_Mo106_c.xml'}\n",
      "Writer Mo118 wrote 4 documents: {'SWI02_fD_Mo118_c.xml', 'SWI05_fD_Mo118_c.xml', 'SWI04_fD_Mo118_c.xml', 'SWI07_fD_Mo118_c.xml'}\n",
      "Writer Mo122 wrote 4 documents: {'SWI05_fD_Mo122_p.xml', 'SWI02_fD_Mo122_p.xml', 'SWI04_fD_Mo122_p.xml', 'SWI07_fD_Mo122_p.xml'}\n",
      "Writer Mo134 wrote 4 documents: {'SWI04_fD_Mo134_c.xml', 'SWI07_fD_Mo134_c.xml', 'SWI02_fD_Mo134_c.xml', 'SWI05_fD_Mo134_c.xml'}\n",
      "Writer Mo135 wrote 4 documents: {'SWI07_fD_Mo135_c.xml', 'SWI04_fD_Mo135_c.xml', 'SWI05_fD_Mo135_c.xml', 'SWI02_fD_Mo135_c.xml'}\n",
      "Writer Mo136 wrote 4 documents: {'SWI02_fD_Mo136_p.xml', 'SWI07_fD_Mo136_p.xml', 'SWI04_fD_Mo136_p.xml', 'SWI05_fD_Mo136_p.xml'}\n",
      "Writer RI107 wrote 4 documents: {'SWI03_fD_RI107_p.xml', 'SWI06_fD_RI107_p.xml', 'SWI05_fD_RI107_p.xml', 'SWI02_fD_RI107_p.xml'}\n",
      "Writer RI108 wrote 4 documents: {'SWI07_fD_RI108_p.xml', 'SWI05_fD_RI108_p.xml', 'SWI02_fD_RI108_p.xml', 'SWI08_fD_RI108_p.xml'}\n",
      "Writer RI109 wrote 4 documents: {'SWI02_fD_RI109_p.xml', 'SWI07_fD_RI109_p.xml', 'SWI06_fD_RI109_p.xml', 'SWI03_fD_RI109_p.xml'}\n",
      "Writer RI110 wrote 4 documents: {'SWI02_fD_RI110_p.xml', 'SWI06_fD_RI110_p.xml', 'SWI08_fD_RI110_p.xml', 'SWI07_fD_RI110_p.xml'}\n",
      "Writer RI111 wrote 4 documents: {'SWI04_fD_RI111_p.xml', 'SWI07_fD_RI111_p.xml', 'SWI05_fD_RI111_p.xml', 'SWI02_fD_RI111_p.xml'}\n",
      "Writer RI202 wrote 4 documents: {'SWI07_fD_RI202_p.xml', 'SWI02_fD_RI202_p.xml', 'SWI05_fD_RI202_p.xml', 'SWI03_fD_RI202_p.xml'}\n",
      "Writer RI204 wrote 4 documents: {'SWI08_fD_RI204_p.xml', 'SWI03_fD_RI204_p.xml', 'SWI07_fD_RI204_p.xml', 'SWI02_fD_RI204_p.xml'}\n",
      "Writer RI209 wrote 4 documents: {'SWI02_fD_RI209_p.xml', 'SWI05_fD_RI209_p.xml', 'SWI03_fD_RI209_p.xml', 'SWI06_fD_RI209_p.xml'}\n",
      "Writer RI211 wrote 4 documents: {'SWI08_fD_RI211_p.xml', 'SWI04_fD_RI211_p.xml', 'SWI02_fD_RI211_p.xml', 'SWI05_fD_RI211_p.xml'}\n",
      "Writer RI212 wrote 4 documents: {'SWI05_fD_RI212_p.xml', 'SWI07_fD_RI212_p.xml', 'SWI03_fD_RI212_p.xml', 'SWI02_fD_RI212_p.xml'}\n",
      "Writer RI213 wrote 4 documents: {'SWI03_fD_RI213_p.xml', 'SWI05_fD_RI213_p.xml', 'SWI02_fD_RI213_p.xml', 'SWI04_fD_RI213_p.xml'}\n",
      "Writer RI214 wrote 4 documents: {'SWI05_fD_RI214_p.xml', 'SWI03_fD_RI214_p.xml', 'SWI02_fD_RI214_p.xml', 'SWI08_fD_RI214_p.xml'}\n",
      "Writer RI215 wrote 4 documents: {'SWI05_fD_RI215_p.xml', 'SWI03_fD_RI215_p.xml', 'SWI02_fD_RI215_p.xml', 'SWI06_fD_RI215_p.xml'}\n",
      "Writer RI301 wrote 4 documents: {'SWI02_fD_RI301_p.xml', 'SWI03_fD_RI301_p.xml', 'SWI06_fD_RI301_p.xml', 'SWI05_fD_RI301_p.xml'}\n",
      "Writer RI314 wrote 4 documents: {'SWI03_fD_RI314_p.xml', 'SWI08_fD_RI314_p.xml', 'SWI02_fD_RI314_p.xml', 'SWI06_fD_RI314_p.xml'}\n",
      "Writer RI318 wrote 4 documents: {'SWI05_fD_RI318_p.xml', 'SWI04_fD_RI318_p.xml', 'SWI02_fD_RI318_p.xml', 'SWI08_fD_RI318_p.xml'}\n",
      "Writer RI406 wrote 4 documents: {'SWI02_fD_RI406_p.xml', 'SWI03_fD_RI406_p.xml', 'SWI05_fD_RI406_p.xml', 'SWI08_fD_RI406_p.xml'}\n",
      "Writer RI412 wrote 4 documents: {'SWI02_fD_RI412_p.xml', 'SWI07_fD_RI412_p.xml', 'SWI03_fD_RI412_p.xml', 'SWI04_fD_RI412_p.xml'}\n",
      "Writer RI413 wrote 4 documents: {'SWI05_fD_RI413_p.xml', 'SWI06_fD_RI413_p.xml', 'SWI02_fD_RI413_p.xml', 'SWI04_fD_RI413_p.xml'}\n",
      "Writer RI418 wrote 4 documents: {'SWI02_fD_RI418_p.xml', 'SWI03_fD_RI418_p.xml', 'SWI08_fD_RI418_p.xml', 'SWI05_fD_RI418_p.xml'}\n",
      "Writer RI420 wrote 4 documents: {'SWI03_fD_RI420_p.xml', 'SWI05_fD_RI420_p.xml', 'SWI02_fD_RI420_p.xml', 'SWI04_fD_RI420_p.xml'}\n",
      "Writer RI503 wrote 4 documents: {'SWI08_fD_RI503_p.xml', 'SWI05_fD_RI503_p.xml', 'SWI03_fD_RI503_p.xml', 'SWI02_fD_RI503_p.xml'}\n",
      "Writer RI506 wrote 4 documents: {'SWI02_fD_RI506_p.xml', 'SWI03_fD_RI506_p.xml', 'SWI07_fD_RI506_p.xml', 'SWI04_fD_RI506_p.xml'}\n",
      "Writer RI507 wrote 4 documents: {'SWI08_fD_RI507_p.xml', 'SWI06_fD_RI507_p.xml', 'SWI02_fD_RI507_p.xml', 'SWI04_fD_RI507_p.xml'}\n",
      "Writer RI508 wrote 4 documents: {'SWI08_fD_RI508_p.xml', 'SWI04_fD_RI508_p.xml', 'SWI07_fD_RI508_p.xml', 'SWI02_fD_RI508_p.xml'}\n",
      "Writer RI509 wrote 4 documents: {'SWI02_fD_RI509_p.xml', 'SWI07_fD_RI509_p.xml', 'SWI05_fD_RI509_p.xml', 'SWI03_fD_RI509_p.xml'}\n",
      "Writer RI514 wrote 4 documents: {'SWI08_fD_RI514_p.xml', 'SWI05_fD_RI514_p.xml', 'SWI02_fD_RI514_p.xml', 'SWI06_fD_RI514_p.xml'}\n",
      "Writer RI517 wrote 4 documents: {'SWI02_fD_RI517_p.xml', 'SWI05_fD_RI517_p.xml', 'SWI04_fD_RI517_p.xml', 'SWI08_fD_RI517_p.xml'}\n",
      "Writer RI206 wrote 4 documents: {'SWI05_fD_RI206_p.xml', 'SWI04_fD_RI206_p.xml', 'SWI03_fD_RI206_p.xml', 'SWI08_fD_RI206_p.xml'}\n",
      "Writer RI216 wrote 4 documents: {'SWI07_fD_RI216_p.xml', 'SWI03_fD_RI216_p.xml', 'SWI05_fD_RI216_p.xml', 'SWI06_fD_RI216_p.xml'}\n",
      "Writer RI218 wrote 4 documents: {'SWI08_fD_RI218_p.xml', 'SWI07_fD_RI218_p.xml', 'SWI05_fD_RI218_p.xml', 'SWI03_fD_RI218_p.xml'}\n",
      "Writer RI321 wrote 4 documents: {'SWI07_fD_RI321_p.xml', 'SWI03_fD_RI321_p.xml', 'SWI04_fD_RI321_p.xml', 'SWI05_fD_RI321_p.xml'}\n",
      "Writer RI322 wrote 4 documents: {'SWI04_fD_RI322_p.xml', 'SWI03_fD_RI322_p.xml', 'SWI07_fD_RI322_p.xml', 'SWI08_fD_RI322_p.xml'}\n",
      "Writer RI326 wrote 4 documents: {'SWI04_fD_RI326_p.xml', 'SWI08_fD_RI326_p.xml', 'SWI03_fD_RI326_p.xml', 'SWI07_fD_RI326_p.xml'}\n",
      "Writer RI405 wrote 4 documents: {'SWI04_fD_RI405_p.xml', 'SWI05_fD_RI405_p.xml', 'SWI03_fD_RI405_p.xml', 'SWI07_fD_RI405_p.xml'}\n",
      "Writer RI410 wrote 4 documents: {'SWI05_fD_RI410_p.xml', 'SWI08_fD_RI410_p.xml', 'SWI06_fD_RI410_p.xml', 'SWI03_fD_RI410_p.xml'}\n",
      "Writer RI414 wrote 4 documents: {'SWI07_fD_RI414_p.xml', 'SWI03_fD_RI414_p.xml', 'SWI05_fD_RI414_p.xml', 'SWI06_fD_RI414_p.xml'}\n",
      "Writer RI421 wrote 4 documents: {'SWI05_fD_RI421_p.xml', 'SWI08_fD_RI421_p.xml', 'SWI07_fD_RI421_p.xml', 'SWI03_fD_RI421_p.xml'}\n",
      "Writer RI422 wrote 4 documents: {'SWI08_fD_RI422_p.xml', 'SWI06_fD_RI422_p.xml', 'SWI03_fD_RI422_p.xml', 'SWI07_fD_RI422_p.xml'}\n",
      "Writer RI501 wrote 4 documents: {'SWI03_fD_RI501_p.xml', 'SWI06_fD_RI501_p.xml', 'SWI04_fD_RI501_p.xml', 'SWI08_fD_RI501_p.xml'}\n",
      "Writer RI521 wrote 4 documents: {'SWI04_fD_RI521_p.xml', 'SWI06_fD_RI521_p.xml', 'SWI07_fD_RI521_p.xml', 'SWI03_fD_RI521_p.xml'}\n",
      "Writer RI102 wrote 4 documents: {'SWI04_fD_RI102_p.xml', 'SWI08_fD_RI102_p.xml', 'SWI07_fD_RI102_p.xml', 'SWI05_fD_RI102_p.xml'}\n",
      "Writer RI210 wrote 4 documents: {'SWI08_fD_RI210_p.xml', 'SWI06_fD_RI210_p.xml', 'SWI07_fD_RI210_p.xml', 'SWI04_fD_RI210_p.xml'}\n",
      "Writer RI223 wrote 4 documents: {'SWI05_fD_RI223_p.xml', 'SWI07_fD_RI223_p.xml', 'SWI04_fD_RI223_p.xml', 'SWI08_fD_RI223_p.xml'}\n",
      "Writer RI320 wrote 4 documents: {'SWI08_fD_RI320_p.xml', 'SWI06_fD_RI320_p.xml', 'SWI07_fD_RI320_p.xml', 'SWI04_fD_RI320_p.xml'}\n",
      "Writer RI516 wrote 4 documents: {'SWI06_fD_RI516_p.xml', 'SWI04_fD_RI516_p.xml', 'SWI08_fD_RI516_p.xml', 'SWI05_fD_RI516_p.xml'}\n",
      "Writer RI200 wrote 4 documents: {'SWI08_fD_RI200_p.xml', 'SWI05_fD_RI200_p.xml', 'SWI06_fD_RI200_p.xml', 'SWI07_fD_RI200_p.xml'}\n",
      "Writer RI220 wrote 4 documents: {'SWI06_fD_RI220_p.xml', 'SWI05_fD_RI220_p.xml', 'SWI07_fD_RI220_p.xml', 'SWI08_fD_RI220_p.xml'}\n"
     ]
    }
   ],
   "source": [
    "from collections import defaultdict\n",
    "\n",
    "writers_docs = defaultdict(set)\n",
    "\n",
    "for doc in corpus:\n",
    "    meta = doc.meta\n",
    "    writer = meta.learner.learner_id_orig[0]\n",
    "    docid = meta.text.text_file\n",
    "    writers_docs[writer].add(docid)\n",
    "\n",
    "for writer, docs in writers_docs.items():\n",
    "    nr_of_docs = len(docs)\n",
    "    if (nr_of_docs > 3):\n",
    "        print(f\"Writer {writer} wrote {nr_of_docs} documents: {docs}\")\n"
   ]
  },
  {
   "cell_type": "code",
   "execution_count": 28,
   "id": "326db104",
   "metadata": {},
   "outputs": [
    {
     "name": "stdout",
     "output_type": "stream",
     "text": [
      "Ich wolte nicht sechs monat in Deutschland sein , das muss mist sein . Aber wann du kommst zürich , du kannst sehr gut Deutsch . Die Lute sprechen Dialecte , die Familie und\n",
      "Es gibt 6000 oder 7000 Sprache auf die Welt . In Asien gibt es sehr viele Sprachen und das sind nicht einfach Sprache zu lernen für uns . Englisch ist sehr important weil du kannst überall sprechen .\n",
      "Ich liebe Computer , ich spiele sehr viel . Auf einen spiel habe ich fast 2000 Stunden gespielen . Ich mag auch schiessen , ich bin in einem club . Ich wolte einen gutes Computer mit einen neues clavier und einen neues microphone weil meine ist kaput . Ich hasse Französich und Mathe . Ich hasse auch Gemüse , wann ich esse Gemüse muss ich kotzen . Mein Lieblingstier ist der Hund , aber die Hovawart und die Labrador mag ich am liebsten . Es ist Schokolade Kuche .\n",
      "Die camps de jeunesse finde ich gut weil du bist mit deinem Freunden und es gibt ein bischen Bier und du bist nicht im einen Stadt wo es stink . Die Reitenferien mag ich nicht weil ich reite nicht . Die Skiferien finde ich super , ich mag Skifahren sehr . Die Excursion in die Berge liebe ich , in winter ist es noch besser .\n"
     ]
    }
   ],
   "source": [
    "doc_ids = ['SWI08_fD_Es145_p.xml', 'SWI06_fD_Es145_p.xml', 'SWI01_fD_Es145_p.xml', 'SWI03_fD_Es145_p.xml']\n",
    "for id in doc_ids:\n",
    "    doc = corpus[id]\n",
    "    print(doc.learner.text)"
   ]
  }
 ],
 "metadata": {
  "kernelspec": {
   "display_name": "analsis-recipes-py3.11",
   "language": "python",
   "name": "python3"
  },
  "language_info": {
   "codemirror_mode": {
    "name": "ipython",
    "version": 3
   },
   "file_extension": ".py",
   "mimetype": "text/x-python",
   "name": "python",
   "nbconvert_exporter": "python",
   "pygments_lexer": "ipython3",
   "version": "3.11.10"
  }
 },
 "nbformat": 4,
 "nbformat_minor": 5
}
