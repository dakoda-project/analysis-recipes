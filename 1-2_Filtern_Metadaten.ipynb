{
 "cells": [
  {
   "cell_type": "markdown",
   "id": "3824bde6",
   "metadata": {},
   "source": [
    "# Filtern - Metadaten"
   ]
  },
  {
   "cell_type": "code",
   "execution_count": null,
   "id": "03fb89de",
   "metadata": {},
   "outputs": [
    {
     "name": "stdout",
     "output_type": "stream",
     "text": [
      "Corpus merlin contains 1033 documents\n",
      "57 documents with CEFR level A1 found\n",
      "Liebe Maria , HLoo . Ich gehe nach schwimmen , und Ich möchten sosammen gehen vier hast lustig . Kom\n",
      "Liebe Ingo Kannst du mir bitte Hilfe bei der Wohnungs suche . Ich habe der Größ Neue Wohnung in Neub\n",
      "Lieber Jens , Ich Glückwünsche dich ist Vater geworden . Wie es deine Frau und deine Babys ? Wie hei\n",
      "Lieber Ingo , Wie geht dir ? Ich habe eine Arbeit in Neuburg gefunden . Ich brauch eine neue Wohnung\n",
      "Lieber Jens 31.05.2012 Stadt X herzlich Glückwünsche haben jetes eine Name für Inen Kind und wigsset\n",
      "Stadt X. 26 - 4 - 12 Liber Jens du bist glücklish wie get es das Beby michael ? Ich hofe vile Gruße \n",
      "Lieber Jens , den 31 - 05 - 12 Stadt X ich Glückwünsche des Baby und ganze Familie . Sagen Sie bitte\n",
      "Lieber Grüße Stadt X 26 - 04 - 12 Name des Babys Tobias der Muter er ist Eva des gehet in Kinigard\n",
      "Stadt X , 26,04,12 Lieber Jens , Ich hörren er Vater ist geworden . Das ich prima und Glückwünsche .\n",
      "Stadt X 26.04.2012 Lieber Jens Herlisch Glük für kinder , wie ist namem baby wie Get ´ s dein frau u\n"
     ]
    }
   ],
   "source": [
    "from dakoda.query import field, value\n",
    "from dakoda.corpus import DakodaCorpus\n",
    "import seaborn as sns \n",
    "import polars as pl\n",
    "\n",
    "corpus = DakodaCorpus(\"data/merlin\")\n",
    "print(f'Corpus {corpus.name} contains {len(corpus)} documents')\n",
    "\n",
    "cefr = 'A1'\n",
    "query = field(\"text_proficiency_cefrMax\") & value(cefr)\n",
    "\n",
    "docs = list(corpus[query])\n",
    "print('{} documents with CEFR level {} found'.format(len(docs), cefr))\n",
    "for doc in docs[:10]:\n",
    "    print(doc.text[:100])"
   ]
  },
  {
   "cell_type": "code",
   "execution_count": 16,
   "id": "5382fcfa",
   "metadata": {},
   "outputs": [
    {
     "data": {
      "text/plain": [
       "<Axes: xlabel='CEFR', ylabel='Count'>"
      ]
     },
     "execution_count": 16,
     "metadata": {},
     "output_type": "execute_result"
    },
    {
     "data": {
      "image/png": "[encoded data removed]",
      "text/plain": [
       "<Figure size 640x480 with 1 Axes>"
      ]
     },
     "metadata": {},
     "output_type": "display_data"
    }
   ],
   "source": [
    "rows = []\n",
    "cefr_levels = ['A1', 'A2', 'B1', 'B2', 'C1', 'C2']\n",
    "for cefr in cefr_levels:\n",
    "    query = field(\"text_proficiency_cefrMax\") & value(cefr)\n",
    "    docs = list(corpus[query])\n",
    "    rows.append({'CEFR': cefr,  'Count': len(docs)})\n",
    "df = pl.DataFrame(rows)\n",
    "\n",
    "sns.barplot(x=df['CEFR'], y=df['Count'])\n"
   ]
  },
  {
   "cell_type": "code",
   "execution_count": null,
   "id": "a16fd8f1",
   "metadata": {},
   "outputs": [],
   "source": [
    "# plt = sns.barplot(x=l1_counts.index, y=l1_counts.values)\n",
    "# plt.tick_params(axis='x', labelrotation=70)"
   ]
  },
  {
   "cell_type": "markdown",
   "id": "c378f2b1",
   "metadata": {},
   "source": [
    "## Exportieren\n",
    "\n",
    "Die Metadaten können wir dann auch exportieren."
   ]
  },
  {
   "cell_type": "code",
   "execution_count": null,
   "id": "f383841e",
   "metadata": {},
   "outputs": [],
   "source": [
    "# export metadata from full corpus or from query result\n"
   ]
  }
 ],
 "metadata": {
  "kernelspec": {
   "display_name": "analsis-recipes-py3.11",
   "language": "python",
   "name": "python3"
  },
  "language_info": {
   "codemirror_mode": {
    "name": "ipython",
    "version": 3
   },
   "file_extension": ".py",
   "mimetype": "text/x-python",
   "name": "python",
   "nbconvert_exporter": "python",
   "pygments_lexer": "ipython3",
   "version": "3.11.10"
  }
 },
 "nbformat": 4,
 "nbformat_minor": 5
}
